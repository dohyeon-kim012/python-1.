{
  "nbformat": 4,
  "nbformat_minor": 0,
  "metadata": {
    "colab": {
      "name": "6/9. 지도학습, 사이킷런, 데이터 스케일링",
      "provenance": [],
      "authorship_tag": "ABX9TyPkFfsnQcnxgJVVb+iuF5iE",
      "include_colab_link": true
    },
    "kernelspec": {
      "name": "python3",
      "display_name": "Python 3"
    },
    "language_info": {
      "name": "python"
    }
  },
  "cells": [
    {
      "cell_type": "markdown",
      "metadata": {
        "id": "view-in-github",
        "colab_type": "text"
      },
      "source": [
        "<a href=\"https://colab.research.google.com/github/dohyeon-kim012/python-1./blob/main/%EC%9D%B8%EA%B3%B5%EC%A7%80%EB%8A%A5%20%ED%81%90%EB%A0%88%EC%9D%B4%ED%84%B0%202%EC%B0%A8/09.%EC%A7%80%EB%8F%84%ED%95%99%EC%8A%B5%2C%20%EC%82%AC%EC%9D%B4%ED%82%B7%EB%9F%B0%2C%20%EB%8D%B0%EC%9D%B4%ED%84%B0%20%EC%8A%A4%EC%BC%80%EC%9D%BC%EB%A7%81.ipynb\" target=\"_parent\"><img src=\"https://colab.research.google.com/assets/colab-badge.svg\" alt=\"Open In Colab\"/></a>"
      ]
    },
    {
      "cell_type": "markdown",
      "metadata": {
        "id": "3dc0ELSqn6Ik"
      },
      "source": [
        "# 지도학습의 종류"
      ]
    },
    {
      "cell_type": "markdown",
      "metadata": {
        "id": "M0eFt39pXuws"
      },
      "source": [
        "학습이란?  \n",
        "머신러닝 알고리즘에 데이터를 대입해서 머신러닝 모델이 데이터를 이해하게 하는 것"
      ]
    },
    {
      "cell_type": "markdown",
      "metadata": {
        "id": "o_x6Fnt4X-JW"
      },
      "source": [
        " 지도학습을 위해 필요한 것\n",
        "* `feature` : 학습해야 할 데이터\n",
        "* `label` : 정답"
      ]
    },
    {
      "cell_type": "markdown",
      "metadata": {
        "id": "7RHi7i0LYR1v"
      },
      "source": [
        "## 분류(Classification), 회귀(Regression)"
      ]
    },
    {
      "cell_type": "markdown",
      "metadata": {
        "id": "CbNgTBfRYaer"
      },
      "source": [
        "### 분류\n",
        "카테고리를 예측하는 과정\n",
        "* 고양이, 강아지 둘 중 하나를 예측 하겠다.\n",
        "* 비만인지 아닌지를 예측하겠다.\n",
        "* 스팸메일인지 아닌지를 예측 하겠다."
      ]
    },
    {
      "cell_type": "markdown",
      "metadata": {
        "id": "tHtBi3FPYuHj"
      },
      "source": [
        "1. **이진 분류(Binary Classification)**\n",
        "  * Yes(1) No(0) 으로 분류하는 과정.\n",
        "    * 1(양성)이라고 무조건 좋은게 아니다.\n",
        "    * 0(음성)이라고 무조건 나쁜게 아니다.\n",
        "      * 비만이면 1, 비만이 아니면 0\n",
        "  * 1번 클래스를 양성 클래스\n",
        "  * 0번 클래스를 음성 클래스\n",
        "\n",
        "2. **다중 분류(Multiclass Classification)**\n",
        "    * 3개 이상의 결과를 분류하는 것\n",
        "        * 이 숫자는 `0,1,2,3,4,5,6,7,8,9`중에 무엇입니까?\n",
        "        * 이 동물은 고양이, 강아지, 닭 중에 무엇입니까?"
      ]
    },
    {
      "cell_type": "markdown",
      "metadata": {
        "id": "K2eByMLgZnrW"
      },
      "source": [
        "### 회귀\n",
        "연속적인 숫자, 또는 부동 소수점 수(실수)를 예측 하는 것\n",
        "  * 올해 옥수수 수확량 예측\n",
        "  * 이 택시가 얼마나 걸릴 것인가?\n",
        "  * 올해 아파트 가격은 얼마정도 될 것인가?\n",
        "  * 주식의 변동량이 얼마일까요?"
      ]
    },
    {
      "cell_type": "markdown",
      "metadata": {
        "id": "_4BLjf2QaCYV"
      },
      "source": [
        "## 일반화(generalization)\n",
        "학습된(훈련된) 모델이 **처음 보는 새로운 데이터**가 주어져도 정확하게 예측을 할 수 있는 것\n",
        "\n",
        "너무 모델이 데이터를 복잡하게 해석하게 해서도 안되고, (과대적합 방지) 모델이 데이터를 너무 단순하게 해석하게 해서도 안된다.(과소적합 방지)"
      ]
    },
    {
      "cell_type": "markdown",
      "metadata": {
        "id": "mFSIPeQC90qK"
      },
      "source": [
        "## 복잡도 조절\n",
        "1. 데이터의 복잡도를 조절하는 방법  \n",
        "  \n",
        "    데이터가 복잡해 지는 예시  \n",
        "  1) **데이터의 특성(feature)가 많아질수록**  \n",
        "  2) **데이터의 양(volumn)이 많아질수록**  \n",
        "  3) 데이터의 스케일이 서로 많이 달라질수록  \n",
        "  4) 데이터가 복잡하게 섞여있을수록  \n",
        "\n",
        "2. 머신러닝 모델의 복잡도를 조절하는 방법\n",
        "  * 하이퍼 파라미터 조정"
      ]
    },
    {
      "cell_type": "markdown",
      "metadata": {
        "id": "7RR_ND0Ka02g"
      },
      "source": [
        "### 과대적합( Overfitting )\n",
        "* 모델이 알고 있는(**훈련된**) 데이터만 너무 복잡하게 해석하는 것\n",
        "* 이미 알고 있는 데이터는 잘 예측을 하지만, 보지 못한 새로운 데이터는 예측이 잘 안되는 현상"
      ]
    },
    {
      "cell_type": "markdown",
      "metadata": {
        "id": "5V1N-3xecMfA"
      },
      "source": [
        "### 과소적합( Underfitting )\n",
        "* 모델이 훈련 데이터를 너무 단순하게 해석해 버린 것\n",
        "* 알고 있던 데이터도 잘 예측을 못하고, 처음보는 데이터도 예측이 잘 안됨"
      ]
    },
    {
      "cell_type": "markdown",
      "metadata": {
        "id": "JRsZoViDdUxR"
      },
      "source": [
        "# 사이킷런 (sklearn) 개요\n",
        "각종 유명한 머신러닝 기법들을 구현해 놓은 **라이브러리**\n",
        "* 라이브러리(library)란? 도구\n",
        "* 프레임워크(framework)?\n",
        "  - 축구장에서는 축구를 하고요.\n",
        "  - 농구장에선 농구를 하고요\n",
        "  - 야구장에서는 야구를 할거에요\n",
        "  - 딥러닝 프레임워크에서는? 딥러닝을 하겠지"
      ]
    },
    {
      "cell_type": "markdown",
      "metadata": {
        "id": "Iz2kvjfTdhST"
      },
      "source": [
        "## 훈련하기 - fit\n",
        "* `fit(X, y)`\n",
        "  * `X` : `feature`\n",
        "  * `y` : `label`\n"
      ]
    },
    {
      "cell_type": "markdown",
      "metadata": {
        "id": "YKhYxSPQeyjA"
      },
      "source": [
        "## LinearRegression\n",
        "데이터 `x`가 들어왔을 때 `y`를 예측하기 위한 기울기와 편향을 학습\n",
        "\n",
        "$$\n",
        "y = WX + b\n",
        "$$\n",
        "\n",
        "위의 식에서 `W` : 기울기, `b`: 편향이라고 한다.  \n",
        "즉 LineareRegression은 `y`의 오차를 줄이는 `W`와 `b`를 학습한다.\n",
        "\n",
        "|`x`|`y`|\n",
        "|:--:|:--|\n",
        "|`1`|`3`|\n",
        "|`2`|`5`|\n",
        "|`3`|`7`|\n",
        "|`5`|`11`|\n",
        "\n",
        "`x`가 `4`일 때 `y`의 값은? `9`\n",
        "\n",
        "`x`에 `2`를 곱하고 `1`을 더하면 `y`가 나와요.   $y=2x+1$\n"
      ]
    },
    {
      "cell_type": "code",
      "metadata": {
        "id": "2S-G__FMX1ay"
      },
      "source": [
        "import numpy as np\n",
        "from sklearn.linear_model import LinearRegression"
      ],
      "execution_count": 2,
      "outputs": []
    },
    {
      "cell_type": "code",
      "metadata": {
        "id": "T3pLMD5Peh55"
      },
      "source": [
        "X = np.array([1, 2, 3, 5])\n",
        "y = np.array([3, 5, 7, 11])"
      ],
      "execution_count": 3,
      "outputs": []
    },
    {
      "cell_type": "code",
      "metadata": {
        "colab": {
          "base_uri": "https://localhost:8080/",
          "height": 437
        },
        "id": "7Nh7c02VgXwN",
        "outputId": "a20dd378-5d9d-4921-ebb6-1278fe6d5610"
      },
      "source": [
        "model = LinearRegression()\n",
        "model.fit(X, y)"
      ],
      "execution_count": 4,
      "outputs": [
        {
          "output_type": "error",
          "ename": "ValueError",
          "evalue": "ignored",
          "traceback": [
            "\u001b[0;31m---------------------------------------------------------------------------\u001b[0m",
            "\u001b[0;31mValueError\u001b[0m                                Traceback (most recent call last)",
            "\u001b[0;32m<ipython-input-4-14ae7d1b2aed>\u001b[0m in \u001b[0;36m<module>\u001b[0;34m()\u001b[0m\n\u001b[1;32m      1\u001b[0m \u001b[0mmodel\u001b[0m \u001b[0;34m=\u001b[0m \u001b[0mLinearRegression\u001b[0m\u001b[0;34m(\u001b[0m\u001b[0;34m)\u001b[0m\u001b[0;34m\u001b[0m\u001b[0;34m\u001b[0m\u001b[0m\n\u001b[0;32m----> 2\u001b[0;31m \u001b[0mmodel\u001b[0m\u001b[0;34m.\u001b[0m\u001b[0mfit\u001b[0m\u001b[0;34m(\u001b[0m\u001b[0mX\u001b[0m\u001b[0;34m,\u001b[0m \u001b[0my\u001b[0m\u001b[0;34m)\u001b[0m\u001b[0;34m\u001b[0m\u001b[0;34m\u001b[0m\u001b[0m\n\u001b[0m",
            "\u001b[0;32m/usr/local/lib/python3.7/dist-packages/sklearn/linear_model/_base.py\u001b[0m in \u001b[0;36mfit\u001b[0;34m(self, X, y, sample_weight)\u001b[0m\n\u001b[1;32m    490\u001b[0m         \u001b[0mn_jobs_\u001b[0m \u001b[0;34m=\u001b[0m \u001b[0mself\u001b[0m\u001b[0;34m.\u001b[0m\u001b[0mn_jobs\u001b[0m\u001b[0;34m\u001b[0m\u001b[0;34m\u001b[0m\u001b[0m\n\u001b[1;32m    491\u001b[0m         X, y = check_X_y(X, y, accept_sparse=['csr', 'csc', 'coo'],\n\u001b[0;32m--> 492\u001b[0;31m                          y_numeric=True, multi_output=True)\n\u001b[0m\u001b[1;32m    493\u001b[0m \u001b[0;34m\u001b[0m\u001b[0m\n\u001b[1;32m    494\u001b[0m         \u001b[0;32mif\u001b[0m \u001b[0msample_weight\u001b[0m \u001b[0;32mis\u001b[0m \u001b[0;32mnot\u001b[0m \u001b[0;32mNone\u001b[0m\u001b[0;34m:\u001b[0m\u001b[0;34m\u001b[0m\u001b[0;34m\u001b[0m\u001b[0m\n",
            "\u001b[0;32m/usr/local/lib/python3.7/dist-packages/sklearn/utils/validation.py\u001b[0m in \u001b[0;36mcheck_X_y\u001b[0;34m(X, y, accept_sparse, accept_large_sparse, dtype, order, copy, force_all_finite, ensure_2d, allow_nd, multi_output, ensure_min_samples, ensure_min_features, y_numeric, warn_on_dtype, estimator)\u001b[0m\n\u001b[1;32m    753\u001b[0m                     \u001b[0mensure_min_features\u001b[0m\u001b[0;34m=\u001b[0m\u001b[0mensure_min_features\u001b[0m\u001b[0;34m,\u001b[0m\u001b[0;34m\u001b[0m\u001b[0;34m\u001b[0m\u001b[0m\n\u001b[1;32m    754\u001b[0m                     \u001b[0mwarn_on_dtype\u001b[0m\u001b[0;34m=\u001b[0m\u001b[0mwarn_on_dtype\u001b[0m\u001b[0;34m,\u001b[0m\u001b[0;34m\u001b[0m\u001b[0;34m\u001b[0m\u001b[0m\n\u001b[0;32m--> 755\u001b[0;31m                     estimator=estimator)\n\u001b[0m\u001b[1;32m    756\u001b[0m     \u001b[0;32mif\u001b[0m \u001b[0mmulti_output\u001b[0m\u001b[0;34m:\u001b[0m\u001b[0;34m\u001b[0m\u001b[0;34m\u001b[0m\u001b[0m\n\u001b[1;32m    757\u001b[0m         y = check_array(y, 'csr', force_all_finite=True, ensure_2d=False,\n",
            "\u001b[0;32m/usr/local/lib/python3.7/dist-packages/sklearn/utils/validation.py\u001b[0m in \u001b[0;36mcheck_array\u001b[0;34m(array, accept_sparse, accept_large_sparse, dtype, order, copy, force_all_finite, ensure_2d, allow_nd, ensure_min_samples, ensure_min_features, warn_on_dtype, estimator)\u001b[0m\n\u001b[1;32m    554\u001b[0m                     \u001b[0;34m\"Reshape your data either using array.reshape(-1, 1) if \"\u001b[0m\u001b[0;34m\u001b[0m\u001b[0;34m\u001b[0m\u001b[0m\n\u001b[1;32m    555\u001b[0m                     \u001b[0;34m\"your data has a single feature or array.reshape(1, -1) \"\u001b[0m\u001b[0;34m\u001b[0m\u001b[0;34m\u001b[0m\u001b[0m\n\u001b[0;32m--> 556\u001b[0;31m                     \"if it contains a single sample.\".format(array))\n\u001b[0m\u001b[1;32m    557\u001b[0m \u001b[0;34m\u001b[0m\u001b[0m\n\u001b[1;32m    558\u001b[0m         \u001b[0;31m# in the future np.flexible dtypes will be handled like object dtypes\u001b[0m\u001b[0;34m\u001b[0m\u001b[0;34m\u001b[0m\u001b[0;34m\u001b[0m\u001b[0m\n",
            "\u001b[0;31mValueError\u001b[0m: Expected 2D array, got 1D array instead:\narray=[1 2 3 5].\nReshape your data either using array.reshape(-1, 1) if your data has a single feature or array.reshape(1, -1) if it contains a single sample."
          ]
        }
      ]
    },
    {
      "cell_type": "markdown",
      "metadata": {
        "id": "Ph4A0pI8gpDU"
      },
      "source": [
        "### fit 의 주의사항\n",
        "fit 할 때 feature는 꼭꼭꼭 2차원 배열이어야 함"
      ]
    },
    {
      "cell_type": "code",
      "metadata": {
        "id": "ARJzcw8lgmLA"
      },
      "source": [
        "X.shape"
      ],
      "execution_count": null,
      "outputs": []
    },
    {
      "cell_type": "code",
      "metadata": {
        "id": "RglmGZPVgxO_"
      },
      "source": [
        "X = X.reshape(-1, 1)  # ( 행 : -1 ( 몇 개든 상관 없으니 조커인 -1 값 ) , 열 : 1 )\n",
        "X   # -> 열 벡터로 바꿔야 fit을 수행 할 수 있다 (행 벡터는 들어갈 수 없음)\n",
        "# 스칼라 1개씩 4행"
      ],
      "execution_count": null,
      "outputs": []
    },
    {
      "cell_type": "code",
      "metadata": {
        "id": "RtHhwV8sg0GB"
      },
      "source": [
        "model.fit(X, y)"
      ],
      "execution_count": null,
      "outputs": []
    },
    {
      "cell_type": "markdown",
      "metadata": {
        "id": "PtGu9VbXhWOq"
      },
      "source": [
        "## 예측하기 - predict\n",
        "\n",
        "`predict`로 예측을 할 때는 반드시 훈련 때 사용했던 데이터의 스칼라 개수가 맞아야 함"
      ]
    },
    {
      "cell_type": "code",
      "metadata": {
        "id": "KXoKeKgJhOd4"
      },
      "source": [
        "# X의 스칼라는 1개이므로, 예측할 데이터도 1개의 스칼라 가져야 함\n",
        "for_predict = np.array([[4],\n",
        "                       [6]])\n",
        "\n",
        "for_predict.shape\n",
        "# for_predict는 행 2개와 1개의 스칼라 가짐"
      ],
      "execution_count": null,
      "outputs": []
    },
    {
      "cell_type": "code",
      "metadata": {
        "id": "zJ8brgpDiQy-"
      },
      "source": [
        "model.predict(for_predict)"
      ],
      "execution_count": null,
      "outputs": []
    },
    {
      "cell_type": "code",
      "metadata": {
        "id": "dtICYvI1iZuO"
      },
      "source": [
        "# W 기울기 : coef_\n",
        "# b 편향 : intercept_\n",
        "\n",
        "model.coef_"
      ],
      "execution_count": null,
      "outputs": []
    },
    {
      "cell_type": "code",
      "metadata": {
        "id": "9UJQk3jjlOkE"
      },
      "source": [
        "model.intercept_"
      ],
      "execution_count": null,
      "outputs": []
    },
    {
      "cell_type": "markdown",
      "metadata": {
        "id": "M9R3LEm3lkyx"
      },
      "source": [
        "## 섭씨 - 화씨 변환 모델 만들기 ( 화씨 예측 모델 만들기 )"
      ]
    },
    {
      "cell_type": "code",
      "metadata": {
        "id": "DK4vEVLrlPwk"
      },
      "source": [
        "c = np.arange(1, 20)\n",
        "f = c * 1.8 + 32"
      ],
      "execution_count": null,
      "outputs": []
    },
    {
      "cell_type": "code",
      "metadata": {
        "id": "rSa0AEnQltzV"
      },
      "source": [
        "model = LinearRegression()\n",
        "model.fit(c.reshape(-1, 1), f)  # 여기서도 c를 열벡터로 만들어서 fit에 넣어야함"
      ],
      "execution_count": null,
      "outputs": []
    },
    {
      "cell_type": "code",
      "metadata": {
        "id": "Ybwcm6Lglz5w"
      },
      "source": [
        "model.predict(np.array([[30]]))  # 섭씨가 30일 때 화씨는?"
      ],
      "execution_count": null,
      "outputs": []
    },
    {
      "cell_type": "code",
      "metadata": {
        "id": "HFIuWzx2mBnh"
      },
      "source": [
        "model.coef_"
      ],
      "execution_count": null,
      "outputs": []
    },
    {
      "cell_type": "code",
      "metadata": {
        "id": "YWl5wpKamIoJ"
      },
      "source": [
        "model.intercept_"
      ],
      "execution_count": null,
      "outputs": []
    },
    {
      "cell_type": "markdown",
      "metadata": {
        "id": "hZPPKyrjnE2y"
      },
      "source": [
        "# 데이터 스케일링\n",
        "스케일링도 데이터의 전처리에 해당됨"
      ]
    },
    {
      "cell_type": "markdown",
      "metadata": {
        "id": "AB6QumctnEtU"
      },
      "source": [
        "## 1. 정규화 ( Normalize )\n",
        "column 간에 다른 **min, max**값을 가지는 경우,  \n",
        "**정규화**를 통해서 최대 / 최소의 척도를 하나로 맞춰 주는 작업\n",
        "* 최소를 0으로, 최대를 1로 설정\n",
        "------\n",
        "ex)\n",
        "* 네이버 영화 평점 ( 0 ~ 10 ) : [2, 4, 6, 8, 10]\n",
        "* 넷플릭스 영화 평점 ( 0 ~ 5 ) : [1, 2, 3, 4, 5]\n"
      ]
    },
    {
      "cell_type": "code",
      "metadata": {
        "id": "0X8MJe25nKiY"
      },
      "source": [
        "import pandas as pd\n",
        "\n",
        "movie_score = pd.DataFrame({\n",
        "    \"naver\":[2, 4, 6, 8, 10],\n",
        "    \"netflix\":[1, 2, 3, 4, 5]\n",
        "})\n",
        "\n",
        "movie_score"
      ],
      "execution_count": null,
      "outputs": []
    },
    {
      "cell_type": "markdown",
      "metadata": {
        "id": "bCuXr71yqy9D"
      },
      "source": [
        "### MinMaxScaler"
      ]
    },
    {
      "cell_type": "code",
      "metadata": {
        "id": "zCQm_QApoMxJ"
      },
      "source": [
        "from sklearn.preprocessing import MinMaxScaler\n",
        "\n",
        "min_max_scaler = MinMaxScaler()"
      ],
      "execution_count": null,
      "outputs": []
    },
    {
      "cell_type": "code",
      "metadata": {
        "id": "MNXxy9QoosmM"
      },
      "source": [
        "movie_score_scaled = min_max_scaler.fit_transform(movie_score)\n",
        "\n",
        "pd.DataFrame(movie_score_scaled, columns=[\"Naver Scaled\", \"Netflix Scaled\"])"
      ],
      "execution_count": null,
      "outputs": []
    },
    {
      "cell_type": "markdown",
      "metadata": {
        "id": "0mQltxs-pFGP"
      },
      "source": [
        "위의 처리를 통해 머신러닝에서는 이제 동일한 가치로 Naver, Netflix의 점수를 매길 수 있게 되었음"
      ]
    },
    {
      "cell_type": "markdown",
      "metadata": {
        "id": "fenXgtz7sJ3j"
      },
      "source": [
        "## 2. 표준화 ( Standard Scaling )\n",
        "**평균이 0, 표준편차가 1**이 되도록 변환  \n",
        "이상치 데이터 ( Outlier ) 보정이 필요할 때 유용"
      ]
    },
    {
      "cell_type": "markdown",
      "metadata": {
        "id": "H23pw-ousfmi"
      },
      "source": [
        "### StandardScaler"
      ]
    },
    {
      "cell_type": "code",
      "metadata": {
        "id": "BB09gF_4pG1N"
      },
      "source": [
        "from sklearn.preprocessing import StandardScaler\n",
        "\n",
        "std_scaler = StandardScaler()"
      ],
      "execution_count": null,
      "outputs": []
    },
    {
      "cell_type": "code",
      "metadata": {
        "id": "tkG9Erils39e"
      },
      "source": [
        "import numpy as np\n",
        "x = np.arange(10)\n",
        "# 이상치 강제 추가\n",
        "x[9] = 1000"
      ],
      "execution_count": null,
      "outputs": []
    },
    {
      "cell_type": "code",
      "metadata": {
        "id": "1ZRSCco9upqy"
      },
      "source": [
        "x"
      ],
      "execution_count": null,
      "outputs": []
    },
    {
      "cell_type": "code",
      "metadata": {
        "id": "htqpuNkItZAd"
      },
      "source": [
        "x.mean(), x.std()  # std : 표준편차"
      ],
      "execution_count": null,
      "outputs": []
    },
    {
      "cell_type": "code",
      "metadata": {
        "id": "BVLGK0JxtcXe"
      },
      "source": [
        "std_scaled_x = std_scaler.fit_transform(x.reshape(-1, 1))  # 마찬가지로 열벡터가 들어가야 함"
      ],
      "execution_count": null,
      "outputs": []
    },
    {
      "cell_type": "code",
      "metadata": {
        "id": "yuOgXUzwtvzo"
      },
      "source": [
        "std_scaled_x.mean(), std_scaled_x.std() # 4.4408920985006264e-17 : 0.00000000000440089 / e-17 : -17승"
      ],
      "execution_count": null,
      "outputs": []
    },
    {
      "cell_type": "code",
      "metadata": {
        "id": "mlDUDa8kt2G8"
      },
      "source": [
        "std_scaled_x  # 데이터가 고르게 분포되어짐"
      ],
      "execution_count": null,
      "outputs": []
    },
    {
      "cell_type": "code",
      "metadata": {
        "id": "6qJ6MrQJAnAk"
      },
      "source": [
        ""
      ],
      "execution_count": null,
      "outputs": []
    }
  ]
}