{
  "nbformat": 4,
  "nbformat_minor": 0,
  "metadata": {
    "colab": {
      "name": "6/1_pandas 복습.ipynb",
      "provenance": [],
      "mount_file_id": "1ooz1qXZp69AhPez_IJOhdrjPxyW1dsOw",
      "authorship_tag": "ABX9TyMAAjoLdADLnfnvzS+HjG8Y",
      "include_colab_link": true
    },
    "kernelspec": {
      "name": "python3",
      "display_name": "Python 3"
    },
    "language_info": {
      "name": "python"
    }
  },
  "cells": [
    {
      "cell_type": "markdown",
      "metadata": {
        "id": "view-in-github",
        "colab_type": "text"
      },
      "source": [
        "<a href=\"https://colab.research.google.com/github/dohyeon-kim012/python-1./blob/main/%EC%9D%B8%EA%B3%B5%EC%A7%80%EB%8A%A5%20%ED%81%90%EB%A0%88%EC%9D%B4%ED%84%B0%202%EC%B0%A8/02.pandas%20%EB%B3%B5%EC%8A%B5.ipynb\" target=\"_parent\"><img src=\"https://colab.research.google.com/assets/colab-badge.svg\" alt=\"Open In Colab\"/></a>"
      ]
    },
    {
      "cell_type": "markdown",
      "metadata": {
        "id": "qid7mIc1b_im"
      },
      "source": [
        "# Pandas"
      ]
    },
    {
      "cell_type": "code",
      "metadata": {
        "id": "Z_3wqhuVb9BE"
      },
      "source": [
        "import pandas as pd"
      ],
      "execution_count": null,
      "outputs": []
    },
    {
      "cell_type": "markdown",
      "metadata": {
        "id": "nn5fLOYocFIO"
      },
      "source": [
        "### Series\n",
        "* Series - 한 종류의 데이터를 모아 놓은 것\n"
      ]
    },
    {
      "cell_type": "code",
      "metadata": {
        "colab": {
          "base_uri": "https://localhost:8080/"
        },
        "id": "s1n1LrZ0cEDM",
        "outputId": "e532a992-ec07-4d13-ffae-236a53881205"
      },
      "source": [
        "pd.Series([1, 2, 3, 4])"
      ],
      "execution_count": null,
      "outputs": [
        {
          "output_type": "execute_result",
          "data": {
            "text/plain": [
              "0    1\n",
              "1    2\n",
              "2    3\n",
              "3    4\n",
              "dtype: int64"
            ]
          },
          "metadata": {
            "tags": []
          },
          "execution_count": 5
        }
      ]
    },
    {
      "cell_type": "code",
      "metadata": {
        "colab": {
          "base_uri": "https://localhost:8080/"
        },
        "id": "7c3Ew0zLcUog",
        "outputId": "9ef3b179-516d-4a7e-d431-729c1123b399"
      },
      "source": [
        "# 자료형이 제일 큰 타입이 시리즈의 타입이 된다\n",
        "pd.Series([1, 2, 3, 4.6])"
      ],
      "execution_count": null,
      "outputs": [
        {
          "output_type": "execute_result",
          "data": {
            "text/plain": [
              "0    1.0\n",
              "1    2.0\n",
              "2    3.0\n",
              "3    4.6\n",
              "dtype: float64"
            ]
          },
          "metadata": {
            "tags": []
          },
          "execution_count": 4
        }
      ]
    },
    {
      "cell_type": "markdown",
      "metadata": {
        "id": "t1rKO6LSdGcQ"
      },
      "source": [
        "### Dataframe\n",
        "* DataFrame - Series 가 여러 개 모여서 하나의 데이터 시트를 표현\n",
        "\n",
        "* 방법 1. list로만 만들기 (권장x)"
      ]
    },
    {
      "cell_type": "code",
      "metadata": {
        "colab": {
          "base_uri": "https://localhost:8080/",
          "height": 137
        },
        "id": "hfXFhYnkcomM",
        "outputId": "1924a14d-7a47-4c0e-ac4e-0709c7ab05c4"
      },
      "source": [
        "sample_data = [[\"김도도\", 28, 165],\n",
        "               [\"장정자\", 60, 160],\n",
        "               [\"기며노\", 26, 163]]\n",
        "df1 = pd.DataFrame(sample_data)\n",
        "df1"
      ],
      "execution_count": null,
      "outputs": [
        {
          "output_type": "execute_result",
          "data": {
            "text/html": [
              "<div>\n",
              "<style scoped>\n",
              "    .dataframe tbody tr th:only-of-type {\n",
              "        vertical-align: middle;\n",
              "    }\n",
              "\n",
              "    .dataframe tbody tr th {\n",
              "        vertical-align: top;\n",
              "    }\n",
              "\n",
              "    .dataframe thead th {\n",
              "        text-align: right;\n",
              "    }\n",
              "</style>\n",
              "<table border=\"1\" class=\"dataframe\">\n",
              "  <thead>\n",
              "    <tr style=\"text-align: right;\">\n",
              "      <th></th>\n",
              "      <th>0</th>\n",
              "      <th>1</th>\n",
              "      <th>2</th>\n",
              "    </tr>\n",
              "  </thead>\n",
              "  <tbody>\n",
              "    <tr>\n",
              "      <th>0</th>\n",
              "      <td>김도도</td>\n",
              "      <td>28</td>\n",
              "      <td>165</td>\n",
              "    </tr>\n",
              "    <tr>\n",
              "      <th>1</th>\n",
              "      <td>장정자</td>\n",
              "      <td>60</td>\n",
              "      <td>160</td>\n",
              "    </tr>\n",
              "    <tr>\n",
              "      <th>2</th>\n",
              "      <td>기며노</td>\n",
              "      <td>26</td>\n",
              "      <td>163</td>\n",
              "    </tr>\n",
              "  </tbody>\n",
              "</table>\n",
              "</div>"
            ],
            "text/plain": [
              "     0   1    2\n",
              "0  김도도  28  165\n",
              "1  장정자  60  160\n",
              "2  기며노  26  163"
            ]
          },
          "metadata": {
            "tags": []
          },
          "execution_count": 8
        }
      ]
    },
    {
      "cell_type": "code",
      "metadata": {
        "colab": {
          "base_uri": "https://localhost:8080/",
          "height": 137
        },
        "id": "HskkHQYidrSp",
        "outputId": "fd455ca1-6a9b-42cd-a7d1-8eb55e601887"
      },
      "source": [
        "# 제목의 컬럼을 리스트로 지정하기\n",
        "df1.columns = ['이름', '나이', '키']\n",
        "df1"
      ],
      "execution_count": null,
      "outputs": [
        {
          "output_type": "execute_result",
          "data": {
            "text/html": [
              "<div>\n",
              "<style scoped>\n",
              "    .dataframe tbody tr th:only-of-type {\n",
              "        vertical-align: middle;\n",
              "    }\n",
              "\n",
              "    .dataframe tbody tr th {\n",
              "        vertical-align: top;\n",
              "    }\n",
              "\n",
              "    .dataframe thead th {\n",
              "        text-align: right;\n",
              "    }\n",
              "</style>\n",
              "<table border=\"1\" class=\"dataframe\">\n",
              "  <thead>\n",
              "    <tr style=\"text-align: right;\">\n",
              "      <th></th>\n",
              "      <th>이름</th>\n",
              "      <th>나이</th>\n",
              "      <th>키</th>\n",
              "    </tr>\n",
              "  </thead>\n",
              "  <tbody>\n",
              "    <tr>\n",
              "      <th>0</th>\n",
              "      <td>김도도</td>\n",
              "      <td>28</td>\n",
              "      <td>165</td>\n",
              "    </tr>\n",
              "    <tr>\n",
              "      <th>1</th>\n",
              "      <td>장정자</td>\n",
              "      <td>60</td>\n",
              "      <td>160</td>\n",
              "    </tr>\n",
              "    <tr>\n",
              "      <th>2</th>\n",
              "      <td>기며노</td>\n",
              "      <td>26</td>\n",
              "      <td>163</td>\n",
              "    </tr>\n",
              "  </tbody>\n",
              "</table>\n",
              "</div>"
            ],
            "text/plain": [
              "    이름  나이    키\n",
              "0  김도도  28  165\n",
              "1  장정자  60  160\n",
              "2  기며노  26  163"
            ]
          },
          "metadata": {
            "tags": []
          },
          "execution_count": 9
        }
      ]
    },
    {
      "cell_type": "markdown",
      "metadata": {
        "id": "cVLIOIAEeQgy"
      },
      "source": [
        "* 방법 2. dict로 만들기 -ver1\n",
        "    * 웹 페이지 스크래이핑 하고 나서 사용하기 좋음\n",
        "    \n",
        "```\n",
        "딕셔너리(dict)의 key - 컬럼명\n",
        "    딕셔너리(dict)의 value - '반드시'리스트로 이루어져야함(시리즈)\n",
        "    모든 value의 리스트는 길이가 같아야 함\n",
        "```\n",
        "\n"
      ]
    },
    {
      "cell_type": "code",
      "metadata": {
        "colab": {
          "base_uri": "https://localhost:8080/",
          "height": 137
        },
        "id": "5nWph6lNd6ZM",
        "outputId": "002cd5a8-8141-4052-fbea-5e5f60427b46"
      },
      "source": [
        "sample_data = {\n",
        "    \"이름\" : [\"김도도\", \"장정자\", \"기며노\"],\n",
        "    \"나이\" : [28, 61, 26],\n",
        "    \"키\" : [165, 160, 163]\n",
        "}\n",
        "\n",
        "df2 = pd.DataFrame(sample_data)\n",
        "df2"
      ],
      "execution_count": null,
      "outputs": [
        {
          "output_type": "execute_result",
          "data": {
            "text/html": [
              "<div>\n",
              "<style scoped>\n",
              "    .dataframe tbody tr th:only-of-type {\n",
              "        vertical-align: middle;\n",
              "    }\n",
              "\n",
              "    .dataframe tbody tr th {\n",
              "        vertical-align: top;\n",
              "    }\n",
              "\n",
              "    .dataframe thead th {\n",
              "        text-align: right;\n",
              "    }\n",
              "</style>\n",
              "<table border=\"1\" class=\"dataframe\">\n",
              "  <thead>\n",
              "    <tr style=\"text-align: right;\">\n",
              "      <th></th>\n",
              "      <th>이름</th>\n",
              "      <th>나이</th>\n",
              "      <th>키</th>\n",
              "    </tr>\n",
              "  </thead>\n",
              "  <tbody>\n",
              "    <tr>\n",
              "      <th>0</th>\n",
              "      <td>김도도</td>\n",
              "      <td>28</td>\n",
              "      <td>165</td>\n",
              "    </tr>\n",
              "    <tr>\n",
              "      <th>1</th>\n",
              "      <td>장정자</td>\n",
              "      <td>61</td>\n",
              "      <td>160</td>\n",
              "    </tr>\n",
              "    <tr>\n",
              "      <th>2</th>\n",
              "      <td>기며노</td>\n",
              "      <td>26</td>\n",
              "      <td>163</td>\n",
              "    </tr>\n",
              "  </tbody>\n",
              "</table>\n",
              "</div>"
            ],
            "text/plain": [
              "    이름  나이    키\n",
              "0  김도도  28  165\n",
              "1  장정자  61  160\n",
              "2  기며노  26  163"
            ]
          },
          "metadata": {
            "tags": []
          },
          "execution_count": 10
        }
      ]
    },
    {
      "cell_type": "code",
      "metadata": {
        "colab": {
          "base_uri": "https://localhost:8080/",
          "height": 378
        },
        "id": "XnJgpsSjfRN6",
        "outputId": "a8e399f6-459c-47fb-e3f1-bda3b3cd33f3"
      },
      "source": [
        "# 모든 value의 list의 길이는 같아야 한다\n",
        "sample_data = {\n",
        "    \"이름\" : [\"김도도\", \"장정자\", \"기며노\"],\n",
        "    \"나이\" : [28, 61, 26, 70],\n",
        "    \"키\" : [165, 160, 163]\n",
        "}\n",
        "\n",
        "df2 = pd.DataFrame(sample_data)\n",
        "df2"
      ],
      "execution_count": null,
      "outputs": [
        {
          "output_type": "error",
          "ename": "ValueError",
          "evalue": "ignored",
          "traceback": [
            "\u001b[0;31m---------------------------------------------------------------------------\u001b[0m",
            "\u001b[0;31mValueError\u001b[0m                                Traceback (most recent call last)",
            "\u001b[0;32m<ipython-input-11-96b06b3b6da1>\u001b[0m in \u001b[0;36m<module>\u001b[0;34m()\u001b[0m\n\u001b[1;32m      6\u001b[0m }\n\u001b[1;32m      7\u001b[0m \u001b[0;34m\u001b[0m\u001b[0m\n\u001b[0;32m----> 8\u001b[0;31m \u001b[0mdf2\u001b[0m \u001b[0;34m=\u001b[0m \u001b[0mpd\u001b[0m\u001b[0;34m.\u001b[0m\u001b[0mDataFrame\u001b[0m\u001b[0;34m(\u001b[0m\u001b[0msample_data\u001b[0m\u001b[0;34m)\u001b[0m\u001b[0;34m\u001b[0m\u001b[0;34m\u001b[0m\u001b[0m\n\u001b[0m\u001b[1;32m      9\u001b[0m \u001b[0mdf2\u001b[0m\u001b[0;34m\u001b[0m\u001b[0;34m\u001b[0m\u001b[0m\n",
            "\u001b[0;32m/usr/local/lib/python3.7/dist-packages/pandas/core/frame.py\u001b[0m in \u001b[0;36m__init__\u001b[0;34m(self, data, index, columns, dtype, copy)\u001b[0m\n\u001b[1;32m    466\u001b[0m \u001b[0;34m\u001b[0m\u001b[0m\n\u001b[1;32m    467\u001b[0m         \u001b[0;32melif\u001b[0m \u001b[0misinstance\u001b[0m\u001b[0;34m(\u001b[0m\u001b[0mdata\u001b[0m\u001b[0;34m,\u001b[0m \u001b[0mdict\u001b[0m\u001b[0;34m)\u001b[0m\u001b[0;34m:\u001b[0m\u001b[0;34m\u001b[0m\u001b[0;34m\u001b[0m\u001b[0m\n\u001b[0;32m--> 468\u001b[0;31m             \u001b[0mmgr\u001b[0m \u001b[0;34m=\u001b[0m \u001b[0minit_dict\u001b[0m\u001b[0;34m(\u001b[0m\u001b[0mdata\u001b[0m\u001b[0;34m,\u001b[0m \u001b[0mindex\u001b[0m\u001b[0;34m,\u001b[0m \u001b[0mcolumns\u001b[0m\u001b[0;34m,\u001b[0m \u001b[0mdtype\u001b[0m\u001b[0;34m=\u001b[0m\u001b[0mdtype\u001b[0m\u001b[0;34m)\u001b[0m\u001b[0;34m\u001b[0m\u001b[0;34m\u001b[0m\u001b[0m\n\u001b[0m\u001b[1;32m    469\u001b[0m         \u001b[0;32melif\u001b[0m \u001b[0misinstance\u001b[0m\u001b[0;34m(\u001b[0m\u001b[0mdata\u001b[0m\u001b[0;34m,\u001b[0m \u001b[0mma\u001b[0m\u001b[0;34m.\u001b[0m\u001b[0mMaskedArray\u001b[0m\u001b[0;34m)\u001b[0m\u001b[0;34m:\u001b[0m\u001b[0;34m\u001b[0m\u001b[0;34m\u001b[0m\u001b[0m\n\u001b[1;32m    470\u001b[0m             \u001b[0;32mimport\u001b[0m \u001b[0mnumpy\u001b[0m\u001b[0;34m.\u001b[0m\u001b[0mma\u001b[0m\u001b[0;34m.\u001b[0m\u001b[0mmrecords\u001b[0m \u001b[0;32mas\u001b[0m \u001b[0mmrecords\u001b[0m\u001b[0;34m\u001b[0m\u001b[0;34m\u001b[0m\u001b[0m\n",
            "\u001b[0;32m/usr/local/lib/python3.7/dist-packages/pandas/core/internals/construction.py\u001b[0m in \u001b[0;36minit_dict\u001b[0;34m(data, index, columns, dtype)\u001b[0m\n\u001b[1;32m    281\u001b[0m             \u001b[0marr\u001b[0m \u001b[0;32mif\u001b[0m \u001b[0;32mnot\u001b[0m \u001b[0mis_datetime64tz_dtype\u001b[0m\u001b[0;34m(\u001b[0m\u001b[0marr\u001b[0m\u001b[0;34m)\u001b[0m \u001b[0;32melse\u001b[0m \u001b[0marr\u001b[0m\u001b[0;34m.\u001b[0m\u001b[0mcopy\u001b[0m\u001b[0;34m(\u001b[0m\u001b[0;34m)\u001b[0m \u001b[0;32mfor\u001b[0m \u001b[0marr\u001b[0m \u001b[0;32min\u001b[0m \u001b[0marrays\u001b[0m\u001b[0;34m\u001b[0m\u001b[0;34m\u001b[0m\u001b[0m\n\u001b[1;32m    282\u001b[0m         ]\n\u001b[0;32m--> 283\u001b[0;31m     \u001b[0;32mreturn\u001b[0m \u001b[0marrays_to_mgr\u001b[0m\u001b[0;34m(\u001b[0m\u001b[0marrays\u001b[0m\u001b[0;34m,\u001b[0m \u001b[0mdata_names\u001b[0m\u001b[0;34m,\u001b[0m \u001b[0mindex\u001b[0m\u001b[0;34m,\u001b[0m \u001b[0mcolumns\u001b[0m\u001b[0;34m,\u001b[0m \u001b[0mdtype\u001b[0m\u001b[0;34m=\u001b[0m\u001b[0mdtype\u001b[0m\u001b[0;34m)\u001b[0m\u001b[0;34m\u001b[0m\u001b[0;34m\u001b[0m\u001b[0m\n\u001b[0m\u001b[1;32m    284\u001b[0m \u001b[0;34m\u001b[0m\u001b[0m\n\u001b[1;32m    285\u001b[0m \u001b[0;34m\u001b[0m\u001b[0m\n",
            "\u001b[0;32m/usr/local/lib/python3.7/dist-packages/pandas/core/internals/construction.py\u001b[0m in \u001b[0;36marrays_to_mgr\u001b[0;34m(arrays, arr_names, index, columns, dtype, verify_integrity)\u001b[0m\n\u001b[1;32m     76\u001b[0m         \u001b[0;31m# figure out the index, if necessary\u001b[0m\u001b[0;34m\u001b[0m\u001b[0;34m\u001b[0m\u001b[0;34m\u001b[0m\u001b[0m\n\u001b[1;32m     77\u001b[0m         \u001b[0;32mif\u001b[0m \u001b[0mindex\u001b[0m \u001b[0;32mis\u001b[0m \u001b[0;32mNone\u001b[0m\u001b[0;34m:\u001b[0m\u001b[0;34m\u001b[0m\u001b[0;34m\u001b[0m\u001b[0m\n\u001b[0;32m---> 78\u001b[0;31m             \u001b[0mindex\u001b[0m \u001b[0;34m=\u001b[0m \u001b[0mextract_index\u001b[0m\u001b[0;34m(\u001b[0m\u001b[0marrays\u001b[0m\u001b[0;34m)\u001b[0m\u001b[0;34m\u001b[0m\u001b[0;34m\u001b[0m\u001b[0m\n\u001b[0m\u001b[1;32m     79\u001b[0m         \u001b[0;32melse\u001b[0m\u001b[0;34m:\u001b[0m\u001b[0;34m\u001b[0m\u001b[0;34m\u001b[0m\u001b[0m\n\u001b[1;32m     80\u001b[0m             \u001b[0mindex\u001b[0m \u001b[0;34m=\u001b[0m \u001b[0mensure_index\u001b[0m\u001b[0;34m(\u001b[0m\u001b[0mindex\u001b[0m\u001b[0;34m)\u001b[0m\u001b[0;34m\u001b[0m\u001b[0;34m\u001b[0m\u001b[0m\n",
            "\u001b[0;32m/usr/local/lib/python3.7/dist-packages/pandas/core/internals/construction.py\u001b[0m in \u001b[0;36mextract_index\u001b[0;34m(data)\u001b[0m\n\u001b[1;32m    395\u001b[0m             \u001b[0mlengths\u001b[0m \u001b[0;34m=\u001b[0m \u001b[0mlist\u001b[0m\u001b[0;34m(\u001b[0m\u001b[0mset\u001b[0m\u001b[0;34m(\u001b[0m\u001b[0mraw_lengths\u001b[0m\u001b[0;34m)\u001b[0m\u001b[0;34m)\u001b[0m\u001b[0;34m\u001b[0m\u001b[0;34m\u001b[0m\u001b[0m\n\u001b[1;32m    396\u001b[0m             \u001b[0;32mif\u001b[0m \u001b[0mlen\u001b[0m\u001b[0;34m(\u001b[0m\u001b[0mlengths\u001b[0m\u001b[0;34m)\u001b[0m \u001b[0;34m>\u001b[0m \u001b[0;36m1\u001b[0m\u001b[0;34m:\u001b[0m\u001b[0;34m\u001b[0m\u001b[0;34m\u001b[0m\u001b[0m\n\u001b[0;32m--> 397\u001b[0;31m                 \u001b[0;32mraise\u001b[0m \u001b[0mValueError\u001b[0m\u001b[0;34m(\u001b[0m\u001b[0;34m\"arrays must all be same length\"\u001b[0m\u001b[0;34m)\u001b[0m\u001b[0;34m\u001b[0m\u001b[0;34m\u001b[0m\u001b[0m\n\u001b[0m\u001b[1;32m    398\u001b[0m \u001b[0;34m\u001b[0m\u001b[0m\n\u001b[1;32m    399\u001b[0m             \u001b[0;32mif\u001b[0m \u001b[0mhave_dicts\u001b[0m\u001b[0;34m:\u001b[0m\u001b[0;34m\u001b[0m\u001b[0;34m\u001b[0m\u001b[0m\n",
            "\u001b[0;31mValueError\u001b[0m: arrays must all be same length"
          ]
        }
      ]
    },
    {
      "cell_type": "markdown",
      "metadata": {
        "id": "8o1bfEA3foe4"
      },
      "source": [
        "* 방법 3. dict로 만들기 - ver2\n",
        "    * json 크롤링 했을 때, 데이터를 바로 DataFrame화 시키고 싶을 때 사용\n",
        "    * json을 이용해 데이터를 가져올 때 일반적인 모습\n",
        "\n",
        "### JSON\n",
        "* JavaScript Object Notation : 자바스크립트 객체 표현 방식\n",
        "* python의 dict 와 똑같이 생겼음\n",
        "    * 단, 모든 키 값이 전부 다 문자열이어야 함\n",
        "\n",
        "```\n",
        "json_data = {\n",
        "    'result' : 200,\n",
        "    'datas' : [\n",
        "        {\n",
        "            '이름' : \n",
        "            '나이' : \n",
        "            '키' :\n",
        "        },\n",
        "        {\n",
        "            ...\n",
        "        },\n",
        "        {\n",
        "            ...\n",
        "        }\n",
        "    ]\n",
        "}\n",
        "```\n",
        "\n"
      ]
    },
    {
      "cell_type": "code",
      "metadata": {
        "colab": {
          "base_uri": "https://localhost:8080/"
        },
        "id": "dY85L8yQfl2O",
        "outputId": "8c5e44e3-ee95-4a91-891c-4081e9c7a9a6"
      },
      "source": [
        "sample_data = [\n",
        "  {\n",
        "    \"이름\" : \"소민호\",\n",
        "    \"나이\" : 34,\n",
        "    \"키\": 180.1\n",
        "  },\n",
        "  {\n",
        "    \"이름\": \"김땡땡\",\n",
        "    \"나이\" : 33,\n",
        "    \"키\": 175.5\n",
        "  },\n",
        "  {\n",
        "    \"이름\" : \"박땡땡\",\n",
        "    \"나이\" : 28,\n",
        "    \"키\": 183.2\n",
        "  }\n",
        "]\n",
        "sample_data   ## JSON 의 형태 보기"
      ],
      "execution_count": null,
      "outputs": [
        {
          "output_type": "execute_result",
          "data": {
            "text/plain": [
              "[{'나이': 34, '이름': '소민호', '키': 180.1},\n",
              " {'나이': 33, '이름': '김땡땡', '키': 175.5},\n",
              " {'나이': 28, '이름': '박땡땡', '키': 183.2}]"
            ]
          },
          "metadata": {
            "tags": []
          },
          "execution_count": 12
        }
      ]
    },
    {
      "cell_type": "code",
      "metadata": {
        "colab": {
          "base_uri": "https://localhost:8080/",
          "height": 137
        },
        "id": "Bt0ZF0D5hT0s",
        "outputId": "10003fa3-cd62-4f4f-a6b2-5ff698f25191"
      },
      "source": [
        "pd.DataFrame(sample_data)  # JSON 형태의 데이터를 바로 DataFrame으로"
      ],
      "execution_count": null,
      "outputs": [
        {
          "output_type": "execute_result",
          "data": {
            "text/html": [
              "<div>\n",
              "<style scoped>\n",
              "    .dataframe tbody tr th:only-of-type {\n",
              "        vertical-align: middle;\n",
              "    }\n",
              "\n",
              "    .dataframe tbody tr th {\n",
              "        vertical-align: top;\n",
              "    }\n",
              "\n",
              "    .dataframe thead th {\n",
              "        text-align: right;\n",
              "    }\n",
              "</style>\n",
              "<table border=\"1\" class=\"dataframe\">\n",
              "  <thead>\n",
              "    <tr style=\"text-align: right;\">\n",
              "      <th></th>\n",
              "      <th>이름</th>\n",
              "      <th>나이</th>\n",
              "      <th>키</th>\n",
              "    </tr>\n",
              "  </thead>\n",
              "  <tbody>\n",
              "    <tr>\n",
              "      <th>0</th>\n",
              "      <td>소민호</td>\n",
              "      <td>34</td>\n",
              "      <td>180.1</td>\n",
              "    </tr>\n",
              "    <tr>\n",
              "      <th>1</th>\n",
              "      <td>김땡땡</td>\n",
              "      <td>33</td>\n",
              "      <td>175.5</td>\n",
              "    </tr>\n",
              "    <tr>\n",
              "      <th>2</th>\n",
              "      <td>박땡땡</td>\n",
              "      <td>28</td>\n",
              "      <td>183.2</td>\n",
              "    </tr>\n",
              "  </tbody>\n",
              "</table>\n",
              "</div>"
            ],
            "text/plain": [
              "    이름  나이      키\n",
              "0  소민호  34  180.1\n",
              "1  김땡땡  33  175.5\n",
              "2  박땡땡  28  183.2"
            ]
          },
          "metadata": {
            "tags": []
          },
          "execution_count": 13
        }
      ]
    },
    {
      "cell_type": "markdown",
      "metadata": {
        "id": "X673iAfTjFlu"
      },
      "source": [
        "### CSV 파일 다루기\n",
        "* 영어권이 아닌 데이터를 그냥 read_csv로 불러오면 글자가 깨지는 경우도 발생\n",
        "    * read.csv(\"파일경로\", encoding = 'utf-8' 또는 'euc-kr'\n",
        "\n",
        "### CSV 파일 web에서 바로 읽어오기"
      ]
    },
    {
      "cell_type": "code",
      "metadata": {
        "colab": {
          "base_uri": "https://localhost:8080/",
          "height": 245
        },
        "id": "wpyoua1_hfjE",
        "outputId": "e414815d-7d78-418a-9a5e-f32e2f15ac76"
      },
      "source": [
        "url = 'https://raw.githubusercontent.com/CSSEGISandData/COVID-19/master/csse_covid_19_data/csse_covid_19_time_series/time_series_covid19_confirmed_global.csv'\n",
        "df = pd.read_csv(url)\n",
        "df.head()"
      ],
      "execution_count": null,
      "outputs": [
        {
          "output_type": "execute_result",
          "data": {
            "text/html": [
              "<div>\n",
              "<style scoped>\n",
              "    .dataframe tbody tr th:only-of-type {\n",
              "        vertical-align: middle;\n",
              "    }\n",
              "\n",
              "    .dataframe tbody tr th {\n",
              "        vertical-align: top;\n",
              "    }\n",
              "\n",
              "    .dataframe thead th {\n",
              "        text-align: right;\n",
              "    }\n",
              "</style>\n",
              "<table border=\"1\" class=\"dataframe\">\n",
              "  <thead>\n",
              "    <tr style=\"text-align: right;\">\n",
              "      <th></th>\n",
              "      <th>Province/State</th>\n",
              "      <th>Country/Region</th>\n",
              "      <th>Lat</th>\n",
              "      <th>Long</th>\n",
              "      <th>1/22/20</th>\n",
              "      <th>1/23/20</th>\n",
              "      <th>1/24/20</th>\n",
              "      <th>1/25/20</th>\n",
              "      <th>1/26/20</th>\n",
              "      <th>1/27/20</th>\n",
              "      <th>1/28/20</th>\n",
              "      <th>1/29/20</th>\n",
              "      <th>1/30/20</th>\n",
              "      <th>1/31/20</th>\n",
              "      <th>2/1/20</th>\n",
              "      <th>2/2/20</th>\n",
              "      <th>2/3/20</th>\n",
              "      <th>2/4/20</th>\n",
              "      <th>2/5/20</th>\n",
              "      <th>2/6/20</th>\n",
              "      <th>2/7/20</th>\n",
              "      <th>2/8/20</th>\n",
              "      <th>2/9/20</th>\n",
              "      <th>2/10/20</th>\n",
              "      <th>2/11/20</th>\n",
              "      <th>2/12/20</th>\n",
              "      <th>2/13/20</th>\n",
              "      <th>2/14/20</th>\n",
              "      <th>2/15/20</th>\n",
              "      <th>2/16/20</th>\n",
              "      <th>2/17/20</th>\n",
              "      <th>2/18/20</th>\n",
              "      <th>2/19/20</th>\n",
              "      <th>2/20/20</th>\n",
              "      <th>2/21/20</th>\n",
              "      <th>2/22/20</th>\n",
              "      <th>2/23/20</th>\n",
              "      <th>2/24/20</th>\n",
              "      <th>2/25/20</th>\n",
              "      <th>2/26/20</th>\n",
              "      <th>...</th>\n",
              "      <th>4/22/21</th>\n",
              "      <th>4/23/21</th>\n",
              "      <th>4/24/21</th>\n",
              "      <th>4/25/21</th>\n",
              "      <th>4/26/21</th>\n",
              "      <th>4/27/21</th>\n",
              "      <th>4/28/21</th>\n",
              "      <th>4/29/21</th>\n",
              "      <th>4/30/21</th>\n",
              "      <th>5/1/21</th>\n",
              "      <th>5/2/21</th>\n",
              "      <th>5/3/21</th>\n",
              "      <th>5/4/21</th>\n",
              "      <th>5/5/21</th>\n",
              "      <th>5/6/21</th>\n",
              "      <th>5/7/21</th>\n",
              "      <th>5/8/21</th>\n",
              "      <th>5/9/21</th>\n",
              "      <th>5/10/21</th>\n",
              "      <th>5/11/21</th>\n",
              "      <th>5/12/21</th>\n",
              "      <th>5/13/21</th>\n",
              "      <th>5/14/21</th>\n",
              "      <th>5/15/21</th>\n",
              "      <th>5/16/21</th>\n",
              "      <th>5/17/21</th>\n",
              "      <th>5/18/21</th>\n",
              "      <th>5/19/21</th>\n",
              "      <th>5/20/21</th>\n",
              "      <th>5/21/21</th>\n",
              "      <th>5/22/21</th>\n",
              "      <th>5/23/21</th>\n",
              "      <th>5/24/21</th>\n",
              "      <th>5/25/21</th>\n",
              "      <th>5/26/21</th>\n",
              "      <th>5/27/21</th>\n",
              "      <th>5/28/21</th>\n",
              "      <th>5/29/21</th>\n",
              "      <th>5/30/21</th>\n",
              "      <th>5/31/21</th>\n",
              "    </tr>\n",
              "  </thead>\n",
              "  <tbody>\n",
              "    <tr>\n",
              "      <th>0</th>\n",
              "      <td>NaN</td>\n",
              "      <td>Afghanistan</td>\n",
              "      <td>33.93911</td>\n",
              "      <td>67.709953</td>\n",
              "      <td>0</td>\n",
              "      <td>0</td>\n",
              "      <td>0</td>\n",
              "      <td>0</td>\n",
              "      <td>0</td>\n",
              "      <td>0</td>\n",
              "      <td>0</td>\n",
              "      <td>0</td>\n",
              "      <td>0</td>\n",
              "      <td>0</td>\n",
              "      <td>0</td>\n",
              "      <td>0</td>\n",
              "      <td>0</td>\n",
              "      <td>0</td>\n",
              "      <td>0</td>\n",
              "      <td>0</td>\n",
              "      <td>0</td>\n",
              "      <td>0</td>\n",
              "      <td>0</td>\n",
              "      <td>0</td>\n",
              "      <td>0</td>\n",
              "      <td>0</td>\n",
              "      <td>0</td>\n",
              "      <td>0</td>\n",
              "      <td>0</td>\n",
              "      <td>0</td>\n",
              "      <td>0</td>\n",
              "      <td>0</td>\n",
              "      <td>0</td>\n",
              "      <td>0</td>\n",
              "      <td>0</td>\n",
              "      <td>0</td>\n",
              "      <td>0</td>\n",
              "      <td>1</td>\n",
              "      <td>1</td>\n",
              "      <td>1</td>\n",
              "      <td>...</td>\n",
              "      <td>58312</td>\n",
              "      <td>58542</td>\n",
              "      <td>58730</td>\n",
              "      <td>58843</td>\n",
              "      <td>59015</td>\n",
              "      <td>59225</td>\n",
              "      <td>59370</td>\n",
              "      <td>59576</td>\n",
              "      <td>59745</td>\n",
              "      <td>59939</td>\n",
              "      <td>60122</td>\n",
              "      <td>60300</td>\n",
              "      <td>60563</td>\n",
              "      <td>60797</td>\n",
              "      <td>61162</td>\n",
              "      <td>61455</td>\n",
              "      <td>61755</td>\n",
              "      <td>61842</td>\n",
              "      <td>62063</td>\n",
              "      <td>62403</td>\n",
              "      <td>62718</td>\n",
              "      <td>63045</td>\n",
              "      <td>63355</td>\n",
              "      <td>63412</td>\n",
              "      <td>63484</td>\n",
              "      <td>63598</td>\n",
              "      <td>63819</td>\n",
              "      <td>64122</td>\n",
              "      <td>64575</td>\n",
              "      <td>65080</td>\n",
              "      <td>65486</td>\n",
              "      <td>65728</td>\n",
              "      <td>66275</td>\n",
              "      <td>66903</td>\n",
              "      <td>67743</td>\n",
              "      <td>68366</td>\n",
              "      <td>69130</td>\n",
              "      <td>70111</td>\n",
              "      <td>70761</td>\n",
              "      <td>71838</td>\n",
              "    </tr>\n",
              "    <tr>\n",
              "      <th>1</th>\n",
              "      <td>NaN</td>\n",
              "      <td>Albania</td>\n",
              "      <td>41.15330</td>\n",
              "      <td>20.168300</td>\n",
              "      <td>0</td>\n",
              "      <td>0</td>\n",
              "      <td>0</td>\n",
              "      <td>0</td>\n",
              "      <td>0</td>\n",
              "      <td>0</td>\n",
              "      <td>0</td>\n",
              "      <td>0</td>\n",
              "      <td>0</td>\n",
              "      <td>0</td>\n",
              "      <td>0</td>\n",
              "      <td>0</td>\n",
              "      <td>0</td>\n",
              "      <td>0</td>\n",
              "      <td>0</td>\n",
              "      <td>0</td>\n",
              "      <td>0</td>\n",
              "      <td>0</td>\n",
              "      <td>0</td>\n",
              "      <td>0</td>\n",
              "      <td>0</td>\n",
              "      <td>0</td>\n",
              "      <td>0</td>\n",
              "      <td>0</td>\n",
              "      <td>0</td>\n",
              "      <td>0</td>\n",
              "      <td>0</td>\n",
              "      <td>0</td>\n",
              "      <td>0</td>\n",
              "      <td>0</td>\n",
              "      <td>0</td>\n",
              "      <td>0</td>\n",
              "      <td>0</td>\n",
              "      <td>0</td>\n",
              "      <td>0</td>\n",
              "      <td>0</td>\n",
              "      <td>...</td>\n",
              "      <td>130114</td>\n",
              "      <td>130270</td>\n",
              "      <td>130409</td>\n",
              "      <td>130537</td>\n",
              "      <td>130606</td>\n",
              "      <td>130736</td>\n",
              "      <td>130859</td>\n",
              "      <td>130977</td>\n",
              "      <td>131085</td>\n",
              "      <td>131185</td>\n",
              "      <td>131238</td>\n",
              "      <td>131276</td>\n",
              "      <td>131327</td>\n",
              "      <td>131419</td>\n",
              "      <td>131510</td>\n",
              "      <td>131577</td>\n",
              "      <td>131666</td>\n",
              "      <td>131723</td>\n",
              "      <td>131753</td>\n",
              "      <td>131803</td>\n",
              "      <td>131845</td>\n",
              "      <td>131890</td>\n",
              "      <td>131939</td>\n",
              "      <td>131978</td>\n",
              "      <td>132015</td>\n",
              "      <td>132032</td>\n",
              "      <td>132071</td>\n",
              "      <td>132095</td>\n",
              "      <td>132118</td>\n",
              "      <td>132153</td>\n",
              "      <td>132176</td>\n",
              "      <td>132209</td>\n",
              "      <td>132215</td>\n",
              "      <td>132229</td>\n",
              "      <td>132244</td>\n",
              "      <td>132264</td>\n",
              "      <td>132285</td>\n",
              "      <td>132297</td>\n",
              "      <td>132309</td>\n",
              "      <td>132315</td>\n",
              "    </tr>\n",
              "    <tr>\n",
              "      <th>2</th>\n",
              "      <td>NaN</td>\n",
              "      <td>Algeria</td>\n",
              "      <td>28.03390</td>\n",
              "      <td>1.659600</td>\n",
              "      <td>0</td>\n",
              "      <td>0</td>\n",
              "      <td>0</td>\n",
              "      <td>0</td>\n",
              "      <td>0</td>\n",
              "      <td>0</td>\n",
              "      <td>0</td>\n",
              "      <td>0</td>\n",
              "      <td>0</td>\n",
              "      <td>0</td>\n",
              "      <td>0</td>\n",
              "      <td>0</td>\n",
              "      <td>0</td>\n",
              "      <td>0</td>\n",
              "      <td>0</td>\n",
              "      <td>0</td>\n",
              "      <td>0</td>\n",
              "      <td>0</td>\n",
              "      <td>0</td>\n",
              "      <td>0</td>\n",
              "      <td>0</td>\n",
              "      <td>0</td>\n",
              "      <td>0</td>\n",
              "      <td>0</td>\n",
              "      <td>0</td>\n",
              "      <td>0</td>\n",
              "      <td>0</td>\n",
              "      <td>0</td>\n",
              "      <td>0</td>\n",
              "      <td>0</td>\n",
              "      <td>0</td>\n",
              "      <td>0</td>\n",
              "      <td>0</td>\n",
              "      <td>0</td>\n",
              "      <td>1</td>\n",
              "      <td>1</td>\n",
              "      <td>...</td>\n",
              "      <td>120363</td>\n",
              "      <td>120562</td>\n",
              "      <td>120736</td>\n",
              "      <td>120922</td>\n",
              "      <td>121112</td>\n",
              "      <td>121344</td>\n",
              "      <td>121580</td>\n",
              "      <td>121866</td>\n",
              "      <td>122108</td>\n",
              "      <td>122311</td>\n",
              "      <td>122522</td>\n",
              "      <td>122717</td>\n",
              "      <td>122999</td>\n",
              "      <td>123272</td>\n",
              "      <td>123473</td>\n",
              "      <td>123692</td>\n",
              "      <td>123900</td>\n",
              "      <td>124104</td>\n",
              "      <td>124288</td>\n",
              "      <td>124483</td>\n",
              "      <td>124682</td>\n",
              "      <td>124889</td>\n",
              "      <td>125059</td>\n",
              "      <td>125194</td>\n",
              "      <td>125311</td>\n",
              "      <td>125485</td>\n",
              "      <td>125693</td>\n",
              "      <td>125896</td>\n",
              "      <td>126156</td>\n",
              "      <td>126434</td>\n",
              "      <td>126651</td>\n",
              "      <td>126860</td>\n",
              "      <td>127107</td>\n",
              "      <td>127361</td>\n",
              "      <td>127646</td>\n",
              "      <td>127926</td>\n",
              "      <td>128198</td>\n",
              "      <td>128456</td>\n",
              "      <td>128725</td>\n",
              "      <td>128913</td>\n",
              "    </tr>\n",
              "    <tr>\n",
              "      <th>3</th>\n",
              "      <td>NaN</td>\n",
              "      <td>Andorra</td>\n",
              "      <td>42.50630</td>\n",
              "      <td>1.521800</td>\n",
              "      <td>0</td>\n",
              "      <td>0</td>\n",
              "      <td>0</td>\n",
              "      <td>0</td>\n",
              "      <td>0</td>\n",
              "      <td>0</td>\n",
              "      <td>0</td>\n",
              "      <td>0</td>\n",
              "      <td>0</td>\n",
              "      <td>0</td>\n",
              "      <td>0</td>\n",
              "      <td>0</td>\n",
              "      <td>0</td>\n",
              "      <td>0</td>\n",
              "      <td>0</td>\n",
              "      <td>0</td>\n",
              "      <td>0</td>\n",
              "      <td>0</td>\n",
              "      <td>0</td>\n",
              "      <td>0</td>\n",
              "      <td>0</td>\n",
              "      <td>0</td>\n",
              "      <td>0</td>\n",
              "      <td>0</td>\n",
              "      <td>0</td>\n",
              "      <td>0</td>\n",
              "      <td>0</td>\n",
              "      <td>0</td>\n",
              "      <td>0</td>\n",
              "      <td>0</td>\n",
              "      <td>0</td>\n",
              "      <td>0</td>\n",
              "      <td>0</td>\n",
              "      <td>0</td>\n",
              "      <td>0</td>\n",
              "      <td>0</td>\n",
              "      <td>...</td>\n",
              "      <td>12942</td>\n",
              "      <td>13007</td>\n",
              "      <td>13024</td>\n",
              "      <td>13060</td>\n",
              "      <td>13083</td>\n",
              "      <td>13121</td>\n",
              "      <td>13148</td>\n",
              "      <td>13198</td>\n",
              "      <td>13232</td>\n",
              "      <td>13232</td>\n",
              "      <td>13282</td>\n",
              "      <td>13295</td>\n",
              "      <td>13316</td>\n",
              "      <td>13340</td>\n",
              "      <td>13363</td>\n",
              "      <td>13390</td>\n",
              "      <td>13406</td>\n",
              "      <td>13423</td>\n",
              "      <td>13429</td>\n",
              "      <td>13447</td>\n",
              "      <td>13470</td>\n",
              "      <td>13470</td>\n",
              "      <td>13510</td>\n",
              "      <td>13510</td>\n",
              "      <td>13510</td>\n",
              "      <td>13555</td>\n",
              "      <td>13569</td>\n",
              "      <td>13569</td>\n",
              "      <td>13569</td>\n",
              "      <td>13569</td>\n",
              "      <td>13569</td>\n",
              "      <td>13569</td>\n",
              "      <td>13569</td>\n",
              "      <td>13664</td>\n",
              "      <td>13671</td>\n",
              "      <td>13682</td>\n",
              "      <td>13693</td>\n",
              "      <td>13693</td>\n",
              "      <td>13693</td>\n",
              "      <td>13727</td>\n",
              "    </tr>\n",
              "    <tr>\n",
              "      <th>4</th>\n",
              "      <td>NaN</td>\n",
              "      <td>Angola</td>\n",
              "      <td>-11.20270</td>\n",
              "      <td>17.873900</td>\n",
              "      <td>0</td>\n",
              "      <td>0</td>\n",
              "      <td>0</td>\n",
              "      <td>0</td>\n",
              "      <td>0</td>\n",
              "      <td>0</td>\n",
              "      <td>0</td>\n",
              "      <td>0</td>\n",
              "      <td>0</td>\n",
              "      <td>0</td>\n",
              "      <td>0</td>\n",
              "      <td>0</td>\n",
              "      <td>0</td>\n",
              "      <td>0</td>\n",
              "      <td>0</td>\n",
              "      <td>0</td>\n",
              "      <td>0</td>\n",
              "      <td>0</td>\n",
              "      <td>0</td>\n",
              "      <td>0</td>\n",
              "      <td>0</td>\n",
              "      <td>0</td>\n",
              "      <td>0</td>\n",
              "      <td>0</td>\n",
              "      <td>0</td>\n",
              "      <td>0</td>\n",
              "      <td>0</td>\n",
              "      <td>0</td>\n",
              "      <td>0</td>\n",
              "      <td>0</td>\n",
              "      <td>0</td>\n",
              "      <td>0</td>\n",
              "      <td>0</td>\n",
              "      <td>0</td>\n",
              "      <td>0</td>\n",
              "      <td>0</td>\n",
              "      <td>...</td>\n",
              "      <td>25051</td>\n",
              "      <td>25279</td>\n",
              "      <td>25492</td>\n",
              "      <td>25609</td>\n",
              "      <td>25710</td>\n",
              "      <td>25942</td>\n",
              "      <td>26168</td>\n",
              "      <td>26431</td>\n",
              "      <td>26652</td>\n",
              "      <td>26815</td>\n",
              "      <td>26993</td>\n",
              "      <td>27133</td>\n",
              "      <td>27284</td>\n",
              "      <td>27529</td>\n",
              "      <td>27921</td>\n",
              "      <td>28201</td>\n",
              "      <td>28477</td>\n",
              "      <td>28740</td>\n",
              "      <td>28875</td>\n",
              "      <td>29146</td>\n",
              "      <td>29405</td>\n",
              "      <td>29695</td>\n",
              "      <td>30030</td>\n",
              "      <td>30354</td>\n",
              "      <td>30637</td>\n",
              "      <td>30787</td>\n",
              "      <td>31045</td>\n",
              "      <td>31438</td>\n",
              "      <td>31661</td>\n",
              "      <td>31909</td>\n",
              "      <td>32149</td>\n",
              "      <td>32441</td>\n",
              "      <td>32623</td>\n",
              "      <td>32933</td>\n",
              "      <td>33338</td>\n",
              "      <td>33607</td>\n",
              "      <td>33944</td>\n",
              "      <td>34180</td>\n",
              "      <td>34366</td>\n",
              "      <td>34551</td>\n",
              "    </tr>\n",
              "  </tbody>\n",
              "</table>\n",
              "<p>5 rows × 500 columns</p>\n",
              "</div>"
            ],
            "text/plain": [
              "  Province/State Country/Region       Lat  ...  5/29/21  5/30/21  5/31/21\n",
              "0            NaN    Afghanistan  33.93911  ...    70111    70761    71838\n",
              "1            NaN        Albania  41.15330  ...   132297   132309   132315\n",
              "2            NaN        Algeria  28.03390  ...   128456   128725   128913\n",
              "3            NaN        Andorra  42.50630  ...    13693    13693    13727\n",
              "4            NaN         Angola -11.20270  ...    34180    34366    34551\n",
              "\n",
              "[5 rows x 500 columns]"
            ]
          },
          "metadata": {
            "tags": []
          },
          "execution_count": 14
        }
      ]
    },
    {
      "cell_type": "markdown",
      "metadata": {
        "id": "Zd80oKinRiXL"
      },
      "source": [
        "### var, variance(분산) / std, standard deviation(표준편차)\n",
        "* 분산과 표준편차는 데이터가 평균으로부터 얼마나 떨어져 있는지 정도를 나타냄"
      ]
    },
    {
      "cell_type": "markdown",
      "metadata": {
        "id": "QXhX9tyXKFHT"
      },
      "source": [
        "### loc 선택\n",
        "* location의 약자\n",
        "* loc[행 선택, 열 선택]\n",
        "    * 행 선택 : 행의 인덱스를 활용, True/False 로 이루어진 조건 색인(indexing)\n",
        "    * 열 선택 : 컬럼의 이름(들)"
      ]
    },
    {
      "cell_type": "markdown",
      "metadata": {
        "id": "zZ7RwptrN1Qd"
      },
      "source": [
        "### Boolean Indexing 조건 색인\n",
        "* 특정한 조건을 이용해서 그 조건을 만족하는(True) 데이터만 추출해내는 과정\n",
        "1. 조건 마스크 생성\n",
        "    * True/False 로 이루어진 배열 만들기\n",
        "    * 조건에 맞으면 True / 조건에 안 맞으면 False\n",
        "2. 생성된 조건 마스크를 색인 위치 (행 선택 위치) 에 넣어주기"
      ]
    },
    {
      "cell_type": "code",
      "metadata": {
        "id": "con3hJs_LiE4"
      },
      "source": [
        "# 1단계 : 조건 마스크 생성\n",
        "# 키가 180 초과다 라는 조건\n",
        "df['키'] > 180"
      ],
      "execution_count": null,
      "outputs": []
    },
    {
      "cell_type": "markdown",
      "metadata": {
        "id": "AIzzYNv2PQqQ"
      },
      "source": [
        "2단계 : 조건 인덱싱, 컬럼 선택을 동시에 (loc 사용)\n",
        "* 조건 인덱싱은 기본적으로 행을 선택하기 위함\n",
        "\n",
        "```python\n",
        "df[df['키']<170][['이름','그룹','키']]\n",
        "df[ 행 선택 ][ 열 선택 ]\n",
        "df.loc[df['키']<170, ['이름','그룹','키']]\n",
        "```"
      ]
    },
    {
      "cell_type": "markdown",
      "metadata": {
        "id": "DiWdffbjV981"
      },
      "source": [
        "### isin을 활용한 인덱싱\n",
        "isin을 활용한 색인은 조건을 걸고자 하는 값이 정의한 리스트에 있으면 True"
      ]
    },
    {
      "cell_type": "code",
      "metadata": {
        "id": "ACuTaMaUOVdc"
      },
      "source": [
        "# 조건을 위한 리스트를 만들어 놓는 것\n",
        "my_condition = [\"빅히트\", \"플레디스\"]\n",
        "\n",
        "# 빅히트 또는 플레디스가 들어있으면 True, 없으면 False - isin\n",
        "df['소속사'].isin(my_condition)"
      ],
      "execution_count": null,
      "outputs": []
    },
    {
      "cell_type": "code",
      "metadata": {
        "id": "is-aAs88WJ8D"
      },
      "source": [
        "df.loc[ df['소속사'].isin(my_condition) ]"
      ],
      "execution_count": null,
      "outputs": []
    },
    {
      "cell_type": "markdown",
      "metadata": {
        "id": "6kRWCe-0WKbw"
      },
      "source": [
        "## apply, lambda"
      ]
    },
    {
      "cell_type": "markdown",
      "metadata": {
        "id": "9E82KUzlWTk4"
      },
      "source": [
        "### apply\n",
        "Series, DataFrame에 **구체적인 로직**을 적용하고 싶을 때 활용\n",
        "* 단순 집계 뿐이 아닌 각 데이터에 프로그래밍적인 효과\n",
        "  * 데이터에 대한 조건검사를 한다거나\n",
        "  * 형태소 분리도 가능\n",
        "  * 복잡한 조건에 의한 데이터 편집 등등....\n",
        "* apply는 정의한 로직함수를 인자로 넘긴다\n",
        "    * 함수만 인자(매개변수)로 받기 때문에 반드시 함수가 필요함"
      ]
    },
    {
      "cell_type": "code",
      "metadata": {
        "id": "1oYvT0EeWS6H"
      },
      "source": [
        "# loc으로도 가능\n",
        "# 남자 : 1, 여자는 0으로 설정하기\n",
        "df2 = df.copy()\n",
        "\n",
        "df2.loc[df['성별'] == '남자', '성별'] = 1\n",
        "df2.loc[df['성별'] == '여자', '성별'] = 0\n",
        "\n",
        "df2.head()"
      ],
      "execution_count": null,
      "outputs": []
    },
    {
      "cell_type": "markdown",
      "metadata": {
        "id": "Y5nSUKtYXzu6"
      },
      "source": [
        "apply 활용하면"
      ]
    },
    {
      "cell_type": "code",
      "metadata": {
        "id": "4X6Ugf6HXuZN"
      },
      "source": [
        "# 각 데이터에 적용시킬 함수가 필요하다 - 반드시 return값이 있어야 해요.\n",
        "def male_or_female(x): # 매개변수 x에는 성별이 들어갈 것이다. ( 남자, 여자 )\n",
        "  if x =='남자':\n",
        "    return 1\n",
        "  elif x == '여자':\n",
        "    return 0\n",
        "  else:\n",
        "    return -1"
      ],
      "execution_count": null,
      "outputs": []
    },
    {
      "cell_type": "code",
      "metadata": {
        "id": "8GD9llzzXvVZ"
      },
      "source": [
        "df['성별_NEW'] = df['성별'].apply(male_or_female)\n",
        "df.head()"
      ],
      "execution_count": null,
      "outputs": []
    },
    {
      "cell_type": "markdown",
      "metadata": {
        "id": "HV2H3lGeZ2dx"
      },
      "source": [
        "## Lambda 함수에 대한 이해\n",
        "- 단일문으로 표현되는 **익명함수**\n",
        "- 익명함수란? 이름이 없는 구현체만 존재하는 간단한 함수를 의미\n",
        "- 원래 함수를 `def`키워드로 만든다는 의미 -> 여러 번 재사용이 가능한 함수를 만들겠다는 뜻이지만, `lambda`를 활용해서 만드는 함수는 1회성 함수"
      ]
    },
    {
      "cell_type": "markdown",
      "metadata": {
        "id": "sNmiQ45UYFxg"
      },
      "source": [
        "### lambda 함수 적용하기\n",
        "* lambda는 1줄로 작성하는 간단한 함수식\n",
        "* return을 따로 명시하지는 않는다."
      ]
    },
    {
      "cell_type": "code",
      "metadata": {
        "id": "ktgS-10sYLm4"
      },
      "source": [
        "df['성별'].apply(lambda x : 1 if x == '남자' else 0)"
      ],
      "execution_count": null,
      "outputs": []
    },
    {
      "cell_type": "markdown",
      "metadata": {
        "id": "Md1Jnz0riQ1p"
      },
      "source": [
        "## DataFrame 병합 - concat, merge\n",
        "* concat과 merge는 단순하게 합쳐지는 목적 또는 특정 기준(index)으로 합치느냐에 따라서 용도가 달라집니다.\n",
        "* concat : row나 column 기준으로 단순하게 이어 붙히기\n",
        "* merge : 특정 고유한 키(unique id)값을 기준으로 병합하기\n"
      ]
    },
    {
      "cell_type": "markdown",
      "metadata": {
        "id": "bqhhi3mxlsaN"
      },
      "source": [
        "**pd.merge(left, right, on='기준 컬럼', how='left')**\n",
        "* left와 right는 병합할 두 DataFrame을 대입\n",
        "* on에는 병합의 기준이 되는 컬럼의 이름\n",
        "* how에는 `'left', 'right', 'inner', 'outer'`라는 4가지 병합 방식을 지원"
      ]
    },
    {
      "cell_type": "code",
      "metadata": {
        "colab": {
          "base_uri": "https://localhost:8080/"
        },
        "id": "3e3UX3m-lzNH",
        "outputId": "7653eaf3-0753-466b-b182-918bf483ba82"
      },
      "source": [
        "def div(x, y):\n",
        "  print(f\"나누기 수행 : {x} / {y}\")\n",
        "  return x / y\n",
        "\n",
        "print(\"Hello\")\n",
        "c = div(10, 3)"
      ],
      "execution_count": 2,
      "outputs": [
        {
          "output_type": "stream",
          "text": [
            "Hello\n",
            "나누기 수행 : 10 / 3\n"
          ],
          "name": "stdout"
        }
      ]
    },
    {
      "cell_type": "code",
      "metadata": {
        "id": "_0d0j0Mom_xa"
      },
      "source": [
        ""
      ],
      "execution_count": null,
      "outputs": []
    }
  ]
}