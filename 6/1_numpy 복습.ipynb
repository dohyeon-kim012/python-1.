{
  "nbformat": 4,
  "nbformat_minor": 0,
  "metadata": {
    "colab": {
      "name": "6/1_numpy 복습.ipynb",
      "provenance": [],
      "mount_file_id": "1E79AaVenw544wsg5C2ZXaw6b3YoAI969",
      "authorship_tag": "ABX9TyO94DZ/TH67hYyeKdMzqoEW",
      "include_colab_link": true
    },
    "kernelspec": {
      "name": "python3",
      "display_name": "Python 3"
    },
    "language_info": {
      "name": "python"
    }
  },
  "cells": [
    {
      "cell_type": "markdown",
      "metadata": {
        "id": "view-in-github",
        "colab_type": "text"
      },
      "source": [
        "<a href=\"https://colab.research.google.com/github/dohyeon-kim012/python-1./blob/main/6/1_numpy%20%EB%B3%B5%EC%8A%B5.ipynb\" target=\"_parent\"><img src=\"https://colab.research.google.com/assets/colab-badge.svg\" alt=\"Open In Colab\"/></a>"
      ]
    },
    {
      "cell_type": "markdown",
      "metadata": {
        "id": "G8lR5TtJJmy1"
      },
      "source": [
        "# Numpy"
      ]
    },
    {
      "cell_type": "code",
      "metadata": {
        "id": "j-wVeNCHJWv8"
      },
      "source": [
        "import numpy as np   # 수치 연산을 위한 python 라이브러리"
      ],
      "execution_count": 1,
      "outputs": []
    },
    {
      "cell_type": "markdown",
      "metadata": {
        "id": "6JwgwynZMsLr"
      },
      "source": [
        "##np.full , np.zeros"
      ]
    },
    {
      "cell_type": "markdown",
      "metadata": {
        "id": "HustsMmEMzXz"
      },
      "source": [
        "np.zeros -> 딥러닝이나 머신러닝에서 편형(bias) 초기값 으로 많이 사용됨"
      ]
    },
    {
      "cell_type": "code",
      "metadata": {
        "colab": {
          "base_uri": "https://localhost:8080/"
        },
        "id": "REvchX-eJ9RR",
        "outputId": "e7be284b-d539-4b0c-bd33-60f4ef344bf5"
      },
      "source": [
        "# 5로 채워진 배열 만들기 (np.zeros(()) / np.ones(()) )\n",
        "\n",
        "np.full((2, 3), 5)"
      ],
      "execution_count": 2,
      "outputs": [
        {
          "output_type": "execute_result",
          "data": {
            "text/plain": [
              "array([[5, 5, 5],\n",
              "       [5, 5, 5]])"
            ]
          },
          "metadata": {
            "tags": []
          },
          "execution_count": 2
        }
      ]
    },
    {
      "cell_type": "markdown",
      "metadata": {
        "id": "WpdYJd-_M55S"
      },
      "source": [
        "## 점구간 만들기\n",
        "* np.linspace\n",
        "* 시각화에서 선을 그을 용도로 많이 사용됨"
      ]
    },
    {
      "cell_type": "code",
      "metadata": {
        "colab": {
          "base_uri": "https://localhost:8080/"
        },
        "id": "Cb5JcuVnMqlC",
        "outputId": "c710bee5-402d-42fe-a1a6-96263171e234"
      },
      "source": [
        "np.linspace(1, 10, 3)    # 1부터 10까지 3개의 수를 균일한 구간으로 만들기 -> 2개의 구간 생성됨"
      ],
      "execution_count": 3,
      "outputs": [
        {
          "output_type": "execute_result",
          "data": {
            "text/plain": [
              "array([ 1. ,  5.5, 10. ])"
            ]
          },
          "metadata": {
            "tags": []
          },
          "execution_count": 3
        }
      ]
    },
    {
      "cell_type": "code",
      "metadata": {
        "colab": {
          "base_uri": "https://localhost:8080/"
        },
        "id": "1NqFCE0ANKYp",
        "outputId": "e23604ff-a50e-4bf3-c08e-77bcf2f33718"
      },
      "source": [
        "np.linspace(1, 10, 4)"
      ],
      "execution_count": 4,
      "outputs": [
        {
          "output_type": "execute_result",
          "data": {
            "text/plain": [
              "array([ 1.,  4.,  7., 10.])"
            ]
          },
          "metadata": {
            "tags": []
          },
          "execution_count": 4
        }
      ]
    },
    {
      "cell_type": "markdown",
      "metadata": {
        "id": "SJVf6kLlNj9i"
      },
      "source": [
        "## Random\n",
        "* 랜덤 배열은 **딥러닝**에서 매개변수(가중치 W, 편향 b)를 초기화 하기 위해서 사용\n",
        "* 초기화 : 최초에 가지고 있는 값"
      ]
    },
    {
      "cell_type": "markdown",
      "metadata": {
        "id": "GehgdjzvOJWF"
      },
      "source": [
        "* 생성자 : 객체 초기화 메소드\n",
        "   -> 클래스를 이용해서 객체를 만들 때 객체가 처음 가지고 있어야 하는 값을 세팅하는 method "
      ]
    },
    {
      "cell_type": "markdown",
      "metadata": {
        "id": "-S7hJohqO8jb"
      },
      "source": [
        "### 정규분포 랜덤\n",
        "* np.random.randn \n",
        "* 50%가 되는 값. median = mean"
      ]
    },
    {
      "cell_type": "code",
      "metadata": {
        "colab": {
          "base_uri": "https://localhost:8080/"
        },
        "id": "FJPOUepaNcQB",
        "outputId": "84d1f94c-b3a3-46f1-c22c-b433909abe8a"
      },
      "source": [
        "np.random.randn(16)"
      ],
      "execution_count": 5,
      "outputs": [
        {
          "output_type": "execute_result",
          "data": {
            "text/plain": [
              "array([-1.21309927, -0.72940403,  0.5214376 ,  0.58177329, -1.21813821,\n",
              "       -1.54823738,  0.4732756 , -0.32339391, -1.7621498 ,  1.02486764,\n",
              "        2.12345415, -0.9179002 ,  1.50985159, -0.77248176,  0.58085554,\n",
              "        0.15810916])"
            ]
          },
          "metadata": {
            "tags": []
          },
          "execution_count": 5
        }
      ]
    },
    {
      "cell_type": "code",
      "metadata": {
        "colab": {
          "base_uri": "https://localhost:8080/"
        },
        "id": "CgZEs_bQUc3v",
        "outputId": "df2c4e9b-a8f3-48e7-97cf-1c50f1ef9e47"
      },
      "source": [
        "np.random.randn(2, 3, 4)"
      ],
      "execution_count": 6,
      "outputs": [
        {
          "output_type": "execute_result",
          "data": {
            "text/plain": [
              "array([[[-0.243581  ,  0.25890425,  0.20845216, -1.19891754],\n",
              "        [-0.29978936, -0.1576376 ,  0.33960409,  0.13943463],\n",
              "        [-0.98519904,  0.05884357, -1.95372209,  0.34998452]],\n",
              "\n",
              "       [[-1.35038106, -0.07736338,  0.15768942,  0.85674765],\n",
              "        [-0.95762569, -0.22873304, -0.8818412 , -0.30229291],\n",
              "        [-1.90895539,  0.61008933, -1.31867416, -1.68926981]]])"
            ]
          },
          "metadata": {
            "tags": []
          },
          "execution_count": 6
        }
      ]
    },
    {
      "cell_type": "markdown",
      "metadata": {
        "id": "JAzeGR3GUx-Z"
      },
      "source": [
        "### 균등분포 랜덤\n",
        "* np.random.uniform"
      ]
    },
    {
      "cell_type": "code",
      "metadata": {
        "colab": {
          "base_uri": "https://localhost:8080/"
        },
        "id": "UvUBD-S4Utg9",
        "outputId": "ba034306-3869-4bae-fce7-fbf7c7c392ad"
      },
      "source": [
        "np.random.uniform(1.0, 3.0, size=(3, 4))"
      ],
      "execution_count": 7,
      "outputs": [
        {
          "output_type": "execute_result",
          "data": {
            "text/plain": [
              "array([[2.58500618, 2.6282424 , 1.54106434, 1.70235019],\n",
              "       [1.58857808, 1.55997623, 2.00340921, 2.67598983],\n",
              "       [1.99283167, 1.63837995, 2.94281096, 2.60171301]])"
            ]
          },
          "metadata": {
            "tags": []
          },
          "execution_count": 7
        }
      ]
    },
    {
      "cell_type": "markdown",
      "metadata": {
        "id": "a4AIdgE0Vh7Q"
      },
      "source": [
        "### 정수 랜덤 샘플링\n",
        "* np.random.choice\n",
        "* 샘플링 : 전체(모분포)에서 일부(표본)를 추출하는 행위\n",
        "* 방대한 양의 데이터를 다룰 때, 모분포를 파악할 수가 없으니 일부만 추출해서 데이터를 사용하기 위함\n",
        "* 딥러닝에서 mini-batch를 만들 때 사용됨"
      ]
    },
    {
      "cell_type": "code",
      "metadata": {
        "colab": {
          "base_uri": "https://localhost:8080/"
        },
        "id": "GtvRsuAFVIHX",
        "outputId": "c0cf3e87-c012-49f4-9483-296d6c5a64c0"
      },
      "source": [
        "np.random.choice(10, size=(2, 3))  # 0 ~ 9 까지의 정수를 랜덤하게 (2, 3) 배열 형태로 추출 -> 중복 추출이 기본값임"
      ],
      "execution_count": 8,
      "outputs": [
        {
          "output_type": "execute_result",
          "data": {
            "text/plain": [
              "array([[3, 1, 3],\n",
              "       [1, 2, 5]])"
            ]
          },
          "metadata": {
            "tags": []
          },
          "execution_count": 8
        }
      ]
    },
    {
      "cell_type": "code",
      "metadata": {
        "colab": {
          "base_uri": "https://localhost:8080/"
        },
        "id": "xV4Ps3KoWS49",
        "outputId": "e34eea7f-cf02-4d15-cc30-ca751c091699"
      },
      "source": [
        "# 배열 내에서도 랜덤 추출 가능\n",
        "arr = np.arange(1, 6)\n",
        "\n",
        "np.random.choice(arr, size=(2, 2))   # -> 중복 추출이 되기 때문에 size=(2, 3) 도 가능함"
      ],
      "execution_count": 9,
      "outputs": [
        {
          "output_type": "execute_result",
          "data": {
            "text/plain": [
              "array([[1, 4],\n",
              "       [1, 1]])"
            ]
          },
          "metadata": {
            "tags": []
          },
          "execution_count": 9
        }
      ]
    },
    {
      "cell_type": "code",
      "metadata": {
        "colab": {
          "base_uri": "https://localhost:8080/"
        },
        "id": "xfdZS_vhWlvZ",
        "outputId": "53865a7d-e3f0-472e-8d21-b0d115d816f0"
      },
      "source": [
        "# 중복 추출 X -> replace 옵션 넣으면 중복 추출 안 됨\n",
        "np.random.choice(arr, size=(2, 2), replace=False)"
      ],
      "execution_count": 10,
      "outputs": [
        {
          "output_type": "execute_result",
          "data": {
            "text/plain": [
              "array([[4, 2],\n",
              "       [5, 3]])"
            ]
          },
          "metadata": {
            "tags": []
          },
          "execution_count": 10
        }
      ]
    },
    {
      "cell_type": "markdown",
      "metadata": {
        "id": "t9cl5g9GXPl1"
      },
      "source": [
        "## 랜덤 정수 배열 만들기\n",
        "* np.random.randint"
      ]
    },
    {
      "cell_type": "code",
      "metadata": {
        "colab": {
          "base_uri": "https://localhost:8080/"
        },
        "id": "q8jdzqkmW3WR",
        "outputId": "6d35b54e-3411-4e71-ba30-0da7a060a938"
      },
      "source": [
        "arr1 = np.random.randint(1, 100, size=(5, ))\n",
        "arr1"
      ],
      "execution_count": 12,
      "outputs": [
        {
          "output_type": "execute_result",
          "data": {
            "text/plain": [
              "array([95, 64, 19,  6, 72])"
            ]
          },
          "metadata": {
            "tags": []
          },
          "execution_count": 12
        }
      ]
    },
    {
      "cell_type": "code",
      "metadata": {
        "colab": {
          "base_uri": "https://localhost:8080/"
        },
        "id": "bs6phkunXXLC",
        "outputId": "7dfe5c89-5d44-44a5-9f57-b5fb0a63b03c"
      },
      "source": [
        "arr2 = np.random.randint(1, 100, size=(5, 1))\n",
        "arr2"
      ],
      "execution_count": 13,
      "outputs": [
        {
          "output_type": "execute_result",
          "data": {
            "text/plain": [
              "array([[23],\n",
              "       [14],\n",
              "       [22],\n",
              "       [49],\n",
              "       [74]])"
            ]
          },
          "metadata": {
            "tags": []
          },
          "execution_count": 13
        }
      ]
    },
    {
      "cell_type": "markdown",
      "metadata": {
        "id": "n_TwofyOXm7p"
      },
      "source": [
        "## 다차원 배열\n",
        "* 스칼라 scalar\n",
        "    * 어떤 실수값 $x$라고 정의\n",
        "    '''python\n",
        "    height = 180.1\n",
        "    age = 34.3\n",
        "    '''\n",
        "    * height, age 가 스칼라 \n",
        "    * 0차원 데이터\n",
        "* 벡터 vector\n",
        "    * 실수값 &x&가 모여져 있는 것\n",
        "    '''python\n",
        "    heights = [180.1, 175, 165.4]\n",
        "    '''\n",
        "    * heights 라는 벡터를 생성\n",
        "    * scalar를 모은 것\n",
        "    * 1차원 배열\n",
        "    * 모아진 데이터의 개수가 N개라면 **N차원 벡터** 라고 함\n",
        "    * 열벡터를 기본으로 함 (값들을 세로 방향-열로 정렬함)"
      ]
    },
    {
      "cell_type": "code",
      "metadata": {
        "colab": {
          "base_uri": "https://localhost:8080/"
        },
        "id": "SPG_gBygXb-K",
        "outputId": "b90a63b6-a20e-499f-badf-8d0464769049"
      },
      "source": [
        "# 행벡터의 모양을 하고 있지만, 1차원 배열이기 때문에 열벡터로 생각해야 함\n",
        "heights_1 = np.array([180.1, 175, 165.4])\n",
        "heights_1"
      ],
      "execution_count": 14,
      "outputs": [
        {
          "output_type": "execute_result",
          "data": {
            "text/plain": [
              "array([180.1, 175. , 165.4])"
            ]
          },
          "metadata": {
            "tags": []
          },
          "execution_count": 14
        }
      ]
    },
    {
      "cell_type": "code",
      "metadata": {
        "colab": {
          "base_uri": "https://localhost:8080/"
        },
        "id": "avIBLolEZ4it",
        "outputId": "84c242f8-5714-4cde-e27e-fef6b504aee7"
      },
      "source": [
        "# 2차원 배열 이지만 이것도 같은 열벡터임\n",
        "heights_2 = np.array([[180.1], \n",
        "                     [175], \n",
        "                     [165.4]])\n",
        "heights_2"
      ],
      "execution_count": 16,
      "outputs": [
        {
          "output_type": "execute_result",
          "data": {
            "text/plain": [
              "array([[180.1],\n",
              "       [175. ],\n",
              "       [165.4]])"
            ]
          },
          "metadata": {
            "tags": []
          },
          "execution_count": 16
        }
      ]
    },
    {
      "cell_type": "markdown",
      "metadata": {
        "id": "dbvsoAOsc01X"
      },
      "source": [
        "## 행렬 matrix\n",
        "* = 2차원 배열\n",
        "* 1차원 배열인 벡터가 여러 개 모여있는 것\n",
        "    '''python \n",
        "    \n",
        "    \n",
        "    person_info = [[180.1, 33, 80.5], \n",
        "                 [175.1, 3, 77.3]] \n",
        "    '''\n"
      ]
    },
    {
      "cell_type": "markdown",
      "metadata": {
        "id": "diO-r3Q3dYYo"
      },
      "source": [
        "## 텐서 tensor\n",
        "* 3차원 이상의 배열\n",
        "* 3차원 배열(3차원 텐서)는 2차원 배열이 모여있는 것\n",
        "* 4차원 텐서는 3차원 배열이 모여있음\n",
        "* N차원 배열을 텐서라고 함\n",
        "* 텐서의 개념을 활용해 모든 배열의 모양 이야기 할 수 있음\n",
        "    * 0 Rank Tensor 스칼라\n",
        "    * 1 Rank Tensor 벡터\n",
        "    * 2 Rank Tensor 행렬\n",
        "    * 3 Rank Tensor 3랭크 텐서 ...\n"
      ]
    },
    {
      "cell_type": "markdown",
      "metadata": {
        "id": "WSvZAzPpeRhu"
      },
      "source": [
        "### Tensorflow\n",
        "* 구글에서 제공하는 딥러닝 프레임워크\n",
        "* Tensor을 흘린다(flow)\n",
        "* 흘릴 네터워크를 미리 준비하고 거기에 배열(데이터)를 흘린다"
      ]
    },
    {
      "cell_type": "markdown",
      "metadata": {
        "id": "r3ty8FCehrr0"
      },
      "source": [
        "# axis\n",
        "axis = 축 (데이터가 추가되는 방향의 **인덱스**)\n",
        "* 3차원 배열에 추가되는건 2차원 배열  -> axis=0\n",
        "* 2차원 배열에 추가되는건 1차원 배열  -> axis=1\n",
        "* 1차원 배열에 추가되는건 0차원 스칼라  -> axis=2"
      ]
    },
    {
      "cell_type": "code",
      "metadata": {
        "colab": {
          "base_uri": "https://localhost:8080/",
          "height": 136
        },
        "id": "SIqryTRlaHoH",
        "outputId": "ce452d0e-9b38-4bf9-c59e-236550e3c710"
      },
      "source": [
        "arr3 = np.random.randint(1, 37, (size=(3, 4, 3))\n",
        "arr3"
      ],
      "execution_count": 25,
      "outputs": [
        {
          "output_type": "error",
          "ename": "SyntaxError",
          "evalue": "ignored",
          "traceback": [
            "\u001b[0;36m  File \u001b[0;32m\"<ipython-input-25-645f5e425d75>\"\u001b[0;36m, line \u001b[0;32m1\u001b[0m\n\u001b[0;31m    arr3 = np.random.randint(1, 37, (size=(3, 4, 3))\u001b[0m\n\u001b[0m                                         ^\u001b[0m\n\u001b[0;31mSyntaxError\u001b[0m\u001b[0;31m:\u001b[0m invalid syntax\n"
          ]
        }
      ]
    },
    {
      "cell_type": "code",
      "metadata": {
        "colab": {
          "base_uri": "https://localhost:8080/"
        },
        "id": "Nc_EvNi_iYNY",
        "outputId": "33301b91-1066-4422-e449-a6f062c73eb3"
      },
      "source": [
        "np.max(arr3, axis=0)"
      ],
      "execution_count": 19,
      "outputs": [
        {
          "output_type": "execute_result",
          "data": {
            "text/plain": [
              "array([[25, 26, 27],\n",
              "       [28, 29, 30],\n",
              "       [31, 32, 33],\n",
              "       [34, 35, 36]])"
            ]
          },
          "metadata": {
            "tags": []
          },
          "execution_count": 19
        }
      ]
    },
    {
      "cell_type": "code",
      "metadata": {
        "colab": {
          "base_uri": "https://localhost:8080/"
        },
        "id": "iXbcODWljGMf",
        "outputId": "d544dccf-d24b-4ac1-fc8c-6c5166736c07"
      },
      "source": [
        "np.max(arr3, axis=1)"
      ],
      "execution_count": 20,
      "outputs": [
        {
          "output_type": "execute_result",
          "data": {
            "text/plain": [
              "array([[10, 11, 12],\n",
              "       [22, 23, 24],\n",
              "       [34, 35, 36]])"
            ]
          },
          "metadata": {
            "tags": []
          },
          "execution_count": 20
        }
      ]
    },
    {
      "cell_type": "code",
      "metadata": {
        "colab": {
          "base_uri": "https://localhost:8080/"
        },
        "id": "T6gynashj6QE",
        "outputId": "b43c1720-8979-4c8f-9157-c5e838a76775"
      },
      "source": [
        "np.max(arr3, axis=2)"
      ],
      "execution_count": 21,
      "outputs": [
        {
          "output_type": "execute_result",
          "data": {
            "text/plain": [
              "array([[ 3,  6,  9, 12],\n",
              "       [15, 18, 21, 24],\n",
              "       [27, 30, 33, 36]])"
            ]
          },
          "metadata": {
            "tags": []
          },
          "execution_count": 21
        }
      ]
    },
    {
      "cell_type": "markdown",
      "metadata": {
        "id": "FDpVibHqlwlV"
      },
      "source": [
        "### spread 연산자"
      ]
    },
    {
      "cell_type": "code",
      "metadata": {
        "colab": {
          "base_uri": "https://localhost:8080/"
        },
        "id": "5mwEdwLfj7sD",
        "outputId": "56483cb9-47de-4b50-c555-a21fa74e011c"
      },
      "source": [
        "arr4 = np.arange(36).reshape(2, 3, 3, 2)\n",
        "arr4"
      ],
      "execution_count": 27,
      "outputs": [
        {
          "output_type": "execute_result",
          "data": {
            "text/plain": [
              "array([[[[ 0,  1],\n",
              "         [ 2,  3],\n",
              "         [ 4,  5]],\n",
              "\n",
              "        [[ 6,  7],\n",
              "         [ 8,  9],\n",
              "         [10, 11]],\n",
              "\n",
              "        [[12, 13],\n",
              "         [14, 15],\n",
              "         [16, 17]]],\n",
              "\n",
              "\n",
              "       [[[18, 19],\n",
              "         [20, 21],\n",
              "         [22, 23]],\n",
              "\n",
              "        [[24, 25],\n",
              "         [26, 27],\n",
              "         [28, 29]],\n",
              "\n",
              "        [[30, 31],\n",
              "         [32, 33],\n",
              "         [34, 35]]]])"
            ]
          },
          "metadata": {
            "tags": []
          },
          "execution_count": 27
        }
      ]
    },
    {
      "cell_type": "code",
      "metadata": {
        "colab": {
          "base_uri": "https://localhost:8080/"
        },
        "id": "cSVyCDkLl39K",
        "outputId": "a1846980-2921-443f-dbff-363fba3ce75f"
      },
      "source": [
        "arr4[0, :, :, 0]"
      ],
      "execution_count": 33,
      "outputs": [
        {
          "output_type": "execute_result",
          "data": {
            "text/plain": [
              "array([[ 0,  2,  4],\n",
              "       [ 6,  8, 10],\n",
              "       [12, 14, 16]])"
            ]
          },
          "metadata": {
            "tags": []
          },
          "execution_count": 33
        }
      ]
    },
    {
      "cell_type": "code",
      "metadata": {
        "colab": {
          "base_uri": "https://localhost:8080/"
        },
        "id": "CEGtbahGl8tw",
        "outputId": "89535ecc-ed93-40d2-8688-baecc73ae453"
      },
      "source": [
        "arr4[0, ..., 0]  # spread 연산자"
      ],
      "execution_count": 34,
      "outputs": [
        {
          "output_type": "execute_result",
          "data": {
            "text/plain": [
              "array([[ 0,  2,  4],\n",
              "       [ 6,  8, 10],\n",
              "       [12, 14, 16]])"
            ]
          },
          "metadata": {
            "tags": []
          },
          "execution_count": 34
        }
      ]
    },
    {
      "cell_type": "markdown",
      "metadata": {
        "id": "BU3AjdLznhK8"
      },
      "source": [
        "## 차원 추가 (차원수 확장)\n",
        "* 흑백 이미지의 형상 (28, 28) 인데\n",
        "* 딥러닝에서 이미지를 다룰 때는 (N, H, W, C) 를 유지해야한다\n",
        "* 따라서 (28, 28) -> (1, 28, 28, 1) 로 만들어야 이미지 분석(CNN)을 할 수 있다\n",
        "* 원하는 차원 위치에 'np.newaxis' 를 추가하면 된다\n",
        "    * numpy : np.newaxis\n",
        "    * tensorflow : tf.newaxis"
      ]
    },
    {
      "cell_type": "code",
      "metadata": {
        "id": "G9Js9bBKo0_D"
      },
      "source": [
        ""
      ],
      "execution_count": null,
      "outputs": []
    },
    {
      "cell_type": "code",
      "metadata": {
        "id": "prJl1MJmmKGO"
      },
      "source": [
        "temp_arr = arr[np.newaxis, ..., np.newaxis]\n",
        "temp_arr.shape"
      ],
      "execution_count": null,
      "outputs": []
    },
    {
      "cell_type": "markdown",
      "metadata": {
        "id": "_tbMJquPosf1"
      },
      "source": [
        "## 차원 쥐어 짜기\n",
        "* np.squeeze\n",
        "* 개수가 1인 차원의 내용을 없애는 기법"
      ]
    },
    {
      "cell_type": "code",
      "metadata": {
        "id": "iG4swEWboy6k"
      },
      "source": [
        "temp_squeeze = np.squeeze(temp_arr)\n",
        "temp_squeeze.shape"
      ],
      "execution_count": null,
      "outputs": []
    },
    {
      "cell_type": "markdown",
      "metadata": {
        "id": "X8kaYY22pRcc"
      },
      "source": [
        "## 평탄화 ★★★★★\n",
        "* 2차원 이상의 배열을 1차원 배열로 평평하게 펴주는 것 \n",
        "    * ravel : 원본 배열을 평탄화 시킨 **참조** 배열을 만들어 냄 \n",
        "     (View 또는 Reference라고 함)\n",
        "    * flatten : 원본 배열을 평탄화 시킨 **복사된** 배열을 만들어 냄\n",
        "\n",
        "ravel은 원본과 주소값을 공유하기 때문에 원본 배열에 수정이 가해질 가능성 있고, flatten은 원본 배열에 영향 X"
      ]
    },
    {
      "cell_type": "code",
      "metadata": {
        "colab": {
          "base_uri": "https://localhost:8080/"
        },
        "id": "3ZGDZXq3pw2i",
        "outputId": "13f936a9-ad2b-4dd4-e112-37ea26ad7cea"
      },
      "source": [
        "x = np.random.randint(15, size=(3, 5))\n",
        "x"
      ],
      "execution_count": 36,
      "outputs": [
        {
          "output_type": "execute_result",
          "data": {
            "text/plain": [
              "array([[11, 13,  3,  6,  2],\n",
              "       [ 2,  7, 11,  5,  5],\n",
              "       [ 0, 13, 14,  5,  9]])"
            ]
          },
          "metadata": {
            "tags": []
          },
          "execution_count": 36
        }
      ]
    },
    {
      "cell_type": "code",
      "metadata": {
        "colab": {
          "base_uri": "https://localhost:8080/"
        },
        "id": "9-PHbz8Mp1AX",
        "outputId": "2021ec08-bb48-4994-c63f-b2525164f0f0"
      },
      "source": [
        "# ravel  (3, 5 구조인 x를 1차원 배열로 펴기)\n",
        "temp = np.ravel(x)\n",
        "temp.shape"
      ],
      "execution_count": 37,
      "outputs": [
        {
          "output_type": "execute_result",
          "data": {
            "text/plain": [
              "(15,)"
            ]
          },
          "metadata": {
            "tags": []
          },
          "execution_count": 37
        }
      ]
    },
    {
      "cell_type": "code",
      "metadata": {
        "colab": {
          "base_uri": "https://localhost:8080/"
        },
        "id": "AFk0d8f9p8ZY",
        "outputId": "7517a62f-ff30-4491-eb70-28d042bd81c8"
      },
      "source": [
        "temp"
      ],
      "execution_count": 38,
      "outputs": [
        {
          "output_type": "execute_result",
          "data": {
            "text/plain": [
              "array([11, 13,  3,  6,  2,  2,  7, 11,  5,  5,  0, 13, 14,  5,  9])"
            ]
          },
          "metadata": {
            "tags": []
          },
          "execution_count": 38
        }
      ]
    },
    {
      "cell_type": "code",
      "metadata": {
        "colab": {
          "base_uri": "https://localhost:8080/"
        },
        "id": "cYKA8TI8p-ZT",
        "outputId": "04daba38-7ead-470c-da2f-5cc77add9120"
      },
      "source": [
        "temp[0] = 100\n",
        "temp"
      ],
      "execution_count": 39,
      "outputs": [
        {
          "output_type": "execute_result",
          "data": {
            "text/plain": [
              "array([100,  13,   3,   6,   2,   2,   7,  11,   5,   5,   0,  13,  14,\n",
              "         5,   9])"
            ]
          },
          "metadata": {
            "tags": []
          },
          "execution_count": 39
        }
      ]
    },
    {
      "cell_type": "code",
      "metadata": {
        "colab": {
          "base_uri": "https://localhost:8080/"
        },
        "id": "JsFsceB7qH0n",
        "outputId": "d4e11246-85e1-49cf-e314-f7f5d0ffaf38"
      },
      "source": [
        "x  # temp만 바꿨는데 원본인 x 값도 변경됨"
      ],
      "execution_count": 40,
      "outputs": [
        {
          "output_type": "execute_result",
          "data": {
            "text/plain": [
              "array([[100,  13,   3,   6,   2],\n",
              "       [  2,   7,  11,   5,   5],\n",
              "       [  0,  13,  14,   5,   9]])"
            ]
          },
          "metadata": {
            "tags": []
          },
          "execution_count": 40
        }
      ]
    },
    {
      "cell_type": "code",
      "metadata": {
        "colab": {
          "base_uri": "https://localhost:8080/"
        },
        "id": "rmBRckWaqIQJ",
        "outputId": "95e29b0c-d073-4d1d-8319-69d3d3e97d6b"
      },
      "source": [
        "## flatten\n",
        "\n",
        "x = np.random.randint(15, size=(3, 5))\n",
        "x.shape"
      ],
      "execution_count": 41,
      "outputs": [
        {
          "output_type": "execute_result",
          "data": {
            "text/plain": [
              "(3, 5)"
            ]
          },
          "metadata": {
            "tags": []
          },
          "execution_count": 41
        }
      ]
    },
    {
      "cell_type": "code",
      "metadata": {
        "colab": {
          "base_uri": "https://localhost:8080/",
          "height": 318
        },
        "id": "4P7KRPQLrvZ2",
        "outputId": "3be1bbee-a2e7-4e9b-ff63-b4084a1f16b9"
      },
      "source": [
        "temp_flatten = np.flatten(x)\n",
        "temp"
      ],
      "execution_count": 42,
      "outputs": [
        {
          "output_type": "error",
          "ename": "AttributeError",
          "evalue": "ignored",
          "traceback": [
            "\u001b[0;31m---------------------------------------------------------------------------\u001b[0m",
            "\u001b[0;31mAttributeError\u001b[0m                            Traceback (most recent call last)",
            "\u001b[0;32m<ipython-input-42-ec58d4b714a5>\u001b[0m in \u001b[0;36m<module>\u001b[0;34m()\u001b[0m\n\u001b[0;32m----> 1\u001b[0;31m \u001b[0mtemp_flatten\u001b[0m \u001b[0;34m=\u001b[0m \u001b[0mnp\u001b[0m\u001b[0;34m.\u001b[0m\u001b[0mflatten\u001b[0m\u001b[0;34m(\u001b[0m\u001b[0mx\u001b[0m\u001b[0;34m)\u001b[0m\u001b[0;34m\u001b[0m\u001b[0;34m\u001b[0m\u001b[0m\n\u001b[0m\u001b[1;32m      2\u001b[0m \u001b[0mtemp\u001b[0m\u001b[0;34m\u001b[0m\u001b[0;34m\u001b[0m\u001b[0m\n",
            "\u001b[0;32m/usr/local/lib/python3.7/dist-packages/numpy/__init__.py\u001b[0m in \u001b[0;36m__getattr__\u001b[0;34m(attr)\u001b[0m\n\u001b[1;32m    213\u001b[0m             \u001b[0;32melse\u001b[0m\u001b[0;34m:\u001b[0m\u001b[0;34m\u001b[0m\u001b[0;34m\u001b[0m\u001b[0m\n\u001b[1;32m    214\u001b[0m                 raise AttributeError(\"module {!r} has no attribute \"\n\u001b[0;32m--> 215\u001b[0;31m                                      \"{!r}\".format(__name__, attr))\n\u001b[0m\u001b[1;32m    216\u001b[0m \u001b[0;34m\u001b[0m\u001b[0m\n\u001b[1;32m    217\u001b[0m         \u001b[0;32mdef\u001b[0m \u001b[0m__dir__\u001b[0m\u001b[0;34m(\u001b[0m\u001b[0;34m)\u001b[0m\u001b[0;34m:\u001b[0m\u001b[0;34m\u001b[0m\u001b[0;34m\u001b[0m\u001b[0m\n",
            "\u001b[0;31mAttributeError\u001b[0m: module 'numpy' has no attribute 'flatten'"
          ]
        }
      ]
    },
    {
      "cell_type": "code",
      "metadata": {
        "colab": {
          "base_uri": "https://localhost:8080/",
          "height": 190
        },
        "id": "j2Dps08Fr4ns",
        "outputId": "97f8f0d3-ccbd-4f9d-cd8a-c062cfa3986c"
      },
      "source": [
        "temp_flatten[0] = 100\n",
        "temp_flatten"
      ],
      "execution_count": 43,
      "outputs": [
        {
          "output_type": "error",
          "ename": "NameError",
          "evalue": "ignored",
          "traceback": [
            "\u001b[0;31m---------------------------------------------------------------------------\u001b[0m",
            "\u001b[0;31mNameError\u001b[0m                                 Traceback (most recent call last)",
            "\u001b[0;32m<ipython-input-43-b5d68aa5361c>\u001b[0m in \u001b[0;36m<module>\u001b[0;34m()\u001b[0m\n\u001b[0;32m----> 1\u001b[0;31m \u001b[0mtemp_flatten\u001b[0m\u001b[0;34m[\u001b[0m\u001b[0;36m0\u001b[0m\u001b[0;34m]\u001b[0m \u001b[0;34m=\u001b[0m \u001b[0;36m100\u001b[0m\u001b[0;34m\u001b[0m\u001b[0;34m\u001b[0m\u001b[0m\n\u001b[0m\u001b[1;32m      2\u001b[0m \u001b[0mtemp_flatten\u001b[0m\u001b[0;34m\u001b[0m\u001b[0;34m\u001b[0m\u001b[0m\n",
            "\u001b[0;31mNameError\u001b[0m: name 'temp_flatten' is not defined"
          ]
        }
      ]
    },
    {
      "cell_type": "code",
      "metadata": {
        "colab": {
          "base_uri": "https://localhost:8080/"
        },
        "id": "7qt9b6-ar8jc",
        "outputId": "e4b4c3aa-4c36-446e-eb0f-c61714a06897"
      },
      "source": [
        "x"
      ],
      "execution_count": 44,
      "outputs": [
        {
          "output_type": "execute_result",
          "data": {
            "text/plain": [
              "array([[ 9, 10,  6,  7, 12],\n",
              "       [ 6,  8, 10,  3,  7],\n",
              "       [ 5, 12,  5,  4, 10]])"
            ]
          },
          "metadata": {
            "tags": []
          },
          "execution_count": 44
        }
      ]
    },
    {
      "cell_type": "markdown",
      "metadata": {
        "id": "VhMW_SWwsV7R"
      },
      "source": [
        "## reshape (-1)\n",
        "* 스칼라 원소의 개수가 reshape 함수 내의 모은 숫자를 곱했을 때와 같아야 함\n",
        "* reshape에서의 -1은 조커 (정확한 수를 몰라도 어디든 넣을 수 있음)"
      ]
    },
    {
      "cell_type": "code",
      "metadata": {
        "colab": {
          "base_uri": "https://localhost:8080/"
        },
        "id": "LZG_o-_kr9Bb",
        "outputId": "713d50e3-db62-4516-9bd9-356756be5709"
      },
      "source": [
        "x = np.arange(20)\n",
        "x  "
      ],
      "execution_count": 45,
      "outputs": [
        {
          "output_type": "execute_result",
          "data": {
            "text/plain": [
              "array([ 0,  1,  2,  3,  4,  5,  6,  7,  8,  9, 10, 11, 12, 13, 14, 15, 16,\n",
              "       17, 18, 19])"
            ]
          },
          "metadata": {
            "tags": []
          },
          "execution_count": 45
        }
      ]
    },
    {
      "cell_type": "code",
      "metadata": {
        "colab": {
          "base_uri": "https://localhost:8080/"
        },
        "id": "RwWCzP-yBMd3",
        "outputId": "d2b8183d-60df-46a8-def8-b9b229d6081f"
      },
      "source": [
        "x.reshape(2, -1, 2)  # -1 에 자동으로 5 값이 대입됨"
      ],
      "execution_count": 46,
      "outputs": [
        {
          "output_type": "execute_result",
          "data": {
            "text/plain": [
              "array([[[ 0,  1],\n",
              "        [ 2,  3],\n",
              "        [ 4,  5],\n",
              "        [ 6,  7],\n",
              "        [ 8,  9]],\n",
              "\n",
              "       [[10, 11],\n",
              "        [12, 13],\n",
              "        [14, 15],\n",
              "        [16, 17],\n",
              "        [18, 19]]])"
            ]
          },
          "metadata": {
            "tags": []
          },
          "execution_count": 46
        }
      ]
    },
    {
      "cell_type": "code",
      "metadata": {
        "colab": {
          "base_uri": "https://localhost:8080/",
          "height": 172
        },
        "id": "EhOTl2QiCCJm",
        "outputId": "189987da-ab15-4760-889d-b33860e31035"
      },
      "source": [
        "x.reshape(2, -1, -1)   # -1 을 두 개 넣을 수는 없음"
      ],
      "execution_count": 48,
      "outputs": [
        {
          "output_type": "error",
          "ename": "ValueError",
          "evalue": "ignored",
          "traceback": [
            "\u001b[0;31m---------------------------------------------------------------------------\u001b[0m",
            "\u001b[0;31mValueError\u001b[0m                                Traceback (most recent call last)",
            "\u001b[0;32m<ipython-input-48-945264376c04>\u001b[0m in \u001b[0;36m<module>\u001b[0;34m()\u001b[0m\n\u001b[0;32m----> 1\u001b[0;31m \u001b[0mx\u001b[0m\u001b[0;34m.\u001b[0m\u001b[0mreshape\u001b[0m\u001b[0;34m(\u001b[0m\u001b[0;36m2\u001b[0m\u001b[0;34m,\u001b[0m \u001b[0;34m-\u001b[0m\u001b[0;36m1\u001b[0m\u001b[0;34m,\u001b[0m \u001b[0;34m-\u001b[0m\u001b[0;36m1\u001b[0m\u001b[0;34m)\u001b[0m   \u001b[0;31m# -1 을 두 개 넣을 수는 없음\u001b[0m\u001b[0;34m\u001b[0m\u001b[0;34m\u001b[0m\u001b[0m\n\u001b[0m",
            "\u001b[0;31mValueError\u001b[0m: can only specify one unknown dimension"
          ]
        }
      ]
    },
    {
      "cell_type": "code",
      "metadata": {
        "colab": {
          "base_uri": "https://localhost:8080/"
        },
        "id": "Uah4OicLCD9C",
        "outputId": "7cfde36a-966d-4f66-baf3-1630ce95c030"
      },
      "source": [
        "arr = np.random.randn(60000, 28, 28, 3)\n",
        "arr.shape "
      ],
      "execution_count": 51,
      "outputs": [
        {
          "output_type": "execute_result",
          "data": {
            "text/plain": [
              "(60000, 28, 28, 3)"
            ]
          },
          "metadata": {
            "tags": []
          },
          "execution_count": 51
        }
      ]
    },
    {
      "cell_type": "code",
      "metadata": {
        "colab": {
          "base_uri": "https://localhost:8080/"
        },
        "id": "RstKf_n1CeEg",
        "outputId": "8e539239-caae-4ceb-e860-54dc78f6632c"
      },
      "source": [
        "arr1 = arr.reshape(60000, -1, 3)\n",
        "arr1.shape  # 원하는 값만 -1 넣을 수도 있음"
      ],
      "execution_count": 52,
      "outputs": [
        {
          "output_type": "execute_result",
          "data": {
            "text/plain": [
              "(60000, 784, 3)"
            ]
          },
          "metadata": {
            "tags": []
          },
          "execution_count": 52
        }
      ]
    },
    {
      "cell_type": "code",
      "metadata": {
        "colab": {
          "base_uri": "https://localhost:8080/"
        },
        "id": "xQ7hJbDoClOu",
        "outputId": "1890a907-1c08-4e3e-ee1f-0f5b13fc6f2f"
      },
      "source": [
        "# 코드 리펙터링 (고급화)\n",
        "IMAGE_SIZE = arr.shape[0]\n",
        "IMAGE_CH   = arr.shape[-1]\n",
        "\n",
        "arr.reshape(IMAGE_SIZE, -1, IMAGE_CH).shape"
      ],
      "execution_count": 54,
      "outputs": [
        {
          "output_type": "execute_result",
          "data": {
            "text/plain": [
              "(60000, 784, 3)"
            ]
          },
          "metadata": {
            "tags": []
          },
          "execution_count": 54
        }
      ]
    },
    {
      "cell_type": "markdown",
      "metadata": {
        "id": "N48T8_3GEUJV"
      },
      "source": [
        "## 브로드 캐스팅\n",
        "* 차원수가 다른 배열끼리 연산 됨\n",
        "* 차원이 달라도 0차원 스칼라의 개수가 같으면 연산이 가능\n",
        "* 저차원 배열을 고차원 배열로 확장\n",
        "    * 수학적으로 따지게 되면 고차원 배열의 shape와 똑같이 생긴 1벡터(np.ones)를 만들어 저차원 배열과 곱한 배열을 만들어서 계산"
      ]
    },
    {
      "cell_type": "code",
      "metadata": {
        "colab": {
          "base_uri": "https://localhost:8080/"
        },
        "id": "qQVCOGmtEIu4",
        "outputId": "3cb0c345-d822-4798-f89c-694a58c06aec"
      },
      "source": [
        "x = np.arange(20).reshape(4, 5)\n",
        "y = np.arange(20, 40).reshape(4, 5)\n",
        "x + y"
      ],
      "execution_count": 55,
      "outputs": [
        {
          "output_type": "execute_result",
          "data": {
            "text/plain": [
              "array([[20, 22, 24, 26, 28],\n",
              "       [30, 32, 34, 36, 38],\n",
              "       [40, 42, 44, 46, 48],\n",
              "       [50, 52, 54, 56, 58]])"
            ]
          },
          "metadata": {
            "tags": []
          },
          "execution_count": 55
        }
      ]
    },
    {
      "cell_type": "markdown",
      "metadata": {
        "id": "JjYe1-H9FGjK"
      },
      "source": [
        "브로드 캐스팅은 저차원을 고차원으로 임시로 늘려줌"
      ]
    },
    {
      "cell_type": "code",
      "metadata": {
        "colab": {
          "base_uri": "https://localhost:8080/"
        },
        "id": "YiE350zdFBuq",
        "outputId": "07401173-aa8f-440d-cea6-f3744f1c2e8a"
      },
      "source": [
        "x + 2"
      ],
      "execution_count": 56,
      "outputs": [
        {
          "output_type": "execute_result",
          "data": {
            "text/plain": [
              "array([[ 2,  3,  4,  5,  6],\n",
              "       [ 7,  8,  9, 10, 11],\n",
              "       [12, 13, 14, 15, 16],\n",
              "       [17, 18, 19, 20, 21]])"
            ]
          },
          "metadata": {
            "tags": []
          },
          "execution_count": 56
        }
      ]
    },
    {
      "cell_type": "markdown",
      "metadata": {
        "id": "piVSwK9aGC5-"
      },
      "source": [
        "shape이 다를 때의 연산"
      ]
    },
    {
      "cell_type": "code",
      "metadata": {
        "id": "JfPGaFpAFLoz"
      },
      "source": [
        "a = np.arange(12).reshape(4, 3)     # (4, 3)\n",
        "b = np.arange(100, 103)             # ( , 3)\n",
        "c = np.arange(1000, 1004)           # ( , 4)\n",
        "d = b.reshape(1, 3)                 # (1, 3)\n",
        "e = np.arange(0, 4).reshape(4, 1)   # (4, 1)"
      ],
      "execution_count": 57,
      "outputs": []
    },
    {
      "cell_type": "code",
      "metadata": {
        "colab": {
          "base_uri": "https://localhost:8080/"
        },
        "id": "o0EtdaXwG31i",
        "outputId": "2224d3f4-1d20-4690-912a-5abf6b7ef414"
      },
      "source": [
        "a + b"
      ],
      "execution_count": 58,
      "outputs": [
        {
          "output_type": "execute_result",
          "data": {
            "text/plain": [
              "array([[100, 102, 104],\n",
              "       [103, 105, 107],\n",
              "       [106, 108, 110],\n",
              "       [109, 111, 113]])"
            ]
          },
          "metadata": {
            "tags": []
          },
          "execution_count": 58
        }
      ]
    },
    {
      "cell_type": "markdown",
      "metadata": {
        "id": "gOwLxt3iITcD"
      },
      "source": [
        "## 전치행렬\n",
        "* 행렬 $A$의 행과 열의 인덱스를 바꾼 것\n",
        "* A(i,j)의 인덱스 위치를 A(j,i)로 바꿈 **(따라서 1차원 배열은 안 됨)**\n",
        "* = Transpose"
      ]
    },
    {
      "cell_type": "code",
      "metadata": {
        "colab": {
          "base_uri": "https://localhost:8080/"
        },
        "id": "I3R3tTnKG4aZ",
        "outputId": "bc9cb957-3037-4731-a861-9f1d78a10c1e"
      },
      "source": [
        "A = np.arange(6).reshape(2, 3)\n",
        "A"
      ],
      "execution_count": 59,
      "outputs": [
        {
          "output_type": "execute_result",
          "data": {
            "text/plain": [
              "array([[0, 1, 2],\n",
              "       [3, 4, 5]])"
            ]
          },
          "metadata": {
            "tags": []
          },
          "execution_count": 59
        }
      ]
    },
    {
      "cell_type": "code",
      "metadata": {
        "colab": {
          "base_uri": "https://localhost:8080/"
        },
        "id": "-5bPQ2ZeItEx",
        "outputId": "3a6446e3-6f84-4006-976b-b603a4c15e6d"
      },
      "source": [
        "# ndarray에서 .T만 사용하면 전치행렬이 만들어짐\n",
        "A.T"
      ],
      "execution_count": 60,
      "outputs": [
        {
          "output_type": "execute_result",
          "data": {
            "text/plain": [
              "array([[0, 3],\n",
              "       [1, 4],\n",
              "       [2, 5]])"
            ]
          },
          "metadata": {
            "tags": []
          },
          "execution_count": 60
        }
      ]
    }
  ]
}