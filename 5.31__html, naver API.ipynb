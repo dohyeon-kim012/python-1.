{
  "nbformat": 4,
  "nbformat_minor": 0,
  "metadata": {
    "colab": {
      "name": "5/31 _html, naver API.ipynb",
      "provenance": [],
      "collapsed_sections": [],
      "authorship_tag": "ABX9TyO4P+EhpkHwY8FjBCJYH+Hn",
      "include_colab_link": true
    },
    "kernelspec": {
      "name": "python3",
      "display_name": "Python 3"
    },
    "language_info": {
      "name": "python"
    }
  },
  "cells": [
    {
      "cell_type": "markdown",
      "metadata": {
        "id": "view-in-github",
        "colab_type": "text"
      },
      "source": [
        "<a href=\"https://colab.research.google.com/github/dohyeon-kim012/python-1./blob/main/5.31__html%2C%20naver%20API.ipynb\" target=\"_parent\"><img src=\"https://colab.research.google.com/assets/colab-badge.svg\" alt=\"Open In Colab\"/></a>"
      ]
    },
    {
      "cell_type": "markdown",
      "metadata": {
        "id": "bBesWxw2365w"
      },
      "source": [
        "### 교재 296p~"
      ]
    },
    {
      "cell_type": "code",
      "metadata": {
        "colab": {
          "base_uri": "https://localhost:8080/"
        },
        "id": "CWTEd7P60DkV",
        "outputId": "f63d0699-39ad-4ec5-b3bb-eb6cde38c48c"
      },
      "source": [
        "s = 'seoul seoul korea seoul'\n",
        "s.count('s')"
      ],
      "execution_count": 1,
      "outputs": [
        {
          "output_type": "execute_result",
          "data": {
            "text/plain": [
              "3"
            ]
          },
          "metadata": {
            "tags": []
          },
          "execution_count": 1
        }
      ]
    },
    {
      "cell_type": "code",
      "metadata": {
        "colab": {
          "base_uri": "https://localhost:8080/"
        },
        "id": "UHugB4pX0S_V",
        "outputId": "6f254d97-7f84-4747-8845-facdcd9b3362"
      },
      "source": [
        "s.find('seo')    # 0번째에 있음"
      ],
      "execution_count": 2,
      "outputs": [
        {
          "output_type": "execute_result",
          "data": {
            "text/plain": [
              "0"
            ]
          },
          "metadata": {
            "tags": []
          },
          "execution_count": 2
        }
      ]
    },
    {
      "cell_type": "code",
      "metadata": {
        "colab": {
          "base_uri": "https://localhost:8080/",
          "height": 36
        },
        "id": "HDroy36W0Y9g",
        "outputId": "7b462ef6-3e0b-4427-a533-7035bcbf2958"
      },
      "source": [
        "s.replace('seoul', 'busan')"
      ],
      "execution_count": 3,
      "outputs": [
        {
          "output_type": "execute_result",
          "data": {
            "application/vnd.google.colaboratory.intrinsic+json": {
              "type": "string"
            },
            "text/plain": [
              "'busan busan korea busan'"
            ]
          },
          "metadata": {
            "tags": []
          },
          "execution_count": 3
        }
      ]
    },
    {
      "cell_type": "code",
      "metadata": {
        "colab": {
          "base_uri": "https://localhost:8080/"
        },
        "id": "ZkgzOk-Z0jkv",
        "outputId": "6da634cf-62ba-4215-e169-9e2795b0efbe"
      },
      "source": [
        "s.index('o') "
      ],
      "execution_count": 4,
      "outputs": [
        {
          "output_type": "execute_result",
          "data": {
            "text/plain": [
              "2"
            ]
          },
          "metadata": {
            "tags": []
          },
          "execution_count": 4
        }
      ]
    },
    {
      "cell_type": "code",
      "metadata": {
        "colab": {
          "base_uri": "https://localhost:8080/"
        },
        "id": "w_qqEp380sTm",
        "outputId": "b07bea7d-8f07-41a3-afc8-de896bd53b6b"
      },
      "source": [
        "s.find('T')   # 찾을 수 없으면 결과값 -1"
      ],
      "execution_count": 12,
      "outputs": [
        {
          "output_type": "execute_result",
          "data": {
            "text/plain": [
              "-1"
            ]
          },
          "metadata": {
            "tags": []
          },
          "execution_count": 12
        }
      ]
    },
    {
      "cell_type": "code",
      "metadata": {
        "colab": {
          "base_uri": "https://localhost:8080/"
        },
        "id": "XZmP-Q2w02wD",
        "outputId": "b47010d4-9744-4292-907f-bb0e2a7d6201"
      },
      "source": [
        "s.split(' ')    #공백을 기준으로 나누기->출력된 형태가 리스트임"
      ],
      "execution_count": 7,
      "outputs": [
        {
          "output_type": "execute_result",
          "data": {
            "text/plain": [
              "['seoul', 'seoul', 'korea', 'seoul']"
            ]
          },
          "metadata": {
            "tags": []
          },
          "execution_count": 7
        }
      ]
    },
    {
      "cell_type": "code",
      "metadata": {
        "colab": {
          "base_uri": "https://localhost:8080/",
          "height": 36
        },
        "id": "9G-CBU8405JZ",
        "outputId": "c1cee991-542b-4cf8-b2c3-5ce6c6b4a15c"
      },
      "source": [
        "'korea'.upper()"
      ],
      "execution_count": 8,
      "outputs": [
        {
          "output_type": "execute_result",
          "data": {
            "application/vnd.google.colaboratory.intrinsic+json": {
              "type": "string"
            },
            "text/plain": [
              "'KOREA'"
            ]
          },
          "metadata": {
            "tags": []
          },
          "execution_count": 8
        }
      ]
    },
    {
      "cell_type": "code",
      "metadata": {
        "colab": {
          "base_uri": "https://localhost:8080/",
          "height": 36
        },
        "id": "dtFYFV7V1E8i",
        "outputId": "8e7bb207-e619-4dd3-c45c-326d655345be"
      },
      "source": [
        "'SEOUL'.lower()"
      ],
      "execution_count": 9,
      "outputs": [
        {
          "output_type": "execute_result",
          "data": {
            "application/vnd.google.colaboratory.intrinsic+json": {
              "type": "string"
            },
            "text/plain": [
              "'seoul'"
            ]
          },
          "metadata": {
            "tags": []
          },
          "execution_count": 9
        }
      ]
    },
    {
      "cell_type": "code",
      "metadata": {
        "colab": {
          "base_uri": "https://localhost:8080/"
        },
        "id": "y-7NzeFe1IRs",
        "outputId": "e6126363-b84c-444d-e7b9-eaa1420fd151"
      },
      "source": [
        "s.rfind('u')  # 오른쪽부터 찾기(거꾸로)"
      ],
      "execution_count": 10,
      "outputs": [
        {
          "output_type": "execute_result",
          "data": {
            "text/plain": [
              "21"
            ]
          },
          "metadata": {
            "tags": []
          },
          "execution_count": 10
        }
      ]
    },
    {
      "cell_type": "code",
      "metadata": {
        "colab": {
          "base_uri": "https://localhost:8080/"
        },
        "id": "Jj6go5gL1SXm",
        "outputId": "446a5638-c1e0-48c3-e411-58e9e5459eb4"
      },
      "source": [
        "s.split('e')"
      ],
      "execution_count": 13,
      "outputs": [
        {
          "output_type": "execute_result",
          "data": {
            "text/plain": [
              "['s', 'oul s', 'oul kor', 'a s', 'oul']"
            ]
          },
          "metadata": {
            "tags": []
          },
          "execution_count": 13
        }
      ]
    },
    {
      "cell_type": "code",
      "metadata": {
        "colab": {
          "base_uri": "https://localhost:8080/"
        },
        "id": "lFYbeY-E1vis",
        "outputId": "38f882b3-3b41-48f6-ee60-13f7720c27f3"
      },
      "source": [
        "'   TTT   '.strip() , '   TTT   '.rstrip() , '   TTT   '.lstrip()    # strip: 공백 제거 (r-right, l-left)"
      ],
      "execution_count": 14,
      "outputs": [
        {
          "output_type": "execute_result",
          "data": {
            "text/plain": [
              "('TTT', '   TTT', 'TTT   ')"
            ]
          },
          "metadata": {
            "tags": []
          },
          "execution_count": 14
        }
      ]
    },
    {
      "cell_type": "code",
      "metadata": {
        "colab": {
          "base_uri": "https://localhost:8080/",
          "height": 36
        },
        "id": "hPai7QyF2A7T",
        "outputId": "57af3547-0538-4684-ee8d-4bf9c1fe345f"
      },
      "source": [
        "s.ljust(30, '#')    # 전체 공간을 30으로 만들고 남은 공백은 '#'(문자) 으로 채우는 함수"
      ],
      "execution_count": 15,
      "outputs": [
        {
          "output_type": "execute_result",
          "data": {
            "application/vnd.google.colaboratory.intrinsic+json": {
              "type": "string"
            },
            "text/plain": [
              "'seoul seoul korea seoul#######'"
            ]
          },
          "metadata": {
            "tags": []
          },
          "execution_count": 15
        }
      ]
    },
    {
      "cell_type": "code",
      "metadata": {
        "colab": {
          "base_uri": "https://localhost:8080/"
        },
        "id": "gUpBGLvt2P5u",
        "outputId": "2b428aa3-c06e-472f-b633-f6b632c11a0e"
      },
      "source": [
        "import re\n",
        "\n",
        "text = \"foo bar\\t baz \\tqux\"\n",
        "re.split('\\s+', text)    #-> 먼저 정규 표현식이 컴파일되고 그 다음 split 메서드 실행됨"
      ],
      "execution_count": 16,
      "outputs": [
        {
          "output_type": "execute_result",
          "data": {
            "text/plain": [
              "['foo', 'bar', 'baz', 'qux']"
            ]
          },
          "metadata": {
            "tags": []
          },
          "execution_count": 16
        }
      ]
    },
    {
      "cell_type": "code",
      "metadata": {
        "colab": {
          "base_uri": "https://localhost:8080/",
          "height": 36
        },
        "id": "pkKLtDxL3KIE",
        "outputId": "5553266e-2ffc-45fa-c4a4-b1e2860b1d14"
      },
      "source": [
        "'::'.join(s)  # 리스트나 튜플을 :: 문자열의 join 메서드로 전달 -> 분리된 문자열을 :: 문자열과 합치기"
      ],
      "execution_count": 18,
      "outputs": [
        {
          "output_type": "execute_result",
          "data": {
            "application/vnd.google.colaboratory.intrinsic+json": {
              "type": "string"
            },
            "text/plain": [
              "'s::e::o::u::l:: ::s::e::o::u::l:: ::k::o::r::e::a:: ::s::e::o::u::l'"
            ]
          },
          "metadata": {
            "tags": []
          },
          "execution_count": 18
        }
      ]
    },
    {
      "cell_type": "code",
      "metadata": {
        "colab": {
          "base_uri": "https://localhost:8080/"
        },
        "id": "p9EZR33X3dpg",
        "outputId": "4f54c233-399a-46b8-c101-438b2fb12a5b"
      },
      "source": [
        "jumin_number = '''\n",
        "choi 901230-2011435\n",
        "yang 980127-1132654\n",
        "park 201123-1698745\n",
        "'''\n",
        "p = re.compile('(\\d{6})[-]\\d{7}')   # 앞부분은 () 들어가야 하고, 뒷부분은 있어도 되고 없어도 됨\n",
        "print(p.sub('\\g<1>-*******', jumin_number))    \n",
        "# ★★정규표현식★★ (https://wikidocs.net/4308)"
      ],
      "execution_count": 19,
      "outputs": [
        {
          "output_type": "stream",
          "text": [
            "\n",
            "choi 901230-*******\n",
            "yang 980127-*******\n",
            "park 201123-*******\n",
            "\n"
          ],
          "name": "stdout"
        }
      ]
    },
    {
      "cell_type": "code",
      "metadata": {
        "colab": {
          "base_uri": "https://localhost:8080/"
        },
        "id": "als2SOCo4oSY",
        "outputId": "3931dd04-62ce-450e-ff5e-058b1107b91b"
      },
      "source": [
        "for i in range(3):\n",
        "    my_str = input(' Enter String(영문자+숫자만 입력) : ')\n",
        "    p = re.compile('\\w+')    # \\w+ : 문자+숫자와 매치 / p=re.compile('[a-zA-Z0-9]+')와 동일한 표현식\n",
        "    m = p.match(my_str)\n",
        "    if m:\n",
        "        print('매칭 됨 : ', m.group())\n",
        "    else:\n",
        "        print('매칭 안 됨', my_str)"
      ],
      "execution_count": 21,
      "outputs": [
        {
          "output_type": "stream",
          "text": [
            " Enter String(영문자+숫자만 입력) : 12345+98\n",
            "매칭 됨 :  12345\n",
            " Enter String(영문자+숫자만 입력) : kim/\n",
            "매칭 됨 :  kim\n",
            " Enter String(영문자+숫자만 입력) : Kimdo\n",
            "매칭 됨 :  Kimdo\n"
          ],
          "name": "stdout"
        }
      ]
    },
    {
      "cell_type": "code",
      "metadata": {
        "colab": {
          "base_uri": "https://localhost:8080/"
        },
        "id": "ta2fqpW7-Gjq",
        "outputId": "d6310022-2375-48b7-d0b1-bc5963509b3e"
      },
      "source": [
        "p = re.compile('AAA|BBB|CCC')\n",
        "m = p.match('BBB-good')    # = re.match('AAA|BBB|CCC', 'BBB-good')\n",
        "m    # 매치가 되었을 때만 결과값 나옴"
      ],
      "execution_count": 22,
      "outputs": [
        {
          "output_type": "execute_result",
          "data": {
            "text/plain": [
              "<re.Match object; span=(0, 3), match='BBB'>"
            ]
          },
          "metadata": {
            "tags": []
          },
          "execution_count": 22
        }
      ]
    },
    {
      "cell_type": "code",
      "metadata": {
        "id": "flxDp1uYAnn5"
      },
      "source": [
        "%hist"
      ],
      "execution_count": null,
      "outputs": []
    },
    {
      "cell_type": "code",
      "metadata": {
        "colab": {
          "base_uri": "https://localhost:8080/"
        },
        "id": "WvHoTsSgF9VG",
        "outputId": "40385ffe-a124-4438-c379-2ae8464c288e"
      },
      "source": [
        "%%writefile my.py    # 코딩을 파일로 저장하기\n",
        "print('파이썬 코딩')\n",
        "for i in range(5):\n",
        "    print('Python Good')"
      ],
      "execution_count": 24,
      "outputs": [
        {
          "output_type": "stream",
          "text": [
            "Writing my.py\n"
          ],
          "name": "stdout"
        }
      ]
    },
    {
      "cell_type": "code",
      "metadata": {
        "colab": {
          "base_uri": "https://localhost:8080/"
        },
        "id": "R2-BsO2KGVRN",
        "outputId": "cfd059f5-67f1-4271-9332-097bd7acb911"
      },
      "source": [
        "!ls"
      ],
      "execution_count": 25,
      "outputs": [
        {
          "output_type": "stream",
          "text": [
            "my.py  sample_data\n"
          ],
          "name": "stdout"
        }
      ]
    },
    {
      "cell_type": "code",
      "metadata": {
        "colab": {
          "base_uri": "https://localhost:8080/"
        },
        "id": "xeJD_EhdGb1a",
        "outputId": "dd592ca7-1de3-4bf8-a32f-6d9a23c96ea2"
      },
      "source": [
        "%run my.py    # 저장한 코딩파일 실행하기"
      ],
      "execution_count": 26,
      "outputs": [
        {
          "output_type": "stream",
          "text": [
            "파이썬 코딩\n",
            "Python Good\n",
            "Python Good\n",
            "Python Good\n",
            "Python Good\n",
            "Python Good\n"
          ],
          "name": "stdout"
        }
      ]
    },
    {
      "cell_type": "code",
      "metadata": {
        "colab": {
          "base_uri": "https://localhost:8080/",
          "height": 84
        },
        "id": "lGaGXiDyGi09",
        "outputId": "5f1e49ed-315f-41d7-c539-6c576e284cda"
      },
      "source": [
        "%%html\n",
        "<marquee style='width:100%; color:red; '><b>파이썬은 최고야!!</b>\n",
        "<body bgcolor=blue; text=white; '<hr><br><h2> 김도도"
      ],
      "execution_count": 49,
      "outputs": [
        {
          "output_type": "display_data",
          "data": {
            "text/html": [
              "<marquee style='width:100%; color:red; '><b>파이썬은 최고야!!</b>\n",
              "<body bgcolor=blue; text=white; '<hr><br><h2> 김도도"
            ],
            "text/plain": [
              "<IPython.core.display.HTML object>"
            ]
          },
          "metadata": {
            "tags": []
          }
        }
      ]
    },
    {
      "cell_type": "code",
      "metadata": {
        "colab": {
          "base_uri": "https://localhost:8080/"
        },
        "id": "GJDR26OMHHS1",
        "outputId": "f50e7415-81b9-4422-8495-c0c8ed4f2ba3"
      },
      "source": [
        "import numpy as np\n",
        "from numpy import nan as NA\n",
        "import pandas as pd\n",
        "d = pd.Series([1, NA, 6.3, NA, 9])\n",
        "d"
      ],
      "execution_count": 37,
      "outputs": [
        {
          "output_type": "execute_result",
          "data": {
            "text/plain": [
              "0    1.0\n",
              "1    NaN\n",
              "2    6.3\n",
              "3    NaN\n",
              "4    9.0\n",
              "dtype: float64"
            ]
          },
          "metadata": {
            "tags": []
          },
          "execution_count": 37
        }
      ]
    },
    {
      "cell_type": "code",
      "metadata": {
        "colab": {
          "base_uri": "https://localhost:8080/"
        },
        "id": "2Fo3og3hjEZm",
        "outputId": "4cdfacca-1d4e-4abb-b029-55b290208274"
      },
      "source": [
        "d[d.isnull()]"
      ],
      "execution_count": 38,
      "outputs": [
        {
          "output_type": "execute_result",
          "data": {
            "text/plain": [
              "1   NaN\n",
              "3   NaN\n",
              "dtype: float64"
            ]
          },
          "metadata": {
            "tags": []
          },
          "execution_count": 38
        }
      ]
    },
    {
      "cell_type": "code",
      "metadata": {
        "colab": {
          "base_uri": "https://localhost:8080/"
        },
        "id": "zoI6-bbsjS3B",
        "outputId": "4e4b9fec-5c94-41b6-a920-66df0cee58f2"
      },
      "source": [
        "d[d.notnull()]"
      ],
      "execution_count": 39,
      "outputs": [
        {
          "output_type": "execute_result",
          "data": {
            "text/plain": [
              "0    1.0\n",
              "2    6.3\n",
              "4    9.0\n",
              "dtype: float64"
            ]
          },
          "metadata": {
            "tags": []
          },
          "execution_count": 39
        }
      ]
    },
    {
      "cell_type": "code",
      "metadata": {
        "colab": {
          "base_uri": "https://localhost:8080/"
        },
        "id": "AxZbthcljXZC",
        "outputId": "777678ad-0889-4a24-e7cc-f93abbe7c476"
      },
      "source": [
        "d.fillna(55)  # 비워져있는 na 값을 채우기"
      ],
      "execution_count": 40,
      "outputs": [
        {
          "output_type": "execute_result",
          "data": {
            "text/plain": [
              "0     1.0\n",
              "1    55.0\n",
              "2     6.3\n",
              "3    55.0\n",
              "4     9.0\n",
              "dtype: float64"
            ]
          },
          "metadata": {
            "tags": []
          },
          "execution_count": 40
        }
      ]
    },
    {
      "cell_type": "code",
      "metadata": {
        "colab": {
          "base_uri": "https://localhost:8080/"
        },
        "id": "4iD8cFo_jiOF",
        "outputId": "0da001ee-e6ac-4d0b-953e-68237e3c7448"
      },
      "source": [
        "b = np.arange(1000, 13000, 1000).reshape(4, 3)\n",
        "b"
      ],
      "execution_count": 42,
      "outputs": [
        {
          "output_type": "execute_result",
          "data": {
            "text/plain": [
              "array([[ 1000,  2000,  3000],\n",
              "       [ 4000,  5000,  6000],\n",
              "       [ 7000,  8000,  9000],\n",
              "       [10000, 11000, 12000]])"
            ]
          },
          "metadata": {
            "tags": []
          },
          "execution_count": 42
        }
      ]
    },
    {
      "cell_type": "code",
      "metadata": {
        "colab": {
          "base_uri": "https://localhost:8080/"
        },
        "id": "mMMdaoiej4sS",
        "outputId": "72ed3dd0-2178-45c8-86ec-b0f75221cd0d"
      },
      "source": [
        "b[2:,0]"
      ],
      "execution_count": 43,
      "outputs": [
        {
          "output_type": "execute_result",
          "data": {
            "text/plain": [
              "array([ 7000, 10000])"
            ]
          },
          "metadata": {
            "tags": []
          },
          "execution_count": 43
        }
      ]
    },
    {
      "cell_type": "markdown",
      "metadata": {
        "id": "aHgk4FUqEF34"
      },
      "source": [
        "### HTML "
      ]
    },
    {
      "cell_type": "code",
      "metadata": {
        "colab": {
          "base_uri": "https://localhost:8080/",
          "height": 284
        },
        "id": "_mv4W-ZNkJL8",
        "outputId": "56171727-c6c5-4a1d-d4ab-e0420479fa45"
      },
      "source": [
        "%%html\n",
        "\n",
        "<!DOCTYPE html>\n",
        "\n",
        "<html>\n",
        "\n",
        "<head>\n",
        "    <meta charset=\"utf-8\"> \n",
        " \t<title>나의 타이틀</title>\n",
        "</head>\n",
        "\n",
        "<body bgcolor=green  text=white>\n",
        "\n",
        "  <h1>짱구네 집</h1>  \n",
        "  <p>단락. paragraph</p>\n",
        "\n",
        "  <div>\n",
        "  \t<a href='http://func.kr'>우리카페</a>\n",
        "  </div>\n",
        "\n",
        "  <div>\n",
        "    <a href='http://www.naver.com'>네이버</a>\n",
        "  </div>\n",
        "\n",
        " <div>\n",
        "    <a href='http://w3schools.com'>공부하러가자</a>\n",
        "</div>\n",
        "\n",
        "<table style='width:50%' border=1 align=center>\n",
        "  <tr align=center>\n",
        "    <th>이름</th>\n",
        "    <th>소속</th> \n",
        "    <th>연봉</th>\n",
        "  </tr>\n",
        "  \n",
        "  <tr align=center>\n",
        "    <td>류현진</td>\n",
        "    <td>토론토</td>\n",
        "    <td>1500</td>\n",
        "  </tr>\n",
        "  \n",
        "  <tr align=center>\n",
        "    <td>김하성</td>\n",
        "    <td>센디에이고</td>\n",
        "    <td>700</td>\n",
        "  </tr>\n",
        "  \n",
        "  <tr align=center>\n",
        "    <td>양현종</td>\n",
        "    <td>텍사스</td>\n",
        "    <td>800</td>\n",
        "  </tr>\n",
        "  \n",
        "</table>\n",
        "    \n",
        "  \n",
        "  <div id='id1'>\n",
        "  \t   여기는 서울 \n",
        "       <p> 단락 </p>\n",
        "  </div>\n",
        "  \n",
        "</body>\n",
        "\n",
        "</html>\n"
      ],
      "execution_count": 50,
      "outputs": [
        {
          "output_type": "display_data",
          "data": {
            "text/html": [
              "\n",
              "<!DOCTYPE html>\n",
              "\n",
              "<html>\n",
              "\n",
              "<head>\n",
              "    <meta charset=\"utf-8\"> \n",
              " \t<title>나의 타이틀</title>\n",
              "</head>\n",
              "\n",
              "<body bgcolor=green  text=white>\n",
              "\n",
              "  <h1>짱구네 집</h1>\n",
              "  <p>단락. paragraph</p>\n",
              "\n",
              "  <div>\n",
              "  \t<a href='http://func.kr'>우리카페</a>\n",
              "  </div>\n",
              "\n",
              "  <div>\n",
              "    <a href='http://www.naver.com'>네이버</a>\n",
              "  </div>\n",
              "\n",
              " <div>\n",
              "    <a href='http://w3schools.com'>공부하러가자</a>\n",
              "</div>\n",
              "\n",
              "<table style='width:50%' border=1 align=center>\n",
              "  <tr align=center>\n",
              "    <th>이름</th>\n",
              "    <th>소속</th> \n",
              "    <th>연봉</th>\n",
              "  </tr>\n",
              "  \n",
              "  <tr align=center>\n",
              "    <td>류현진</td>\n",
              "    <td>토론토</td>\n",
              "    <td>1500</td>\n",
              "  </tr>\n",
              "  \n",
              "  <tr align=center>\n",
              "    <td>김하성</td>\n",
              "    <td>센디에이고</td>\n",
              "    <td>700</td>\n",
              "  </tr>\n",
              "  \n",
              "  <tr align=center>\n",
              "    <td>양현종</td>\n",
              "    <td>텍사스</td>\n",
              "    <td>800</td>\n",
              "  </tr>\n",
              "  \n",
              "</table>\n",
              "    \n",
              "  \n",
              "  <div id='id1'>\n",
              "  \t   여기는 서울 \n",
              "       <p> 단락 </p>\n",
              "  </div>\n",
              "  \n",
              "</body>\n",
              "\n",
              "</html>"
            ],
            "text/plain": [
              "<IPython.core.display.HTML object>"
            ]
          },
          "metadata": {
            "tags": []
          }
        }
      ]
    },
    {
      "cell_type": "code",
      "metadata": {
        "colab": {
          "base_uri": "https://localhost:8080/"
        },
        "id": "jvIK6EqyA-Ty",
        "outputId": "c9480b9f-0194-42fc-a4f3-70c1d9445228"
      },
      "source": [
        "%%writefile my.html\n",
        "\n",
        "<!DOCTYPE html>\n",
        "\n",
        "<html>\n",
        "\n",
        "<head>\n",
        "    <meta charset=\"utf-8\"> \n",
        " \t<title>나의 타이틀</title>\n",
        "</head>\n",
        "\n",
        "<body bgcolor=green  text=white>\n",
        "\n",
        "  <h1>짱구네 집</h1>\n",
        "  <p>단락. paragraph</p>\n",
        "\n",
        "  <div>\n",
        "  \t<a href='http://func.kr'>우리카페</a>\n",
        "  </div>\n",
        "\n",
        "  <div>\n",
        "    <a href='http://www.naver.com'>네이버</a>\n",
        "  </div>\n",
        "\n",
        " <div>\n",
        "    <a href='http://w3schools.com'>공부하러가자</a>\n",
        "</div>\n",
        "\n",
        "<table style='width:50%' border=1 align=center>\n",
        "  <tr align=center>\n",
        "    <th>이름</th>\n",
        "    <th>소속</th> \n",
        "    <th>연봉</th>\n",
        "  </tr>\n",
        "  \n",
        "  <tr align=center>\n",
        "    <td>류현진</td>\n",
        "    <td>토론토</td>\n",
        "    <td>1500</td>\n",
        "  </tr>\n",
        "  \n",
        "  <tr align=center>\n",
        "    <td>김하성</td>\n",
        "    <td>센디에이고</td>\n",
        "    <td>700</td>\n",
        "  </tr>\n",
        "  \n",
        "  <tr align=center>\n",
        "    <td>양현종</td>\n",
        "    <td>텍사스</td>\n",
        "    <td>800</td>\n",
        "  </tr>\n",
        "  \n",
        "</table>\n",
        "    \n",
        "  \n",
        "  <div id='id1'>\n",
        "  \t   여기는 서울 \n",
        "       <p> 단락 </p>\n",
        "  </div>\n",
        "  \n",
        "</body>\n",
        "\n",
        "</html>"
      ],
      "execution_count": 51,
      "outputs": [
        {
          "output_type": "stream",
          "text": [
            "Writing my.html\n"
          ],
          "name": "stdout"
        }
      ]
    },
    {
      "cell_type": "code",
      "metadata": {
        "colab": {
          "base_uri": "https://localhost:8080/"
        },
        "id": "LKiwU_w6CJdJ",
        "outputId": "227856b0-bfee-4bd3-f216-9b279e046b77"
      },
      "source": [
        "!ls    # 파일 확인"
      ],
      "execution_count": 52,
      "outputs": [
        {
          "output_type": "stream",
          "text": [
            "my.html  my.py\tsample_data\n"
          ],
          "name": "stdout"
        }
      ]
    },
    {
      "cell_type": "code",
      "metadata": {
        "id": "FutP9h8TCNL-"
      },
      "source": [
        "!nl my.html    ## 파일 열기"
      ],
      "execution_count": null,
      "outputs": []
    },
    {
      "cell_type": "code",
      "metadata": {
        "colab": {
          "base_uri": "https://localhost:8080/"
        },
        "id": "onFZPmbSCccZ",
        "outputId": "68116e35-f075-44ff-e06d-b77919815ff0"
      },
      "source": [
        "from bs4 import BeautifulSoup\n",
        "import urllib.request\n",
        "\n",
        "with open('my.html') as f:\n",
        "    s = BeautifulSoup(f, 'html.parser')\n",
        "\n",
        "print(s)"
      ],
      "execution_count": 54,
      "outputs": [
        {
          "output_type": "stream",
          "text": [
            "\n",
            "<!DOCTYPE html>\n",
            "\n",
            "<html>\n",
            "<head>\n",
            "<meta charset=\"utf-8\"/>\n",
            "<title>나의 타이틀</title>\n",
            "</head>\n",
            "<body bgcolor=\"green\" text=\"white\">\n",
            "<h1>짱구네 집</h1>\n",
            "<p>단락. paragraph</p>\n",
            "<div>\n",
            "<a href=\"http://func.kr\">우리카페</a>\n",
            "</div>\n",
            "<div>\n",
            "<a href=\"http://www.naver.com\">네이버</a>\n",
            "</div>\n",
            "<div>\n",
            "<a href=\"http://w3schools.com\">공부하러가자</a>\n",
            "</div>\n",
            "<table align=\"center\" border=\"1\" style=\"width:50%\">\n",
            "<tr align=\"center\">\n",
            "<th>이름</th>\n",
            "<th>소속</th>\n",
            "<th>연봉</th>\n",
            "</tr>\n",
            "<tr align=\"center\">\n",
            "<td>류현진</td>\n",
            "<td>토론토</td>\n",
            "<td>1500</td>\n",
            "</tr>\n",
            "<tr align=\"center\">\n",
            "<td>김하성</td>\n",
            "<td>센디에이고</td>\n",
            "<td>700</td>\n",
            "</tr>\n",
            "<tr align=\"center\">\n",
            "<td>양현종</td>\n",
            "<td>텍사스</td>\n",
            "<td>800</td>\n",
            "</tr>\n",
            "</table>\n",
            "<div id=\"id1\">\n",
            "  \t   여기는 서울 \n",
            "       <p> 단락 </p>\n",
            "</div>\n",
            "</body>\n",
            "</html>\n"
          ],
          "name": "stdout"
        }
      ]
    },
    {
      "cell_type": "code",
      "metadata": {
        "colab": {
          "base_uri": "https://localhost:8080/"
        },
        "id": "DlrJ5IB2C3ru",
        "outputId": "1b6cf0e0-0b40-4853-ef42-b04523c0dfe6"
      },
      "source": [
        "s.title"
      ],
      "execution_count": 55,
      "outputs": [
        {
          "output_type": "execute_result",
          "data": {
            "text/plain": [
              "<title>나의 타이틀</title>"
            ]
          },
          "metadata": {
            "tags": []
          },
          "execution_count": 55
        }
      ]
    },
    {
      "cell_type": "code",
      "metadata": {
        "colab": {
          "base_uri": "https://localhost:8080/"
        },
        "id": "xkrnZMbKDfFX",
        "outputId": "13bb5bef-fef9-4c8e-a26c-6abe97b0b5dd"
      },
      "source": [
        "s.a"
      ],
      "execution_count": 56,
      "outputs": [
        {
          "output_type": "execute_result",
          "data": {
            "text/plain": [
              "<a href=\"http://func.kr\">우리카페</a>"
            ]
          },
          "metadata": {
            "tags": []
          },
          "execution_count": 56
        }
      ]
    },
    {
      "cell_type": "code",
      "metadata": {
        "colab": {
          "base_uri": "https://localhost:8080/"
        },
        "id": "QNb_aEvCDi67",
        "outputId": "a74f0177-939e-4a73-9f8a-f3f9bf84ee3e"
      },
      "source": [
        "s.head"
      ],
      "execution_count": 57,
      "outputs": [
        {
          "output_type": "execute_result",
          "data": {
            "text/plain": [
              "<head>\n",
              "<meta charset=\"utf-8\"/>\n",
              "<title>나의 타이틀</title>\n",
              "</head>"
            ]
          },
          "metadata": {
            "tags": []
          },
          "execution_count": 57
        }
      ]
    },
    {
      "cell_type": "code",
      "metadata": {
        "colab": {
          "base_uri": "https://localhost:8080/"
        },
        "id": "w5uRWCtUDlt1",
        "outputId": "361fae4c-f8e7-4da8-b07c-5481209958f5"
      },
      "source": [
        "s.body"
      ],
      "execution_count": 58,
      "outputs": [
        {
          "output_type": "execute_result",
          "data": {
            "text/plain": [
              "<body bgcolor=\"green\" text=\"white\">\n",
              "<h1>짱구네 집</h1>\n",
              "<p>단락. paragraph</p>\n",
              "<div>\n",
              "<a href=\"http://func.kr\">우리카페</a>\n",
              "</div>\n",
              "<div>\n",
              "<a href=\"http://www.naver.com\">네이버</a>\n",
              "</div>\n",
              "<div>\n",
              "<a href=\"http://w3schools.com\">공부하러가자</a>\n",
              "</div>\n",
              "<table align=\"center\" border=\"1\" style=\"width:50%\">\n",
              "<tr align=\"center\">\n",
              "<th>이름</th>\n",
              "<th>소속</th>\n",
              "<th>연봉</th>\n",
              "</tr>\n",
              "<tr align=\"center\">\n",
              "<td>류현진</td>\n",
              "<td>토론토</td>\n",
              "<td>1500</td>\n",
              "</tr>\n",
              "<tr align=\"center\">\n",
              "<td>김하성</td>\n",
              "<td>센디에이고</td>\n",
              "<td>700</td>\n",
              "</tr>\n",
              "<tr align=\"center\">\n",
              "<td>양현종</td>\n",
              "<td>텍사스</td>\n",
              "<td>800</td>\n",
              "</tr>\n",
              "</table>\n",
              "<div id=\"id1\">\n",
              "  \t   여기는 서울 \n",
              "       <p> 단락 </p>\n",
              "</div>\n",
              "</body>"
            ]
          },
          "metadata": {
            "tags": []
          },
          "execution_count": 58
        }
      ]
    },
    {
      "cell_type": "code",
      "metadata": {
        "colab": {
          "base_uri": "https://localhost:8080/"
        },
        "id": "ft6_cCdlDmfa",
        "outputId": "281de254-6ae3-46bf-81ca-c43cb8cc8858"
      },
      "source": [
        "s.h1"
      ],
      "execution_count": 59,
      "outputs": [
        {
          "output_type": "execute_result",
          "data": {
            "text/plain": [
              "<h1>짱구네 집</h1>"
            ]
          },
          "metadata": {
            "tags": []
          },
          "execution_count": 59
        }
      ]
    },
    {
      "cell_type": "code",
      "metadata": {
        "colab": {
          "base_uri": "https://localhost:8080/"
        },
        "id": "n3KU0dKHDqE7",
        "outputId": "512cfb1e-c3a0-4eb6-feee-669d79e7736a"
      },
      "source": [
        "s.select"
      ],
      "execution_count": 61,
      "outputs": [
        {
          "output_type": "execute_result",
          "data": {
            "text/plain": [
              "<bound method Tag.select of \n",
              "<!DOCTYPE html>\n",
              "\n",
              "<html>\n",
              "<head>\n",
              "<meta charset=\"utf-8\"/>\n",
              "<title>나의 타이틀</title>\n",
              "</head>\n",
              "<body bgcolor=\"green\" text=\"white\">\n",
              "<h1>짱구네 집</h1>\n",
              "<p>단락. paragraph</p>\n",
              "<div>\n",
              "<a href=\"http://func.kr\">우리카페</a>\n",
              "</div>\n",
              "<div>\n",
              "<a href=\"http://www.naver.com\">네이버</a>\n",
              "</div>\n",
              "<div>\n",
              "<a href=\"http://w3schools.com\">공부하러가자</a>\n",
              "</div>\n",
              "<table align=\"center\" border=\"1\" style=\"width:50%\">\n",
              "<tr align=\"center\">\n",
              "<th>이름</th>\n",
              "<th>소속</th>\n",
              "<th>연봉</th>\n",
              "</tr>\n",
              "<tr align=\"center\">\n",
              "<td>류현진</td>\n",
              "<td>토론토</td>\n",
              "<td>1500</td>\n",
              "</tr>\n",
              "<tr align=\"center\">\n",
              "<td>김하성</td>\n",
              "<td>센디에이고</td>\n",
              "<td>700</td>\n",
              "</tr>\n",
              "<tr align=\"center\">\n",
              "<td>양현종</td>\n",
              "<td>텍사스</td>\n",
              "<td>800</td>\n",
              "</tr>\n",
              "</table>\n",
              "<div id=\"id1\">\n",
              "  \t   여기는 서울 \n",
              "       <p> 단락 </p>\n",
              "</div>\n",
              "</body>\n",
              "</html>>"
            ]
          },
          "metadata": {
            "tags": []
          },
          "execution_count": 61
        }
      ]
    },
    {
      "cell_type": "code",
      "metadata": {
        "colab": {
          "base_uri": "https://localhost:8080/"
        },
        "id": "MAvHEiWpDrbZ",
        "outputId": "f7dbea86-052e-4ec5-948d-a4d4b2ff2bd0"
      },
      "source": [
        "s.select_one"
      ],
      "execution_count": 62,
      "outputs": [
        {
          "output_type": "execute_result",
          "data": {
            "text/plain": [
              "<bound method Tag.select_one of \n",
              "<!DOCTYPE html>\n",
              "\n",
              "<html>\n",
              "<head>\n",
              "<meta charset=\"utf-8\"/>\n",
              "<title>나의 타이틀</title>\n",
              "</head>\n",
              "<body bgcolor=\"green\" text=\"white\">\n",
              "<h1>짱구네 집</h1>\n",
              "<p>단락. paragraph</p>\n",
              "<div>\n",
              "<a href=\"http://func.kr\">우리카페</a>\n",
              "</div>\n",
              "<div>\n",
              "<a href=\"http://www.naver.com\">네이버</a>\n",
              "</div>\n",
              "<div>\n",
              "<a href=\"http://w3schools.com\">공부하러가자</a>\n",
              "</div>\n",
              "<table align=\"center\" border=\"1\" style=\"width:50%\">\n",
              "<tr align=\"center\">\n",
              "<th>이름</th>\n",
              "<th>소속</th>\n",
              "<th>연봉</th>\n",
              "</tr>\n",
              "<tr align=\"center\">\n",
              "<td>류현진</td>\n",
              "<td>토론토</td>\n",
              "<td>1500</td>\n",
              "</tr>\n",
              "<tr align=\"center\">\n",
              "<td>김하성</td>\n",
              "<td>센디에이고</td>\n",
              "<td>700</td>\n",
              "</tr>\n",
              "<tr align=\"center\">\n",
              "<td>양현종</td>\n",
              "<td>텍사스</td>\n",
              "<td>800</td>\n",
              "</tr>\n",
              "</table>\n",
              "<div id=\"id1\">\n",
              "  \t   여기는 서울 \n",
              "       <p> 단락 </p>\n",
              "</div>\n",
              "</body>\n",
              "</html>>"
            ]
          },
          "metadata": {
            "tags": []
          },
          "execution_count": 62
        }
      ]
    },
    {
      "cell_type": "code",
      "metadata": {
        "colab": {
          "base_uri": "https://localhost:8080/"
        },
        "id": "0qX0wDSMD3-B",
        "outputId": "61b355a4-b3d0-4a1f-9117-ce3172395376"
      },
      "source": [
        "s.td(all)"
      ],
      "execution_count": 63,
      "outputs": [
        {
          "output_type": "execute_result",
          "data": {
            "text/plain": [
              "[]"
            ]
          },
          "metadata": {
            "tags": []
          },
          "execution_count": 63
        }
      ]
    },
    {
      "cell_type": "code",
      "metadata": {
        "colab": {
          "base_uri": "https://localhost:8080/"
        },
        "id": "kL9SAv5LECC3",
        "outputId": "0363e08f-30fb-4b4d-e4d5-b967142fd2ce"
      },
      "source": [
        "s.find_all('a')"
      ],
      "execution_count": 65,
      "outputs": [
        {
          "output_type": "execute_result",
          "data": {
            "text/plain": [
              "[<a href=\"http://func.kr\">우리카페</a>,\n",
              " <a href=\"http://www.naver.com\">네이버</a>,\n",
              " <a href=\"http://w3schools.com\">공부하러가자</a>]"
            ]
          },
          "metadata": {
            "tags": []
          },
          "execution_count": 65
        }
      ]
    },
    {
      "cell_type": "code",
      "metadata": {
        "colab": {
          "base_uri": "https://localhost:8080/",
          "height": 36
        },
        "id": "6kQJeHneENba",
        "outputId": "287dd7e9-cbdb-43bc-86f8-9db66a29fa9f"
      },
      "source": [
        "s.find('a').get_text()"
      ],
      "execution_count": 66,
      "outputs": [
        {
          "output_type": "execute_result",
          "data": {
            "application/vnd.google.colaboratory.intrinsic+json": {
              "type": "string"
            },
            "text/plain": [
              "'우리카페'"
            ]
          },
          "metadata": {
            "tags": []
          },
          "execution_count": 66
        }
      ]
    },
    {
      "cell_type": "code",
      "metadata": {
        "colab": {
          "base_uri": "https://localhost:8080/"
        },
        "id": "CNJmQWQHEWDv",
        "outputId": "b4da3db6-c5af-49bd-9342-55f2275ab80b"
      },
      "source": [
        "s_name = s.find_all('a')\n",
        "s_name"
      ],
      "execution_count": 70,
      "outputs": [
        {
          "output_type": "execute_result",
          "data": {
            "text/plain": [
              "[<a href=\"http://func.kr\">우리카페</a>,\n",
              " <a href=\"http://www.naver.com\">네이버</a>,\n",
              " <a href=\"http://w3schools.com\">공부하러가자</a>]"
            ]
          },
          "metadata": {
            "tags": []
          },
          "execution_count": 70
        }
      ]
    },
    {
      "cell_type": "code",
      "metadata": {
        "colab": {
          "base_uri": "https://localhost:8080/"
        },
        "id": "TvdD5ttVEbTh",
        "outputId": "93031c43-379a-48e0-b1aa-4edbb42891e5"
      },
      "source": [
        "for i in s_name:\n",
        "    print(i)"
      ],
      "execution_count": 68,
      "outputs": [
        {
          "output_type": "stream",
          "text": [
            "<a href=\"http://func.kr\">우리카페</a>\n",
            "<a href=\"http://www.naver.com\">네이버</a>\n",
            "<a href=\"http://w3schools.com\">공부하러가자</a>\n"
          ],
          "name": "stdout"
        }
      ]
    },
    {
      "cell_type": "code",
      "metadata": {
        "colab": {
          "base_uri": "https://localhost:8080/"
        },
        "id": "ku8VauwIEev6",
        "outputId": "28c95b48-1f54-4d3d-f5f3-d54bebbe541d"
      },
      "source": [
        "s.select('table > th > tr')"
      ],
      "execution_count": 72,
      "outputs": [
        {
          "output_type": "execute_result",
          "data": {
            "text/plain": [
              "[]"
            ]
          },
          "metadata": {
            "tags": []
          },
          "execution_count": 72
        }
      ]
    },
    {
      "cell_type": "code",
      "metadata": {
        "colab": {
          "base_uri": "https://localhost:8080/"
        },
        "id": "Qz8w_szjEl2c",
        "outputId": "f2e734af-e0db-47ed-d7b5-be446c473ba5"
      },
      "source": [
        "s.select('head > title')"
      ],
      "execution_count": 73,
      "outputs": [
        {
          "output_type": "execute_result",
          "data": {
            "text/plain": [
              "[<title>나의 타이틀</title>]"
            ]
          },
          "metadata": {
            "tags": []
          },
          "execution_count": 73
        }
      ]
    },
    {
      "cell_type": "code",
      "metadata": {
        "colab": {
          "base_uri": "https://localhost:8080/"
        },
        "id": "1x6-9bq8Essm",
        "outputId": "ce6155d5-0bc7-443e-af02-6b5b4fb69674"
      },
      "source": [
        "s.select('table > tr > td')"
      ],
      "execution_count": 75,
      "outputs": [
        {
          "output_type": "execute_result",
          "data": {
            "text/plain": [
              "[<td>류현진</td>,\n",
              " <td>토론토</td>,\n",
              " <td>1500</td>,\n",
              " <td>김하성</td>,\n",
              " <td>센디에이고</td>,\n",
              " <td>700</td>,\n",
              " <td>양현종</td>,\n",
              " <td>텍사스</td>,\n",
              " <td>800</td>]"
            ]
          },
          "metadata": {
            "tags": []
          },
          "execution_count": 75
        }
      ]
    },
    {
      "cell_type": "code",
      "metadata": {
        "colab": {
          "base_uri": "https://localhost:8080/"
        },
        "id": "2I6vCNFqEwAL",
        "outputId": "d6b69ea0-4402-46ef-f7af-11584aa45c57"
      },
      "source": [
        "s.select_one('table > tr > td')"
      ],
      "execution_count": 76,
      "outputs": [
        {
          "output_type": "execute_result",
          "data": {
            "text/plain": [
              "<td>류현진</td>"
            ]
          },
          "metadata": {
            "tags": []
          },
          "execution_count": 76
        }
      ]
    },
    {
      "cell_type": "markdown",
      "metadata": {
        "id": "GEsDaq7RGmmq"
      },
      "source": [
        "naver 영화 페이지에서 랭킹 데이터만 가져오기"
      ]
    },
    {
      "cell_type": "code",
      "metadata": {
        "colab": {
          "base_uri": "https://localhost:8080/"
        },
        "id": "eBOkaeIaE14p",
        "outputId": "8f297a84-8bfd-4b20-b4c5-7cd8a230bac5"
      },
      "source": [
        "import requests\n",
        "from bs4 import BeautifulSoup\n",
        "\n",
        "data = requests.get('https://movie.naver.com/movie/sdb/rank/rmovie.nhn')\n",
        "soup = BeautifulSoup(data.text, 'html.parser')\n",
        "\n",
        "movies = soup.select('#old_content > table > tbody > tr')\n",
        "\n",
        "for i in movies:\n",
        "    a = i.select_one('td.title > div > a')\n",
        "    if a is not None:\n",
        "        print(a.text)"
      ],
      "execution_count": 78,
      "outputs": [
        {
          "output_type": "stream",
          "text": [
            "크루엘라\n",
            "분노의 질주: 더 얼티메이트\n",
            "파이프라인\n",
            "보이저스\n",
            "극장판 귀멸의 칼날: 무한열차편\n",
            "도라에몽: 스탠바이미 2\n",
            "스파이럴\n",
            "애플\n",
            "비와 당신의 이야기\n",
            "500일의 썸머\n",
            "굴뚝마을의 푸펠\n",
            "컨저링 3: 악마가 시켰다\n",
            "아미 오브 더 데드\n",
            "캐시트럭\n",
            "라이더스 오브 저스티스\n",
            "노매드랜드\n",
            "더 스파이\n",
            "혼자 사는 사람들\n",
            "인트로덕션\n",
            "크루즈 패밀리: 뉴 에이지\n",
            "이터널스\n",
            "미나리\n",
            "내일의 기억\n",
            "프로페서 앤 매드맨\n",
            "아들의 이름으로\n",
            "브리짓 존스의 일기\n",
            "내가 죽기를 바라는 자들\n",
            "썰\n",
            "낫아웃\n",
            "좋은 빛, 좋은 공기\n",
            "베놈 2: 렛 데어 비 카니지\n",
            "콰이어트 플레이스 2\n",
            "극장판 콩순이: 장난감나라 대모험\n",
            "써니\n",
            "발신제한\n",
            "쇼크 웨이브 2\n",
            "2067\n",
            "킬러의 보디가드 2\n",
            "잭 스나이더의 저스티스 리그\n",
            "인셉션\n",
            "여고괴담 여섯번째 이야기 : 모교\n",
            "어른들은 몰라요\n",
            "진범\n",
            "아이들은 즐겁다\n",
            "그린 북\n",
            "노바디 \n",
            "자산어보\n",
            "명탐정 코난: 비색의 탄환\n",
            "분노의 질주: 더 세븐\n",
            "비밀의 정원\n"
          ],
          "name": "stdout"
        }
      ]
    },
    {
      "cell_type": "markdown",
      "metadata": {
        "id": "ON9GhwxWVZKb"
      },
      "source": [
        "## 네이버 API 연결하기"
      ]
    },
    {
      "cell_type": "code",
      "metadata": {
        "id": "SfYFZQLQGhNx"
      },
      "source": [
        "import os\n",
        "import sys\n",
        "import urllib.request\n",
        "client_id = \"",
        "client_secret = \"",
        "encText = urllib.parse.quote(\"deutschland\")  # 검색할 단어 넣기\n",
        "url = \"https://openapi.naver.com/v1/search/webkr?query=\" + encText # json 결과\n",
        "# url = \"https://openapi.naver.com/v1/search/blog.xml?query=\" + encText # xml 결과\n",
        "request = urllib.request.Request(url)\n",
        "request.add_header(\"X-Naver-Client-Id\",client_id)\n",
        "request.add_header(\"X-Naver-Client-Secret\",client_secret)\n",
        "response = urllib.request.urlopen(request)\n",
        "rescode = response.getcode()\n",
        "if(rescode==200):\n",
        "    response_body = response.read()\n",
        "    print(response_body.decode('utf-8'))\n",
        "else:\n",
        "    print(\"Error Code:\" + rescode)"
      ],
      "execution_count": null,
      "outputs": []
    },
    {
      "cell_type": "code",
      "metadata": {
        "colab": {
          "base_uri": "https://localhost:8080/"
        },
        "id": "EBx3xO1XVNCx",
        "outputId": "01542fbf-c7bf-46c2-c914-91db92afce7f"
      },
      "source": [
        "## 업그레이드 버전\n",
        "\n",
        "import os\n",
        "import re\n",
        "import sys\n",
        "import json\n",
        "import pandas as pd\n",
        "import urllib.request\n",
        "\n",
        "client_id = \"sM61kgPhnufBKr9u_AhI\"\n",
        "client_secret = \"7DBm_hlqGN\"\n",
        "\n",
        "query = urllib.parse.quote(input(\"검색어를 입력 하세요 : \")) \n",
        "\n",
        "cols = ['Title', 'Link', 'Description']\n",
        "df = pd.DataFrame(columns=cols)\n",
        "\n",
        "count = 0\n",
        "\n",
        "for i in range(1, 100, 10):\n",
        "    url = \"https://openapi.naver.com/v1/search/webkr?query=\" + query \\\n",
        "     + '&display=' + str(10) + '&start=' + str(i)\n",
        "    request = urllib.request.Request(url)\n",
        "    request.add_header(\"X-Naver-Client-Id\",client_id)\n",
        "    request.add_header(\"X-Naver-Client-Secret\",client_secret)\n",
        "    response = urllib.request.urlopen(request)\n",
        "    rescode = response.getcode()\n",
        "    if(rescode==200):\n",
        "        response_body = response.read()\n",
        "        response_dict = json.loads(response_body.decode('utf-8'))\n",
        "        items = response_dict['items']\n",
        "\n",
        "        for j in range(0, len(items)):\n",
        "            p = re.compile('<.*?>')\n",
        "            title = re.sub(p, '', items[j]['title'])\n",
        "            link = items[j]['link']\n",
        "            description = re.sub(p, '', items[j]['description'])\n",
        "            df.loc[count] = [title, link, description]\n",
        "            print(count, end = ' ')\n",
        "            count += 1\n",
        "    else:\n",
        "        print(\"Error Code:\" + rescode)"
      ],
      "execution_count": 83,
      "outputs": [
        {
          "output_type": "stream",
          "text": [
            "검색어를 입력 하세요 : 크루엘라\n",
            "0 1 2 3 4 5 6 7 8 9 10 11 12 13 14 15 16 17 18 19 20 21 22 23 24 25 26 27 28 29 30 31 32 33 34 35 36 37 38 39 40 41 42 43 44 45 46 47 48 49 50 51 52 53 54 55 56 57 58 59 60 61 62 63 64 65 66 67 68 69 70 71 72 73 74 75 76 77 78 79 80 81 82 83 84 85 86 87 88 89 90 91 92 93 94 95 96 97 98 99 "
          ],
          "name": "stdout"
        }
      ]
    },
    {
      "cell_type": "code",
      "metadata": {
        "colab": {
          "base_uri": "https://localhost:8080/",
          "height": 538
        },
        "id": "1SkJn_kBZL-e",
        "outputId": "6e06c1ed-b948-46bd-c48f-d5fcae9ee727"
      },
      "source": [
        "df"
      ],
      "execution_count": 84,
      "outputs": [
        {
          "output_type": "execute_result",
          "data": {
            "text/html": [
              "<div>\n",
              "<style scoped>\n",
              "    .dataframe tbody tr th:only-of-type {\n",
              "        vertical-align: middle;\n",
              "    }\n",
              "\n",
              "    .dataframe tbody tr th {\n",
              "        vertical-align: top;\n",
              "    }\n",
              "\n",
              "    .dataframe thead th {\n",
              "        text-align: right;\n",
              "    }\n",
              "</style>\n",
              "<table border=\"1\" class=\"dataframe\">\n",
              "  <thead>\n",
              "    <tr style=\"text-align: right;\">\n",
              "      <th></th>\n",
              "      <th>Title</th>\n",
              "      <th>Link</th>\n",
              "      <th>Description</th>\n",
              "    </tr>\n",
              "  </thead>\n",
              "  <tbody>\n",
              "    <tr>\n",
              "      <th>0</th>\n",
              "      <td>크루엘라 | 다음영화</td>\n",
              "      <td>https://movie.daum.net/moviedb/main?movieId=10...</td>\n",
              "      <td>크루엘라 D-2 Cruella, 2021 개봉 2021.05.26 장르 드라마/범죄...</td>\n",
              "    </tr>\n",
              "    <tr>\n",
              "      <th>1</th>\n",
              "      <td>Cruella Reviews - Metacritic</td>\n",
              "      <td>https://www.metacritic.com/movie/cruella</td>\n",
              "      <td>Summary:Set in 1970s London amidst the punk ro...</td>\n",
              "    </tr>\n",
              "    <tr>\n",
              "      <th>2</th>\n",
              "      <td>크루엘라 (2021) - 왓챠피디아</td>\n",
              "      <td>https://pedia.watcha.com/ko-KR/contents/mOVQ34z</td>\n",
              "      <td>크루엘라 2021 ・ 액션/코미디/범죄 ・ 미국 보고싶어요 평가하기... 출연/제작...</td>\n",
              "    </tr>\n",
              "    <tr>\n",
              "      <th>3</th>\n",
              "      <td>[크루엘라]&amp;lt;영화상세 &amp;lt; 영화 | 영화 그 이상의 감동. CGV</td>\n",
              "      <td>http://www.cgv.co.kr/movies/detail-view/?midx=...</td>\n",
              "      <td>검색 영화 영화상세 VIP LOUNGE Club서비스 영화상세 크루엘라 현재상영중...</td>\n",
              "    </tr>\n",
              "    <tr>\n",
              "      <th>4</th>\n",
              "      <td>크루엘라 - 코리아필름</td>\n",
              "      <td>http://www.koreafilm.co.kr/movie/review/cruell...</td>\n",
              "      <td>▶ 크루엘라 Cruella &amp;quot; 재능은 있지만 밑바닥 인생을 살던 '에스텔라...</td>\n",
              "    </tr>\n",
              "    <tr>\n",
              "      <th>...</th>\n",
              "      <td>...</td>\n",
              "      <td>...</td>\n",
              "      <td>...</td>\n",
              "    </tr>\n",
              "    <tr>\n",
              "      <th>95</th>\n",
              "      <td>익스트림무비 - 크루엘라 필름마크로 크루엘라 오티 구합니다</td>\n",
              "      <td>https://extmovie.com/gudz/65707413</td>\n",
              "      <td>굿즈나눔 영화 관련 굿즈 나눔 게시판입니다 크루엘라 필름마크로 크루엘라 오티 구합니...</td>\n",
              "    </tr>\n",
              "    <tr>\n",
              "      <th>96</th>\n",
              "      <td>‘크루엘라’ 엠마 스톤, 역대급 파격 비주얼 “유일한 크루엘라” - 싱글리스트</td>\n",
              "      <td>http://www.slist.kr/news/articleView.html?idxn...</td>\n",
              "      <td>디즈니 영화 ‘크루엘라’가 1차 보도스틸을 전격 공개했다.공개되는 비주얼마다 폭발적...</td>\n",
              "    </tr>\n",
              "    <tr>\n",
              "      <th>97</th>\n",
              "      <td>크루엘라 통합 검색 결과 - 중앙일보</td>\n",
              "      <td>https://news.joins.com/search/?keyword=%ED%81%...</td>\n",
              "      <td>크루엘라통합 검색 결과 상세검색 뉴스 &amp;quot;난 원래 약간 돌았어... com/...</td>\n",
              "    </tr>\n",
              "    <tr>\n",
              "      <th>98</th>\n",
              "      <td>익스트림무비 - 크루엘라 오티북으로 크루엘라 오티 구합니다!</td>\n",
              "      <td>https://extmovie.com/gudz/65797810</td>\n",
              "      <td>굿즈나눔 영화 관련 굿즈 나눔 게시판입니다 크루엘라 오티북으로 크루엘라 오티 구합니...</td>\n",
              "    </tr>\n",
              "    <tr>\n",
              "      <th>99</th>\n",
              "      <td>#크루엘라 태그 모음 | 1boon</td>\n",
              "      <td>https://1boon.kakao.com/p/tag/%ED%81%AC%EB%A3%...</td>\n",
              "      <td>디즈니 역대급 악역, '찐광기' 그대로 실사화된다 5,590 미국보다 37일 먼저 ...</td>\n",
              "    </tr>\n",
              "  </tbody>\n",
              "</table>\n",
              "<p>100 rows × 3 columns</p>\n",
              "</div>"
            ],
            "text/plain": [
              "                                          Title  ...                                        Description\n",
              "0                                   크루엘라 | 다음영화  ...  크루엘라 D-2 Cruella, 2021 개봉 2021.05.26 장르 드라마/범죄...\n",
              "1                  Cruella Reviews - Metacritic  ...  Summary:Set in 1970s London amidst the punk ro...\n",
              "2                           크루엘라 (2021) - 왓챠피디아  ...  크루엘라 2021 ・ 액션/코미디/범죄 ・ 미국 보고싶어요 평가하기... 출연/제작...\n",
              "3     [크루엘라]&lt;영화상세 &lt; 영화 | 영화 그 이상의 감동. CGV  ...   검색 영화 영화상세 VIP LOUNGE Club서비스 영화상세 크루엘라 현재상영중...\n",
              "4                                  크루엘라 - 코리아필름  ...  ▶ 크루엘라 Cruella &quot; 재능은 있지만 밑바닥 인생을 살던 '에스텔라...\n",
              "..                                          ...  ...                                                ...\n",
              "95             익스트림무비 - 크루엘라 필름마크로 크루엘라 오티 구합니다  ...  굿즈나눔 영화 관련 굿즈 나눔 게시판입니다 크루엘라 필름마크로 크루엘라 오티 구합니...\n",
              "96  ‘크루엘라’ 엠마 스톤, 역대급 파격 비주얼 “유일한 크루엘라” - 싱글리스트  ...  디즈니 영화 ‘크루엘라’가 1차 보도스틸을 전격 공개했다.공개되는 비주얼마다 폭발적...\n",
              "97                         크루엘라 통합 검색 결과 - 중앙일보  ...  크루엘라통합 검색 결과 상세검색 뉴스 &quot;난 원래 약간 돌았어... com/...\n",
              "98            익스트림무비 - 크루엘라 오티북으로 크루엘라 오티 구합니다!  ...  굿즈나눔 영화 관련 굿즈 나눔 게시판입니다 크루엘라 오티북으로 크루엘라 오티 구합니...\n",
              "99                          #크루엘라 태그 모음 | 1boon  ...  디즈니 역대급 악역, '찐광기' 그대로 실사화된다 5,590 미국보다 37일 먼저 ...\n",
              "\n",
              "[100 rows x 3 columns]"
            ]
          },
          "metadata": {
            "tags": []
          },
          "execution_count": 84
        }
      ]
    },
    {
      "cell_type": "code",
      "metadata": {
        "colab": {
          "base_uri": "https://localhost:8080/"
        },
        "id": "6SOxWKLsZyex",
        "outputId": "767f8aac-99b7-4469-966a-a3021a3cdbcb"
      },
      "source": [
        "df.shape"
      ],
      "execution_count": 85,
      "outputs": [
        {
          "output_type": "execute_result",
          "data": {
            "text/plain": [
              "(100, 3)"
            ]
          },
          "metadata": {
            "tags": []
          },
          "execution_count": 85
        }
      ]
    },
    {
      "cell_type": "code",
      "metadata": {
        "colab": {
          "base_uri": "https://localhost:8080/"
        },
        "id": "3QzxiR5hZ7Le",
        "outputId": "979d70b8-c6cd-42bb-e22e-eaddd79e4b78"
      },
      "source": [
        "df.index"
      ],
      "execution_count": 86,
      "outputs": [
        {
          "output_type": "execute_result",
          "data": {
            "text/plain": [
              "Int64Index([ 0,  1,  2,  3,  4,  5,  6,  7,  8,  9, 10, 11, 12, 13, 14, 15, 16,\n",
              "            17, 18, 19, 20, 21, 22, 23, 24, 25, 26, 27, 28, 29, 30, 31, 32, 33,\n",
              "            34, 35, 36, 37, 38, 39, 40, 41, 42, 43, 44, 45, 46, 47, 48, 49, 50,\n",
              "            51, 52, 53, 54, 55, 56, 57, 58, 59, 60, 61, 62, 63, 64, 65, 66, 67,\n",
              "            68, 69, 70, 71, 72, 73, 74, 75, 76, 77, 78, 79, 80, 81, 82, 83, 84,\n",
              "            85, 86, 87, 88, 89, 90, 91, 92, 93, 94, 95, 96, 97, 98, 99],\n",
              "           dtype='int64')"
            ]
          },
          "metadata": {
            "tags": []
          },
          "execution_count": 86
        }
      ]
    },
    {
      "cell_type": "code",
      "metadata": {
        "colab": {
          "base_uri": "https://localhost:8080/",
          "height": 166
        },
        "id": "-PHU80WBZ_RH",
        "outputId": "cbdf98b4-d5a0-4b69-8fda-5ef5ddc5a83a"
      },
      "source": [
        "df.describe()"
      ],
      "execution_count": 88,
      "outputs": [
        {
          "output_type": "execute_result",
          "data": {
            "text/html": [
              "<div>\n",
              "<style scoped>\n",
              "    .dataframe tbody tr th:only-of-type {\n",
              "        vertical-align: middle;\n",
              "    }\n",
              "\n",
              "    .dataframe tbody tr th {\n",
              "        vertical-align: top;\n",
              "    }\n",
              "\n",
              "    .dataframe thead th {\n",
              "        text-align: right;\n",
              "    }\n",
              "</style>\n",
              "<table border=\"1\" class=\"dataframe\">\n",
              "  <thead>\n",
              "    <tr style=\"text-align: right;\">\n",
              "      <th></th>\n",
              "      <th>Title</th>\n",
              "      <th>Link</th>\n",
              "      <th>Description</th>\n",
              "    </tr>\n",
              "  </thead>\n",
              "  <tbody>\n",
              "    <tr>\n",
              "      <th>count</th>\n",
              "      <td>100</td>\n",
              "      <td>100</td>\n",
              "      <td>100</td>\n",
              "    </tr>\n",
              "    <tr>\n",
              "      <th>unique</th>\n",
              "      <td>83</td>\n",
              "      <td>95</td>\n",
              "      <td>89</td>\n",
              "    </tr>\n",
              "    <tr>\n",
              "      <th>top</th>\n",
              "      <td>크루엘라</td>\n",
              "      <td>https://brunch.co.kr/@admin7cvm/7</td>\n",
              "      <td>SHELTER2020 Shelter Inc. All right reserved. 이...</td>\n",
              "    </tr>\n",
              "    <tr>\n",
              "      <th>freq</th>\n",
              "      <td>5</td>\n",
              "      <td>2</td>\n",
              "      <td>3</td>\n",
              "    </tr>\n",
              "  </tbody>\n",
              "</table>\n",
              "</div>"
            ],
            "text/plain": [
              "       Title  ...                                        Description\n",
              "count    100  ...                                                100\n",
              "unique    83  ...                                                 89\n",
              "top     크루엘라  ...  SHELTER2020 Shelter Inc. All right reserved. 이...\n",
              "freq       5  ...                                                  3\n",
              "\n",
              "[4 rows x 3 columns]"
            ]
          },
          "metadata": {
            "tags": []
          },
          "execution_count": 88
        }
      ]
    },
    {
      "cell_type": "code",
      "metadata": {
        "colab": {
          "base_uri": "https://localhost:8080/"
        },
        "id": "HEropeFDaWC2",
        "outputId": "3601ab5f-6763-45e5-91eb-084f672ce31e"
      },
      "source": [
        "## 업그레이드 버전_2 지식인\n",
        "\n",
        "import os\n",
        "import re\n",
        "import sys\n",
        "import json\n",
        "import pandas as pd\n",
        "import urllib.request\n",
        "\n",
        "client_id = \"sM61kgPhnufBKr9u_AhI\"\n",
        "client_secret = \"7DBm_hlqGN\"\n",
        "\n",
        "query = urllib.parse.quote(input(\"검색어를 입력 하세요 : \")) \n",
        "\n",
        "cols = ['Title', 'Link', 'Description']\n",
        "kin_df = pd.DataFrame(columns=cols)\n",
        "\n",
        "count = 0\n",
        "\n",
        "for i in range(1, 100, 10):\n",
        "    url = \"https://openapi.naver.com/v1/search/kin?query=\" + query \\\n",
        "     + '&display=' + str(10) + '&start=' + str(i) + '&sort=' + 'sim'\n",
        "    request = urllib.request.Request(url)\n",
        "    request.add_header(\"X-Naver-Client-Id\",client_id)\n",
        "    request.add_header(\"X-Naver-Client-Secret\",client_secret)\n",
        "    response = urllib.request.urlopen(request)\n",
        "    rescode = response.getcode()\n",
        "    if(rescode==200):\n",
        "        response_body = response.read()\n",
        "        response_dict = json.loads(response_body.decode('utf-8'))\n",
        "        items = response_dict['items']\n",
        "\n",
        "        for j in range(0, len(items)):\n",
        "            p = re.compile('<.*?>')\n",
        "            title = re.sub(p, '', items[j]['title'])\n",
        "            link = items[j]['link']\n",
        "            description = re.sub(p, '', items[j]['description'])\n",
        "            kin_df.loc[count] = [title, link, description]\n",
        "            print(count, end = ' ')\n",
        "            count += 1\n",
        "    else:\n",
        "        print(\"Error Code:\" + rescode)"
      ],
      "execution_count": 92,
      "outputs": [
        {
          "output_type": "stream",
          "text": [
            "검색어를 입력 하세요 : 크루엘라\n",
            "0 1 2 3 4 5 6 7 8 9 10 11 12 13 14 15 16 17 18 19 20 21 22 23 24 25 26 27 28 29 30 31 32 33 34 35 36 37 38 39 40 41 42 43 44 45 46 47 48 49 50 51 52 53 54 55 56 57 58 59 60 61 62 63 64 65 66 67 68 69 70 71 72 73 74 75 76 77 78 79 80 81 82 83 84 85 86 87 88 89 90 91 92 93 94 95 96 97 98 99 "
          ],
          "name": "stdout"
        }
      ]
    },
    {
      "cell_type": "code",
      "metadata": {
        "colab": {
          "base_uri": "https://localhost:8080/",
          "height": 404
        },
        "id": "Sngrv_9WcUVX",
        "outputId": "c8449cbe-2db7-4010-94ff-9288083595d6"
      },
      "source": [
        "kin_df"
      ],
      "execution_count": 93,
      "outputs": [
        {
          "output_type": "execute_result",
          "data": {
            "text/html": [
              "<div>\n",
              "<style scoped>\n",
              "    .dataframe tbody tr th:only-of-type {\n",
              "        vertical-align: middle;\n",
              "    }\n",
              "\n",
              "    .dataframe tbody tr th {\n",
              "        vertical-align: top;\n",
              "    }\n",
              "\n",
              "    .dataframe thead th {\n",
              "        text-align: right;\n",
              "    }\n",
              "</style>\n",
              "<table border=\"1\" class=\"dataframe\">\n",
              "  <thead>\n",
              "    <tr style=\"text-align: right;\">\n",
              "      <th></th>\n",
              "      <th>Title</th>\n",
              "      <th>Link</th>\n",
              "      <th>Description</th>\n",
              "    </tr>\n",
              "  </thead>\n",
              "  <tbody>\n",
              "    <tr>\n",
              "      <th>0</th>\n",
              "      <td>크루엘라 영화</td>\n",
              "      <td>https://kin.naver.com/qna/detail.nhn?d1id=3&amp;di...</td>\n",
              "      <td>크루엘라 영화 부모님이랑 함께 봐도 괜찮은 내용인가요? 크루엘라 감독 크레이그 질레...</td>\n",
              "    </tr>\n",
              "    <tr>\n",
              "      <th>1</th>\n",
              "      <td>메가박스에서 크루엘라 티켓</td>\n",
              "      <td>https://kin.naver.com/qna/detail.nhn?d1id=5&amp;di...</td>\n",
              "      <td>메가박스에서 종이티켓을 크루엘라 티켓?으로 바꿔주잖아요 그거 나중에 영화관에서 따로...</td>\n",
              "    </tr>\n",
              "    <tr>\n",
              "      <th>2</th>\n",
              "      <td>크루엘라 영화</td>\n",
              "      <td>https://kin.naver.com/qna/detail.nhn?d1id=3&amp;di...</td>\n",
              "      <td>제가 5월 26일날 개봉하는 크루엘라 영화를 보려고 하는데 이거 관련된 영화가 전에...</td>\n",
              "    </tr>\n",
              "    <tr>\n",
              "      <th>3</th>\n",
              "      <td>크루엘라 내용</td>\n",
              "      <td>https://kin.naver.com/qna/detail.nhn?d1id=3&amp;di...</td>\n",
              "      <td>크루엘라 예고편 봤는데 도저히 무슨 내용인지 모르겠어요..누가 보고 알려주세요.. ...</td>\n",
              "    </tr>\n",
              "    <tr>\n",
              "      <th>4</th>\n",
              "      <td>크루엘라 영화</td>\n",
              "      <td>https://kin.naver.com/qna/detail.nhn?d1id=3&amp;di...</td>\n",
              "      <td>크루엘라 폰으로는 못보나요? 영화관에서 못보니까 집에서 보려하는데 네이버 시리즈 온...</td>\n",
              "    </tr>\n",
              "    <tr>\n",
              "      <th>...</th>\n",
              "      <td>...</td>\n",
              "      <td>...</td>\n",
              "      <td>...</td>\n",
              "    </tr>\n",
              "    <tr>\n",
              "      <th>95</th>\n",
              "      <td>[내공15]만화제목 캐릭터 알려주세요</td>\n",
              "      <td>https://kin.naver.com/qna/detail.nhn?d1id=13&amp;d...</td>\n",
              "      <td>... 시장슈나이더크루엘라 금붕어 주의보 -금비 교피 세미 수현 남우 이만호 소 다...</td>\n",
              "    </tr>\n",
              "    <tr>\n",
              "      <th>96</th>\n",
              "      <td>이러한 장르의 클럽 음악 추천해주세요!</td>\n",
              "      <td>https://kin.naver.com/qna/detail.nhn?d1id=3&amp;di...</td>\n",
              "      <td>... krewella - enjoy the ride http://www.youtu...</td>\n",
              "    </tr>\n",
              "    <tr>\n",
              "      <th>97</th>\n",
              "      <td>일렉트로닉 음악 추천해주세요!</td>\n",
              "      <td>https://kin.naver.com/qna/detail.nhn?d1id=3&amp;di...</td>\n",
              "      <td>... krewella -enjoy the ride http://www.youtub...</td>\n",
              "    </tr>\n",
              "    <tr>\n",
              "      <th>98</th>\n",
              "      <td>이런풍 영화 추천해주세요</td>\n",
              "      <td>https://kin.naver.com/qna/detail.nhn?d1id=3&amp;di...</td>\n",
              "      <td>... 101 달마시안 / 101 Dalmatians(1996) 감독: 스티븐 헤렉...</td>\n",
              "    </tr>\n",
              "    <tr>\n",
              "      <th>99</th>\n",
              "      <td>영어 해석 좀 부탁드립니다.</td>\n",
              "      <td>https://kin.naver.com/qna/detail.nhn?d1id=11&amp;d...</td>\n",
              "      <td>... -그리고 그들은 크루엘라의 예전 시골 땅에서 나온뒤 그들의 보스의 말을 기다...</td>\n",
              "    </tr>\n",
              "  </tbody>\n",
              "</table>\n",
              "<p>100 rows × 3 columns</p>\n",
              "</div>"
            ],
            "text/plain": [
              "                    Title  ...                                        Description\n",
              "0                 크루엘라 영화  ...  크루엘라 영화 부모님이랑 함께 봐도 괜찮은 내용인가요? 크루엘라 감독 크레이그 질레...\n",
              "1          메가박스에서 크루엘라 티켓  ...  메가박스에서 종이티켓을 크루엘라 티켓?으로 바꿔주잖아요 그거 나중에 영화관에서 따로...\n",
              "2                 크루엘라 영화  ...  제가 5월 26일날 개봉하는 크루엘라 영화를 보려고 하는데 이거 관련된 영화가 전에...\n",
              "3                 크루엘라 내용  ...  크루엘라 예고편 봤는데 도저히 무슨 내용인지 모르겠어요..누가 보고 알려주세요.. ...\n",
              "4                 크루엘라 영화  ...  크루엘라 폰으로는 못보나요? 영화관에서 못보니까 집에서 보려하는데 네이버 시리즈 온...\n",
              "..                    ...  ...                                                ...\n",
              "95   [내공15]만화제목 캐릭터 알려주세요  ...  ... 시장슈나이더크루엘라 금붕어 주의보 -금비 교피 세미 수현 남우 이만호 소 다...\n",
              "96  이러한 장르의 클럽 음악 추천해주세요!  ...  ... krewella - enjoy the ride http://www.youtu...\n",
              "97       일렉트로닉 음악 추천해주세요!  ...  ... krewella -enjoy the ride http://www.youtub...\n",
              "98          이런풍 영화 추천해주세요  ...  ... 101 달마시안 / 101 Dalmatians(1996) 감독: 스티븐 헤렉...\n",
              "99        영어 해석 좀 부탁드립니다.  ...  ... -그리고 그들은 크루엘라의 예전 시골 땅에서 나온뒤 그들의 보스의 말을 기다...\n",
              "\n",
              "[100 rows x 3 columns]"
            ]
          },
          "metadata": {
            "tags": []
          },
          "execution_count": 93
        }
      ]
    },
    {
      "cell_type": "code",
      "metadata": {
        "colab": {
          "base_uri": "https://localhost:8080/",
          "height": 628
        },
        "id": "nM_Z8SmhdAnX",
        "outputId": "6090659d-8f9d-4fc9-9efe-ab8df4bfe70c"
      },
      "source": [
        "## 업그레이드 버전_3 블로그\n",
        "\n",
        "import os\n",
        "import re\n",
        "import sys\n",
        "import json\n",
        "import pandas as pd\n",
        "import urllib.request\n",
        "\n",
        "client_id = \"sM61kgPhnufBKr9u_AhI\"\n",
        "client_secret = \"7DBm_hlqGN\"\n",
        "\n",
        "query = urllib.parse.quote(input(\"검색어를 입력 하세요 : \")) \n",
        "\n",
        "cols = ['Title', 'Link', 'Description', 'bloggername', 'bloggerlink']\n",
        "blog_df = pd.DataFrame(columns=cols)\n",
        "\n",
        "count = 0\n",
        "\n",
        "for i in range(1, 100, 10):\n",
        "    url = \"https://openapi.naver.com/v1/search/blog?query=\" + query \\\n",
        "     + '&display=' + str(10) + '&start=' + str(i) \n",
        "    request = urllib.request.Request(url)\n",
        "    request.add_header(\"X-Naver-Client-Id\",client_id)\n",
        "    request.add_header(\"X-Naver-Client-Secret\",client_secret)\n",
        "    response = urllib.request.urlopen(request)\n",
        "    rescode = response.getcode()\n",
        "    if(rescode==200):\n",
        "        response_body = response.read()\n",
        "        response_dict = json.loads(response_body.decode('utf-8'))\n",
        "        items = response_dict['items']\n",
        "\n",
        "        for j in range(0, len(items)):\n",
        "            p = re.compile('<.*?>')\n",
        "            title = re.sub(p, '', items[j]['title'])\n",
        "            link = items[j]['link']\n",
        "            description = re.sub(p, '', items[j]['description'])\n",
        "            blogger_name = items[j]['bloggername']\n",
        "            blogger_link = items[j]['bloggerlink']\n",
        "            blog_df.loc[count] = [title, link, description, blogger_name, blogger_link]\n",
        "            print(count, end = ' ')\n",
        "            count += 1\n",
        "    else:\n",
        "        print(\"Error Code:\" + rescode)\n",
        "\n",
        "blog_df"
      ],
      "execution_count": 99,
      "outputs": [
        {
          "output_type": "stream",
          "text": [
            "검색어를 입력 하세요 : 액트 오브 킬링\n",
            "0 1 2 3 4 5 6 7 8 9 10 11 12 13 14 15 16 17 18 19 20 21 22 23 24 25 26 27 28 29 30 31 32 33 34 35 36 37 38 39 40 41 42 43 44 45 46 47 48 49 50 51 52 53 54 55 56 57 58 59 60 61 62 63 64 65 66 67 68 69 70 71 72 73 74 75 76 77 78 79 80 81 82 83 84 85 86 87 88 89 90 91 92 93 94 95 96 97 98 99 "
          ],
          "name": "stdout"
        },
        {
          "output_type": "execute_result",
          "data": {
            "text/html": [
              "<div>\n",
              "<style scoped>\n",
              "    .dataframe tbody tr th:only-of-type {\n",
              "        vertical-align: middle;\n",
              "    }\n",
              "\n",
              "    .dataframe tbody tr th {\n",
              "        vertical-align: top;\n",
              "    }\n",
              "\n",
              "    .dataframe thead th {\n",
              "        text-align: right;\n",
              "    }\n",
              "</style>\n",
              "<table border=\"1\" class=\"dataframe\">\n",
              "  <thead>\n",
              "    <tr style=\"text-align: right;\">\n",
              "      <th></th>\n",
              "      <th>Title</th>\n",
              "      <th>Link</th>\n",
              "      <th>Description</th>\n",
              "      <th>bloggername</th>\n",
              "      <th>bloggerlink</th>\n",
              "    </tr>\n",
              "  </thead>\n",
              "  <tbody>\n",
              "    <tr>\n",
              "      <th>0</th>\n",
              "      <td>네이버 탈탈 털어먹기 프로젝트-액트오브킬링</td>\n",
              "      <td>https://blog.naver.com/eehclfdl?Redirect=Log&amp;l...</td>\n",
              "      <td>내용이 잔잔하면 생각을 더 많이 하게 되더라고 오늘의 영화는 액트오브킬링. 장르는 ...</td>\n",
              "      <td>Common people</td>\n",
              "      <td>https://blog.naver.com/eehclfdl</td>\n",
              "    </tr>\n",
              "    <tr>\n",
              "      <th>1</th>\n",
              "      <td>미얀마의 군부 쿠테다, 다큐멘터리 추천 &amp;lt;액트 오브 킬링&amp;gt;</td>\n",
              "      <td>https://blog.naver.com/daliboni?Redirect=Log&amp;l...</td>\n",
              "      <td>&amp;lt;액트 오브 킬링&amp;gt;(2013) 출처 : 네이버 영화 영화 &amp;lt;액트 오...</td>\n",
              "      <td>영상물등급위원회 공식블로그</td>\n",
              "      <td>https://blog.naver.com/daliboni</td>\n",
              "    </tr>\n",
              "    <tr>\n",
              "      <th>2</th>\n",
              "      <td>영화감상: 액트 오브 킬링 (2013)</td>\n",
              "      <td>https://blog.naver.com/garbeyra?Redirect=Log&amp;l...</td>\n",
              "      <td>액트 오브 킬링 감독 조슈아 오펜하이머, 크리스틴 신 출연 안와르 콩고 개봉 201...</td>\n",
              "      <td>질문하는책들</td>\n",
              "      <td>https://blog.naver.com/garbeyra</td>\n",
              "    </tr>\n",
              "    <tr>\n",
              "      <th>3</th>\n",
              "      <td>&amp;lt;액트 오브 킬링&amp;gt;, 인도네시아 동족상잔의 민낯</td>\n",
              "      <td>https://blog.naver.com/ahn0312?Redirect=Log&amp;lo...</td>\n",
              "      <td>한국계 크리스틴 신 감독이 조슈아 오펜하이머와 함께 연출한 160분 다큐멘터리 &amp;l...</td>\n",
              "      <td>동탄남자의 상상바다</td>\n",
              "      <td>https://blog.naver.com/ahn0312</td>\n",
              "    </tr>\n",
              "    <tr>\n",
              "      <th>4</th>\n",
              "      <td>조슈아 오펜하이머 - 액트 오브 킬링(The Act of Killing...</td>\n",
              "      <td>https://blog.naver.com/kanttnak?Redirect=Log&amp;l...</td>\n",
              "      <td>조슈아 오펜하이머 - 액트 오브 킬링(The Act of Killing, 2013)...</td>\n",
              "      <td>바벨의 도서관</td>\n",
              "      <td>https://blog.naver.com/kanttnak</td>\n",
              "    </tr>\n",
              "    <tr>\n",
              "      <th>...</th>\n",
              "      <td>...</td>\n",
              "      <td>...</td>\n",
              "      <td>...</td>\n",
              "      <td>...</td>\n",
              "      <td>...</td>\n",
              "    </tr>\n",
              "    <tr>\n",
              "      <th>95</th>\n",
              "      <td>부산 평론가 땡갈이 - 액트 오브 킬링(The Act of Killing...</td>\n",
              "      <td>https://blog.naver.com/audrud9275?Redirect=Log...</td>\n",
              "      <td>그런데 제목이 [액트 오브 킬링]. 말 그대로 '살인행각을 연기하다'. 무슨 내용일...</td>\n",
              "      <td>땡갈이의 공간</td>\n",
              "      <td>https://blog.naver.com/audrud9275</td>\n",
              "    </tr>\n",
              "    <tr>\n",
              "      <th>96</th>\n",
              "      <td>[영화] 액트 오브 킬링</td>\n",
              "      <td>https://blog.naver.com/elmaeng?Redirect=Log&amp;lo...</td>\n",
              "      <td>액트 오브 킬링 감독 조슈아 오펜하이머, 신혜수 개봉 2013 덴마크, 노르웨이, ...</td>\n",
              "      <td>Sink into Reverie</td>\n",
              "      <td>https://blog.naver.com/elmaeng</td>\n",
              "    </tr>\n",
              "    <tr>\n",
              "      <th>97</th>\n",
              "      <td>액트 오브 킬링 내가 궁금했던거 해결촁</td>\n",
              "      <td>https://blog.naver.com/dofuton197943?Redirect=...</td>\n",
              "      <td>액트 오브 킬링 내가 궁금했던거 해결촁 액트 오브 킬링 엑트 오브 킬링은 영화팬이라...</td>\n",
              "      <td>dofuton197943님의블로그</td>\n",
              "      <td>https://blog.naver.com/dofuton197943</td>\n",
              "    </tr>\n",
              "    <tr>\n",
              "      <th>98</th>\n",
              "      <td>조슈만 오펜하이머 감독, 영화 &amp;lt;액트 오브 킬링&amp;gt;을 보고</td>\n",
              "      <td>https://blog.naver.com/slskrkdhk?Redirect=Log&amp;...</td>\n",
              "      <td>액트 오브 킬링 감독 조슈아 오펜하이머,신혜수 출연 개봉 2013 덴마크,노르웨이,...</td>\n",
              "      <td>시나몬롤 같은 블로그</td>\n",
              "      <td>https://blog.naver.com/slskrkdhk</td>\n",
              "    </tr>\n",
              "    <tr>\n",
              "      <th>99</th>\n",
              "      <td>어떻게 태어나 길러지고 살아가는가 - 영화 &amp;lt;액트 오브 킬링&amp;gt;</td>\n",
              "      <td>https://blog.naver.com/youthmeans?Redirect=Log...</td>\n",
              "      <td>소소한 책수다 62회 방송, '영화가 책을 만났을 때'는 영화 &amp;lt;액트 오브 킬...</td>\n",
              "      <td>푸른봄</td>\n",
              "      <td>https://blog.naver.com/youthmeans</td>\n",
              "    </tr>\n",
              "  </tbody>\n",
              "</table>\n",
              "<p>100 rows × 5 columns</p>\n",
              "</div>"
            ],
            "text/plain": [
              "                                           Title  ...                           bloggerlink\n",
              "0                        네이버 탈탈 털어먹기 프로젝트-액트오브킬링  ...       https://blog.naver.com/eehclfdl\n",
              "1         미얀마의 군부 쿠테다, 다큐멘터리 추천 &lt;액트 오브 킬링&gt;  ...       https://blog.naver.com/daliboni\n",
              "2                          영화감상: 액트 오브 킬링 (2013)  ...       https://blog.naver.com/garbeyra\n",
              "3               &lt;액트 오브 킬링&gt;, 인도네시아 동족상잔의 민낯  ...        https://blog.naver.com/ahn0312\n",
              "4    조슈아 오펜하이머 - 액트 오브 킬링(The Act of Killing...   ...       https://blog.naver.com/kanttnak\n",
              "..                                           ...  ...                                   ...\n",
              "95  부산 평론가 땡갈이 - 액트 오브 킬링(The Act of Killing...   ...     https://blog.naver.com/audrud9275\n",
              "96                                 [영화] 액트 오브 킬링  ...        https://blog.naver.com/elmaeng\n",
              "97                         액트 오브 킬링 내가 궁금했던거 해결촁  ...  https://blog.naver.com/dofuton197943\n",
              "98         조슈만 오펜하이머 감독, 영화 &lt;액트 오브 킬링&gt;을 보고  ...      https://blog.naver.com/slskrkdhk\n",
              "99      어떻게 태어나 길러지고 살아가는가 - 영화 &lt;액트 오브 킬링&gt;  ...     https://blog.naver.com/youthmeans\n",
              "\n",
              "[100 rows x 5 columns]"
            ]
          },
          "metadata": {
            "tags": []
          },
          "execution_count": 99
        }
      ]
    }
  ]
}
