{
  "nbformat": 4,
  "nbformat_minor": 0,
  "metadata": {
    "colab": {
      "name": "Team3-210604 발표",
      "provenance": [],
      "collapsed_sections": [],
      "toc_visible": true,
      "include_colab_link": true
    },
    "kernelspec": {
      "name": "python3",
      "display_name": "Python 3"
    },
    "language_info": {
      "name": "python"
    }
  },
  "cells": [
    {
      "cell_type": "markdown",
      "metadata": {
        "id": "view-in-github",
        "colab_type": "text"
      },
      "source": [
        "<a href=\"https://colab.research.google.com/github/dohyeon-kim012/python-1./blob/main/Mini_project/%EB%8D%B0%EC%9D%B4%ED%84%B0%EC%8B%9C%EA%B0%81%ED%99%94_%EC%B2%AD%EB%85%84%20%EC%9E%90%EC%82%B4%EB%A5%A0%EA%B3%BC%20%EC%8B%A4%EC%97%85%EB%A5%A0%EC%9D%98%20%EA%B4%80%EA%B3%84%EC%84%B1%20.ipynb\" target=\"_parent\"><img src=\"https://colab.research.google.com/assets/colab-badge.svg\" alt=\"Open In Colab\"/></a>"
      ]
    },
    {
      "cell_type": "code",
      "metadata": {
        "colab": {
          "base_uri": "https://localhost:8080/"
        },
        "id": "hO7RbbIqjFnZ",
        "outputId": "15a84aaf-15e7-47bf-c6b8-a066ffc45f5e"
      },
      "source": [
        "!apt -qq -y install fonts-nanum > /dev/null\n",
        "import matplotlib.pyplot as plt\n",
        "import matplotlib.font_manager as fm\n",
        "fontpath = '/usr/share/fonts/truetype/nanum/NanumBarunGothic.ttf'\n",
        "font = fm.FontProperties(fname=fontpath, size=10)\n",
        "fm._rebuild()\n",
        "# 그래프에 retina display 적용\n",
        "%config InlineBackend.figure_format = 'retina'\n",
        "# Colab 의 한글 폰트 설정\n",
        "plt.rc('font', family='NanumBarunGothic')"
      ],
      "execution_count": null,
      "outputs": [
        {
          "output_type": "stream",
          "text": [
            "\n",
            "WARNING: apt does not have a stable CLI interface. Use with caution in scripts.\n",
            "\n"
          ],
          "name": "stdout"
        }
      ]
    },
    {
      "cell_type": "code",
      "metadata": {
        "id": "EUgZ0adgcRnE"
      },
      "source": [
        "# 그래프 음수 표현\n",
        "plt.rcParams['axes.unicode_minus'] = False "
      ],
      "execution_count": null,
      "outputs": []
    },
    {
      "cell_type": "code",
      "metadata": {
        "colab": {
          "base_uri": "https://localhost:8080/"
        },
        "id": "fEe-nI0JcQH9",
        "outputId": "c02e70e1-527e-4057-898a-024a5c41d8fd"
      },
      "source": [
        "from google.colab import drive\n",
        "drive.mount('/content/drive')"
      ],
      "execution_count": null,
      "outputs": [
        {
          "output_type": "stream",
          "text": [
            "Drive already mounted at /content/drive; to attempt to forcibly remount, call drive.mount(\"/content/drive\", force_remount=True).\n"
          ],
          "name": "stdout"
        }
      ]
    },
    {
      "cell_type": "markdown",
      "metadata": {
        "id": "c5MezWqB_GRD"
      },
      "source": [
        "# 1. 사용한 데이터셋\n",
        "1. 서울시 청년(**15~29세**) 고용지표 통계\n",
        "http://data.seoul.go.kr/dataList/10785/S/2/datasetView.do\n",
        "2. 서울시 자살률 (연령별) 통계\n",
        "https://data.seoul.go.kr/dataList/10775/S/2/datasetView.do#"
      ]
    },
    {
      "cell_type": "markdown",
      "metadata": {
        "id": "f4acbN9cC06B"
      },
      "source": [
        "## 1-1. 표현하고자 하는 데이터\n",
        "1. 연도별 15~29세(이하 청년) 실업률\n",
        "2. 연도별 청년 자살률  \n",
        "3. 기준이 되는 연도는 2009년 ~ 2019년으로 한정\n",
        "- 공통 x축: 연도\n",
        "- y축: 청년 실업률, 청년 자살률"
      ]
    },
    {
      "cell_type": "code",
      "metadata": {
        "id": "HnQsNPWFRyx6"
      },
      "source": [
        "import pandas as pd"
      ],
      "execution_count": null,
      "outputs": []
    },
    {
      "cell_type": "code",
      "metadata": {
        "colab": {
          "base_uri": "https://localhost:8080/",
          "height": 373
        },
        "id": "QzMnquhvjS__",
        "outputId": "55547407-37a8-4db1-be32-0b9273c01ee7"
      },
      "source": [
        "# 서울시 2009~ 2019 청년 실업률\n",
        "hire_file_path = '/content/drive/MyDrive/Colab Notebooks/python_AI/data/seoul_year_hire.txt'\n",
        "seoul_hire = pd.read_csv(hire_file_path, sep='\\t')\n",
        "seoul_hire"
      ],
      "execution_count": null,
      "outputs": [
        {
          "output_type": "execute_result",
          "data": {
            "text/html": [
              "<div>\n",
              "<style scoped>\n",
              "    .dataframe tbody tr th:only-of-type {\n",
              "        vertical-align: middle;\n",
              "    }\n",
              "\n",
              "    .dataframe tbody tr th {\n",
              "        vertical-align: top;\n",
              "    }\n",
              "\n",
              "    .dataframe thead th {\n",
              "        text-align: right;\n",
              "    }\n",
              "</style>\n",
              "<table border=\"1\" class=\"dataframe\">\n",
              "  <thead>\n",
              "    <tr style=\"text-align: right;\">\n",
              "      <th></th>\n",
              "      <th>기간</th>\n",
              "      <th>구분</th>\n",
              "      <th>생산가능인구</th>\n",
              "      <th>경제활동인구</th>\n",
              "      <th>취업자</th>\n",
              "      <th>실업자</th>\n",
              "      <th>경제활동참가율(%)</th>\n",
              "      <th>고용률(%)</th>\n",
              "      <th>실업률(%)</th>\n",
              "    </tr>\n",
              "  </thead>\n",
              "  <tbody>\n",
              "    <tr>\n",
              "      <th>0</th>\n",
              "      <td>2009</td>\n",
              "      <td>구분</td>\n",
              "      <td>2,233</td>\n",
              "      <td>1,091</td>\n",
              "      <td>1,002</td>\n",
              "      <td>89</td>\n",
              "      <td>48.9</td>\n",
              "      <td>44.9</td>\n",
              "      <td>8.1</td>\n",
              "    </tr>\n",
              "    <tr>\n",
              "      <th>1</th>\n",
              "      <td>2010</td>\n",
              "      <td>구분</td>\n",
              "      <td>2,175</td>\n",
              "      <td>1,050</td>\n",
              "      <td>962</td>\n",
              "      <td>88</td>\n",
              "      <td>48.3</td>\n",
              "      <td>44.2</td>\n",
              "      <td>8.4</td>\n",
              "    </tr>\n",
              "    <tr>\n",
              "      <th>2</th>\n",
              "      <td>2011</td>\n",
              "      <td>구분</td>\n",
              "      <td>2,121</td>\n",
              "      <td>1,052</td>\n",
              "      <td>965</td>\n",
              "      <td>88</td>\n",
              "      <td>49.6</td>\n",
              "      <td>45.5</td>\n",
              "      <td>8.3</td>\n",
              "    </tr>\n",
              "    <tr>\n",
              "      <th>3</th>\n",
              "      <td>2012</td>\n",
              "      <td>구분</td>\n",
              "      <td>2,053</td>\n",
              "      <td>983</td>\n",
              "      <td>901</td>\n",
              "      <td>82</td>\n",
              "      <td>47.9</td>\n",
              "      <td>43.9</td>\n",
              "      <td>8.3</td>\n",
              "    </tr>\n",
              "    <tr>\n",
              "      <th>4</th>\n",
              "      <td>2013</td>\n",
              "      <td>구분</td>\n",
              "      <td>1,996</td>\n",
              "      <td>933</td>\n",
              "      <td>852</td>\n",
              "      <td>81</td>\n",
              "      <td>46.7</td>\n",
              "      <td>42.7</td>\n",
              "      <td>8.7</td>\n",
              "    </tr>\n",
              "    <tr>\n",
              "      <th>5</th>\n",
              "      <td>2014</td>\n",
              "      <td>구분</td>\n",
              "      <td>1,956</td>\n",
              "      <td>936</td>\n",
              "      <td>839</td>\n",
              "      <td>97</td>\n",
              "      <td>47.9</td>\n",
              "      <td>42.9</td>\n",
              "      <td>10.4</td>\n",
              "    </tr>\n",
              "    <tr>\n",
              "      <th>6</th>\n",
              "      <td>2015</td>\n",
              "      <td>구분</td>\n",
              "      <td>1,924</td>\n",
              "      <td>930</td>\n",
              "      <td>843</td>\n",
              "      <td>87</td>\n",
              "      <td>48.3</td>\n",
              "      <td>43.8</td>\n",
              "      <td>9.3</td>\n",
              "    </tr>\n",
              "    <tr>\n",
              "      <th>7</th>\n",
              "      <td>2016</td>\n",
              "      <td>구분</td>\n",
              "      <td>1,907</td>\n",
              "      <td>948</td>\n",
              "      <td>850</td>\n",
              "      <td>97</td>\n",
              "      <td>49.7</td>\n",
              "      <td>44.6</td>\n",
              "      <td>10.3</td>\n",
              "    </tr>\n",
              "    <tr>\n",
              "      <th>8</th>\n",
              "      <td>2017</td>\n",
              "      <td>구분</td>\n",
              "      <td>1,881</td>\n",
              "      <td>948</td>\n",
              "      <td>852</td>\n",
              "      <td>96</td>\n",
              "      <td>50.4</td>\n",
              "      <td>45.3</td>\n",
              "      <td>10.1</td>\n",
              "    </tr>\n",
              "    <tr>\n",
              "      <th>9</th>\n",
              "      <td>2018</td>\n",
              "      <td>구분</td>\n",
              "      <td>1,850</td>\n",
              "      <td>949</td>\n",
              "      <td>853</td>\n",
              "      <td>96</td>\n",
              "      <td>51.3</td>\n",
              "      <td>46.1</td>\n",
              "      <td>10.1</td>\n",
              "    </tr>\n",
              "    <tr>\n",
              "      <th>10</th>\n",
              "      <td>2019</td>\n",
              "      <td>구분</td>\n",
              "      <td>1,830</td>\n",
              "      <td>953</td>\n",
              "      <td>870</td>\n",
              "      <td>83</td>\n",
              "      <td>52.1</td>\n",
              "      <td>47.5</td>\n",
              "      <td>8.8</td>\n",
              "    </tr>\n",
              "  </tbody>\n",
              "</table>\n",
              "</div>"
            ],
            "text/plain": [
              "      기간  구분 생산가능인구 경제활동인구    취업자  실업자  경제활동참가율(%)  고용률(%)  실업률(%)\n",
              "0   2009  구분  2,233  1,091  1,002   89        48.9    44.9     8.1\n",
              "1   2010  구분  2,175  1,050    962   88        48.3    44.2     8.4\n",
              "2   2011  구분  2,121  1,052    965   88        49.6    45.5     8.3\n",
              "3   2012  구분  2,053    983    901   82        47.9    43.9     8.3\n",
              "4   2013  구분  1,996    933    852   81        46.7    42.7     8.7\n",
              "5   2014  구분  1,956    936    839   97        47.9    42.9    10.4\n",
              "6   2015  구분  1,924    930    843   87        48.3    43.8     9.3\n",
              "7   2016  구분  1,907    948    850   97        49.7    44.6    10.3\n",
              "8   2017  구분  1,881    948    852   96        50.4    45.3    10.1\n",
              "9   2018  구분  1,850    949    853   96        51.3    46.1    10.1\n",
              "10  2019  구분  1,830    953    870   83        52.1    47.5     8.8"
            ]
          },
          "metadata": {
            "tags": []
          },
          "execution_count": 29
        }
      ]
    },
    {
      "cell_type": "code",
      "metadata": {
        "colab": {
          "base_uri": "https://localhost:8080/",
          "height": 402
        },
        "id": "KeXY-Y0LR10a",
        "outputId": "a2a11713-14e3-460a-8508-6d9c8a63d54e"
      },
      "source": [
        "# 서울시 2009 ~ 2019 전체 연령별 자살률\n",
        "death_file_path = '/content/drive/MyDrive/Colab Notebooks/python_AI/data/seoul_year_death.txt'\n",
        "seoul_death = pd.read_csv(death_file_path, sep='\\t')\n",
        "seoul_death"
      ],
      "execution_count": null,
      "outputs": [
        {
          "output_type": "execute_result",
          "data": {
            "text/html": [
              "<div>\n",
              "<style scoped>\n",
              "    .dataframe tbody tr th:only-of-type {\n",
              "        vertical-align: middle;\n",
              "    }\n",
              "\n",
              "    .dataframe tbody tr th {\n",
              "        vertical-align: top;\n",
              "    }\n",
              "\n",
              "    .dataframe thead th {\n",
              "        text-align: right;\n",
              "    }\n",
              "</style>\n",
              "<table border=\"1\" class=\"dataframe\">\n",
              "  <thead>\n",
              "    <tr style=\"text-align: right;\">\n",
              "      <th></th>\n",
              "      <th>기간</th>\n",
              "      <th>연령</th>\n",
              "      <th>자살 사망자수(명)</th>\n",
              "      <th>자살 사망자수(명).1</th>\n",
              "      <th>자살 사망자수(명).2</th>\n",
              "      <th>자살률(십만명당)</th>\n",
              "      <th>자살률(십만명당).1</th>\n",
              "      <th>자살률(십만명당).2</th>\n",
              "    </tr>\n",
              "  </thead>\n",
              "  <tbody>\n",
              "    <tr>\n",
              "      <th>0</th>\n",
              "      <td>기간</td>\n",
              "      <td>연령</td>\n",
              "      <td>계</td>\n",
              "      <td>남자</td>\n",
              "      <td>여자</td>\n",
              "      <td>계</td>\n",
              "      <td>남자</td>\n",
              "      <td>여자</td>\n",
              "    </tr>\n",
              "    <tr>\n",
              "      <th>1</th>\n",
              "      <td>2009</td>\n",
              "      <td>합계</td>\n",
              "      <td>2,662</td>\n",
              "      <td>1,631</td>\n",
              "      <td>1,031</td>\n",
              "      <td>26.1</td>\n",
              "      <td>32.2</td>\n",
              "      <td>20</td>\n",
              "    </tr>\n",
              "    <tr>\n",
              "      <th>2</th>\n",
              "      <td>2009</td>\n",
              "      <td>0∼14세</td>\n",
              "      <td>9</td>\n",
              "      <td>3</td>\n",
              "      <td>6</td>\n",
              "      <td>1.5</td>\n",
              "      <td>0.9</td>\n",
              "      <td>2.1</td>\n",
              "    </tr>\n",
              "    <tr>\n",
              "      <th>3</th>\n",
              "      <td>2009</td>\n",
              "      <td>15~19세</td>\n",
              "      <td>68</td>\n",
              "      <td>43</td>\n",
              "      <td>25</td>\n",
              "      <td>10.2</td>\n",
              "      <td>12.3</td>\n",
              "      <td>8</td>\n",
              "    </tr>\n",
              "    <tr>\n",
              "      <th>4</th>\n",
              "      <td>2009</td>\n",
              "      <td>20~24세</td>\n",
              "      <td>134</td>\n",
              "      <td>62</td>\n",
              "      <td>72</td>\n",
              "      <td>19.6</td>\n",
              "      <td>18.2</td>\n",
              "      <td>21</td>\n",
              "    </tr>\n",
              "    <tr>\n",
              "      <th>...</th>\n",
              "      <td>...</td>\n",
              "      <td>...</td>\n",
              "      <td>...</td>\n",
              "      <td>...</td>\n",
              "      <td>...</td>\n",
              "      <td>...</td>\n",
              "      <td>...</td>\n",
              "      <td>...</td>\n",
              "    </tr>\n",
              "    <tr>\n",
              "      <th>198</th>\n",
              "      <td>2019</td>\n",
              "      <td>75~79세</td>\n",
              "      <td>113</td>\n",
              "      <td>87</td>\n",
              "      <td>26</td>\n",
              "      <td>39.7</td>\n",
              "      <td>67.9</td>\n",
              "      <td>16.6</td>\n",
              "    </tr>\n",
              "    <tr>\n",
              "      <th>199</th>\n",
              "      <td>2019</td>\n",
              "      <td>80~84세</td>\n",
              "      <td>96</td>\n",
              "      <td>62</td>\n",
              "      <td>34</td>\n",
              "      <td>57.6</td>\n",
              "      <td>93.1</td>\n",
              "      <td>33.9</td>\n",
              "    </tr>\n",
              "    <tr>\n",
              "      <th>200</th>\n",
              "      <td>2019</td>\n",
              "      <td>85~89세</td>\n",
              "      <td>40</td>\n",
              "      <td>26</td>\n",
              "      <td>14</td>\n",
              "      <td>53.8</td>\n",
              "      <td>109.2</td>\n",
              "      <td>27.7</td>\n",
              "    </tr>\n",
              "    <tr>\n",
              "      <th>201</th>\n",
              "      <td>2019</td>\n",
              "      <td>90세이상</td>\n",
              "      <td>20</td>\n",
              "      <td>8</td>\n",
              "      <td>12</td>\n",
              "      <td>58.7</td>\n",
              "      <td>98.2</td>\n",
              "      <td>46.3</td>\n",
              "    </tr>\n",
              "    <tr>\n",
              "      <th>202</th>\n",
              "      <td>2019</td>\n",
              "      <td>미상</td>\n",
              "      <td>2</td>\n",
              "      <td>2</td>\n",
              "      <td>-</td>\n",
              "      <td>-</td>\n",
              "      <td>-</td>\n",
              "      <td>-</td>\n",
              "    </tr>\n",
              "  </tbody>\n",
              "</table>\n",
              "<p>203 rows × 8 columns</p>\n",
              "</div>"
            ],
            "text/plain": [
              "       기간      연령 자살 사망자수(명)  ... 자살률(십만명당) 자살률(십만명당).1 자살률(십만명당).2\n",
              "0      기간      연령          계  ...         계          남자          여자\n",
              "1    2009      합계      2,662  ...      26.1        32.2          20\n",
              "2    2009   0∼14세          9  ...       1.5         0.9         2.1\n",
              "3    2009  15~19세         68  ...      10.2        12.3           8\n",
              "4    2009  20~24세        134  ...      19.6        18.2          21\n",
              "..    ...     ...        ...  ...       ...         ...         ...\n",
              "198  2019  75~79세        113  ...      39.7        67.9        16.6\n",
              "199  2019  80~84세         96  ...      57.6        93.1        33.9\n",
              "200  2019  85~89세         40  ...      53.8       109.2        27.7\n",
              "201  2019   90세이상         20  ...      58.7        98.2        46.3\n",
              "202  2019      미상          2  ...         -           -           -\n",
              "\n",
              "[203 rows x 8 columns]"
            ]
          },
          "metadata": {
            "tags": []
          },
          "execution_count": 30
        }
      ]
    },
    {
      "cell_type": "markdown",
      "metadata": {
        "id": "f90Bu0u_HNyK"
      },
      "source": [
        "# 2. 가설\n",
        "> **실업률**이 높아진다면 **자살률**도 높아지는가?  \n",
        "데이터셋 **청년 실업률**과 **전체 연령별 자살률**을 활용하므로  \n",
        "**청년 실업률**에 맞춰 **청년 자살률**로 데이터 전처리를 하고  \n",
        "데이터 시각화를 하여 **실업률**과 **자살률**의 연관성이 있는지 확인\n"
      ]
    },
    {
      "cell_type": "markdown",
      "metadata": {
        "id": "nEvcpTM8kJFP"
      },
      "source": [
        "# 3. 데이터 전처리"
      ]
    },
    {
      "cell_type": "markdown",
      "metadata": {
        "id": "KI4xTgZrU-dK"
      },
      "source": [
        "## 3-1. 자살률, 실업률 데이터프레임 컬럼명 변경"
      ]
    },
    {
      "cell_type": "code",
      "metadata": {
        "id": "ajeyIEOLkKIH",
        "colab": {
          "base_uri": "https://localhost:8080/",
          "height": 373
        },
        "outputId": "fa1ec559-c40c-4be3-a8ad-000c59c9f6b8"
      },
      "source": [
        "seoul_death_columns = ['연도', '연령', '자살 사망자수', '남자 자살 사망자수', '여자 자살 사망자수', '자살률', '남자 자살률', '여자 자살률']\n",
        "seoul_death.columns = seoul_death_columns\n",
        "\n",
        "seoul_hire = seoul_hire.rename(columns={\n",
        "    '기간': '연도',\n",
        "    '실업률(%)': '실업률'\n",
        "  }\n",
        ")\n",
        "seoul_hire"
      ],
      "execution_count": null,
      "outputs": [
        {
          "output_type": "execute_result",
          "data": {
            "text/html": [
              "<div>\n",
              "<style scoped>\n",
              "    .dataframe tbody tr th:only-of-type {\n",
              "        vertical-align: middle;\n",
              "    }\n",
              "\n",
              "    .dataframe tbody tr th {\n",
              "        vertical-align: top;\n",
              "    }\n",
              "\n",
              "    .dataframe thead th {\n",
              "        text-align: right;\n",
              "    }\n",
              "</style>\n",
              "<table border=\"1\" class=\"dataframe\">\n",
              "  <thead>\n",
              "    <tr style=\"text-align: right;\">\n",
              "      <th></th>\n",
              "      <th>연도</th>\n",
              "      <th>구분</th>\n",
              "      <th>생산가능인구</th>\n",
              "      <th>경제활동인구</th>\n",
              "      <th>취업자</th>\n",
              "      <th>실업자</th>\n",
              "      <th>경제활동참가율(%)</th>\n",
              "      <th>고용률(%)</th>\n",
              "      <th>실업률</th>\n",
              "    </tr>\n",
              "  </thead>\n",
              "  <tbody>\n",
              "    <tr>\n",
              "      <th>0</th>\n",
              "      <td>2009</td>\n",
              "      <td>구분</td>\n",
              "      <td>2,233</td>\n",
              "      <td>1,091</td>\n",
              "      <td>1,002</td>\n",
              "      <td>89</td>\n",
              "      <td>48.9</td>\n",
              "      <td>44.9</td>\n",
              "      <td>8.1</td>\n",
              "    </tr>\n",
              "    <tr>\n",
              "      <th>1</th>\n",
              "      <td>2010</td>\n",
              "      <td>구분</td>\n",
              "      <td>2,175</td>\n",
              "      <td>1,050</td>\n",
              "      <td>962</td>\n",
              "      <td>88</td>\n",
              "      <td>48.3</td>\n",
              "      <td>44.2</td>\n",
              "      <td>8.4</td>\n",
              "    </tr>\n",
              "    <tr>\n",
              "      <th>2</th>\n",
              "      <td>2011</td>\n",
              "      <td>구분</td>\n",
              "      <td>2,121</td>\n",
              "      <td>1,052</td>\n",
              "      <td>965</td>\n",
              "      <td>88</td>\n",
              "      <td>49.6</td>\n",
              "      <td>45.5</td>\n",
              "      <td>8.3</td>\n",
              "    </tr>\n",
              "    <tr>\n",
              "      <th>3</th>\n",
              "      <td>2012</td>\n",
              "      <td>구분</td>\n",
              "      <td>2,053</td>\n",
              "      <td>983</td>\n",
              "      <td>901</td>\n",
              "      <td>82</td>\n",
              "      <td>47.9</td>\n",
              "      <td>43.9</td>\n",
              "      <td>8.3</td>\n",
              "    </tr>\n",
              "    <tr>\n",
              "      <th>4</th>\n",
              "      <td>2013</td>\n",
              "      <td>구분</td>\n",
              "      <td>1,996</td>\n",
              "      <td>933</td>\n",
              "      <td>852</td>\n",
              "      <td>81</td>\n",
              "      <td>46.7</td>\n",
              "      <td>42.7</td>\n",
              "      <td>8.7</td>\n",
              "    </tr>\n",
              "    <tr>\n",
              "      <th>5</th>\n",
              "      <td>2014</td>\n",
              "      <td>구분</td>\n",
              "      <td>1,956</td>\n",
              "      <td>936</td>\n",
              "      <td>839</td>\n",
              "      <td>97</td>\n",
              "      <td>47.9</td>\n",
              "      <td>42.9</td>\n",
              "      <td>10.4</td>\n",
              "    </tr>\n",
              "    <tr>\n",
              "      <th>6</th>\n",
              "      <td>2015</td>\n",
              "      <td>구분</td>\n",
              "      <td>1,924</td>\n",
              "      <td>930</td>\n",
              "      <td>843</td>\n",
              "      <td>87</td>\n",
              "      <td>48.3</td>\n",
              "      <td>43.8</td>\n",
              "      <td>9.3</td>\n",
              "    </tr>\n",
              "    <tr>\n",
              "      <th>7</th>\n",
              "      <td>2016</td>\n",
              "      <td>구분</td>\n",
              "      <td>1,907</td>\n",
              "      <td>948</td>\n",
              "      <td>850</td>\n",
              "      <td>97</td>\n",
              "      <td>49.7</td>\n",
              "      <td>44.6</td>\n",
              "      <td>10.3</td>\n",
              "    </tr>\n",
              "    <tr>\n",
              "      <th>8</th>\n",
              "      <td>2017</td>\n",
              "      <td>구분</td>\n",
              "      <td>1,881</td>\n",
              "      <td>948</td>\n",
              "      <td>852</td>\n",
              "      <td>96</td>\n",
              "      <td>50.4</td>\n",
              "      <td>45.3</td>\n",
              "      <td>10.1</td>\n",
              "    </tr>\n",
              "    <tr>\n",
              "      <th>9</th>\n",
              "      <td>2018</td>\n",
              "      <td>구분</td>\n",
              "      <td>1,850</td>\n",
              "      <td>949</td>\n",
              "      <td>853</td>\n",
              "      <td>96</td>\n",
              "      <td>51.3</td>\n",
              "      <td>46.1</td>\n",
              "      <td>10.1</td>\n",
              "    </tr>\n",
              "    <tr>\n",
              "      <th>10</th>\n",
              "      <td>2019</td>\n",
              "      <td>구분</td>\n",
              "      <td>1,830</td>\n",
              "      <td>953</td>\n",
              "      <td>870</td>\n",
              "      <td>83</td>\n",
              "      <td>52.1</td>\n",
              "      <td>47.5</td>\n",
              "      <td>8.8</td>\n",
              "    </tr>\n",
              "  </tbody>\n",
              "</table>\n",
              "</div>"
            ],
            "text/plain": [
              "      연도  구분 생산가능인구 경제활동인구    취업자  실업자  경제활동참가율(%)  고용률(%)   실업률\n",
              "0   2009  구분  2,233  1,091  1,002   89        48.9    44.9   8.1\n",
              "1   2010  구분  2,175  1,050    962   88        48.3    44.2   8.4\n",
              "2   2011  구분  2,121  1,052    965   88        49.6    45.5   8.3\n",
              "3   2012  구분  2,053    983    901   82        47.9    43.9   8.3\n",
              "4   2013  구분  1,996    933    852   81        46.7    42.7   8.7\n",
              "5   2014  구분  1,956    936    839   97        47.9    42.9  10.4\n",
              "6   2015  구분  1,924    930    843   87        48.3    43.8   9.3\n",
              "7   2016  구분  1,907    948    850   97        49.7    44.6  10.3\n",
              "8   2017  구분  1,881    948    852   96        50.4    45.3  10.1\n",
              "9   2018  구분  1,850    949    853   96        51.3    46.1  10.1\n",
              "10  2019  구분  1,830    953    870   83        52.1    47.5   8.8"
            ]
          },
          "metadata": {
            "tags": []
          },
          "execution_count": 31
        }
      ]
    },
    {
      "cell_type": "markdown",
      "metadata": {
        "id": "Pz1OIj3xI3dL"
      },
      "source": [
        "## 3-2. 실업률 데이터프레임의 필요한 컬럼만 가져오기"
      ]
    },
    {
      "cell_type": "code",
      "metadata": {
        "colab": {
          "base_uri": "https://localhost:8080/",
          "height": 373
        },
        "id": "stqxlh8gGXCJ",
        "outputId": "28033f62-581e-4753-812f-974f0a628133"
      },
      "source": [
        "seoul_hire_year_mean = seoul_hire.loc[:, ['연도', '실업률']]\n",
        "seoul_hire_year_mean"
      ],
      "execution_count": null,
      "outputs": [
        {
          "output_type": "execute_result",
          "data": {
            "text/html": [
              "<div>\n",
              "<style scoped>\n",
              "    .dataframe tbody tr th:only-of-type {\n",
              "        vertical-align: middle;\n",
              "    }\n",
              "\n",
              "    .dataframe tbody tr th {\n",
              "        vertical-align: top;\n",
              "    }\n",
              "\n",
              "    .dataframe thead th {\n",
              "        text-align: right;\n",
              "    }\n",
              "</style>\n",
              "<table border=\"1\" class=\"dataframe\">\n",
              "  <thead>\n",
              "    <tr style=\"text-align: right;\">\n",
              "      <th></th>\n",
              "      <th>연도</th>\n",
              "      <th>실업률</th>\n",
              "    </tr>\n",
              "  </thead>\n",
              "  <tbody>\n",
              "    <tr>\n",
              "      <th>0</th>\n",
              "      <td>2009</td>\n",
              "      <td>8.1</td>\n",
              "    </tr>\n",
              "    <tr>\n",
              "      <th>1</th>\n",
              "      <td>2010</td>\n",
              "      <td>8.4</td>\n",
              "    </tr>\n",
              "    <tr>\n",
              "      <th>2</th>\n",
              "      <td>2011</td>\n",
              "      <td>8.3</td>\n",
              "    </tr>\n",
              "    <tr>\n",
              "      <th>3</th>\n",
              "      <td>2012</td>\n",
              "      <td>8.3</td>\n",
              "    </tr>\n",
              "    <tr>\n",
              "      <th>4</th>\n",
              "      <td>2013</td>\n",
              "      <td>8.7</td>\n",
              "    </tr>\n",
              "    <tr>\n",
              "      <th>5</th>\n",
              "      <td>2014</td>\n",
              "      <td>10.4</td>\n",
              "    </tr>\n",
              "    <tr>\n",
              "      <th>6</th>\n",
              "      <td>2015</td>\n",
              "      <td>9.3</td>\n",
              "    </tr>\n",
              "    <tr>\n",
              "      <th>7</th>\n",
              "      <td>2016</td>\n",
              "      <td>10.3</td>\n",
              "    </tr>\n",
              "    <tr>\n",
              "      <th>8</th>\n",
              "      <td>2017</td>\n",
              "      <td>10.1</td>\n",
              "    </tr>\n",
              "    <tr>\n",
              "      <th>9</th>\n",
              "      <td>2018</td>\n",
              "      <td>10.1</td>\n",
              "    </tr>\n",
              "    <tr>\n",
              "      <th>10</th>\n",
              "      <td>2019</td>\n",
              "      <td>8.8</td>\n",
              "    </tr>\n",
              "  </tbody>\n",
              "</table>\n",
              "</div>"
            ],
            "text/plain": [
              "      연도   실업률\n",
              "0   2009   8.1\n",
              "1   2010   8.4\n",
              "2   2011   8.3\n",
              "3   2012   8.3\n",
              "4   2013   8.7\n",
              "5   2014  10.4\n",
              "6   2015   9.3\n",
              "7   2016  10.3\n",
              "8   2017  10.1\n",
              "9   2018  10.1\n",
              "10  2019   8.8"
            ]
          },
          "metadata": {
            "tags": []
          },
          "execution_count": 32
        }
      ]
    },
    {
      "cell_type": "markdown",
      "metadata": {
        "id": "G_58SZtHV6XD"
      },
      "source": [
        "## 3-3. 자살률 데이터프레임의 필요한 컬럼만 가져오기"
      ]
    },
    {
      "cell_type": "code",
      "metadata": {
        "colab": {
          "base_uri": "https://localhost:8080/",
          "height": 402
        },
        "id": "UjHQ89eO2ieY",
        "outputId": "f75b624f-f3a3-4cfb-e671-58875e4dc6f9"
      },
      "source": [
        "seoul_death = seoul_death.loc[:, ['연도', '연령', '자살률']]\n",
        "seoul_death"
      ],
      "execution_count": null,
      "outputs": [
        {
          "output_type": "execute_result",
          "data": {
            "text/html": [
              "<div>\n",
              "<style scoped>\n",
              "    .dataframe tbody tr th:only-of-type {\n",
              "        vertical-align: middle;\n",
              "    }\n",
              "\n",
              "    .dataframe tbody tr th {\n",
              "        vertical-align: top;\n",
              "    }\n",
              "\n",
              "    .dataframe thead th {\n",
              "        text-align: right;\n",
              "    }\n",
              "</style>\n",
              "<table border=\"1\" class=\"dataframe\">\n",
              "  <thead>\n",
              "    <tr style=\"text-align: right;\">\n",
              "      <th></th>\n",
              "      <th>연도</th>\n",
              "      <th>연령</th>\n",
              "      <th>자살률</th>\n",
              "    </tr>\n",
              "  </thead>\n",
              "  <tbody>\n",
              "    <tr>\n",
              "      <th>0</th>\n",
              "      <td>기간</td>\n",
              "      <td>연령</td>\n",
              "      <td>계</td>\n",
              "    </tr>\n",
              "    <tr>\n",
              "      <th>1</th>\n",
              "      <td>2009</td>\n",
              "      <td>합계</td>\n",
              "      <td>26.1</td>\n",
              "    </tr>\n",
              "    <tr>\n",
              "      <th>2</th>\n",
              "      <td>2009</td>\n",
              "      <td>0∼14세</td>\n",
              "      <td>1.5</td>\n",
              "    </tr>\n",
              "    <tr>\n",
              "      <th>3</th>\n",
              "      <td>2009</td>\n",
              "      <td>15~19세</td>\n",
              "      <td>10.2</td>\n",
              "    </tr>\n",
              "    <tr>\n",
              "      <th>4</th>\n",
              "      <td>2009</td>\n",
              "      <td>20~24세</td>\n",
              "      <td>19.6</td>\n",
              "    </tr>\n",
              "    <tr>\n",
              "      <th>...</th>\n",
              "      <td>...</td>\n",
              "      <td>...</td>\n",
              "      <td>...</td>\n",
              "    </tr>\n",
              "    <tr>\n",
              "      <th>198</th>\n",
              "      <td>2019</td>\n",
              "      <td>75~79세</td>\n",
              "      <td>39.7</td>\n",
              "    </tr>\n",
              "    <tr>\n",
              "      <th>199</th>\n",
              "      <td>2019</td>\n",
              "      <td>80~84세</td>\n",
              "      <td>57.6</td>\n",
              "    </tr>\n",
              "    <tr>\n",
              "      <th>200</th>\n",
              "      <td>2019</td>\n",
              "      <td>85~89세</td>\n",
              "      <td>53.8</td>\n",
              "    </tr>\n",
              "    <tr>\n",
              "      <th>201</th>\n",
              "      <td>2019</td>\n",
              "      <td>90세이상</td>\n",
              "      <td>58.7</td>\n",
              "    </tr>\n",
              "    <tr>\n",
              "      <th>202</th>\n",
              "      <td>2019</td>\n",
              "      <td>미상</td>\n",
              "      <td>-</td>\n",
              "    </tr>\n",
              "  </tbody>\n",
              "</table>\n",
              "<p>203 rows × 3 columns</p>\n",
              "</div>"
            ],
            "text/plain": [
              "       연도      연령   자살률\n",
              "0      기간      연령     계\n",
              "1    2009      합계  26.1\n",
              "2    2009   0∼14세   1.5\n",
              "3    2009  15~19세  10.2\n",
              "4    2009  20~24세  19.6\n",
              "..    ...     ...   ...\n",
              "198  2019  75~79세  39.7\n",
              "199  2019  80~84세  57.6\n",
              "200  2019  85~89세  53.8\n",
              "201  2019   90세이상  58.7\n",
              "202  2019      미상     -\n",
              "\n",
              "[203 rows x 3 columns]"
            ]
          },
          "metadata": {
            "tags": []
          },
          "execution_count": 33
        }
      ]
    },
    {
      "cell_type": "markdown",
      "metadata": {
        "id": "XuP1vyOQJM8q"
      },
      "source": [
        "## 3-4. 자살률 데이터프레임의 불필요한 행을 삭제"
      ]
    },
    {
      "cell_type": "code",
      "metadata": {
        "colab": {
          "base_uri": "https://localhost:8080/",
          "height": 402
        },
        "id": "9HA4_H7VJLKZ",
        "outputId": "5bac47af-1aac-4344-ded0-bc96ae099219"
      },
      "source": [
        "seoul_death = seoul_death.drop(labels=0, inplace=False)\n",
        "seoul_death"
      ],
      "execution_count": null,
      "outputs": [
        {
          "output_type": "execute_result",
          "data": {
            "text/html": [
              "<div>\n",
              "<style scoped>\n",
              "    .dataframe tbody tr th:only-of-type {\n",
              "        vertical-align: middle;\n",
              "    }\n",
              "\n",
              "    .dataframe tbody tr th {\n",
              "        vertical-align: top;\n",
              "    }\n",
              "\n",
              "    .dataframe thead th {\n",
              "        text-align: right;\n",
              "    }\n",
              "</style>\n",
              "<table border=\"1\" class=\"dataframe\">\n",
              "  <thead>\n",
              "    <tr style=\"text-align: right;\">\n",
              "      <th></th>\n",
              "      <th>연도</th>\n",
              "      <th>연령</th>\n",
              "      <th>자살률</th>\n",
              "    </tr>\n",
              "  </thead>\n",
              "  <tbody>\n",
              "    <tr>\n",
              "      <th>1</th>\n",
              "      <td>2009</td>\n",
              "      <td>합계</td>\n",
              "      <td>26.1</td>\n",
              "    </tr>\n",
              "    <tr>\n",
              "      <th>2</th>\n",
              "      <td>2009</td>\n",
              "      <td>0∼14세</td>\n",
              "      <td>1.5</td>\n",
              "    </tr>\n",
              "    <tr>\n",
              "      <th>3</th>\n",
              "      <td>2009</td>\n",
              "      <td>15~19세</td>\n",
              "      <td>10.2</td>\n",
              "    </tr>\n",
              "    <tr>\n",
              "      <th>4</th>\n",
              "      <td>2009</td>\n",
              "      <td>20~24세</td>\n",
              "      <td>19.6</td>\n",
              "    </tr>\n",
              "    <tr>\n",
              "      <th>5</th>\n",
              "      <td>2009</td>\n",
              "      <td>25~29세</td>\n",
              "      <td>25.1</td>\n",
              "    </tr>\n",
              "    <tr>\n",
              "      <th>...</th>\n",
              "      <td>...</td>\n",
              "      <td>...</td>\n",
              "      <td>...</td>\n",
              "    </tr>\n",
              "    <tr>\n",
              "      <th>198</th>\n",
              "      <td>2019</td>\n",
              "      <td>75~79세</td>\n",
              "      <td>39.7</td>\n",
              "    </tr>\n",
              "    <tr>\n",
              "      <th>199</th>\n",
              "      <td>2019</td>\n",
              "      <td>80~84세</td>\n",
              "      <td>57.6</td>\n",
              "    </tr>\n",
              "    <tr>\n",
              "      <th>200</th>\n",
              "      <td>2019</td>\n",
              "      <td>85~89세</td>\n",
              "      <td>53.8</td>\n",
              "    </tr>\n",
              "    <tr>\n",
              "      <th>201</th>\n",
              "      <td>2019</td>\n",
              "      <td>90세이상</td>\n",
              "      <td>58.7</td>\n",
              "    </tr>\n",
              "    <tr>\n",
              "      <th>202</th>\n",
              "      <td>2019</td>\n",
              "      <td>미상</td>\n",
              "      <td>-</td>\n",
              "    </tr>\n",
              "  </tbody>\n",
              "</table>\n",
              "<p>202 rows × 3 columns</p>\n",
              "</div>"
            ],
            "text/plain": [
              "       연도      연령   자살률\n",
              "1    2009      합계  26.1\n",
              "2    2009   0∼14세   1.5\n",
              "3    2009  15~19세  10.2\n",
              "4    2009  20~24세  19.6\n",
              "5    2009  25~29세  25.1\n",
              "..    ...     ...   ...\n",
              "198  2019  75~79세  39.7\n",
              "199  2019  80~84세  57.6\n",
              "200  2019  85~89세  53.8\n",
              "201  2019   90세이상  58.7\n",
              "202  2019      미상     -\n",
              "\n",
              "[202 rows x 3 columns]"
            ]
          },
          "metadata": {
            "tags": []
          },
          "execution_count": 34
        }
      ]
    },
    {
      "cell_type": "markdown",
      "metadata": {
        "id": "fgGlCLu9WN3j"
      },
      "source": [
        "## 3-5. 자살률 데이터프레임의 잘못된 데이터('-')를 포함한 행 삭제"
      ]
    },
    {
      "cell_type": "code",
      "metadata": {
        "colab": {
          "base_uri": "https://localhost:8080/",
          "height": 402
        },
        "id": "BfpZPwun3hw4",
        "outputId": "cb4bb0a3-72a2-4891-b5c0-8032c18b4dcf"
      },
      "source": [
        "# 자살률의 '-'값을 찾아 인덱스를 가져온다.\n",
        "idx_temp = seoul_death[seoul_death['자살률'] == '-'].index\n",
        "# 자살률의 '-'값이 들어있는 행을 모두 삭제\n",
        "seoul_death = seoul_death.drop(idx_temp)\n",
        "seoul_death"
      ],
      "execution_count": null,
      "outputs": [
        {
          "output_type": "execute_result",
          "data": {
            "text/html": [
              "<div>\n",
              "<style scoped>\n",
              "    .dataframe tbody tr th:only-of-type {\n",
              "        vertical-align: middle;\n",
              "    }\n",
              "\n",
              "    .dataframe tbody tr th {\n",
              "        vertical-align: top;\n",
              "    }\n",
              "\n",
              "    .dataframe thead th {\n",
              "        text-align: right;\n",
              "    }\n",
              "</style>\n",
              "<table border=\"1\" class=\"dataframe\">\n",
              "  <thead>\n",
              "    <tr style=\"text-align: right;\">\n",
              "      <th></th>\n",
              "      <th>연도</th>\n",
              "      <th>연령</th>\n",
              "      <th>자살률</th>\n",
              "    </tr>\n",
              "  </thead>\n",
              "  <tbody>\n",
              "    <tr>\n",
              "      <th>1</th>\n",
              "      <td>2009</td>\n",
              "      <td>합계</td>\n",
              "      <td>26.1</td>\n",
              "    </tr>\n",
              "    <tr>\n",
              "      <th>2</th>\n",
              "      <td>2009</td>\n",
              "      <td>0∼14세</td>\n",
              "      <td>1.5</td>\n",
              "    </tr>\n",
              "    <tr>\n",
              "      <th>3</th>\n",
              "      <td>2009</td>\n",
              "      <td>15~19세</td>\n",
              "      <td>10.2</td>\n",
              "    </tr>\n",
              "    <tr>\n",
              "      <th>4</th>\n",
              "      <td>2009</td>\n",
              "      <td>20~24세</td>\n",
              "      <td>19.6</td>\n",
              "    </tr>\n",
              "    <tr>\n",
              "      <th>5</th>\n",
              "      <td>2009</td>\n",
              "      <td>25~29세</td>\n",
              "      <td>25.1</td>\n",
              "    </tr>\n",
              "    <tr>\n",
              "      <th>...</th>\n",
              "      <td>...</td>\n",
              "      <td>...</td>\n",
              "      <td>...</td>\n",
              "    </tr>\n",
              "    <tr>\n",
              "      <th>197</th>\n",
              "      <td>2019</td>\n",
              "      <td>70~74세</td>\n",
              "      <td>32.4</td>\n",
              "    </tr>\n",
              "    <tr>\n",
              "      <th>198</th>\n",
              "      <td>2019</td>\n",
              "      <td>75~79세</td>\n",
              "      <td>39.7</td>\n",
              "    </tr>\n",
              "    <tr>\n",
              "      <th>199</th>\n",
              "      <td>2019</td>\n",
              "      <td>80~84세</td>\n",
              "      <td>57.6</td>\n",
              "    </tr>\n",
              "    <tr>\n",
              "      <th>200</th>\n",
              "      <td>2019</td>\n",
              "      <td>85~89세</td>\n",
              "      <td>53.8</td>\n",
              "    </tr>\n",
              "    <tr>\n",
              "      <th>201</th>\n",
              "      <td>2019</td>\n",
              "      <td>90세이상</td>\n",
              "      <td>58.7</td>\n",
              "    </tr>\n",
              "  </tbody>\n",
              "</table>\n",
              "<p>198 rows × 3 columns</p>\n",
              "</div>"
            ],
            "text/plain": [
              "       연도      연령   자살률\n",
              "1    2009      합계  26.1\n",
              "2    2009   0∼14세   1.5\n",
              "3    2009  15~19세  10.2\n",
              "4    2009  20~24세  19.6\n",
              "5    2009  25~29세  25.1\n",
              "..    ...     ...   ...\n",
              "197  2019  70~74세  32.4\n",
              "198  2019  75~79세  39.7\n",
              "199  2019  80~84세  57.6\n",
              "200  2019  85~89세  53.8\n",
              "201  2019   90세이상  58.7\n",
              "\n",
              "[198 rows x 3 columns]"
            ]
          },
          "metadata": {
            "tags": []
          },
          "execution_count": 35
        }
      ]
    },
    {
      "cell_type": "markdown",
      "metadata": {
        "id": "LaYaO5TNJuiU"
      },
      "source": [
        "## 3-6. 자살률 데이터타입 변경"
      ]
    },
    {
      "cell_type": "code",
      "metadata": {
        "colab": {
          "base_uri": "https://localhost:8080/"
        },
        "id": "IN5QW-a4JuJn",
        "outputId": "b946b543-3c3d-479a-ce41-2b5d8f533de8"
      },
      "source": [
        "seoul_death['자살률'] = seoul_death['자살률'].astype('float')\n",
        "seoul_death.info()"
      ],
      "execution_count": null,
      "outputs": [
        {
          "output_type": "stream",
          "text": [
            "<class 'pandas.core.frame.DataFrame'>\n",
            "Int64Index: 198 entries, 1 to 201\n",
            "Data columns (total 3 columns):\n",
            " #   Column  Non-Null Count  Dtype  \n",
            "---  ------  --------------  -----  \n",
            " 0   연도      198 non-null    object \n",
            " 1   연령      198 non-null    object \n",
            " 2   자살률     198 non-null    float64\n",
            "dtypes: float64(1), object(2)\n",
            "memory usage: 6.2+ KB\n"
          ],
          "name": "stdout"
        }
      ]
    },
    {
      "cell_type": "markdown",
      "metadata": {
        "id": "YpgvD2mPW-dL"
      },
      "source": [
        "## 3-7. 자살률 데이터프레임을 실업률 데이터에 맞춰 가공\n",
        "1. 연도별 **15~29세(이하 청년)** 실업률(기준)\n",
        "2. 연도별 전체 연령대별 자살률 -> 연도별 **청년** 자살률"
      ]
    },
    {
      "cell_type": "markdown",
      "metadata": {
        "id": "nR9pNpkRFbfE"
      },
      "source": [
        "### 3-7-1. 연도별 청년 자살률 조건 마스크 생성"
      ]
    },
    {
      "cell_type": "code",
      "metadata": {
        "colab": {
          "base_uri": "https://localhost:8080/"
        },
        "id": "B_duerrT8CHg",
        "outputId": "7895ccb5-b6b9-48f2-e892-e9c9edfcabd9"
      },
      "source": [
        "# 청년 자살률의 조건 마스크 생성\n",
        "age_mask = (seoul_death['연령'] == '15~19세') | (seoul_death['연령'] == '20~24세') | (seoul_death['연령'] == '25~29세')\n",
        "age_mask"
      ],
      "execution_count": null,
      "outputs": [
        {
          "output_type": "execute_result",
          "data": {
            "text/plain": [
              "1      False\n",
              "2      False\n",
              "3       True\n",
              "4       True\n",
              "5       True\n",
              "       ...  \n",
              "197    False\n",
              "198    False\n",
              "199    False\n",
              "200    False\n",
              "201    False\n",
              "Name: 연령, Length: 198, dtype: bool"
            ]
          },
          "metadata": {
            "tags": []
          },
          "execution_count": 37
        }
      ]
    },
    {
      "cell_type": "markdown",
      "metadata": {
        "id": "JNAhlZVEXzL8"
      },
      "source": [
        "### 3-7-2. 조건 색인을 이용해 청년 자살률 데이터 프레임 가져오기"
      ]
    },
    {
      "cell_type": "code",
      "metadata": {
        "colab": {
          "base_uri": "https://localhost:8080/",
          "height": 1000
        },
        "id": "z7RGgrhZ8i4B",
        "outputId": "8384962b-97fe-4594-fc65-08c75f4e7169"
      },
      "source": [
        "# 데이터 프레임에 조건색인으로 청년 자살률 데이터프레임 가져오기\n",
        "seoul_death = seoul_death[age_mask]\n",
        "seoul_death"
      ],
      "execution_count": null,
      "outputs": [
        {
          "output_type": "execute_result",
          "data": {
            "text/html": [
              "<div>\n",
              "<style scoped>\n",
              "    .dataframe tbody tr th:only-of-type {\n",
              "        vertical-align: middle;\n",
              "    }\n",
              "\n",
              "    .dataframe tbody tr th {\n",
              "        vertical-align: top;\n",
              "    }\n",
              "\n",
              "    .dataframe thead th {\n",
              "        text-align: right;\n",
              "    }\n",
              "</style>\n",
              "<table border=\"1\" class=\"dataframe\">\n",
              "  <thead>\n",
              "    <tr style=\"text-align: right;\">\n",
              "      <th></th>\n",
              "      <th>연도</th>\n",
              "      <th>연령</th>\n",
              "      <th>자살률</th>\n",
              "    </tr>\n",
              "  </thead>\n",
              "  <tbody>\n",
              "    <tr>\n",
              "      <th>3</th>\n",
              "      <td>2009</td>\n",
              "      <td>15~19세</td>\n",
              "      <td>10.2</td>\n",
              "    </tr>\n",
              "    <tr>\n",
              "      <th>4</th>\n",
              "      <td>2009</td>\n",
              "      <td>20~24세</td>\n",
              "      <td>19.6</td>\n",
              "    </tr>\n",
              "    <tr>\n",
              "      <th>5</th>\n",
              "      <td>2009</td>\n",
              "      <td>25~29세</td>\n",
              "      <td>25.1</td>\n",
              "    </tr>\n",
              "    <tr>\n",
              "      <th>21</th>\n",
              "      <td>2010</td>\n",
              "      <td>15~19세</td>\n",
              "      <td>7.9</td>\n",
              "    </tr>\n",
              "    <tr>\n",
              "      <th>22</th>\n",
              "      <td>2010</td>\n",
              "      <td>20~24세</td>\n",
              "      <td>18.1</td>\n",
              "    </tr>\n",
              "    <tr>\n",
              "      <th>23</th>\n",
              "      <td>2010</td>\n",
              "      <td>25~29세</td>\n",
              "      <td>23.7</td>\n",
              "    </tr>\n",
              "    <tr>\n",
              "      <th>40</th>\n",
              "      <td>2011</td>\n",
              "      <td>15~19세</td>\n",
              "      <td>8.3</td>\n",
              "    </tr>\n",
              "    <tr>\n",
              "      <th>41</th>\n",
              "      <td>2011</td>\n",
              "      <td>20~24세</td>\n",
              "      <td>14.9</td>\n",
              "    </tr>\n",
              "    <tr>\n",
              "      <th>42</th>\n",
              "      <td>2011</td>\n",
              "      <td>25~29세</td>\n",
              "      <td>27.8</td>\n",
              "    </tr>\n",
              "    <tr>\n",
              "      <th>58</th>\n",
              "      <td>2012</td>\n",
              "      <td>15~19세</td>\n",
              "      <td>7.9</td>\n",
              "    </tr>\n",
              "    <tr>\n",
              "      <th>59</th>\n",
              "      <td>2012</td>\n",
              "      <td>20~24세</td>\n",
              "      <td>12.9</td>\n",
              "    </tr>\n",
              "    <tr>\n",
              "      <th>60</th>\n",
              "      <td>2012</td>\n",
              "      <td>25~29세</td>\n",
              "      <td>18.3</td>\n",
              "    </tr>\n",
              "    <tr>\n",
              "      <th>76</th>\n",
              "      <td>2013</td>\n",
              "      <td>15~19세</td>\n",
              "      <td>7.4</td>\n",
              "    </tr>\n",
              "    <tr>\n",
              "      <th>77</th>\n",
              "      <td>2013</td>\n",
              "      <td>20~24세</td>\n",
              "      <td>17.0</td>\n",
              "    </tr>\n",
              "    <tr>\n",
              "      <th>78</th>\n",
              "      <td>2013</td>\n",
              "      <td>25~29세</td>\n",
              "      <td>21.6</td>\n",
              "    </tr>\n",
              "    <tr>\n",
              "      <th>95</th>\n",
              "      <td>2014</td>\n",
              "      <td>15~19세</td>\n",
              "      <td>7.4</td>\n",
              "    </tr>\n",
              "    <tr>\n",
              "      <th>96</th>\n",
              "      <td>2014</td>\n",
              "      <td>20~24세</td>\n",
              "      <td>14.7</td>\n",
              "    </tr>\n",
              "    <tr>\n",
              "      <th>97</th>\n",
              "      <td>2014</td>\n",
              "      <td>25~29세</td>\n",
              "      <td>19.0</td>\n",
              "    </tr>\n",
              "    <tr>\n",
              "      <th>114</th>\n",
              "      <td>2015</td>\n",
              "      <td>15~19세</td>\n",
              "      <td>6.4</td>\n",
              "    </tr>\n",
              "    <tr>\n",
              "      <th>115</th>\n",
              "      <td>2015</td>\n",
              "      <td>20~24세</td>\n",
              "      <td>11.9</td>\n",
              "    </tr>\n",
              "    <tr>\n",
              "      <th>116</th>\n",
              "      <td>2015</td>\n",
              "      <td>25~29세</td>\n",
              "      <td>16.8</td>\n",
              "    </tr>\n",
              "    <tr>\n",
              "      <th>132</th>\n",
              "      <td>2016</td>\n",
              "      <td>15~19세</td>\n",
              "      <td>8.5</td>\n",
              "    </tr>\n",
              "    <tr>\n",
              "      <th>133</th>\n",
              "      <td>2016</td>\n",
              "      <td>20~24세</td>\n",
              "      <td>15.9</td>\n",
              "    </tr>\n",
              "    <tr>\n",
              "      <th>134</th>\n",
              "      <td>2016</td>\n",
              "      <td>25~29세</td>\n",
              "      <td>17.7</td>\n",
              "    </tr>\n",
              "    <tr>\n",
              "      <th>150</th>\n",
              "      <td>2017</td>\n",
              "      <td>15~19세</td>\n",
              "      <td>8.5</td>\n",
              "    </tr>\n",
              "    <tr>\n",
              "      <th>151</th>\n",
              "      <td>2017</td>\n",
              "      <td>20~24세</td>\n",
              "      <td>12.0</td>\n",
              "    </tr>\n",
              "    <tr>\n",
              "      <th>152</th>\n",
              "      <td>2017</td>\n",
              "      <td>25~29세</td>\n",
              "      <td>16.1</td>\n",
              "    </tr>\n",
              "    <tr>\n",
              "      <th>168</th>\n",
              "      <td>2018</td>\n",
              "      <td>15~19세</td>\n",
              "      <td>9.2</td>\n",
              "    </tr>\n",
              "    <tr>\n",
              "      <th>169</th>\n",
              "      <td>2018</td>\n",
              "      <td>20~24세</td>\n",
              "      <td>15.0</td>\n",
              "    </tr>\n",
              "    <tr>\n",
              "      <th>170</th>\n",
              "      <td>2018</td>\n",
              "      <td>25~29세</td>\n",
              "      <td>17.1</td>\n",
              "    </tr>\n",
              "    <tr>\n",
              "      <th>186</th>\n",
              "      <td>2019</td>\n",
              "      <td>15~19세</td>\n",
              "      <td>9.1</td>\n",
              "    </tr>\n",
              "    <tr>\n",
              "      <th>187</th>\n",
              "      <td>2019</td>\n",
              "      <td>20~24세</td>\n",
              "      <td>16.1</td>\n",
              "    </tr>\n",
              "    <tr>\n",
              "      <th>188</th>\n",
              "      <td>2019</td>\n",
              "      <td>25~29세</td>\n",
              "      <td>17.1</td>\n",
              "    </tr>\n",
              "  </tbody>\n",
              "</table>\n",
              "</div>"
            ],
            "text/plain": [
              "       연도      연령   자살률\n",
              "3    2009  15~19세  10.2\n",
              "4    2009  20~24세  19.6\n",
              "5    2009  25~29세  25.1\n",
              "21   2010  15~19세   7.9\n",
              "22   2010  20~24세  18.1\n",
              "23   2010  25~29세  23.7\n",
              "40   2011  15~19세   8.3\n",
              "41   2011  20~24세  14.9\n",
              "42   2011  25~29세  27.8\n",
              "58   2012  15~19세   7.9\n",
              "59   2012  20~24세  12.9\n",
              "60   2012  25~29세  18.3\n",
              "76   2013  15~19세   7.4\n",
              "77   2013  20~24세  17.0\n",
              "78   2013  25~29세  21.6\n",
              "95   2014  15~19세   7.4\n",
              "96   2014  20~24세  14.7\n",
              "97   2014  25~29세  19.0\n",
              "114  2015  15~19세   6.4\n",
              "115  2015  20~24세  11.9\n",
              "116  2015  25~29세  16.8\n",
              "132  2016  15~19세   8.5\n",
              "133  2016  20~24세  15.9\n",
              "134  2016  25~29세  17.7\n",
              "150  2017  15~19세   8.5\n",
              "151  2017  20~24세  12.0\n",
              "152  2017  25~29세  16.1\n",
              "168  2018  15~19세   9.2\n",
              "169  2018  20~24세  15.0\n",
              "170  2018  25~29세  17.1\n",
              "186  2019  15~19세   9.1\n",
              "187  2019  20~24세  16.1\n",
              "188  2019  25~29세  17.1"
            ]
          },
          "metadata": {
            "tags": []
          },
          "execution_count": 38
        }
      ]
    },
    {
      "cell_type": "markdown",
      "metadata": {
        "id": "uKGFNgWVa8vM"
      },
      "source": [
        "## 3-8.연도별 청년 자살률 구하기"
      ]
    },
    {
      "cell_type": "markdown",
      "metadata": {
        "id": "BU_fFJRkKzce"
      },
      "source": [
        "### 3-8-1. 연도별 그룹묶어 청년의 자살률 평균을 구하기"
      ]
    },
    {
      "cell_type": "code",
      "metadata": {
        "colab": {
          "base_uri": "https://localhost:8080/",
          "height": 373
        },
        "id": "jbB2yiHOY33_",
        "outputId": "905700d3-c247-4108-cc31-69f34c0cf316"
      },
      "source": [
        "seoul_death_year_mean_temp = seoul_death.groupby('연도')['자살률'].mean()\n",
        "# seoul_death_year_mean_temp.index\n",
        "# seoul_death_year_mean_temp.values\n",
        "seoul_death_year_mean = pd.DataFrame(seoul_death_year_mean_temp.index)\n",
        "seoul_death_year_mean['자살률'] = seoul_death_year_mean_temp.values.round(1)\n",
        "seoul_death_year_mean"
      ],
      "execution_count": null,
      "outputs": [
        {
          "output_type": "execute_result",
          "data": {
            "text/html": [
              "<div>\n",
              "<style scoped>\n",
              "    .dataframe tbody tr th:only-of-type {\n",
              "        vertical-align: middle;\n",
              "    }\n",
              "\n",
              "    .dataframe tbody tr th {\n",
              "        vertical-align: top;\n",
              "    }\n",
              "\n",
              "    .dataframe thead th {\n",
              "        text-align: right;\n",
              "    }\n",
              "</style>\n",
              "<table border=\"1\" class=\"dataframe\">\n",
              "  <thead>\n",
              "    <tr style=\"text-align: right;\">\n",
              "      <th></th>\n",
              "      <th>연도</th>\n",
              "      <th>자살률</th>\n",
              "    </tr>\n",
              "  </thead>\n",
              "  <tbody>\n",
              "    <tr>\n",
              "      <th>0</th>\n",
              "      <td>2009</td>\n",
              "      <td>18.3</td>\n",
              "    </tr>\n",
              "    <tr>\n",
              "      <th>1</th>\n",
              "      <td>2010</td>\n",
              "      <td>16.6</td>\n",
              "    </tr>\n",
              "    <tr>\n",
              "      <th>2</th>\n",
              "      <td>2011</td>\n",
              "      <td>17.0</td>\n",
              "    </tr>\n",
              "    <tr>\n",
              "      <th>3</th>\n",
              "      <td>2012</td>\n",
              "      <td>13.0</td>\n",
              "    </tr>\n",
              "    <tr>\n",
              "      <th>4</th>\n",
              "      <td>2013</td>\n",
              "      <td>15.3</td>\n",
              "    </tr>\n",
              "    <tr>\n",
              "      <th>5</th>\n",
              "      <td>2014</td>\n",
              "      <td>13.7</td>\n",
              "    </tr>\n",
              "    <tr>\n",
              "      <th>6</th>\n",
              "      <td>2015</td>\n",
              "      <td>11.7</td>\n",
              "    </tr>\n",
              "    <tr>\n",
              "      <th>7</th>\n",
              "      <td>2016</td>\n",
              "      <td>14.0</td>\n",
              "    </tr>\n",
              "    <tr>\n",
              "      <th>8</th>\n",
              "      <td>2017</td>\n",
              "      <td>12.2</td>\n",
              "    </tr>\n",
              "    <tr>\n",
              "      <th>9</th>\n",
              "      <td>2018</td>\n",
              "      <td>13.8</td>\n",
              "    </tr>\n",
              "    <tr>\n",
              "      <th>10</th>\n",
              "      <td>2019</td>\n",
              "      <td>14.1</td>\n",
              "    </tr>\n",
              "  </tbody>\n",
              "</table>\n",
              "</div>"
            ],
            "text/plain": [
              "      연도   자살률\n",
              "0   2009  18.3\n",
              "1   2010  16.6\n",
              "2   2011  17.0\n",
              "3   2012  13.0\n",
              "4   2013  15.3\n",
              "5   2014  13.7\n",
              "6   2015  11.7\n",
              "7   2016  14.0\n",
              "8   2017  12.2\n",
              "9   2018  13.8\n",
              "10  2019  14.1"
            ]
          },
          "metadata": {
            "tags": []
          },
          "execution_count": 39
        }
      ]
    },
    {
      "cell_type": "markdown",
      "metadata": {
        "id": "ailrwc0DYMlx"
      },
      "source": [
        "## 3-9. 전처리 데이터 확인"
      ]
    },
    {
      "cell_type": "markdown",
      "metadata": {
        "id": "MMU7Tv2BYett"
      },
      "source": [
        "### 3-9-1. 연도별 청년 실업률"
      ]
    },
    {
      "cell_type": "code",
      "metadata": {
        "colab": {
          "base_uri": "https://localhost:8080/",
          "height": 373
        },
        "id": "1mKoEqDMYMZo",
        "outputId": "7708c785-e063-4a18-eca5-7aa8b1a4d9aa"
      },
      "source": [
        "# 연도별 청년 실업률 데이터프레임\n",
        "seoul_hire_year_mean"
      ],
      "execution_count": null,
      "outputs": [
        {
          "output_type": "execute_result",
          "data": {
            "text/html": [
              "<div>\n",
              "<style scoped>\n",
              "    .dataframe tbody tr th:only-of-type {\n",
              "        vertical-align: middle;\n",
              "    }\n",
              "\n",
              "    .dataframe tbody tr th {\n",
              "        vertical-align: top;\n",
              "    }\n",
              "\n",
              "    .dataframe thead th {\n",
              "        text-align: right;\n",
              "    }\n",
              "</style>\n",
              "<table border=\"1\" class=\"dataframe\">\n",
              "  <thead>\n",
              "    <tr style=\"text-align: right;\">\n",
              "      <th></th>\n",
              "      <th>연도</th>\n",
              "      <th>실업률</th>\n",
              "    </tr>\n",
              "  </thead>\n",
              "  <tbody>\n",
              "    <tr>\n",
              "      <th>0</th>\n",
              "      <td>2009</td>\n",
              "      <td>8.1</td>\n",
              "    </tr>\n",
              "    <tr>\n",
              "      <th>1</th>\n",
              "      <td>2010</td>\n",
              "      <td>8.4</td>\n",
              "    </tr>\n",
              "    <tr>\n",
              "      <th>2</th>\n",
              "      <td>2011</td>\n",
              "      <td>8.3</td>\n",
              "    </tr>\n",
              "    <tr>\n",
              "      <th>3</th>\n",
              "      <td>2012</td>\n",
              "      <td>8.3</td>\n",
              "    </tr>\n",
              "    <tr>\n",
              "      <th>4</th>\n",
              "      <td>2013</td>\n",
              "      <td>8.7</td>\n",
              "    </tr>\n",
              "    <tr>\n",
              "      <th>5</th>\n",
              "      <td>2014</td>\n",
              "      <td>10.4</td>\n",
              "    </tr>\n",
              "    <tr>\n",
              "      <th>6</th>\n",
              "      <td>2015</td>\n",
              "      <td>9.3</td>\n",
              "    </tr>\n",
              "    <tr>\n",
              "      <th>7</th>\n",
              "      <td>2016</td>\n",
              "      <td>10.3</td>\n",
              "    </tr>\n",
              "    <tr>\n",
              "      <th>8</th>\n",
              "      <td>2017</td>\n",
              "      <td>10.1</td>\n",
              "    </tr>\n",
              "    <tr>\n",
              "      <th>9</th>\n",
              "      <td>2018</td>\n",
              "      <td>10.1</td>\n",
              "    </tr>\n",
              "    <tr>\n",
              "      <th>10</th>\n",
              "      <td>2019</td>\n",
              "      <td>8.8</td>\n",
              "    </tr>\n",
              "  </tbody>\n",
              "</table>\n",
              "</div>"
            ],
            "text/plain": [
              "      연도   실업률\n",
              "0   2009   8.1\n",
              "1   2010   8.4\n",
              "2   2011   8.3\n",
              "3   2012   8.3\n",
              "4   2013   8.7\n",
              "5   2014  10.4\n",
              "6   2015   9.3\n",
              "7   2016  10.3\n",
              "8   2017  10.1\n",
              "9   2018  10.1\n",
              "10  2019   8.8"
            ]
          },
          "metadata": {
            "tags": []
          },
          "execution_count": 51
        }
      ]
    },
    {
      "cell_type": "markdown",
      "metadata": {
        "id": "ip39SE7YYq-M"
      },
      "source": [
        "### 3-9-2. 연도별 청년 자살률"
      ]
    },
    {
      "cell_type": "code",
      "metadata": {
        "colab": {
          "base_uri": "https://localhost:8080/",
          "height": 373
        },
        "id": "9um-0RbAYtlh",
        "outputId": "e8767d3c-ed7a-4b60-b03c-dc21e535bd7e"
      },
      "source": [
        "# 연도별 청년 자살률 데이터프레임\n",
        "seoul_death_year_mean"
      ],
      "execution_count": null,
      "outputs": [
        {
          "output_type": "execute_result",
          "data": {
            "text/html": [
              "<div>\n",
              "<style scoped>\n",
              "    .dataframe tbody tr th:only-of-type {\n",
              "        vertical-align: middle;\n",
              "    }\n",
              "\n",
              "    .dataframe tbody tr th {\n",
              "        vertical-align: top;\n",
              "    }\n",
              "\n",
              "    .dataframe thead th {\n",
              "        text-align: right;\n",
              "    }\n",
              "</style>\n",
              "<table border=\"1\" class=\"dataframe\">\n",
              "  <thead>\n",
              "    <tr style=\"text-align: right;\">\n",
              "      <th></th>\n",
              "      <th>연도</th>\n",
              "      <th>자살률</th>\n",
              "    </tr>\n",
              "  </thead>\n",
              "  <tbody>\n",
              "    <tr>\n",
              "      <th>0</th>\n",
              "      <td>2009</td>\n",
              "      <td>18.3</td>\n",
              "    </tr>\n",
              "    <tr>\n",
              "      <th>1</th>\n",
              "      <td>2010</td>\n",
              "      <td>16.6</td>\n",
              "    </tr>\n",
              "    <tr>\n",
              "      <th>2</th>\n",
              "      <td>2011</td>\n",
              "      <td>17.0</td>\n",
              "    </tr>\n",
              "    <tr>\n",
              "      <th>3</th>\n",
              "      <td>2012</td>\n",
              "      <td>13.0</td>\n",
              "    </tr>\n",
              "    <tr>\n",
              "      <th>4</th>\n",
              "      <td>2013</td>\n",
              "      <td>15.3</td>\n",
              "    </tr>\n",
              "    <tr>\n",
              "      <th>5</th>\n",
              "      <td>2014</td>\n",
              "      <td>13.7</td>\n",
              "    </tr>\n",
              "    <tr>\n",
              "      <th>6</th>\n",
              "      <td>2015</td>\n",
              "      <td>11.7</td>\n",
              "    </tr>\n",
              "    <tr>\n",
              "      <th>7</th>\n",
              "      <td>2016</td>\n",
              "      <td>14.0</td>\n",
              "    </tr>\n",
              "    <tr>\n",
              "      <th>8</th>\n",
              "      <td>2017</td>\n",
              "      <td>12.2</td>\n",
              "    </tr>\n",
              "    <tr>\n",
              "      <th>9</th>\n",
              "      <td>2018</td>\n",
              "      <td>13.8</td>\n",
              "    </tr>\n",
              "    <tr>\n",
              "      <th>10</th>\n",
              "      <td>2019</td>\n",
              "      <td>14.1</td>\n",
              "    </tr>\n",
              "  </tbody>\n",
              "</table>\n",
              "</div>"
            ],
            "text/plain": [
              "      연도   자살률\n",
              "0   2009  18.3\n",
              "1   2010  16.6\n",
              "2   2011  17.0\n",
              "3   2012  13.0\n",
              "4   2013  15.3\n",
              "5   2014  13.7\n",
              "6   2015  11.7\n",
              "7   2016  14.0\n",
              "8   2017  12.2\n",
              "9   2018  13.8\n",
              "10  2019  14.1"
            ]
          },
          "metadata": {
            "tags": []
          },
          "execution_count": 50
        }
      ]
    },
    {
      "cell_type": "markdown",
      "metadata": {
        "id": "LTqprh3g-0MJ"
      },
      "source": [
        "# 4. 데이터 시각화"
      ]
    },
    {
      "cell_type": "markdown",
      "metadata": {
        "id": "FUZ19ggyWKE7"
      },
      "source": [
        "## 4-1. 캔버스 크기와 변수설정"
      ]
    },
    {
      "cell_type": "code",
      "metadata": {
        "id": "WFT7S-Nw_qRh"
      },
      "source": [
        "import matplotlib.pyplot as plt\n",
        "# 앞으로 사용할 캔버스의 기본 크기를 지정\n",
        "plt.rcParams['figure.figsize'] = (8, 5)"
      ],
      "execution_count": null,
      "outputs": []
    },
    {
      "cell_type": "code",
      "metadata": {
        "id": "vxyoeVjQBX_y"
      },
      "source": [
        "# y축 실업률\n",
        "y_hire = seoul_hire_year_mean['실업률']\n",
        "# y축 자살률\n",
        "y_death = seoul_death_year_mean['자살률']\n",
        "# 공통 x축 연도\n",
        "xlabels = seoul_hire_year_mean['연도']\n",
        "# 실업률과 자살률 컬러\n",
        "colors = ['#ac66cc', '#eba83a']\n",
        "# 실업률과 자살률 라벨(범례)\n",
        "labels = ['실업률', '자살률']"
      ],
      "execution_count": null,
      "outputs": []
    },
    {
      "cell_type": "markdown",
      "metadata": {
        "id": "sto6aiB8PXLb"
      },
      "source": [
        "## 4-2. 서브플롯을 이용해 다중 바 그래프 그리기"
      ]
    },
    {
      "cell_type": "code",
      "metadata": {
        "colab": {
          "base_uri": "https://localhost:8080/",
          "height": 419
        },
        "id": "M806HEhFO85G",
        "outputId": "35ba9141-15a7-4d3d-d927-d305731dfb4c"
      },
      "source": [
        "# 현재 사용할 캔버스 크기 조절하기\n",
        "plt.figure(figsize=(12, 6))\n",
        "\n",
        "plt.subplot(1, 2, 1)\n",
        "plt.bar(xlabels, y_hire, color=colors[0], label=labels[0], alpha=.8)\n",
        "plt.xticks(xlabels, rotation=45)\n",
        "plt.xlabel('연도')\n",
        "plt.ylabel(labels[0])\n",
        "plt.title('연도별 실업률')\n",
        "plt.legend()\n",
        "\n",
        "plt.subplot(1, 2, 2)\n",
        "plt.bar(xlabels, y_death, color=colors[1], label=labels[1], alpha=.8)\n",
        "plt.xticks(xlabels, rotation=45)\n",
        "plt.xlabel('연도')\n",
        "plt.ylabel(labels[1])\n",
        "plt.title('연도별 자살률')\n",
        "plt.legend()\n",
        "plt.show()"
      ],
      "execution_count": null,
      "outputs": [
        {
          "output_type": "display_data",
          "data": {
            "image/png": "[encoded data removed]",
            "text/plain": [
              "<Figure size 864x432 with 2 Axes>"
            ]
          },
          "metadata": {
            "tags": [],
            "image/png": {
              "width": 717,
              "height": 402
            },
            "needs_background": "light"
          }
        }
      ]
    },
    {
      "cell_type": "markdown",
      "metadata": {
        "id": "UFrR_Nx9DAlt"
      },
      "source": [
        "## 4-3. 바 비교 그래프 그리기"
      ]
    },
    {
      "cell_type": "code",
      "metadata": {
        "colab": {
          "base_uri": "https://localhost:8080/",
          "height": 351
        },
        "id": "MXxwYgM9DEXZ",
        "outputId": "bff62d65-d9cd-4aed-9cfc-39bf55db8915"
      },
      "source": [
        "y_1 = y_death\n",
        "y_2 = y_hire\n",
        "\n",
        "fig, axes = plt.subplots()\n",
        "\n",
        "width = 0.35\n",
        "\n",
        "axes.bar(xlabels - width/2, y_2, width, align='center', alpha=0.8, label=labels[0], color=colors[0])\n",
        "axes.bar(xlabels + width/2, y_1, width, align='center', alpha=0.8, label=labels[1], color=colors[1])\n",
        "\n",
        "plt.xlabel('연도')\n",
        "plt.ylabel('실업률, 자살률')\n",
        "plt.xticks(xlabels)\n",
        "plt.title('연도별 실업률과 자살률')\n",
        "plt.legend()\n",
        "\n",
        "plt.show()"
      ],
      "execution_count": null,
      "outputs": [
        {
          "output_type": "display_data",
          "data": {
            "image/png": "[encoded data removed]",
            "text/plain": [
              "<Figure size 576x360 with 1 Axes>"
            ]
          },
          "metadata": {
            "tags": [],
            "image/png": {
              "width": 503,
              "height": 334
            },
            "needs_background": "light"
          }
        }
      ]
    },
    {
      "cell_type": "markdown",
      "metadata": {
        "id": "6RLUzbz4XTSk"
      },
      "source": [
        "## 4-4. 플롯 비교 그래프 그리기"
      ]
    },
    {
      "cell_type": "code",
      "metadata": {
        "colab": {
          "base_uri": "https://localhost:8080/",
          "height": 351
        },
        "id": "5zPw-7nUU-rh",
        "outputId": "063ac67a-198b-49d8-a15a-7fc7d508e97c"
      },
      "source": [
        "\n",
        "plt.plot(xlabels, y_death, color=colors[1],label=labels[1], marker='^')\n",
        "plt.plot(xlabels, y_hire, color=colors[0],label=labels[0], marker='o')\n",
        "plt.xlabel('연도')\n",
        "plt.ylabel('자살률, 실업률')\n",
        "plt.xticks(xlabels)\n",
        "plt.title('연도별 실업률과 자살률')\n",
        "plt.legend()\n",
        "plt.show()"
      ],
      "execution_count": null,
      "outputs": [
        {
          "output_type": "display_data",
          "data": {
            "image/png": "[encoded data removed]",
            "text/plain": [
              "<Figure size 576x360 with 1 Axes>"
            ]
          },
          "metadata": {
            "tags": [],
            "image/png": {
              "width": 494,
              "height": 334
            },
            "needs_background": "light"
          }
        }
      ]
    },
    {
      "cell_type": "markdown",
      "metadata": {
        "id": "SNWOgdkbeckz"
      },
      "source": [
        "# 5. 도출된 인사이트\n",
        "> 두 개의 데이터 셋을 분석해 본 결과, **예상**했던 바와는 **다른 결과**가 나옴  \n",
        "실업률이 높아지더라도 자살률이 오히려 줄어든 연도도 있었음  \n",
        "따라서, **자살률과 실업률은 큰 상관이 없고**, 팀의 가설이 틀렸다는 결과를 얻었음"
      ]
    }
  ]
}