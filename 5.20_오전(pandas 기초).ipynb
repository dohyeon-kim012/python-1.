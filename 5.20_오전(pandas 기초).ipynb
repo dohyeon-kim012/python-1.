{
  "nbformat": 4,
  "nbformat_minor": 0,
  "metadata": {
    "colab": {
      "name": "5/20 오전.ipynb",
      "provenance": [],
      "collapsed_sections": [],
      "authorship_tag": "ABX9TyMsXhl3vnMqhY9hWaWHLUll",
      "include_colab_link": true
    },
    "kernelspec": {
      "name": "python3",
      "display_name": "Python 3"
    },
    "language_info": {
      "name": "python"
    }
  },
  "cells": [
    {
      "cell_type": "markdown",
      "metadata": {
        "id": "view-in-github",
        "colab_type": "text"
      },
      "source": [
        "<a href=\"https://colab.research.google.com/github/dohyeon-kim012/python-1./blob/main/5.20_%EC%98%A4%EC%A0%84(pandas%20%EA%B8%B0%EC%B4%88).ipynb\" target=\"_parent\"><img src=\"https://colab.research.google.com/assets/colab-badge.svg\" alt=\"Open In Colab\"/></a>"
      ]
    },
    {
      "cell_type": "code",
      "metadata": {
        "colab": {
          "base_uri": "https://localhost:8080/"
        },
        "id": "2pM4-u3MOaor",
        "outputId": "682569c9-a53b-4488-a68d-95be87ad2ed5"
      },
      "source": [
        "ls"
      ],
      "execution_count": 2,
      "outputs": [
        {
          "output_type": "stream",
          "text": [
            "\u001b[0m\u001b[01;34msample_data\u001b[0m/\n"
          ],
          "name": "stdout"
        }
      ]
    },
    {
      "cell_type": "code",
      "metadata": {
        "colab": {
          "base_uri": "https://localhost:8080/",
          "height": 36
        },
        "id": "JMBSkXx6QJ_u",
        "outputId": "c7a80e61-4329-4d67-febf-fde3f711fa59"
      },
      "source": [
        "pwd    # print workng directory 현재 위치 확인 "
      ],
      "execution_count": 3,
      "outputs": [
        {
          "output_type": "execute_result",
          "data": {
            "application/vnd.google.colaboratory.intrinsic+json": {
              "type": "string"
            },
            "text/plain": [
              "'/content'"
            ]
          },
          "metadata": {
            "tags": []
          },
          "execution_count": 3
        }
      ]
    },
    {
      "cell_type": "code",
      "metadata": {
        "colab": {
          "base_uri": "https://localhost:8080/"
        },
        "id": "v8wgBY8OQiBW",
        "outputId": "84b334e6-53f2-4cd9-f051-2e329fcb6176"
      },
      "source": [
        "!whoami"
      ],
      "execution_count": 4,
      "outputs": [
        {
          "output_type": "stream",
          "text": [
            "root\n"
          ],
          "name": "stdout"
        }
      ]
    },
    {
      "cell_type": "code",
      "metadata": {
        "colab": {
          "base_uri": "https://localhost:8080/"
        },
        "id": "dDK4PPlgQl31",
        "outputId": "e16d135b-71f7-4766-90a3-6d6ccef2bb3a"
      },
      "source": [
        "%hist  # 작성했던 명령어들 보기"
      ],
      "execution_count": 5,
      "outputs": [
        {
          "output_type": "stream",
          "text": [
            "import pandas as pd\n",
            "ls\n",
            "pwd\n",
            "!whoami\n",
            "%hist\n"
          ],
          "name": "stdout"
        }
      ]
    },
    {
      "cell_type": "markdown",
      "metadata": {
        "id": "JBFwtFneQ9Z7"
      },
      "source": [
        "Linux 호출"
      ]
    },
    {
      "cell_type": "code",
      "metadata": {
        "colab": {
          "base_uri": "https://localhost:8080/",
          "height": 36
        },
        "id": "4K848ZFJQphO",
        "outputId": "e3f3fd69-958e-4382-b546-53dd6321922b"
      },
      "source": [
        "import platform    # Linux 호출 함수\n",
        "platform.platform()    # 내 컴퓨터 확인"
      ],
      "execution_count": 7,
      "outputs": [
        {
          "output_type": "execute_result",
          "data": {
            "application/vnd.google.colaboratory.intrinsic+json": {
              "type": "string"
            },
            "text/plain": [
              "'Linux-5.4.109+-x86_64-with-Ubuntu-18.04-bionic'"
            ]
          },
          "metadata": {
            "tags": []
          },
          "execution_count": 7
        }
      ]
    },
    {
      "cell_type": "code",
      "metadata": {
        "colab": {
          "base_uri": "https://localhost:8080/"
        },
        "id": "7Qa0Hx_cQ0SF",
        "outputId": "3ce31da2-f6ab-4dbc-e289-6026911d9e6e"
      },
      "source": [
        "!nl /etc/issue.net    # 운영체제 확인"
      ],
      "execution_count": 12,
      "outputs": [
        {
          "output_type": "stream",
          "text": [
            "     1\tUbuntu 18.04.5 LTS\n"
          ],
          "name": "stdout"
        }
      ]
    },
    {
      "cell_type": "code",
      "metadata": {
        "colab": {
          "base_uri": "https://localhost:8080/"
        },
        "id": "l4Y6qUs0R49s",
        "outputId": "e02af13d-d167-4008-89c7-27299704d40f"
      },
      "source": [
        "!nl /proc/cpuinfo"
      ],
      "execution_count": 11,
      "outputs": [
        {
          "output_type": "stream",
          "text": [
            "     1\tprocessor\t: 0\n",
            "     2\tvendor_id\t: GenuineIntel\n",
            "     3\tcpu family\t: 6\n",
            "     4\tmodel\t\t: 79\n",
            "     5\tmodel name\t: Intel(R) Xeon(R) CPU @ 2.20GHz\n",
            "     6\tstepping\t: 0\n",
            "     7\tmicrocode\t: 0x1\n",
            "     8\tcpu MHz\t\t: 2199.998\n",
            "     9\tcache size\t: 56320 KB\n",
            "    10\tphysical id\t: 0\n",
            "    11\tsiblings\t: 2\n",
            "    12\tcore id\t\t: 0\n",
            "    13\tcpu cores\t: 1\n",
            "    14\tapicid\t\t: 0\n",
            "    15\tinitial apicid\t: 0\n",
            "    16\tfpu\t\t: yes\n",
            "    17\tfpu_exception\t: yes\n",
            "    18\tcpuid level\t: 13\n",
            "    19\twp\t\t: yes\n",
            "    20\tflags\t\t: fpu vme de pse tsc msr pae mce cx8 apic sep mtrr pge mca cmov pat pse36 clflush mmx fxsr sse sse2 ss ht syscall nx pdpe1gb rdtscp lm constant_tsc rep_good nopl xtopology nonstop_tsc cpuid tsc_known_freq pni pclmulqdq ssse3 fma cx16 pcid sse4_1 sse4_2 x2apic movbe popcnt aes xsave avx f16c rdrand hypervisor lahf_lm abm 3dnowprefetch invpcid_single ssbd ibrs ibpb stibp fsgsbase tsc_adjust bmi1 hle avx2 smep bmi2 erms invpcid rtm rdseed adx smap xsaveopt arat md_clear arch_capabilities\n",
            "    21\tbugs\t\t: cpu_meltdown spectre_v1 spectre_v2 spec_store_bypass l1tf mds swapgs taa\n",
            "    22\tbogomips\t: 4399.99\n",
            "    23\tclflush size\t: 64\n",
            "    24\tcache_alignment\t: 64\n",
            "    25\taddress sizes\t: 46 bits physical, 48 bits virtual\n",
            "    26\tpower management:\n",
            "       \n",
            "    27\tprocessor\t: 1\n",
            "    28\tvendor_id\t: GenuineIntel\n",
            "    29\tcpu family\t: 6\n",
            "    30\tmodel\t\t: 79\n",
            "    31\tmodel name\t: Intel(R) Xeon(R) CPU @ 2.20GHz\n",
            "    32\tstepping\t: 0\n",
            "    33\tmicrocode\t: 0x1\n",
            "    34\tcpu MHz\t\t: 2199.998\n",
            "    35\tcache size\t: 56320 KB\n",
            "    36\tphysical id\t: 0\n",
            "    37\tsiblings\t: 2\n",
            "    38\tcore id\t\t: 0\n",
            "    39\tcpu cores\t: 1\n",
            "    40\tapicid\t\t: 1\n",
            "    41\tinitial apicid\t: 1\n",
            "    42\tfpu\t\t: yes\n",
            "    43\tfpu_exception\t: yes\n",
            "    44\tcpuid level\t: 13\n",
            "    45\twp\t\t: yes\n",
            "    46\tflags\t\t: fpu vme de pse tsc msr pae mce cx8 apic sep mtrr pge mca cmov pat pse36 clflush mmx fxsr sse sse2 ss ht syscall nx pdpe1gb rdtscp lm constant_tsc rep_good nopl xtopology nonstop_tsc cpuid tsc_known_freq pni pclmulqdq ssse3 fma cx16 pcid sse4_1 sse4_2 x2apic movbe popcnt aes xsave avx f16c rdrand hypervisor lahf_lm abm 3dnowprefetch invpcid_single ssbd ibrs ibpb stibp fsgsbase tsc_adjust bmi1 hle avx2 smep bmi2 erms invpcid rtm rdseed adx smap xsaveopt arat md_clear arch_capabilities\n",
            "    47\tbugs\t\t: cpu_meltdown spectre_v1 spectre_v2 spec_store_bypass l1tf mds swapgs taa\n",
            "    48\tbogomips\t: 4399.99\n",
            "    49\tclflush size\t: 64\n",
            "    50\tcache_alignment\t: 64\n",
            "    51\taddress sizes\t: 46 bits physical, 48 bits virtual\n",
            "    52\tpower management:\n",
            "       \n"
          ],
          "name": "stdout"
        }
      ]
    },
    {
      "cell_type": "code",
      "metadata": {
        "colab": {
          "base_uri": "https://localhost:8080/"
        },
        "id": "O3Av4KyVR91D",
        "outputId": "c74390ef-f247-44b0-fa6d-179d7099036f"
      },
      "source": [
        "!nl /proc/meminfo"
      ],
      "execution_count": 13,
      "outputs": [
        {
          "output_type": "stream",
          "text": [
            "     1\tMemTotal:       13305332 kB\n",
            "     2\tMemFree:        10691272 kB\n",
            "     3\tMemAvailable:   12496524 kB\n",
            "     4\tBuffers:           88264 kB\n",
            "     5\tCached:          1849272 kB\n",
            "     6\tSwapCached:            0 kB\n",
            "     7\tActive:           977888 kB\n",
            "     8\tInactive:        1399920 kB\n",
            "     9\tActive(anon):     401176 kB\n",
            "    10\tInactive(anon):      420 kB\n",
            "    11\tActive(file):     576712 kB\n",
            "    12\tInactive(file):  1399500 kB\n",
            "    13\tUnevictable:           0 kB\n",
            "    14\tMlocked:               0 kB\n",
            "    15\tSwapTotal:             0 kB\n",
            "    16\tSwapFree:              0 kB\n",
            "    17\tDirty:               760 kB\n",
            "    18\tWriteback:             0 kB\n",
            "    19\tAnonPages:        440316 kB\n",
            "    20\tMapped:           243064 kB\n",
            "    21\tShmem:              1164 kB\n",
            "    22\tKReclaimable:     141020 kB\n",
            "    23\tSlab:             186976 kB\n",
            "    24\tSReclaimable:     141020 kB\n",
            "    25\tSUnreclaim:        45956 kB\n",
            "    26\tKernelStack:        4448 kB\n",
            "    27\tPageTables:         5800 kB\n",
            "    28\tNFS_Unstable:          0 kB\n",
            "    29\tBounce:                0 kB\n",
            "    30\tWritebackTmp:          0 kB\n",
            "    31\tCommitLimit:     6652664 kB\n",
            "    32\tCommitted_AS:    3222532 kB\n",
            "    33\tVmallocTotal:   34359738367 kB\n",
            "    34\tVmallocUsed:        6848 kB\n",
            "    35\tVmallocChunk:          0 kB\n",
            "    36\tPercpu:             1400 kB\n",
            "    37\tAnonHugePages:         0 kB\n",
            "    38\tShmemHugePages:        0 kB\n",
            "    39\tShmemPmdMapped:        0 kB\n",
            "    40\tFileHugePages:         0 kB\n",
            "    41\tFilePmdMapped:         0 kB\n",
            "    42\tHugePages_Total:       0\n",
            "    43\tHugePages_Free:        0\n",
            "    44\tHugePages_Rsvd:        0\n",
            "    45\tHugePages_Surp:        0\n",
            "    46\tHugepagesize:       2048 kB\n",
            "    47\tHugetlb:               0 kB\n",
            "    48\tDirectMap4k:       97480 kB\n",
            "    49\tDirectMap2M:     5144576 kB\n",
            "    50\tDirectMap1G:    10485760 kB\n"
          ],
          "name": "stdout"
        }
      ]
    },
    {
      "cell_type": "code",
      "metadata": {
        "colab": {
          "base_uri": "https://localhost:8080/"
        },
        "id": "ouflgovqSMye",
        "outputId": "e8931121-eca4-48e8-f3b2-3f0d25aa7cc1"
      },
      "source": [
        "!df -h    # disk free - 파티션 확인 명령어\n",
        "          # /dev/sda1: 하드디스크"
      ],
      "execution_count": 14,
      "outputs": [
        {
          "output_type": "stream",
          "text": [
            "Filesystem      Size  Used Avail Use% Mounted on\n",
            "overlay         108G   39G   70G  36% /\n",
            "tmpfs            64M     0   64M   0% /dev\n",
            "tmpfs           6.4G     0  6.4G   0% /sys/fs/cgroup\n",
            "shm             5.9G     0  5.9G   0% /dev/shm\n",
            "tmpfs           6.4G   24K  6.4G   1% /var/colab\n",
            "/dev/sda1       114G   41G   74G  36% /etc/hosts\n",
            "tmpfs           6.4G     0  6.4G   0% /proc/acpi\n",
            "tmpfs           6.4G     0  6.4G   0% /proc/scsi\n",
            "tmpfs           6.4G     0  6.4G   0% /sys/firmware\n"
          ],
          "name": "stdout"
        }
      ]
    },
    {
      "cell_type": "markdown",
      "metadata": {
        "id": "93E-RRzyUfrp"
      },
      "source": [
        "mount 하기"
      ]
    },
    {
      "cell_type": "code",
      "metadata": {
        "colab": {
          "base_uri": "https://localhost:8080/"
        },
        "id": "b6xNXGu0STYJ",
        "outputId": "849e5d59-5c79-4e43-f31d-e27ad65be45b"
      },
      "source": [
        "from google.colab import drive  \n",
        "drive.mount('/content/drive')"
      ],
      "execution_count": 15,
      "outputs": [
        {
          "output_type": "stream",
          "text": [
            "Mounted at /content/drive\n"
          ],
          "name": "stdout"
        }
      ]
    },
    {
      "cell_type": "code",
      "metadata": {
        "colab": {
          "base_uri": "https://localhost:8080/"
        },
        "id": "ZwvhphrUUQyS",
        "outputId": "f39e2761-06a0-475a-c917-a189b1206898"
      },
      "source": [
        "!df -h    #/content/drive에 mount되었음"
      ],
      "execution_count": 16,
      "outputs": [
        {
          "output_type": "stream",
          "text": [
            "Filesystem      Size  Used Avail Use% Mounted on\n",
            "overlay         108G   39G   70G  36% /\n",
            "tmpfs            64M     0   64M   0% /dev\n",
            "tmpfs           6.4G     0  6.4G   0% /sys/fs/cgroup\n",
            "shm             5.9G     0  5.9G   0% /dev/shm\n",
            "tmpfs           6.4G   24K  6.4G   1% /var/colab\n",
            "/dev/sda1       114G   41G   74G  36% /etc/hosts\n",
            "tmpfs           6.4G     0  6.4G   0% /proc/acpi\n",
            "tmpfs           6.4G     0  6.4G   0% /proc/scsi\n",
            "tmpfs           6.4G     0  6.4G   0% /sys/firmware\n",
            "drive            15G  918M   15G   6% /content/drive\n"
          ],
          "name": "stdout"
        }
      ]
    },
    {
      "cell_type": "code",
      "metadata": {
        "colab": {
          "base_uri": "https://localhost:8080/",
          "height": 168
        },
        "id": "FkfM3aNYU2d2",
        "outputId": "7d59d16b-41de-4c1f-cfbe-1ea971851048"
      },
      "source": [
        "import pandas as pd\n",
        "pd1 = pd.read_excel('/content/itx.xlsx')    #엑셀 파일 읽기\n",
        "pd1"
      ],
      "execution_count": 26,
      "outputs": [
        {
          "output_type": "execute_result",
          "data": {
            "text/html": [
              "<div>\n",
              "<style scoped>\n",
              "    .dataframe tbody tr th:only-of-type {\n",
              "        vertical-align: middle;\n",
              "    }\n",
              "\n",
              "    .dataframe tbody tr th {\n",
              "        vertical-align: top;\n",
              "    }\n",
              "\n",
              "    .dataframe thead th {\n",
              "        text-align: right;\n",
              "    }\n",
              "</style>\n",
              "<table border=\"1\" class=\"dataframe\">\n",
              "  <thead>\n",
              "    <tr style=\"text-align: right;\">\n",
              "      <th></th>\n",
              "      <th>google</th>\n",
              "      <th>45000</th>\n",
              "    </tr>\n",
              "  </thead>\n",
              "  <tbody>\n",
              "    <tr>\n",
              "      <th>0</th>\n",
              "      <td>facebook</td>\n",
              "      <td>34000</td>\n",
              "    </tr>\n",
              "    <tr>\n",
              "      <th>1</th>\n",
              "      <td>oracle</td>\n",
              "      <td>39000</td>\n",
              "    </tr>\n",
              "    <tr>\n",
              "      <th>2</th>\n",
              "      <td>microsoft</td>\n",
              "      <td>43000</td>\n",
              "    </tr>\n",
              "    <tr>\n",
              "      <th>3</th>\n",
              "      <td>netfliex</td>\n",
              "      <td>56000</td>\n",
              "    </tr>\n",
              "  </tbody>\n",
              "</table>\n",
              "</div>"
            ],
            "text/plain": [
              "      google  45000\n",
              "0   facebook  34000\n",
              "1     oracle  39000\n",
              "2  microsoft  43000\n",
              "3   netfliex  56000"
            ]
          },
          "metadata": {
            "tags": []
          },
          "execution_count": 26
        }
      ]
    },
    {
      "cell_type": "markdown",
      "metadata": {
        "id": "7cATaQS7WohF"
      },
      "source": [
        "### colab 텍스트 서식 설정\n",
        "**볼드**  __bold__ \n",
        "*기울기*  --취소선--  <u>밑줄</u>   \n",
        "[구글](http://google.com)"
      ]
    },
    {
      "cell_type": "code",
      "metadata": {
        "colab": {
          "base_uri": "https://localhost:8080/"
        },
        "id": "tUDB65A3YKj7",
        "outputId": "7e402881-4533-4a0e-b384-62ff5c31026a"
      },
      "source": [
        "!cat -n ss.txt   #txt 파일 넘버 붙여서 읽기"
      ],
      "execution_count": 23,
      "outputs": [
        {
          "output_type": "stream",
          "text": [
            "     1\t이순신 85 87 90\r\n",
            "     2\t강감찬 75 80 95\r\n",
            "     3\t한석봉 99 98 99\r\n",
            "     4\t황진이 100 100 100\r\n",
            "     5\t안중근 90 85 90\r\n",
            "     6\t박문수 95 98 96\r\n",
            "     7\t임꺽정 15 35 45\r\n",
            "     8\t김정호 90 95 80\r\n",
            "     9\t정몽주 90 90 95\r\n",
            "    10\t김도현 50 45 60"
          ],
          "name": "stdout"
        }
      ]
    },
    {
      "cell_type": "code",
      "metadata": {
        "colab": {
          "base_uri": "https://localhost:8080/"
        },
        "id": "cd2u--MrfvXC",
        "outputId": "b574df8f-8c35-4ba1-9bba-c7e4793c8cec"
      },
      "source": [
        "!cat ss.txt"
      ],
      "execution_count": 24,
      "outputs": [
        {
          "output_type": "stream",
          "text": [
            "이순신 85 87 90\r\n",
            "강감찬 75 80 95\r\n",
            "한석봉 99 98 99\r\n",
            "황진이 100 100 100\r\n",
            "안중근 90 85 90\r\n",
            "박문수 95 98 96\r\n",
            "임꺽정 15 35 45\r\n",
            "김정호 90 95 80\r\n",
            "정몽주 90 90 95\r\n",
            "김도현 50 45 60"
          ],
          "name": "stdout"
        }
      ]
    },
    {
      "cell_type": "code",
      "metadata": {
        "colab": {
          "base_uri": "https://localhost:8080/",
          "height": 319
        },
        "id": "LQcf1-rkf5N2",
        "outputId": "cbaff45b-3ba7-4273-c818-93394250d7c4"
      },
      "source": [
        "d1 = pd.read_csv('/content/sss.txt')\n",
        "d1"
      ],
      "execution_count": 38,
      "outputs": [
        {
          "output_type": "execute_result",
          "data": {
            "text/html": [
              "<div>\n",
              "<style scoped>\n",
              "    .dataframe tbody tr th:only-of-type {\n",
              "        vertical-align: middle;\n",
              "    }\n",
              "\n",
              "    .dataframe tbody tr th {\n",
              "        vertical-align: top;\n",
              "    }\n",
              "\n",
              "    .dataframe thead th {\n",
              "        text-align: right;\n",
              "    }\n",
              "</style>\n",
              "<table border=\"1\" class=\"dataframe\">\n",
              "  <thead>\n",
              "    <tr style=\"text-align: right;\">\n",
              "      <th></th>\n",
              "      <th>이순신 85 87 90</th>\n",
              "    </tr>\n",
              "  </thead>\n",
              "  <tbody>\n",
              "    <tr>\n",
              "      <th>0</th>\n",
              "      <td>강감찬 75 80 95</td>\n",
              "    </tr>\n",
              "    <tr>\n",
              "      <th>1</th>\n",
              "      <td>한석봉 99 98 99</td>\n",
              "    </tr>\n",
              "    <tr>\n",
              "      <th>2</th>\n",
              "      <td>황진이 99 99 99</td>\n",
              "    </tr>\n",
              "    <tr>\n",
              "      <th>3</th>\n",
              "      <td>안중근 90 85 90</td>\n",
              "    </tr>\n",
              "    <tr>\n",
              "      <th>4</th>\n",
              "      <td>박문수 95 98 96</td>\n",
              "    </tr>\n",
              "    <tr>\n",
              "      <th>5</th>\n",
              "      <td>임꺽정 15 35 45</td>\n",
              "    </tr>\n",
              "    <tr>\n",
              "      <th>6</th>\n",
              "      <td>김정호 90 95 80</td>\n",
              "    </tr>\n",
              "    <tr>\n",
              "      <th>7</th>\n",
              "      <td>정몽주 90 90 95</td>\n",
              "    </tr>\n",
              "    <tr>\n",
              "      <th>8</th>\n",
              "      <td>김도도 50 45 60</td>\n",
              "    </tr>\n",
              "  </tbody>\n",
              "</table>\n",
              "</div>"
            ],
            "text/plain": [
              "   이순신 85 87 90\n",
              "0  강감찬 75 80 95\n",
              "1  한석봉 99 98 99\n",
              "2  황진이 99 99 99\n",
              "3  안중근 90 85 90\n",
              "4  박문수 95 98 96\n",
              "5  임꺽정 15 35 45\n",
              "6  김정호 90 95 80\n",
              "7  정몽주 90 90 95\n",
              "8  김도도 50 45 60"
            ]
          },
          "metadata": {
            "tags": []
          },
          "execution_count": 38
        }
      ]
    },
    {
      "cell_type": "code",
      "metadata": {
        "colab": {
          "base_uri": "https://localhost:8080/",
          "height": 319
        },
        "id": "y9c17NVqg0K4",
        "outputId": "d4fb5cbf-067a-4ba0-df5f-2a155c765341"
      },
      "source": [
        "pd1 = pd.read_csv('/content/sc.csv')  \n",
        "pd1"
      ],
      "execution_count": 37,
      "outputs": [
        {
          "output_type": "execute_result",
          "data": {
            "text/html": [
              "<div>\n",
              "<style scoped>\n",
              "    .dataframe tbody tr th:only-of-type {\n",
              "        vertical-align: middle;\n",
              "    }\n",
              "\n",
              "    .dataframe tbody tr th {\n",
              "        vertical-align: top;\n",
              "    }\n",
              "\n",
              "    .dataframe thead th {\n",
              "        text-align: right;\n",
              "    }\n",
              "</style>\n",
              "<table border=\"1\" class=\"dataframe\">\n",
              "  <thead>\n",
              "    <tr style=\"text-align: right;\">\n",
              "      <th></th>\n",
              "      <th>이순신</th>\n",
              "      <th>85</th>\n",
              "      <th>87</th>\n",
              "      <th>90</th>\n",
              "    </tr>\n",
              "  </thead>\n",
              "  <tbody>\n",
              "    <tr>\n",
              "      <th>0</th>\n",
              "      <td>강감찬</td>\n",
              "      <td>75</td>\n",
              "      <td>80</td>\n",
              "      <td>95</td>\n",
              "    </tr>\n",
              "    <tr>\n",
              "      <th>1</th>\n",
              "      <td>한석봉</td>\n",
              "      <td>99</td>\n",
              "      <td>98</td>\n",
              "      <td>99</td>\n",
              "    </tr>\n",
              "    <tr>\n",
              "      <th>2</th>\n",
              "      <td>황진이</td>\n",
              "      <td>99</td>\n",
              "      <td>99</td>\n",
              "      <td>99</td>\n",
              "    </tr>\n",
              "    <tr>\n",
              "      <th>3</th>\n",
              "      <td>안중근</td>\n",
              "      <td>90</td>\n",
              "      <td>85</td>\n",
              "      <td>90</td>\n",
              "    </tr>\n",
              "    <tr>\n",
              "      <th>4</th>\n",
              "      <td>박문수</td>\n",
              "      <td>95</td>\n",
              "      <td>98</td>\n",
              "      <td>96</td>\n",
              "    </tr>\n",
              "    <tr>\n",
              "      <th>5</th>\n",
              "      <td>임꺽정</td>\n",
              "      <td>15</td>\n",
              "      <td>35</td>\n",
              "      <td>45</td>\n",
              "    </tr>\n",
              "    <tr>\n",
              "      <th>6</th>\n",
              "      <td>김정호</td>\n",
              "      <td>90</td>\n",
              "      <td>95</td>\n",
              "      <td>80</td>\n",
              "    </tr>\n",
              "    <tr>\n",
              "      <th>7</th>\n",
              "      <td>정몽주</td>\n",
              "      <td>90</td>\n",
              "      <td>90</td>\n",
              "      <td>95</td>\n",
              "    </tr>\n",
              "    <tr>\n",
              "      <th>8</th>\n",
              "      <td>김도도</td>\n",
              "      <td>50</td>\n",
              "      <td>45</td>\n",
              "      <td>60</td>\n",
              "    </tr>\n",
              "  </tbody>\n",
              "</table>\n",
              "</div>"
            ],
            "text/plain": [
              "   이순신  85  87  90\n",
              "0  강감찬  75  80  95\n",
              "1  한석봉  99  98  99\n",
              "2  황진이  99  99  99\n",
              "3  안중근  90  85  90\n",
              "4  박문수  95  98  96\n",
              "5  임꺽정  15  35  45\n",
              "6  김정호  90  95  80\n",
              "7  정몽주  90  90  95\n",
              "8  김도도  50  45  60"
            ]
          },
          "metadata": {
            "tags": []
          },
          "execution_count": 37
        }
      ]
    },
    {
      "cell_type": "code",
      "metadata": {
        "colab": {
          "base_uri": "https://localhost:8080/",
          "height": 319
        },
        "id": "Ur5Ozd5dkClK",
        "outputId": "3abf7a93-7745-4f30-ce10-6483b6eaa556"
      },
      "source": [
        "d2 = pd.read_csv('/content/ansi.csv', encoding = 'cp949')    # ANSI로 인코딩한 경우\n",
        "d2"
      ],
      "execution_count": 34,
      "outputs": [
        {
          "output_type": "execute_result",
          "data": {
            "text/html": [
              "<div>\n",
              "<style scoped>\n",
              "    .dataframe tbody tr th:only-of-type {\n",
              "        vertical-align: middle;\n",
              "    }\n",
              "\n",
              "    .dataframe tbody tr th {\n",
              "        vertical-align: top;\n",
              "    }\n",
              "\n",
              "    .dataframe thead th {\n",
              "        text-align: right;\n",
              "    }\n",
              "</style>\n",
              "<table border=\"1\" class=\"dataframe\">\n",
              "  <thead>\n",
              "    <tr style=\"text-align: right;\">\n",
              "      <th></th>\n",
              "      <th>이순신</th>\n",
              "      <th>85</th>\n",
              "      <th>87</th>\n",
              "      <th>90</th>\n",
              "    </tr>\n",
              "  </thead>\n",
              "  <tbody>\n",
              "    <tr>\n",
              "      <th>0</th>\n",
              "      <td>강감찬</td>\n",
              "      <td>75</td>\n",
              "      <td>80</td>\n",
              "      <td>95</td>\n",
              "    </tr>\n",
              "    <tr>\n",
              "      <th>1</th>\n",
              "      <td>한석봉</td>\n",
              "      <td>99</td>\n",
              "      <td>98</td>\n",
              "      <td>99</td>\n",
              "    </tr>\n",
              "    <tr>\n",
              "      <th>2</th>\n",
              "      <td>황진이</td>\n",
              "      <td>99</td>\n",
              "      <td>99</td>\n",
              "      <td>99</td>\n",
              "    </tr>\n",
              "    <tr>\n",
              "      <th>3</th>\n",
              "      <td>안중근</td>\n",
              "      <td>90</td>\n",
              "      <td>85</td>\n",
              "      <td>90</td>\n",
              "    </tr>\n",
              "    <tr>\n",
              "      <th>4</th>\n",
              "      <td>박문수</td>\n",
              "      <td>95</td>\n",
              "      <td>98</td>\n",
              "      <td>96</td>\n",
              "    </tr>\n",
              "    <tr>\n",
              "      <th>5</th>\n",
              "      <td>임꺽정</td>\n",
              "      <td>15</td>\n",
              "      <td>35</td>\n",
              "      <td>45</td>\n",
              "    </tr>\n",
              "    <tr>\n",
              "      <th>6</th>\n",
              "      <td>김정호</td>\n",
              "      <td>90</td>\n",
              "      <td>95</td>\n",
              "      <td>80</td>\n",
              "    </tr>\n",
              "    <tr>\n",
              "      <th>7</th>\n",
              "      <td>정몽주</td>\n",
              "      <td>90</td>\n",
              "      <td>90</td>\n",
              "      <td>95</td>\n",
              "    </tr>\n",
              "    <tr>\n",
              "      <th>8</th>\n",
              "      <td>김도도</td>\n",
              "      <td>50</td>\n",
              "      <td>45</td>\n",
              "      <td>60</td>\n",
              "    </tr>\n",
              "  </tbody>\n",
              "</table>\n",
              "</div>"
            ],
            "text/plain": [
              "   이순신  85  87  90\n",
              "0  강감찬  75  80  95\n",
              "1  한석봉  99  98  99\n",
              "2  황진이  99  99  99\n",
              "3  안중근  90  85  90\n",
              "4  박문수  95  98  96\n",
              "5  임꺽정  15  35  45\n",
              "6  김정호  90  95  80\n",
              "7  정몽주  90  90  95\n",
              "8  김도도  50  45  60"
            ]
          },
          "metadata": {
            "tags": []
          },
          "execution_count": 34
        }
      ]
    },
    {
      "cell_type": "code",
      "metadata": {
        "colab": {
          "base_uri": "https://localhost:8080/",
          "height": 319
        },
        "id": "_JnqNzDOk8QM",
        "outputId": "6e87c6c6-7b61-4d13-8c61-53527a69a42d"
      },
      "source": [
        "d3 = pd.read_excel('/content/se.xlsx', names=['이름', '국어', '영어', '수학'])\n",
        "d3"
      ],
      "execution_count": 44,
      "outputs": [
        {
          "output_type": "execute_result",
          "data": {
            "text/html": [
              "<div>\n",
              "<style scoped>\n",
              "    .dataframe tbody tr th:only-of-type {\n",
              "        vertical-align: middle;\n",
              "    }\n",
              "\n",
              "    .dataframe tbody tr th {\n",
              "        vertical-align: top;\n",
              "    }\n",
              "\n",
              "    .dataframe thead th {\n",
              "        text-align: right;\n",
              "    }\n",
              "</style>\n",
              "<table border=\"1\" class=\"dataframe\">\n",
              "  <thead>\n",
              "    <tr style=\"text-align: right;\">\n",
              "      <th></th>\n",
              "      <th>이름</th>\n",
              "      <th>국어</th>\n",
              "      <th>영어</th>\n",
              "      <th>수학</th>\n",
              "    </tr>\n",
              "  </thead>\n",
              "  <tbody>\n",
              "    <tr>\n",
              "      <th>0</th>\n",
              "      <td>강감찬</td>\n",
              "      <td>75</td>\n",
              "      <td>80</td>\n",
              "      <td>95</td>\n",
              "    </tr>\n",
              "    <tr>\n",
              "      <th>1</th>\n",
              "      <td>한석봉</td>\n",
              "      <td>99</td>\n",
              "      <td>98</td>\n",
              "      <td>99</td>\n",
              "    </tr>\n",
              "    <tr>\n",
              "      <th>2</th>\n",
              "      <td>황진이</td>\n",
              "      <td>99</td>\n",
              "      <td>99</td>\n",
              "      <td>99</td>\n",
              "    </tr>\n",
              "    <tr>\n",
              "      <th>3</th>\n",
              "      <td>안중근</td>\n",
              "      <td>90</td>\n",
              "      <td>85</td>\n",
              "      <td>90</td>\n",
              "    </tr>\n",
              "    <tr>\n",
              "      <th>4</th>\n",
              "      <td>박문수</td>\n",
              "      <td>95</td>\n",
              "      <td>98</td>\n",
              "      <td>96</td>\n",
              "    </tr>\n",
              "    <tr>\n",
              "      <th>5</th>\n",
              "      <td>임꺽정</td>\n",
              "      <td>15</td>\n",
              "      <td>35</td>\n",
              "      <td>45</td>\n",
              "    </tr>\n",
              "    <tr>\n",
              "      <th>6</th>\n",
              "      <td>김정호</td>\n",
              "      <td>90</td>\n",
              "      <td>95</td>\n",
              "      <td>80</td>\n",
              "    </tr>\n",
              "    <tr>\n",
              "      <th>7</th>\n",
              "      <td>정몽주</td>\n",
              "      <td>90</td>\n",
              "      <td>90</td>\n",
              "      <td>95</td>\n",
              "    </tr>\n",
              "    <tr>\n",
              "      <th>8</th>\n",
              "      <td>김도도</td>\n",
              "      <td>50</td>\n",
              "      <td>45</td>\n",
              "      <td>60</td>\n",
              "    </tr>\n",
              "  </tbody>\n",
              "</table>\n",
              "</div>"
            ],
            "text/plain": [
              "    이름  국어  영어  수학\n",
              "0  강감찬  75  80  95\n",
              "1  한석봉  99  98  99\n",
              "2  황진이  99  99  99\n",
              "3  안중근  90  85  90\n",
              "4  박문수  95  98  96\n",
              "5  임꺽정  15  35  45\n",
              "6  김정호  90  95  80\n",
              "7  정몽주  90  90  95\n",
              "8  김도도  50  45  60"
            ]
          },
          "metadata": {
            "tags": []
          },
          "execution_count": 44
        }
      ]
    },
    {
      "cell_type": "code",
      "metadata": {
        "colab": {
          "base_uri": "https://localhost:8080/"
        },
        "id": "G6JPxx2ilIRf",
        "outputId": "6823b2f7-30cb-4bb3-f4ba-b139ea5913aa"
      },
      "source": [
        "d = d3.copy()\n",
        "type(d)"
      ],
      "execution_count": 45,
      "outputs": [
        {
          "output_type": "execute_result",
          "data": {
            "text/plain": [
              "pandas.core.frame.DataFrame"
            ]
          },
          "metadata": {
            "tags": []
          },
          "execution_count": 45
        }
      ]
    },
    {
      "cell_type": "code",
      "metadata": {
        "id": "oZkwNsIHlxXM"
      },
      "source": [
        "dir(d)"
      ],
      "execution_count": null,
      "outputs": []
    },
    {
      "cell_type": "code",
      "metadata": {
        "colab": {
          "base_uri": "https://localhost:8080/"
        },
        "id": "1Fo44CNfmBDR",
        "outputId": "e0a1bfc0-792d-40c5-e888-0c76c348389e"
      },
      "source": [
        "d.shape , d.ndim , d.size , d.items"
      ],
      "execution_count": 47,
      "outputs": [
        {
          "output_type": "execute_result",
          "data": {
            "text/plain": [
              "((9, 4), 2, 36, <bound method DataFrame.items of     이름  국어  영어  수학\n",
              " 0  강감찬  75  80  95\n",
              " 1  한석봉  99  98  99\n",
              " 2  황진이  99  99  99\n",
              " 3  안중근  90  85  90\n",
              " 4  박문수  95  98  96\n",
              " 5  임꺽정  15  35  45\n",
              " 6  김정호  90  95  80\n",
              " 7  정몽주  90  90  95\n",
              " 8  김도도  50  45  60>)"
            ]
          },
          "metadata": {
            "tags": []
          },
          "execution_count": 47
        }
      ]
    },
    {
      "cell_type": "code",
      "metadata": {
        "colab": {
          "base_uri": "https://localhost:8080/",
          "height": 349
        },
        "id": "laAKU7komSvp",
        "outputId": "003ca091-7ec0-427f-a53f-5db3698e7e78"
      },
      "source": [
        "d4 = pd.read_excel('/content/se.xlsx', header=None)\n",
        "d4.columns=['이름', '국어', '영어', '수학']\n",
        "d4"
      ],
      "execution_count": 50,
      "outputs": [
        {
          "output_type": "execute_result",
          "data": {
            "text/html": [
              "<div>\n",
              "<style scoped>\n",
              "    .dataframe tbody tr th:only-of-type {\n",
              "        vertical-align: middle;\n",
              "    }\n",
              "\n",
              "    .dataframe tbody tr th {\n",
              "        vertical-align: top;\n",
              "    }\n",
              "\n",
              "    .dataframe thead th {\n",
              "        text-align: right;\n",
              "    }\n",
              "</style>\n",
              "<table border=\"1\" class=\"dataframe\">\n",
              "  <thead>\n",
              "    <tr style=\"text-align: right;\">\n",
              "      <th></th>\n",
              "      <th>이름</th>\n",
              "      <th>국어</th>\n",
              "      <th>영어</th>\n",
              "      <th>수학</th>\n",
              "    </tr>\n",
              "  </thead>\n",
              "  <tbody>\n",
              "    <tr>\n",
              "      <th>0</th>\n",
              "      <td>이순신</td>\n",
              "      <td>85</td>\n",
              "      <td>87</td>\n",
              "      <td>90</td>\n",
              "    </tr>\n",
              "    <tr>\n",
              "      <th>1</th>\n",
              "      <td>강감찬</td>\n",
              "      <td>75</td>\n",
              "      <td>80</td>\n",
              "      <td>95</td>\n",
              "    </tr>\n",
              "    <tr>\n",
              "      <th>2</th>\n",
              "      <td>한석봉</td>\n",
              "      <td>99</td>\n",
              "      <td>98</td>\n",
              "      <td>99</td>\n",
              "    </tr>\n",
              "    <tr>\n",
              "      <th>3</th>\n",
              "      <td>황진이</td>\n",
              "      <td>99</td>\n",
              "      <td>99</td>\n",
              "      <td>99</td>\n",
              "    </tr>\n",
              "    <tr>\n",
              "      <th>4</th>\n",
              "      <td>안중근</td>\n",
              "      <td>90</td>\n",
              "      <td>85</td>\n",
              "      <td>90</td>\n",
              "    </tr>\n",
              "    <tr>\n",
              "      <th>5</th>\n",
              "      <td>박문수</td>\n",
              "      <td>95</td>\n",
              "      <td>98</td>\n",
              "      <td>96</td>\n",
              "    </tr>\n",
              "    <tr>\n",
              "      <th>6</th>\n",
              "      <td>임꺽정</td>\n",
              "      <td>15</td>\n",
              "      <td>35</td>\n",
              "      <td>45</td>\n",
              "    </tr>\n",
              "    <tr>\n",
              "      <th>7</th>\n",
              "      <td>김정호</td>\n",
              "      <td>90</td>\n",
              "      <td>95</td>\n",
              "      <td>80</td>\n",
              "    </tr>\n",
              "    <tr>\n",
              "      <th>8</th>\n",
              "      <td>정몽주</td>\n",
              "      <td>90</td>\n",
              "      <td>90</td>\n",
              "      <td>95</td>\n",
              "    </tr>\n",
              "    <tr>\n",
              "      <th>9</th>\n",
              "      <td>김도도</td>\n",
              "      <td>50</td>\n",
              "      <td>45</td>\n",
              "      <td>60</td>\n",
              "    </tr>\n",
              "  </tbody>\n",
              "</table>\n",
              "</div>"
            ],
            "text/plain": [
              "    이름  국어  영어  수학\n",
              "0  이순신  85  87  90\n",
              "1  강감찬  75  80  95\n",
              "2  한석봉  99  98  99\n",
              "3  황진이  99  99  99\n",
              "4  안중근  90  85  90\n",
              "5  박문수  95  98  96\n",
              "6  임꺽정  15  35  45\n",
              "7  김정호  90  95  80\n",
              "8  정몽주  90  90  95\n",
              "9  김도도  50  45  60"
            ]
          },
          "metadata": {
            "tags": []
          },
          "execution_count": 50
        }
      ]
    },
    {
      "cell_type": "code",
      "metadata": {
        "colab": {
          "base_uri": "https://localhost:8080/",
          "height": 138
        },
        "id": "VqXosfiDoGdB",
        "outputId": "586d448a-9024-40d8-b8bc-bce82067e6d8"
      },
      "source": [
        "d = d4.copy()\n",
        "d.head(3)"
      ],
      "execution_count": 54,
      "outputs": [
        {
          "output_type": "execute_result",
          "data": {
            "text/html": [
              "<div>\n",
              "<style scoped>\n",
              "    .dataframe tbody tr th:only-of-type {\n",
              "        vertical-align: middle;\n",
              "    }\n",
              "\n",
              "    .dataframe tbody tr th {\n",
              "        vertical-align: top;\n",
              "    }\n",
              "\n",
              "    .dataframe thead th {\n",
              "        text-align: right;\n",
              "    }\n",
              "</style>\n",
              "<table border=\"1\" class=\"dataframe\">\n",
              "  <thead>\n",
              "    <tr style=\"text-align: right;\">\n",
              "      <th></th>\n",
              "      <th>이름</th>\n",
              "      <th>국어</th>\n",
              "      <th>영어</th>\n",
              "      <th>수학</th>\n",
              "    </tr>\n",
              "  </thead>\n",
              "  <tbody>\n",
              "    <tr>\n",
              "      <th>0</th>\n",
              "      <td>이순신</td>\n",
              "      <td>85</td>\n",
              "      <td>87</td>\n",
              "      <td>90</td>\n",
              "    </tr>\n",
              "    <tr>\n",
              "      <th>1</th>\n",
              "      <td>강감찬</td>\n",
              "      <td>75</td>\n",
              "      <td>80</td>\n",
              "      <td>95</td>\n",
              "    </tr>\n",
              "    <tr>\n",
              "      <th>2</th>\n",
              "      <td>한석봉</td>\n",
              "      <td>99</td>\n",
              "      <td>98</td>\n",
              "      <td>99</td>\n",
              "    </tr>\n",
              "  </tbody>\n",
              "</table>\n",
              "</div>"
            ],
            "text/plain": [
              "    이름  국어  영어  수학\n",
              "0  이순신  85  87  90\n",
              "1  강감찬  75  80  95\n",
              "2  한석봉  99  98  99"
            ]
          },
          "metadata": {
            "tags": []
          },
          "execution_count": 54
        }
      ]
    },
    {
      "cell_type": "code",
      "metadata": {
        "colab": {
          "base_uri": "https://localhost:8080/",
          "height": 108
        },
        "id": "DBIPYEQypBd2",
        "outputId": "939e0985-42d2-44ca-b09e-7647eb996bac"
      },
      "source": [
        "d.tail(2)"
      ],
      "execution_count": 53,
      "outputs": [
        {
          "output_type": "execute_result",
          "data": {
            "text/html": [
              "<div>\n",
              "<style scoped>\n",
              "    .dataframe tbody tr th:only-of-type {\n",
              "        vertical-align: middle;\n",
              "    }\n",
              "\n",
              "    .dataframe tbody tr th {\n",
              "        vertical-align: top;\n",
              "    }\n",
              "\n",
              "    .dataframe thead th {\n",
              "        text-align: right;\n",
              "    }\n",
              "</style>\n",
              "<table border=\"1\" class=\"dataframe\">\n",
              "  <thead>\n",
              "    <tr style=\"text-align: right;\">\n",
              "      <th></th>\n",
              "      <th>이름</th>\n",
              "      <th>국어</th>\n",
              "      <th>영어</th>\n",
              "      <th>수학</th>\n",
              "    </tr>\n",
              "  </thead>\n",
              "  <tbody>\n",
              "    <tr>\n",
              "      <th>8</th>\n",
              "      <td>정몽주</td>\n",
              "      <td>90</td>\n",
              "      <td>90</td>\n",
              "      <td>95</td>\n",
              "    </tr>\n",
              "    <tr>\n",
              "      <th>9</th>\n",
              "      <td>김도도</td>\n",
              "      <td>50</td>\n",
              "      <td>45</td>\n",
              "      <td>60</td>\n",
              "    </tr>\n",
              "  </tbody>\n",
              "</table>\n",
              "</div>"
            ],
            "text/plain": [
              "    이름  국어  영어  수학\n",
              "8  정몽주  90  90  95\n",
              "9  김도도  50  45  60"
            ]
          },
          "metadata": {
            "tags": []
          },
          "execution_count": 53
        }
      ]
    },
    {
      "cell_type": "code",
      "metadata": {
        "colab": {
          "base_uri": "https://localhost:8080/"
        },
        "id": "FBFXLk0-pCbi",
        "outputId": "7e6466c5-492d-4184-e22f-82dc5c6d7b4e"
      },
      "source": [
        "d.info()"
      ],
      "execution_count": 55,
      "outputs": [
        {
          "output_type": "stream",
          "text": [
            "<class 'pandas.core.frame.DataFrame'>\n",
            "RangeIndex: 10 entries, 0 to 9\n",
            "Data columns (total 4 columns):\n",
            " #   Column  Non-Null Count  Dtype \n",
            "---  ------  --------------  ----- \n",
            " 0   이름      10 non-null     object\n",
            " 1   국어      10 non-null     int64 \n",
            " 2   영어      10 non-null     int64 \n",
            " 3   수학      10 non-null     int64 \n",
            "dtypes: int64(3), object(1)\n",
            "memory usage: 448.0+ bytes\n"
          ],
          "name": "stdout"
        }
      ]
    },
    {
      "cell_type": "code",
      "metadata": {
        "colab": {
          "base_uri": "https://localhost:8080/",
          "height": 288
        },
        "id": "764YIlLRpQ5t",
        "outputId": "d16d0355-ae7c-4469-f86b-e88eabfaaacd"
      },
      "source": [
        "d.describe()"
      ],
      "execution_count": 57,
      "outputs": [
        {
          "output_type": "execute_result",
          "data": {
            "text/html": [
              "<div>\n",
              "<style scoped>\n",
              "    .dataframe tbody tr th:only-of-type {\n",
              "        vertical-align: middle;\n",
              "    }\n",
              "\n",
              "    .dataframe tbody tr th {\n",
              "        vertical-align: top;\n",
              "    }\n",
              "\n",
              "    .dataframe thead th {\n",
              "        text-align: right;\n",
              "    }\n",
              "</style>\n",
              "<table border=\"1\" class=\"dataframe\">\n",
              "  <thead>\n",
              "    <tr style=\"text-align: right;\">\n",
              "      <th></th>\n",
              "      <th>국어</th>\n",
              "      <th>영어</th>\n",
              "      <th>수학</th>\n",
              "    </tr>\n",
              "  </thead>\n",
              "  <tbody>\n",
              "    <tr>\n",
              "      <th>count</th>\n",
              "      <td>10.000000</td>\n",
              "      <td>10.000000</td>\n",
              "      <td>10.00000</td>\n",
              "    </tr>\n",
              "    <tr>\n",
              "      <th>mean</th>\n",
              "      <td>78.800000</td>\n",
              "      <td>81.200000</td>\n",
              "      <td>84.90000</td>\n",
              "    </tr>\n",
              "    <tr>\n",
              "      <th>std</th>\n",
              "      <td>26.682495</td>\n",
              "      <td>22.714655</td>\n",
              "      <td>18.29663</td>\n",
              "    </tr>\n",
              "    <tr>\n",
              "      <th>min</th>\n",
              "      <td>15.000000</td>\n",
              "      <td>35.000000</td>\n",
              "      <td>45.00000</td>\n",
              "    </tr>\n",
              "    <tr>\n",
              "      <th>25%</th>\n",
              "      <td>77.500000</td>\n",
              "      <td>81.250000</td>\n",
              "      <td>82.50000</td>\n",
              "    </tr>\n",
              "    <tr>\n",
              "      <th>50%</th>\n",
              "      <td>90.000000</td>\n",
              "      <td>88.500000</td>\n",
              "      <td>92.50000</td>\n",
              "    </tr>\n",
              "    <tr>\n",
              "      <th>75%</th>\n",
              "      <td>93.750000</td>\n",
              "      <td>97.250000</td>\n",
              "      <td>95.75000</td>\n",
              "    </tr>\n",
              "    <tr>\n",
              "      <th>max</th>\n",
              "      <td>99.000000</td>\n",
              "      <td>99.000000</td>\n",
              "      <td>99.00000</td>\n",
              "    </tr>\n",
              "  </tbody>\n",
              "</table>\n",
              "</div>"
            ],
            "text/plain": [
              "              국어         영어        수학\n",
              "count  10.000000  10.000000  10.00000\n",
              "mean   78.800000  81.200000  84.90000\n",
              "std    26.682495  22.714655  18.29663\n",
              "min    15.000000  35.000000  45.00000\n",
              "25%    77.500000  81.250000  82.50000\n",
              "50%    90.000000  88.500000  92.50000\n",
              "75%    93.750000  97.250000  95.75000\n",
              "max    99.000000  99.000000  99.00000"
            ]
          },
          "metadata": {
            "tags": []
          },
          "execution_count": 57
        }
      ]
    },
    {
      "cell_type": "code",
      "metadata": {
        "colab": {
          "base_uri": "https://localhost:8080/"
        },
        "id": "YXJyOsEUpXCU",
        "outputId": "8b54c9df-7cb9-4857-ceeb-5573175d345d"
      },
      "source": [
        "d.index"
      ],
      "execution_count": 58,
      "outputs": [
        {
          "output_type": "execute_result",
          "data": {
            "text/plain": [
              "RangeIndex(start=0, stop=10, step=1)"
            ]
          },
          "metadata": {
            "tags": []
          },
          "execution_count": 58
        }
      ]
    },
    {
      "cell_type": "code",
      "metadata": {
        "colab": {
          "base_uri": "https://localhost:8080/"
        },
        "id": "yz3kwFuMp0--",
        "outputId": "3efa455a-d1a5-40d8-8619-495e20d9cf4c"
      },
      "source": [
        "d.columns"
      ],
      "execution_count": 59,
      "outputs": [
        {
          "output_type": "execute_result",
          "data": {
            "text/plain": [
              "Index(['이름', '국어', '영어', '수학'], dtype='object')"
            ]
          },
          "metadata": {
            "tags": []
          },
          "execution_count": 59
        }
      ]
    },
    {
      "cell_type": "code",
      "metadata": {
        "colab": {
          "base_uri": "https://localhost:8080/",
          "height": 349
        },
        "id": "V_bQo9B_qCWl",
        "outputId": "22ee1e6b-2d95-485f-e130-a98a3a69d956"
      },
      "source": [
        "d[['이름','국어']]"
      ],
      "execution_count": 78,
      "outputs": [
        {
          "output_type": "execute_result",
          "data": {
            "text/html": [
              "<div>\n",
              "<style scoped>\n",
              "    .dataframe tbody tr th:only-of-type {\n",
              "        vertical-align: middle;\n",
              "    }\n",
              "\n",
              "    .dataframe tbody tr th {\n",
              "        vertical-align: top;\n",
              "    }\n",
              "\n",
              "    .dataframe thead th {\n",
              "        text-align: right;\n",
              "    }\n",
              "</style>\n",
              "<table border=\"1\" class=\"dataframe\">\n",
              "  <thead>\n",
              "    <tr style=\"text-align: right;\">\n",
              "      <th></th>\n",
              "      <th>이름</th>\n",
              "      <th>국어</th>\n",
              "    </tr>\n",
              "  </thead>\n",
              "  <tbody>\n",
              "    <tr>\n",
              "      <th>0</th>\n",
              "      <td>이순신</td>\n",
              "      <td>85</td>\n",
              "    </tr>\n",
              "    <tr>\n",
              "      <th>1</th>\n",
              "      <td>강감찬</td>\n",
              "      <td>75</td>\n",
              "    </tr>\n",
              "    <tr>\n",
              "      <th>2</th>\n",
              "      <td>한석봉</td>\n",
              "      <td>99</td>\n",
              "    </tr>\n",
              "    <tr>\n",
              "      <th>3</th>\n",
              "      <td>황진이</td>\n",
              "      <td>99</td>\n",
              "    </tr>\n",
              "    <tr>\n",
              "      <th>4</th>\n",
              "      <td>안중근</td>\n",
              "      <td>90</td>\n",
              "    </tr>\n",
              "    <tr>\n",
              "      <th>5</th>\n",
              "      <td>박문수</td>\n",
              "      <td>95</td>\n",
              "    </tr>\n",
              "    <tr>\n",
              "      <th>6</th>\n",
              "      <td>임꺽정</td>\n",
              "      <td>15</td>\n",
              "    </tr>\n",
              "    <tr>\n",
              "      <th>7</th>\n",
              "      <td>김정호</td>\n",
              "      <td>90</td>\n",
              "    </tr>\n",
              "    <tr>\n",
              "      <th>8</th>\n",
              "      <td>정몽주</td>\n",
              "      <td>90</td>\n",
              "    </tr>\n",
              "    <tr>\n",
              "      <th>9</th>\n",
              "      <td>김도도</td>\n",
              "      <td>50</td>\n",
              "    </tr>\n",
              "  </tbody>\n",
              "</table>\n",
              "</div>"
            ],
            "text/plain": [
              "    이름  국어\n",
              "0  이순신  85\n",
              "1  강감찬  75\n",
              "2  한석봉  99\n",
              "3  황진이  99\n",
              "4  안중근  90\n",
              "5  박문수  95\n",
              "6  임꺽정  15\n",
              "7  김정호  90\n",
              "8  정몽주  90\n",
              "9  김도도  50"
            ]
          },
          "metadata": {
            "tags": []
          },
          "execution_count": 78
        }
      ]
    },
    {
      "cell_type": "code",
      "metadata": {
        "colab": {
          "base_uri": "https://localhost:8080/"
        },
        "id": "tGvxf4hIqPCD",
        "outputId": "45a7f586-bdb3-40db-deec-61c7d9d6ed10"
      },
      "source": [
        "d.loc[0]    # Index 값 넣으면 해당 값 불러와짐, column 값은 넣으면 안 됨"
      ],
      "execution_count": 67,
      "outputs": [
        {
          "output_type": "execute_result",
          "data": {
            "text/plain": [
              "이름    이순신\n",
              "국어     85\n",
              "영어     87\n",
              "수학     90\n",
              "Name: 0, dtype: object"
            ]
          },
          "metadata": {
            "tags": []
          },
          "execution_count": 67
        }
      ]
    },
    {
      "cell_type": "code",
      "metadata": {
        "colab": {
          "base_uri": "https://localhost:8080/",
          "height": 168
        },
        "id": "WHU1r9iVq8ZZ",
        "outputId": "01ce29d2-3529-4b73-f97f-ad1d03bd51a7"
      },
      "source": [
        "d.loc[3:6]"
      ],
      "execution_count": 68,
      "outputs": [
        {
          "output_type": "execute_result",
          "data": {
            "text/html": [
              "<div>\n",
              "<style scoped>\n",
              "    .dataframe tbody tr th:only-of-type {\n",
              "        vertical-align: middle;\n",
              "    }\n",
              "\n",
              "    .dataframe tbody tr th {\n",
              "        vertical-align: top;\n",
              "    }\n",
              "\n",
              "    .dataframe thead th {\n",
              "        text-align: right;\n",
              "    }\n",
              "</style>\n",
              "<table border=\"1\" class=\"dataframe\">\n",
              "  <thead>\n",
              "    <tr style=\"text-align: right;\">\n",
              "      <th></th>\n",
              "      <th>이름</th>\n",
              "      <th>국어</th>\n",
              "      <th>영어</th>\n",
              "      <th>수학</th>\n",
              "    </tr>\n",
              "  </thead>\n",
              "  <tbody>\n",
              "    <tr>\n",
              "      <th>3</th>\n",
              "      <td>황진이</td>\n",
              "      <td>99</td>\n",
              "      <td>99</td>\n",
              "      <td>99</td>\n",
              "    </tr>\n",
              "    <tr>\n",
              "      <th>4</th>\n",
              "      <td>안중근</td>\n",
              "      <td>90</td>\n",
              "      <td>85</td>\n",
              "      <td>90</td>\n",
              "    </tr>\n",
              "    <tr>\n",
              "      <th>5</th>\n",
              "      <td>박문수</td>\n",
              "      <td>95</td>\n",
              "      <td>98</td>\n",
              "      <td>96</td>\n",
              "    </tr>\n",
              "    <tr>\n",
              "      <th>6</th>\n",
              "      <td>임꺽정</td>\n",
              "      <td>15</td>\n",
              "      <td>35</td>\n",
              "      <td>45</td>\n",
              "    </tr>\n",
              "  </tbody>\n",
              "</table>\n",
              "</div>"
            ],
            "text/plain": [
              "    이름  국어  영어  수학\n",
              "3  황진이  99  99  99\n",
              "4  안중근  90  85  90\n",
              "5  박문수  95  98  96\n",
              "6  임꺽정  15  35  45"
            ]
          },
          "metadata": {
            "tags": []
          },
          "execution_count": 68
        }
      ]
    },
    {
      "cell_type": "code",
      "metadata": {
        "colab": {
          "base_uri": "https://localhost:8080/",
          "height": 349
        },
        "id": "8zd_8BLUrfRw",
        "outputId": "7e1a1f1b-08e3-48ab-c9ff-40e0f5e984cb"
      },
      "source": [
        "d[:]"
      ],
      "execution_count": 69,
      "outputs": [
        {
          "output_type": "execute_result",
          "data": {
            "text/html": [
              "<div>\n",
              "<style scoped>\n",
              "    .dataframe tbody tr th:only-of-type {\n",
              "        vertical-align: middle;\n",
              "    }\n",
              "\n",
              "    .dataframe tbody tr th {\n",
              "        vertical-align: top;\n",
              "    }\n",
              "\n",
              "    .dataframe thead th {\n",
              "        text-align: right;\n",
              "    }\n",
              "</style>\n",
              "<table border=\"1\" class=\"dataframe\">\n",
              "  <thead>\n",
              "    <tr style=\"text-align: right;\">\n",
              "      <th></th>\n",
              "      <th>이름</th>\n",
              "      <th>국어</th>\n",
              "      <th>영어</th>\n",
              "      <th>수학</th>\n",
              "    </tr>\n",
              "  </thead>\n",
              "  <tbody>\n",
              "    <tr>\n",
              "      <th>0</th>\n",
              "      <td>이순신</td>\n",
              "      <td>85</td>\n",
              "      <td>87</td>\n",
              "      <td>90</td>\n",
              "    </tr>\n",
              "    <tr>\n",
              "      <th>1</th>\n",
              "      <td>강감찬</td>\n",
              "      <td>75</td>\n",
              "      <td>80</td>\n",
              "      <td>95</td>\n",
              "    </tr>\n",
              "    <tr>\n",
              "      <th>2</th>\n",
              "      <td>한석봉</td>\n",
              "      <td>99</td>\n",
              "      <td>98</td>\n",
              "      <td>99</td>\n",
              "    </tr>\n",
              "    <tr>\n",
              "      <th>3</th>\n",
              "      <td>황진이</td>\n",
              "      <td>99</td>\n",
              "      <td>99</td>\n",
              "      <td>99</td>\n",
              "    </tr>\n",
              "    <tr>\n",
              "      <th>4</th>\n",
              "      <td>안중근</td>\n",
              "      <td>90</td>\n",
              "      <td>85</td>\n",
              "      <td>90</td>\n",
              "    </tr>\n",
              "    <tr>\n",
              "      <th>5</th>\n",
              "      <td>박문수</td>\n",
              "      <td>95</td>\n",
              "      <td>98</td>\n",
              "      <td>96</td>\n",
              "    </tr>\n",
              "    <tr>\n",
              "      <th>6</th>\n",
              "      <td>임꺽정</td>\n",
              "      <td>15</td>\n",
              "      <td>35</td>\n",
              "      <td>45</td>\n",
              "    </tr>\n",
              "    <tr>\n",
              "      <th>7</th>\n",
              "      <td>김정호</td>\n",
              "      <td>90</td>\n",
              "      <td>95</td>\n",
              "      <td>80</td>\n",
              "    </tr>\n",
              "    <tr>\n",
              "      <th>8</th>\n",
              "      <td>정몽주</td>\n",
              "      <td>90</td>\n",
              "      <td>90</td>\n",
              "      <td>95</td>\n",
              "    </tr>\n",
              "    <tr>\n",
              "      <th>9</th>\n",
              "      <td>김도도</td>\n",
              "      <td>50</td>\n",
              "      <td>45</td>\n",
              "      <td>60</td>\n",
              "    </tr>\n",
              "  </tbody>\n",
              "</table>\n",
              "</div>"
            ],
            "text/plain": [
              "    이름  국어  영어  수학\n",
              "0  이순신  85  87  90\n",
              "1  강감찬  75  80  95\n",
              "2  한석봉  99  98  99\n",
              "3  황진이  99  99  99\n",
              "4  안중근  90  85  90\n",
              "5  박문수  95  98  96\n",
              "6  임꺽정  15  35  45\n",
              "7  김정호  90  95  80\n",
              "8  정몽주  90  90  95\n",
              "9  김도도  50  45  60"
            ]
          },
          "metadata": {
            "tags": []
          },
          "execution_count": 69
        }
      ]
    },
    {
      "cell_type": "code",
      "metadata": {
        "colab": {
          "base_uri": "https://localhost:8080/",
          "height": 198
        },
        "id": "8w6N248trqFj",
        "outputId": "a6e17394-5097-4081-9385-339a0b817fb7"
      },
      "source": [
        "d[ : :2]    # [start : end : step]"
      ],
      "execution_count": 71,
      "outputs": [
        {
          "output_type": "execute_result",
          "data": {
            "text/html": [
              "<div>\n",
              "<style scoped>\n",
              "    .dataframe tbody tr th:only-of-type {\n",
              "        vertical-align: middle;\n",
              "    }\n",
              "\n",
              "    .dataframe tbody tr th {\n",
              "        vertical-align: top;\n",
              "    }\n",
              "\n",
              "    .dataframe thead th {\n",
              "        text-align: right;\n",
              "    }\n",
              "</style>\n",
              "<table border=\"1\" class=\"dataframe\">\n",
              "  <thead>\n",
              "    <tr style=\"text-align: right;\">\n",
              "      <th></th>\n",
              "      <th>이름</th>\n",
              "      <th>국어</th>\n",
              "      <th>영어</th>\n",
              "      <th>수학</th>\n",
              "    </tr>\n",
              "  </thead>\n",
              "  <tbody>\n",
              "    <tr>\n",
              "      <th>0</th>\n",
              "      <td>이순신</td>\n",
              "      <td>85</td>\n",
              "      <td>87</td>\n",
              "      <td>90</td>\n",
              "    </tr>\n",
              "    <tr>\n",
              "      <th>2</th>\n",
              "      <td>한석봉</td>\n",
              "      <td>99</td>\n",
              "      <td>98</td>\n",
              "      <td>99</td>\n",
              "    </tr>\n",
              "    <tr>\n",
              "      <th>4</th>\n",
              "      <td>안중근</td>\n",
              "      <td>90</td>\n",
              "      <td>85</td>\n",
              "      <td>90</td>\n",
              "    </tr>\n",
              "    <tr>\n",
              "      <th>6</th>\n",
              "      <td>임꺽정</td>\n",
              "      <td>15</td>\n",
              "      <td>35</td>\n",
              "      <td>45</td>\n",
              "    </tr>\n",
              "    <tr>\n",
              "      <th>8</th>\n",
              "      <td>정몽주</td>\n",
              "      <td>90</td>\n",
              "      <td>90</td>\n",
              "      <td>95</td>\n",
              "    </tr>\n",
              "  </tbody>\n",
              "</table>\n",
              "</div>"
            ],
            "text/plain": [
              "    이름  국어  영어  수학\n",
              "0  이순신  85  87  90\n",
              "2  한석봉  99  98  99\n",
              "4  안중근  90  85  90\n",
              "6  임꺽정  15  35  45\n",
              "8  정몽주  90  90  95"
            ]
          },
          "metadata": {
            "tags": []
          },
          "execution_count": 71
        }
      ]
    },
    {
      "cell_type": "code",
      "metadata": {
        "colab": {
          "base_uri": "https://localhost:8080/",
          "height": 349
        },
        "id": "vLZrcKl0tYEq",
        "outputId": "3519a654-4e92-4da1-fb63-89d61a7bfe01"
      },
      "source": [
        "d.loc[:,['수학','영어']]"
      ],
      "execution_count": 79,
      "outputs": [
        {
          "output_type": "execute_result",
          "data": {
            "text/html": [
              "<div>\n",
              "<style scoped>\n",
              "    .dataframe tbody tr th:only-of-type {\n",
              "        vertical-align: middle;\n",
              "    }\n",
              "\n",
              "    .dataframe tbody tr th {\n",
              "        vertical-align: top;\n",
              "    }\n",
              "\n",
              "    .dataframe thead th {\n",
              "        text-align: right;\n",
              "    }\n",
              "</style>\n",
              "<table border=\"1\" class=\"dataframe\">\n",
              "  <thead>\n",
              "    <tr style=\"text-align: right;\">\n",
              "      <th></th>\n",
              "      <th>수학</th>\n",
              "      <th>영어</th>\n",
              "    </tr>\n",
              "  </thead>\n",
              "  <tbody>\n",
              "    <tr>\n",
              "      <th>0</th>\n",
              "      <td>90</td>\n",
              "      <td>87</td>\n",
              "    </tr>\n",
              "    <tr>\n",
              "      <th>1</th>\n",
              "      <td>95</td>\n",
              "      <td>80</td>\n",
              "    </tr>\n",
              "    <tr>\n",
              "      <th>2</th>\n",
              "      <td>99</td>\n",
              "      <td>98</td>\n",
              "    </tr>\n",
              "    <tr>\n",
              "      <th>3</th>\n",
              "      <td>99</td>\n",
              "      <td>99</td>\n",
              "    </tr>\n",
              "    <tr>\n",
              "      <th>4</th>\n",
              "      <td>90</td>\n",
              "      <td>85</td>\n",
              "    </tr>\n",
              "    <tr>\n",
              "      <th>5</th>\n",
              "      <td>96</td>\n",
              "      <td>98</td>\n",
              "    </tr>\n",
              "    <tr>\n",
              "      <th>6</th>\n",
              "      <td>45</td>\n",
              "      <td>35</td>\n",
              "    </tr>\n",
              "    <tr>\n",
              "      <th>7</th>\n",
              "      <td>80</td>\n",
              "      <td>95</td>\n",
              "    </tr>\n",
              "    <tr>\n",
              "      <th>8</th>\n",
              "      <td>95</td>\n",
              "      <td>90</td>\n",
              "    </tr>\n",
              "    <tr>\n",
              "      <th>9</th>\n",
              "      <td>60</td>\n",
              "      <td>45</td>\n",
              "    </tr>\n",
              "  </tbody>\n",
              "</table>\n",
              "</div>"
            ],
            "text/plain": [
              "   수학  영어\n",
              "0  90  87\n",
              "1  95  80\n",
              "2  99  98\n",
              "3  99  99\n",
              "4  90  85\n",
              "5  96  98\n",
              "6  45  35\n",
              "7  80  95\n",
              "8  95  90\n",
              "9  60  45"
            ]
          },
          "metadata": {
            "tags": []
          },
          "execution_count": 79
        }
      ]
    },
    {
      "cell_type": "code",
      "metadata": {
        "colab": {
          "base_uri": "https://localhost:8080/",
          "height": 108
        },
        "id": "N5OfMScJrs2V",
        "outputId": "dc54c64d-45b6-4876-a7f5-a6cfe814ee16"
      },
      "source": [
        "d.loc[2:3,['영어','수학']]    #index 2, 3 + '영어','수학' column의 값 뽑기"
      ],
      "execution_count": 72,
      "outputs": [
        {
          "output_type": "execute_result",
          "data": {
            "text/html": [
              "<div>\n",
              "<style scoped>\n",
              "    .dataframe tbody tr th:only-of-type {\n",
              "        vertical-align: middle;\n",
              "    }\n",
              "\n",
              "    .dataframe tbody tr th {\n",
              "        vertical-align: top;\n",
              "    }\n",
              "\n",
              "    .dataframe thead th {\n",
              "        text-align: right;\n",
              "    }\n",
              "</style>\n",
              "<table border=\"1\" class=\"dataframe\">\n",
              "  <thead>\n",
              "    <tr style=\"text-align: right;\">\n",
              "      <th></th>\n",
              "      <th>영어</th>\n",
              "      <th>수학</th>\n",
              "    </tr>\n",
              "  </thead>\n",
              "  <tbody>\n",
              "    <tr>\n",
              "      <th>2</th>\n",
              "      <td>98</td>\n",
              "      <td>99</td>\n",
              "    </tr>\n",
              "    <tr>\n",
              "      <th>3</th>\n",
              "      <td>99</td>\n",
              "      <td>99</td>\n",
              "    </tr>\n",
              "  </tbody>\n",
              "</table>\n",
              "</div>"
            ],
            "text/plain": [
              "   영어  수학\n",
              "2  98  99\n",
              "3  99  99"
            ]
          },
          "metadata": {
            "tags": []
          },
          "execution_count": 72
        }
      ]
    },
    {
      "cell_type": "code",
      "metadata": {
        "colab": {
          "base_uri": "https://localhost:8080/",
          "height": 198
        },
        "id": "9HHQNVsgsUdR",
        "outputId": "c100d2e7-a954-4ab2-98a1-7544bcae1599"
      },
      "source": [
        "d.loc[::-2]"
      ],
      "execution_count": 73,
      "outputs": [
        {
          "output_type": "execute_result",
          "data": {
            "text/html": [
              "<div>\n",
              "<style scoped>\n",
              "    .dataframe tbody tr th:only-of-type {\n",
              "        vertical-align: middle;\n",
              "    }\n",
              "\n",
              "    .dataframe tbody tr th {\n",
              "        vertical-align: top;\n",
              "    }\n",
              "\n",
              "    .dataframe thead th {\n",
              "        text-align: right;\n",
              "    }\n",
              "</style>\n",
              "<table border=\"1\" class=\"dataframe\">\n",
              "  <thead>\n",
              "    <tr style=\"text-align: right;\">\n",
              "      <th></th>\n",
              "      <th>이름</th>\n",
              "      <th>국어</th>\n",
              "      <th>영어</th>\n",
              "      <th>수학</th>\n",
              "    </tr>\n",
              "  </thead>\n",
              "  <tbody>\n",
              "    <tr>\n",
              "      <th>9</th>\n",
              "      <td>김도도</td>\n",
              "      <td>50</td>\n",
              "      <td>45</td>\n",
              "      <td>60</td>\n",
              "    </tr>\n",
              "    <tr>\n",
              "      <th>7</th>\n",
              "      <td>김정호</td>\n",
              "      <td>90</td>\n",
              "      <td>95</td>\n",
              "      <td>80</td>\n",
              "    </tr>\n",
              "    <tr>\n",
              "      <th>5</th>\n",
              "      <td>박문수</td>\n",
              "      <td>95</td>\n",
              "      <td>98</td>\n",
              "      <td>96</td>\n",
              "    </tr>\n",
              "    <tr>\n",
              "      <th>3</th>\n",
              "      <td>황진이</td>\n",
              "      <td>99</td>\n",
              "      <td>99</td>\n",
              "      <td>99</td>\n",
              "    </tr>\n",
              "    <tr>\n",
              "      <th>1</th>\n",
              "      <td>강감찬</td>\n",
              "      <td>75</td>\n",
              "      <td>80</td>\n",
              "      <td>95</td>\n",
              "    </tr>\n",
              "  </tbody>\n",
              "</table>\n",
              "</div>"
            ],
            "text/plain": [
              "    이름  국어  영어  수학\n",
              "9  김도도  50  45  60\n",
              "7  김정호  90  95  80\n",
              "5  박문수  95  98  96\n",
              "3  황진이  99  99  99\n",
              "1  강감찬  75  80  95"
            ]
          },
          "metadata": {
            "tags": []
          },
          "execution_count": 73
        }
      ]
    },
    {
      "cell_type": "code",
      "metadata": {
        "colab": {
          "base_uri": "https://localhost:8080/",
          "height": 198
        },
        "id": "6FS8AfS3tn4q",
        "outputId": "97c85f74-a7cb-4f6a-af4f-2f0ba4a6e7af"
      },
      "source": [
        "d.loc[::2, ['이름','국어']]"
      ],
      "execution_count": 81,
      "outputs": [
        {
          "output_type": "execute_result",
          "data": {
            "text/html": [
              "<div>\n",
              "<style scoped>\n",
              "    .dataframe tbody tr th:only-of-type {\n",
              "        vertical-align: middle;\n",
              "    }\n",
              "\n",
              "    .dataframe tbody tr th {\n",
              "        vertical-align: top;\n",
              "    }\n",
              "\n",
              "    .dataframe thead th {\n",
              "        text-align: right;\n",
              "    }\n",
              "</style>\n",
              "<table border=\"1\" class=\"dataframe\">\n",
              "  <thead>\n",
              "    <tr style=\"text-align: right;\">\n",
              "      <th></th>\n",
              "      <th>이름</th>\n",
              "      <th>국어</th>\n",
              "    </tr>\n",
              "  </thead>\n",
              "  <tbody>\n",
              "    <tr>\n",
              "      <th>0</th>\n",
              "      <td>이순신</td>\n",
              "      <td>85</td>\n",
              "    </tr>\n",
              "    <tr>\n",
              "      <th>2</th>\n",
              "      <td>한석봉</td>\n",
              "      <td>99</td>\n",
              "    </tr>\n",
              "    <tr>\n",
              "      <th>4</th>\n",
              "      <td>안중근</td>\n",
              "      <td>90</td>\n",
              "    </tr>\n",
              "    <tr>\n",
              "      <th>6</th>\n",
              "      <td>임꺽정</td>\n",
              "      <td>15</td>\n",
              "    </tr>\n",
              "    <tr>\n",
              "      <th>8</th>\n",
              "      <td>정몽주</td>\n",
              "      <td>90</td>\n",
              "    </tr>\n",
              "  </tbody>\n",
              "</table>\n",
              "</div>"
            ],
            "text/plain": [
              "    이름  국어\n",
              "0  이순신  85\n",
              "2  한석봉  99\n",
              "4  안중근  90\n",
              "6  임꺽정  15\n",
              "8  정몽주  90"
            ]
          },
          "metadata": {
            "tags": []
          },
          "execution_count": 81
        }
      ]
    },
    {
      "cell_type": "code",
      "metadata": {
        "colab": {
          "base_uri": "https://localhost:8080/"
        },
        "id": "AmIJuwF9ueSV",
        "outputId": "2a08ca4f-0abe-4408-d9aa-4ff635b56837"
      },
      "source": [
        "d.loc[3][2]"
      ],
      "execution_count": 82,
      "outputs": [
        {
          "output_type": "execute_result",
          "data": {
            "text/plain": [
              "99"
            ]
          },
          "metadata": {
            "tags": []
          },
          "execution_count": 82
        }
      ]
    }
  ]
}