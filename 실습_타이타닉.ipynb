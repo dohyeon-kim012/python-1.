{
  "nbformat": 4,
  "nbformat_minor": 0,
  "metadata": {
    "colab": {
      "name": "실습_타이타닉.ipynb",
      "provenance": [],
      "collapsed_sections": [],
      "mount_file_id": "1Uhs_6vFCAyYKyWWNfM52OTN_GLNGnnTn",
      "authorship_tag": "ABX9TyNiVP/NL26f4fwwxoInZBeI",
      "include_colab_link": true
    },
    "kernelspec": {
      "name": "python3",
      "display_name": "Python 3"
    },
    "language_info": {
      "name": "python"
    }
  },
  "cells": [
    {
      "cell_type": "markdown",
      "metadata": {
        "id": "view-in-github",
        "colab_type": "text"
      },
      "source": [
        "<a href=\"https://colab.research.google.com/github/dohyeon-kim012/python-1./blob/main/%EC%8B%A4%EC%8A%B5_%ED%83%80%EC%9D%B4%ED%83%80%EB%8B%89.ipynb\" target=\"_parent\"><img src=\"https://colab.research.google.com/assets/colab-badge.svg\" alt=\"Open In Colab\"/></a>"
      ]
    },
    {
      "cell_type": "markdown",
      "metadata": {
        "id": "E5nWVSSjv4qm"
      },
      "source": [
        "# TITANIC 데이터 전처리"
      ]
    },
    {
      "cell_type": "code",
      "metadata": {
        "id": "ODW86JxxvjE9"
      },
      "source": [
        "import pandas as pd"
      ],
      "execution_count": null,
      "outputs": []
    },
    {
      "cell_type": "code",
      "metadata": {
        "colab": {
          "base_uri": "https://localhost:8080/",
          "height": 492
        },
        "id": "Wt4T3tQBvv8Y",
        "outputId": "e2be9faa-952f-4a02-9fa4-04a80d953aa3"
      },
      "source": [
        "df_titanic= pd.read_csv('/content/drive/MyDrive/Titanic.csv')\n",
        "df_titanic.head()"
      ],
      "execution_count": null,
      "outputs": [
        {
          "output_type": "execute_result",
          "data": {
            "text/html": [
              "<div>\n",
              "<style scoped>\n",
              "    .dataframe tbody tr th:only-of-type {\n",
              "        vertical-align: middle;\n",
              "    }\n",
              "\n",
              "    .dataframe tbody tr th {\n",
              "        vertical-align: top;\n",
              "    }\n",
              "\n",
              "    .dataframe thead th {\n",
              "        text-align: right;\n",
              "    }\n",
              "</style>\n",
              "<table border=\"1\" class=\"dataframe\">\n",
              "  <thead>\n",
              "    <tr style=\"text-align: right;\">\n",
              "      <th></th>\n",
              "      <th>PassengerId</th>\n",
              "      <th>Survived</th>\n",
              "      <th>Pclass</th>\n",
              "      <th>Name</th>\n",
              "      <th>Sex</th>\n",
              "      <th>Age</th>\n",
              "      <th>SibSp</th>\n",
              "      <th>Parch</th>\n",
              "      <th>Ticket</th>\n",
              "      <th>Fare</th>\n",
              "      <th>Cabin</th>\n",
              "      <th>Embarked</th>\n",
              "    </tr>\n",
              "  </thead>\n",
              "  <tbody>\n",
              "    <tr>\n",
              "      <th>0</th>\n",
              "      <td>1</td>\n",
              "      <td>0</td>\n",
              "      <td>3</td>\n",
              "      <td>Braund, Mr. Owen Harris</td>\n",
              "      <td>male</td>\n",
              "      <td>22.0</td>\n",
              "      <td>1</td>\n",
              "      <td>0</td>\n",
              "      <td>A/5 21171</td>\n",
              "      <td>7.2500</td>\n",
              "      <td>NaN</td>\n",
              "      <td>S</td>\n",
              "    </tr>\n",
              "    <tr>\n",
              "      <th>1</th>\n",
              "      <td>2</td>\n",
              "      <td>1</td>\n",
              "      <td>1</td>\n",
              "      <td>Cumings, Mrs. John Bradley (Florence Briggs Th...</td>\n",
              "      <td>female</td>\n",
              "      <td>38.0</td>\n",
              "      <td>1</td>\n",
              "      <td>0</td>\n",
              "      <td>PC 17599</td>\n",
              "      <td>71.2833</td>\n",
              "      <td>C85</td>\n",
              "      <td>C</td>\n",
              "    </tr>\n",
              "    <tr>\n",
              "      <th>2</th>\n",
              "      <td>3</td>\n",
              "      <td>1</td>\n",
              "      <td>3</td>\n",
              "      <td>Heikkinen, Miss. Laina</td>\n",
              "      <td>female</td>\n",
              "      <td>26.0</td>\n",
              "      <td>0</td>\n",
              "      <td>0</td>\n",
              "      <td>STON/O2. 3101282</td>\n",
              "      <td>7.9250</td>\n",
              "      <td>NaN</td>\n",
              "      <td>S</td>\n",
              "    </tr>\n",
              "    <tr>\n",
              "      <th>3</th>\n",
              "      <td>4</td>\n",
              "      <td>1</td>\n",
              "      <td>1</td>\n",
              "      <td>Futrelle, Mrs. Jacques Heath (Lily May Peel)</td>\n",
              "      <td>female</td>\n",
              "      <td>35.0</td>\n",
              "      <td>1</td>\n",
              "      <td>0</td>\n",
              "      <td>113803</td>\n",
              "      <td>53.1000</td>\n",
              "      <td>C123</td>\n",
              "      <td>S</td>\n",
              "    </tr>\n",
              "    <tr>\n",
              "      <th>4</th>\n",
              "      <td>5</td>\n",
              "      <td>0</td>\n",
              "      <td>3</td>\n",
              "      <td>Allen, Mr. William Henry</td>\n",
              "      <td>male</td>\n",
              "      <td>35.0</td>\n",
              "      <td>0</td>\n",
              "      <td>0</td>\n",
              "      <td>373450</td>\n",
              "      <td>8.0500</td>\n",
              "      <td>NaN</td>\n",
              "      <td>S</td>\n",
              "    </tr>\n",
              "  </tbody>\n",
              "</table>\n",
              "</div>"
            ],
            "text/plain": [
              "   PassengerId  Survived  Pclass  ...     Fare Cabin  Embarked\n",
              "0            1         0       3  ...   7.2500   NaN         S\n",
              "1            2         1       1  ...  71.2833   C85         C\n",
              "2            3         1       3  ...   7.9250   NaN         S\n",
              "3            4         1       1  ...  53.1000  C123         S\n",
              "4            5         0       3  ...   8.0500   NaN         S\n",
              "\n",
              "[5 rows x 12 columns]"
            ]
          },
          "metadata": {
            "tags": []
          },
          "execution_count": 2
        }
      ]
    },
    {
      "cell_type": "code",
      "metadata": {
        "colab": {
          "base_uri": "https://localhost:8080/"
        },
        "id": "mygFj9xpwASU",
        "outputId": "320afbe5-a26e-422b-f0dd-e980d0b1ae0f"
      },
      "source": [
        "df_titanic.info()"
      ],
      "execution_count": null,
      "outputs": [
        {
          "output_type": "stream",
          "text": [
            "<class 'pandas.core.frame.DataFrame'>\n",
            "RangeIndex: 891 entries, 0 to 890\n",
            "Data columns (total 12 columns):\n",
            " #   Column       Non-Null Count  Dtype  \n",
            "---  ------       --------------  -----  \n",
            " 0   PassengerId  891 non-null    int64  \n",
            " 1   Survived     891 non-null    int64  \n",
            " 2   Pclass       891 non-null    int64  \n",
            " 3   Name         891 non-null    object \n",
            " 4   Sex          891 non-null    object \n",
            " 5   Age          714 non-null    float64\n",
            " 6   SibSp        891 non-null    int64  \n",
            " 7   Parch        891 non-null    int64  \n",
            " 8   Ticket       891 non-null    object \n",
            " 9   Fare         891 non-null    float64\n",
            " 10  Cabin        204 non-null    object \n",
            " 11  Embarked     889 non-null    object \n",
            "dtypes: float64(2), int64(5), object(5)\n",
            "memory usage: 83.7+ KB\n"
          ],
          "name": "stdout"
        }
      ]
    },
    {
      "cell_type": "code",
      "metadata": {
        "colab": {
          "base_uri": "https://localhost:8080/",
          "height": 295
        },
        "id": "7nr9-UqYwf8h",
        "outputId": "d2439ce9-dbd7-41db-dfb9-3d6abeb76b42"
      },
      "source": [
        "df_titanic.describe()"
      ],
      "execution_count": null,
      "outputs": [
        {
          "output_type": "execute_result",
          "data": {
            "text/html": [
              "<div>\n",
              "<style scoped>\n",
              "    .dataframe tbody tr th:only-of-type {\n",
              "        vertical-align: middle;\n",
              "    }\n",
              "\n",
              "    .dataframe tbody tr th {\n",
              "        vertical-align: top;\n",
              "    }\n",
              "\n",
              "    .dataframe thead th {\n",
              "        text-align: right;\n",
              "    }\n",
              "</style>\n",
              "<table border=\"1\" class=\"dataframe\">\n",
              "  <thead>\n",
              "    <tr style=\"text-align: right;\">\n",
              "      <th></th>\n",
              "      <th>PassengerId</th>\n",
              "      <th>Survived</th>\n",
              "      <th>Pclass</th>\n",
              "      <th>Age</th>\n",
              "      <th>SibSp</th>\n",
              "      <th>Parch</th>\n",
              "      <th>Fare</th>\n",
              "    </tr>\n",
              "  </thead>\n",
              "  <tbody>\n",
              "    <tr>\n",
              "      <th>count</th>\n",
              "      <td>891.000000</td>\n",
              "      <td>891.000000</td>\n",
              "      <td>891.000000</td>\n",
              "      <td>714.000000</td>\n",
              "      <td>891.000000</td>\n",
              "      <td>891.000000</td>\n",
              "      <td>891.000000</td>\n",
              "    </tr>\n",
              "    <tr>\n",
              "      <th>mean</th>\n",
              "      <td>446.000000</td>\n",
              "      <td>0.383838</td>\n",
              "      <td>2.308642</td>\n",
              "      <td>29.699118</td>\n",
              "      <td>0.523008</td>\n",
              "      <td>0.381594</td>\n",
              "      <td>32.204208</td>\n",
              "    </tr>\n",
              "    <tr>\n",
              "      <th>std</th>\n",
              "      <td>257.353842</td>\n",
              "      <td>0.486592</td>\n",
              "      <td>0.836071</td>\n",
              "      <td>14.526497</td>\n",
              "      <td>1.102743</td>\n",
              "      <td>0.806057</td>\n",
              "      <td>49.693429</td>\n",
              "    </tr>\n",
              "    <tr>\n",
              "      <th>min</th>\n",
              "      <td>1.000000</td>\n",
              "      <td>0.000000</td>\n",
              "      <td>1.000000</td>\n",
              "      <td>0.420000</td>\n",
              "      <td>0.000000</td>\n",
              "      <td>0.000000</td>\n",
              "      <td>0.000000</td>\n",
              "    </tr>\n",
              "    <tr>\n",
              "      <th>25%</th>\n",
              "      <td>223.500000</td>\n",
              "      <td>0.000000</td>\n",
              "      <td>2.000000</td>\n",
              "      <td>20.125000</td>\n",
              "      <td>0.000000</td>\n",
              "      <td>0.000000</td>\n",
              "      <td>7.910400</td>\n",
              "    </tr>\n",
              "    <tr>\n",
              "      <th>50%</th>\n",
              "      <td>446.000000</td>\n",
              "      <td>0.000000</td>\n",
              "      <td>3.000000</td>\n",
              "      <td>28.000000</td>\n",
              "      <td>0.000000</td>\n",
              "      <td>0.000000</td>\n",
              "      <td>14.454200</td>\n",
              "    </tr>\n",
              "    <tr>\n",
              "      <th>75%</th>\n",
              "      <td>668.500000</td>\n",
              "      <td>1.000000</td>\n",
              "      <td>3.000000</td>\n",
              "      <td>38.000000</td>\n",
              "      <td>1.000000</td>\n",
              "      <td>0.000000</td>\n",
              "      <td>31.000000</td>\n",
              "    </tr>\n",
              "    <tr>\n",
              "      <th>max</th>\n",
              "      <td>891.000000</td>\n",
              "      <td>1.000000</td>\n",
              "      <td>3.000000</td>\n",
              "      <td>80.000000</td>\n",
              "      <td>8.000000</td>\n",
              "      <td>6.000000</td>\n",
              "      <td>512.329200</td>\n",
              "    </tr>\n",
              "  </tbody>\n",
              "</table>\n",
              "</div>"
            ],
            "text/plain": [
              "       PassengerId    Survived      Pclass  ...       SibSp       Parch        Fare\n",
              "count   891.000000  891.000000  891.000000  ...  891.000000  891.000000  891.000000\n",
              "mean    446.000000    0.383838    2.308642  ...    0.523008    0.381594   32.204208\n",
              "std     257.353842    0.486592    0.836071  ...    1.102743    0.806057   49.693429\n",
              "min       1.000000    0.000000    1.000000  ...    0.000000    0.000000    0.000000\n",
              "25%     223.500000    0.000000    2.000000  ...    0.000000    0.000000    7.910400\n",
              "50%     446.000000    0.000000    3.000000  ...    0.000000    0.000000   14.454200\n",
              "75%     668.500000    1.000000    3.000000  ...    1.000000    0.000000   31.000000\n",
              "max     891.000000    1.000000    3.000000  ...    8.000000    6.000000  512.329200\n",
              "\n",
              "[8 rows x 7 columns]"
            ]
          },
          "metadata": {
            "tags": []
          },
          "execution_count": 4
        }
      ]
    },
    {
      "cell_type": "code",
      "metadata": {
        "colab": {
          "base_uri": "https://localhost:8080/"
        },
        "id": "P7RiujYzwkcK",
        "outputId": "ddb652b7-6699-471d-df9b-6c7cbab07213"
      },
      "source": [
        "df_titanic.groupby(\"Age\")['Survived'].mean()"
      ],
      "execution_count": null,
      "outputs": [
        {
          "output_type": "execute_result",
          "data": {
            "text/plain": [
              "Age\n",
              "0.42     1.0\n",
              "0.67     1.0\n",
              "0.75     1.0\n",
              "0.83     1.0\n",
              "0.92     1.0\n",
              "        ... \n",
              "70.00    0.0\n",
              "70.50    0.0\n",
              "71.00    0.0\n",
              "74.00    0.0\n",
              "80.00    1.0\n",
              "Name: Survived, Length: 88, dtype: float64"
            ]
          },
          "metadata": {
            "tags": []
          },
          "execution_count": 5
        }
      ]
    },
    {
      "cell_type": "code",
      "metadata": {
        "colab": {
          "base_uri": "https://localhost:8080/",
          "height": 566
        },
        "id": "yd4MuEO11PEO",
        "outputId": "d0c886d1-d058-4b6f-add5-2df07ea05216"
      },
      "source": [
        "import matplotlib.pyplot as plt\n",
        "\n",
        "df_titanic.hist(bins=50, figsize=(20, 15))\n",
        "plt.show()"
      ],
      "execution_count": null,
      "outputs": [
        {
          "output_type": "display_data",
          "data": {
            "image/png": "[encoded data removed]",
            "text/plain": [
              "<Figure size 1440x1080 with 9 Axes>"
            ]
          },
          "metadata": {
            "tags": [],
            "needs_background": "light"
          }
        }
      ]
    },
    {
      "cell_type": "code",
      "metadata": {
        "colab": {
          "base_uri": "https://localhost:8080/",
          "height": 581
        },
        "id": "0SdrHln5ME3m",
        "outputId": "7a3a769e-072a-4f81-d8bd-7c88805b0167"
      },
      "source": [
        "# 시각화를 통해 대략적인 결측치 확인\n",
        "import missingno as msno\n",
        "import warnings\n",
        "warnings.filterwarnings('ignore')\n",
        "\n",
        "msno.matrix(df_titanic.iloc[:, :], figsize=(8,8), color=(0.8, 0.5, 0.2))"
      ],
      "execution_count": null,
      "outputs": [
        {
          "output_type": "execute_result",
          "data": {
            "text/plain": [
              "<matplotlib.axes._subplots.AxesSubplot at 0x7f1e876f3990>"
            ]
          },
          "metadata": {
            "tags": []
          },
          "execution_count": 7
        },
        {
          "output_type": "display_data",
          "data": {
            "image/png": "[encoded data removed]",
            "text/plain": [
              "<Figure size 576x576 with 2 Axes>"
            ]
          },
          "metadata": {
            "tags": [],
            "needs_background": "light"
          }
        }
      ]
    },
    {
      "cell_type": "code",
      "metadata": {
        "colab": {
          "base_uri": "https://localhost:8080/",
          "height": 609
        },
        "id": "lSQn5syyhGz4",
        "outputId": "b494c38b-5013-4dc1-ca38-77506955010e"
      },
      "source": [
        "msno.bar(df_titanic.iloc[:, :], figsize=(8, 8), color=(0.8, 0.5, 0.2))"
      ],
      "execution_count": null,
      "outputs": [
        {
          "output_type": "execute_result",
          "data": {
            "text/plain": [
              "<matplotlib.axes._subplots.AxesSubplot at 0x7f1e87f1eed0>"
            ]
          },
          "metadata": {
            "tags": []
          },
          "execution_count": 8
        },
        {
          "output_type": "display_data",
          "data": {
            "image/png": "[encoded data removed]",
            "text/plain": [
              "<Figure size 576x576 with 3 Axes>"
            ]
          },
          "metadata": {
            "tags": [],
            "needs_background": "light"
          }
        }
      ]
    },
    {
      "cell_type": "code",
      "metadata": {
        "id": "Bcgw1VNPO-6z"
      },
      "source": [
        "# Cabin 값 드랍\n",
        "df_titanic.drop(\"Cabin\", axis=1, inplace=True)"
      ],
      "execution_count": null,
      "outputs": []
    },
    {
      "cell_type": "code",
      "metadata": {
        "colab": {
          "base_uri": "https://localhost:8080/",
          "height": 492
        },
        "id": "vUnLaouGV4vr",
        "outputId": "e987fb17-cced-41a4-fad9-09ccdf9e078b"
      },
      "source": [
        "df_titanic.head()"
      ],
      "execution_count": null,
      "outputs": [
        {
          "output_type": "execute_result",
          "data": {
            "text/html": [
              "<div>\n",
              "<style scoped>\n",
              "    .dataframe tbody tr th:only-of-type {\n",
              "        vertical-align: middle;\n",
              "    }\n",
              "\n",
              "    .dataframe tbody tr th {\n",
              "        vertical-align: top;\n",
              "    }\n",
              "\n",
              "    .dataframe thead th {\n",
              "        text-align: right;\n",
              "    }\n",
              "</style>\n",
              "<table border=\"1\" class=\"dataframe\">\n",
              "  <thead>\n",
              "    <tr style=\"text-align: right;\">\n",
              "      <th></th>\n",
              "      <th>PassengerId</th>\n",
              "      <th>Survived</th>\n",
              "      <th>Pclass</th>\n",
              "      <th>Name</th>\n",
              "      <th>Sex</th>\n",
              "      <th>Age</th>\n",
              "      <th>SibSp</th>\n",
              "      <th>Parch</th>\n",
              "      <th>Ticket</th>\n",
              "      <th>Fare</th>\n",
              "      <th>Embarked</th>\n",
              "    </tr>\n",
              "  </thead>\n",
              "  <tbody>\n",
              "    <tr>\n",
              "      <th>0</th>\n",
              "      <td>1</td>\n",
              "      <td>0</td>\n",
              "      <td>3</td>\n",
              "      <td>Braund, Mr. Owen Harris</td>\n",
              "      <td>male</td>\n",
              "      <td>22.0</td>\n",
              "      <td>1</td>\n",
              "      <td>0</td>\n",
              "      <td>A/5 21171</td>\n",
              "      <td>7.2500</td>\n",
              "      <td>S</td>\n",
              "    </tr>\n",
              "    <tr>\n",
              "      <th>1</th>\n",
              "      <td>2</td>\n",
              "      <td>1</td>\n",
              "      <td>1</td>\n",
              "      <td>Cumings, Mrs. John Bradley (Florence Briggs Th...</td>\n",
              "      <td>female</td>\n",
              "      <td>38.0</td>\n",
              "      <td>1</td>\n",
              "      <td>0</td>\n",
              "      <td>PC 17599</td>\n",
              "      <td>71.2833</td>\n",
              "      <td>C</td>\n",
              "    </tr>\n",
              "    <tr>\n",
              "      <th>2</th>\n",
              "      <td>3</td>\n",
              "      <td>1</td>\n",
              "      <td>3</td>\n",
              "      <td>Heikkinen, Miss. Laina</td>\n",
              "      <td>female</td>\n",
              "      <td>26.0</td>\n",
              "      <td>0</td>\n",
              "      <td>0</td>\n",
              "      <td>STON/O2. 3101282</td>\n",
              "      <td>7.9250</td>\n",
              "      <td>S</td>\n",
              "    </tr>\n",
              "    <tr>\n",
              "      <th>3</th>\n",
              "      <td>4</td>\n",
              "      <td>1</td>\n",
              "      <td>1</td>\n",
              "      <td>Futrelle, Mrs. Jacques Heath (Lily May Peel)</td>\n",
              "      <td>female</td>\n",
              "      <td>35.0</td>\n",
              "      <td>1</td>\n",
              "      <td>0</td>\n",
              "      <td>113803</td>\n",
              "      <td>53.1000</td>\n",
              "      <td>S</td>\n",
              "    </tr>\n",
              "    <tr>\n",
              "      <th>4</th>\n",
              "      <td>5</td>\n",
              "      <td>0</td>\n",
              "      <td>3</td>\n",
              "      <td>Allen, Mr. William Henry</td>\n",
              "      <td>male</td>\n",
              "      <td>35.0</td>\n",
              "      <td>0</td>\n",
              "      <td>0</td>\n",
              "      <td>373450</td>\n",
              "      <td>8.0500</td>\n",
              "      <td>S</td>\n",
              "    </tr>\n",
              "  </tbody>\n",
              "</table>\n",
              "</div>"
            ],
            "text/plain": [
              "   PassengerId  Survived  Pclass  ...            Ticket     Fare  Embarked\n",
              "0            1         0       3  ...         A/5 21171   7.2500         S\n",
              "1            2         1       1  ...          PC 17599  71.2833         C\n",
              "2            3         1       3  ...  STON/O2. 3101282   7.9250         S\n",
              "3            4         1       1  ...            113803  53.1000         S\n",
              "4            5         0       3  ...            373450   8.0500         S\n",
              "\n",
              "[5 rows x 11 columns]"
            ]
          },
          "metadata": {
            "tags": []
          },
          "execution_count": 10
        }
      ]
    },
    {
      "cell_type": "markdown",
      "metadata": {
        "id": "OZOnVhvjZE_s"
      },
      "source": [
        "## 상관관계"
      ]
    },
    {
      "cell_type": "code",
      "metadata": {
        "colab": {
          "base_uri": "https://localhost:8080/"
        },
        "id": "P6mvjJO9VUCB",
        "outputId": "e2e2cc53-e3ec-425f-d53f-a539aa2bdf1c"
      },
      "source": [
        "# 상관관계 확인\n",
        "corr_matrix = df_titanic.corr()\n",
        "\n",
        "corr_matrix[\"Survived\"].sort_values(ascending=False)"
      ],
      "execution_count": null,
      "outputs": [
        {
          "output_type": "execute_result",
          "data": {
            "text/plain": [
              "Survived       1.000000\n",
              "Fare           0.257307\n",
              "Parch          0.081629\n",
              "PassengerId   -0.005007\n",
              "SibSp         -0.035322\n",
              "Age           -0.077221\n",
              "Pclass        -0.338481\n",
              "Name: Survived, dtype: float64"
            ]
          },
          "metadata": {
            "tags": []
          },
          "execution_count": 11
        }
      ]
    },
    {
      "cell_type": "markdown",
      "metadata": {
        "id": "kUJo1ajoX_tX"
      },
      "source": [
        "Fare 과 Pclass가 그나마 큰 수이지만, 둘 다 보통의 상관관계 정도로 큰 연관성은 없어 보임"
      ]
    },
    {
      "cell_type": "code",
      "metadata": {
        "id": "7f5BxzIxYd9U",
        "colab": {
          "base_uri": "https://localhost:8080/",
          "height": 1000
        },
        "outputId": "dded9160-ca76-4fd5-bc87-a895293dc418"
      },
      "source": [
        "from pandas.plotting import scatter_matrix\n",
        "\n",
        "feature_names = [\"Survived\", \"Pclass\", \"Sex\", \"Age\", \"SibSp\", \"Parch\", \"Ticket\", \"Fare\", \"Embarked\"]\n",
        "scatter_matrix(df_titanic[feature_names], figsize=(12, 8))"
      ],
      "execution_count": null,
      "outputs": [
        {
          "output_type": "execute_result",
          "data": {
            "text/plain": [
              "array([[<matplotlib.axes._subplots.AxesSubplot object at 0x7f1e87e9fb50>,\n",
              "        <matplotlib.axes._subplots.AxesSubplot object at 0x7f1e88250b50>,\n",
              "        <matplotlib.axes._subplots.AxesSubplot object at 0x7f1e87c2e710>,\n",
              "        <matplotlib.axes._subplots.AxesSubplot object at 0x7f1e88136dd0>,\n",
              "        <matplotlib.axes._subplots.AxesSubplot object at 0x7f1e88158490>,\n",
              "        <matplotlib.axes._subplots.AxesSubplot object at 0x7f1e881a2b10>],\n",
              "       [<matplotlib.axes._subplots.AxesSubplot object at 0x7f1e880ba250>,\n",
              "        <matplotlib.axes._subplots.AxesSubplot object at 0x7f1e881f6810>,\n",
              "        <matplotlib.axes._subplots.AxesSubplot object at 0x7f1e881f6850>,\n",
              "        <matplotlib.axes._subplots.AxesSubplot object at 0x7f1e88221fd0>,\n",
              "        <matplotlib.axes._subplots.AxesSubplot object at 0x7f1e704acc10>,\n",
              "        <matplotlib.axes._subplots.AxesSubplot object at 0x7f1e7046f2d0>],\n",
              "       [<matplotlib.axes._subplots.AxesSubplot object at 0x7f1e70423950>,\n",
              "        <matplotlib.axes._subplots.AxesSubplot object at 0x7f1e70451b10>,\n",
              "        <matplotlib.axes._subplots.AxesSubplot object at 0x7f1e7039d690>,\n",
              "        <matplotlib.axes._subplots.AxesSubplot object at 0x7f1e703d2d10>,\n",
              "        <matplotlib.axes._subplots.AxesSubplot object at 0x7f1e703153d0>,\n",
              "        <matplotlib.axes._subplots.AxesSubplot object at 0x7f1e7034ca50>],\n",
              "       [<matplotlib.axes._subplots.AxesSubplot object at 0x7f1e7030e110>,\n",
              "        <matplotlib.axes._subplots.AxesSubplot object at 0x7f1e702c4790>,\n",
              "        <matplotlib.axes._subplots.AxesSubplot object at 0x7f1e7027be10>,\n",
              "        <matplotlib.axes._subplots.AxesSubplot object at 0x7f1e7023b4d0>,\n",
              "        <matplotlib.axes._subplots.AxesSubplot object at 0x7f1e701f1b50>,\n",
              "        <matplotlib.axes._subplots.AxesSubplot object at 0x7f1e701b3210>],\n",
              "       [<matplotlib.axes._subplots.AxesSubplot object at 0x7f1e7016a890>,\n",
              "        <matplotlib.axes._subplots.AxesSubplot object at 0x7f1e7011ef10>,\n",
              "        <matplotlib.axes._subplots.AxesSubplot object at 0x7f1e700d9fd0>,\n",
              "        <matplotlib.axes._subplots.AxesSubplot object at 0x7f1e7009d5d0>,\n",
              "        <matplotlib.axes._subplots.AxesSubplot object at 0x7f1e700d0b50>,\n",
              "        <matplotlib.axes._subplots.AxesSubplot object at 0x7f1e70093110>],\n",
              "       [<matplotlib.axes._subplots.AxesSubplot object at 0x7f1e70048690>,\n",
              "        <matplotlib.axes._subplots.AxesSubplot object at 0x7f1e87ffa910>,\n",
              "        <matplotlib.axes._subplots.AxesSubplot object at 0x7f1e88176350>,\n",
              "        <matplotlib.axes._subplots.AxesSubplot object at 0x7f1e704c1090>,\n",
              "        <matplotlib.axes._subplots.AxesSubplot object at 0x7f1e70299c90>,\n",
              "        <matplotlib.axes._subplots.AxesSubplot object at 0x7f1e6ffeaed0>]],\n",
              "      dtype=object)"
            ]
          },
          "metadata": {
            "tags": []
          },
          "execution_count": 12
        },
        {
          "output_type": "display_data",
          "data": {
            "image/png": "[encoded data removed]",
            "text/plain": [
              "<Figure size 864x576 with 36 Axes>"
            ]
          },
          "metadata": {
            "tags": [],
            "needs_background": "light"
          }
        }
      ]
    },
    {
      "cell_type": "markdown",
      "metadata": {
        "id": "NbCnKXcO9Hzp"
      },
      "source": [
        "히스토그램을 통한 상관관계의 분석이 어려워 세부 그래프를 통해 다시 확인"
      ]
    },
    {
      "cell_type": "markdown",
      "metadata": {
        "id": "FQK8phueWVm7"
      },
      "source": [
        "## 시각화"
      ]
    },
    {
      "cell_type": "code",
      "metadata": {
        "id": "c4bvaVBKZRyn",
        "colab": {
          "base_uri": "https://localhost:8080/",
          "height": 398
        },
        "outputId": "ecbe8a3e-7eee-4dd1-ec3a-a6b3dcd34112"
      },
      "source": [
        "# pclass에 따른 승객 수와 사망자수 시각화\n",
        "import seaborn as sns\n",
        "\n",
        "plt.style.use('seaborn')\n",
        "sns.set(font_scale=2.5)\n",
        "\n",
        "y_position = 1.02\n",
        "fig, ax = plt.subplots(1,2,figsize=(18,8))\n",
        "df_titanic['Pclass'].value_counts().plot.bar(color=['#CD7F32','#FFDF00','#D3D3D3'], ax=ax[0])\n",
        "ax[0].set_title('Number of Passengers By Pclass', y=y_position)\n",
        "\n",
        "sns.countplot('Pclass', hue='Survived', data=df_titanic, ax=ax[1])\n",
        "ax[1].set_title('Pclass : Survived vs Dead', y=y_position)\n",
        "plt.show()"
      ],
      "execution_count": null,
      "outputs": [
        {
          "output_type": "display_data",
          "data": {
            "image/png": "[encoded data removed]",
            "text/plain": [
              "<Figure size 1296x576 with 2 Axes>"
            ]
          },
          "metadata": {
            "tags": []
          }
        }
      ]
    },
    {
      "cell_type": "code",
      "metadata": {
        "id": "YVt4tfzx7vyy",
        "colab": {
          "base_uri": "https://localhost:8080/",
          "height": 442
        },
        "outputId": "84ef2213-fcda-463c-b322-fb36b42180a6"
      },
      "source": [
        "# 성별에 따른 사망자 수 시각화\n",
        "\n",
        "fig, ax = plt.subplots(1,2, figsize=(18,8))\n",
        "df_titanic[['Sex', 'Survived']].groupby(['Sex'], as_index=True).mean().plot.bar(ax=ax[0])\n",
        "ax[0].set_title('Survived vs Sex')\n",
        "\n",
        "sns.countplot('Sex', hue='Survived', data=df_titanic, ax=ax[1])\n",
        "ax[1].set_title('Sex : Survived vs Dead')\n",
        "plt.show()"
      ],
      "execution_count": null,
      "outputs": [
        {
          "output_type": "display_data",
          "data": {
            "image/png": "[encoded data removed]",
            "text/plain": [
              "<Figure size 1296x576 with 2 Axes>"
            ]
          },
          "metadata": {
            "tags": []
          }
        }
      ]
    },
    {
      "cell_type": "code",
      "metadata": {
        "id": "YKLDcIcx9suU",
        "colab": {
          "base_uri": "https://localhost:8080/",
          "height": 409
        },
        "outputId": "066b8cc5-60eb-425c-c7a5-1bf72cfb4ca8"
      },
      "source": [
        "# 성별과 pclass 에 따른 생존률 조사\n",
        "\n",
        "sns.factorplot('Pclass', 'Survived', hue = 'Sex', data=df_titanic, size=6, aspect=1.5)"
      ],
      "execution_count": null,
      "outputs": [
        {
          "output_type": "execute_result",
          "data": {
            "text/plain": [
              "<seaborn.axisgrid.FacetGrid at 0x7f1e6fbccdd0>"
            ]
          },
          "metadata": {
            "tags": []
          },
          "execution_count": 15
        },
        {
          "output_type": "display_data",
          "data": {
            "image/png": "[encoded data removed]",
            "text/plain": [
              "<Figure size 842.125x432 with 1 Axes>"
            ]
          },
          "metadata": {
            "tags": []
          }
        }
      ]
    },
    {
      "cell_type": "code",
      "metadata": {
        "id": "JYYVsz0V-eQ-",
        "colab": {
          "base_uri": "https://localhost:8080/",
          "height": 276
        },
        "outputId": "30617d1c-6e60-4bc0-8c91-6013eb61f189"
      },
      "source": [
        "sns.factorplot(x='Sex', y='Survived', col='Pclass', data=df_titanic, saturation=.5,\n",
        "              size=9, aspect=1)"
      ],
      "execution_count": null,
      "outputs": [
        {
          "output_type": "execute_result",
          "data": {
            "text/plain": [
              "<seaborn.axisgrid.FacetGrid at 0x7f1e6e20bc10>"
            ]
          },
          "metadata": {
            "tags": []
          },
          "execution_count": 16
        },
        {
          "output_type": "display_data",
          "data": {
            "image/png": "[encoded data removed]",
            "text/plain": [
              "<Figure size 1944x648 with 3 Axes>"
            ]
          },
          "metadata": {
            "tags": []
          }
        }
      ]
    },
    {
      "cell_type": "code",
      "metadata": {
        "id": "h6Dd2lav-hSl",
        "colab": {
          "base_uri": "https://localhost:8080/",
          "height": 478
        },
        "outputId": "e2858057-12af-4df1-add5-b6a998d717f9"
      },
      "source": [
        "# pclass에 대한 나이 분포율\n",
        "\n",
        "plt.figure(figsize=(8, 6))\n",
        "df_titanic.dropna()['Age'][df_titanic.dropna()['Pclass'] == 1].plot(kind='kde')\n",
        "df_titanic.dropna()['Age'][df_titanic.dropna()['Pclass'] == 2].plot(kind='kde')\n",
        "df_titanic.dropna()['Age'][df_titanic.dropna()['Pclass'] == 3].plot(kind='kde')\n",
        "\n",
        "plt.xlabel('Age')\n",
        "plt.title('Age Distribution within classes')\n",
        "plt.legend(['1st Class', '2nd Class', '3rd Class'])"
      ],
      "execution_count": null,
      "outputs": [
        {
          "output_type": "execute_result",
          "data": {
            "text/plain": [
              "<matplotlib.legend.Legend at 0x7f1e6e02d8d0>"
            ]
          },
          "metadata": {
            "tags": []
          },
          "execution_count": 17
        },
        {
          "output_type": "display_data",
          "data": {
            "image/png": "[encoded data removed]",
            "text/plain": [
              "<Figure size 576x432 with 1 Axes>"
            ]
          },
          "metadata": {
            "tags": []
          }
        }
      ]
    },
    {
      "cell_type": "code",
      "metadata": {
        "id": "UCG-_Q8wBNs_",
        "colab": {
          "base_uri": "https://localhost:8080/",
          "height": 382
        },
        "outputId": "87b2d0ca-7198-4cf4-c796-4e25adde7e80"
      },
      "source": [
        "f,ax=plt.subplots(1,2,figsize=(18,8))\n",
        "sns.violinplot(\"Pclass\",\"Age\", hue=\"Survived\", data=df_titanic, scale='count', split=True,ax=ax[0])\n",
        "ax[0].set_title('Pclass and Age vs Survived')\n",
        "ax[0].set_yticks(range(0,110,10))\n",
        "\n",
        "sns.violinplot(\"Sex\",\"Age\", hue=\"Survived\", data=df_titanic, scale='count', split=True,ax=ax[1])\n",
        "ax[1].set_title('Sex and Age vs Survived')\n",
        "ax[1].set_yticks(range(0,110,10))\n",
        "plt.show()"
      ],
      "execution_count": null,
      "outputs": [
        {
          "output_type": "display_data",
          "data": {
            "image/png": "[encoded data removed]",
            "text/plain": [
              "<Figure size 1296x576 with 2 Axes>"
            ]
          },
          "metadata": {
            "tags": []
          }
        }
      ]
    },
    {
      "cell_type": "code",
      "metadata": {
        "id": "Q93PuScsBydm",
        "colab": {
          "base_uri": "https://localhost:8080/",
          "height": 366
        },
        "outputId": "701fdf52-4460-45f6-d859-b1023b1c961a"
      },
      "source": [
        "fig, ax = plt.subplots(1, 2, figsize=(18, 8))\n",
        "sns.countplot(\"SibSp\", data=df_titanic, ax=ax[0])\n",
        "ax[0].set_title(\"Survived countplot depending on SibSp\", y=1.02)\n",
        "\n",
        "sns.countplot(\"Parch\", data=df_titanic, ax=ax[1])\n",
        "ax[1].set_title(\"Survived countplot depending on Parch\", y=1.02)\n",
        "\n",
        "plt.show()"
      ],
      "execution_count": null,
      "outputs": [
        {
          "output_type": "display_data",
          "data": {
            "image/png": "[encoded data removed]",
            "text/plain": [
              "<Figure size 1296x576 with 2 Axes>"
            ]
          },
          "metadata": {
            "tags": []
          }
        }
      ]
    },
    {
      "cell_type": "code",
      "metadata": {
        "id": "tO0odSi713NO"
      },
      "source": [
        "from sklearn.model_selection import train_test_split\n",
        "\n",
        "X_train, X_valid, y_train, y_valid = train_test_split(\n",
        "    df_titanic.drop(\"Survived\", axis=1), \n",
        "    df_titanic['Survived'],\n",
        "    random_state=42\n",
        ") "
      ],
      "execution_count": null,
      "outputs": []
    },
    {
      "cell_type": "code",
      "metadata": {
        "colab": {
          "base_uri": "https://localhost:8080/"
        },
        "id": "EtrA9MJS8Miy",
        "outputId": "123229a0-7586-4978-b136-1e6c54b2e289"
      },
      "source": [
        "X_train.shape, y_train.shape"
      ],
      "execution_count": null,
      "outputs": [
        {
          "output_type": "execute_result",
          "data": {
            "text/plain": [
              "((668, 10), (668,))"
            ]
          },
          "metadata": {
            "tags": []
          },
          "execution_count": 21
        }
      ]
    },
    {
      "cell_type": "code",
      "metadata": {
        "colab": {
          "base_uri": "https://localhost:8080/"
        },
        "id": "i5dC5pg5ClgR",
        "outputId": "26e626a3-2326-424c-fa68-311a7422f1ca"
      },
      "source": [
        "X_valid.shape, y_valid.shape"
      ],
      "execution_count": null,
      "outputs": [
        {
          "output_type": "execute_result",
          "data": {
            "text/plain": [
              "((223, 10), (223,))"
            ]
          },
          "metadata": {
            "tags": []
          },
          "execution_count": 22
        }
      ]
    },
    {
      "cell_type": "code",
      "metadata": {
        "colab": {
          "base_uri": "https://localhost:8080/",
          "height": 404
        },
        "id": "7kc8_2jhMDgV",
        "outputId": "c001bec7-412f-4f87-d679-b2fd65a0f75f"
      },
      "source": [
        "sns.countplot(y_train)\n",
        "plt.show()\n",
        "# 비율을 맞추기 위해 계층 분할이 먼저 필요함"
      ],
      "execution_count": null,
      "outputs": [
        {
          "output_type": "display_data",
          "data": {
            "image/png": "[encoded data removed]",
            "text/plain": [
              "<Figure size 576x396 with 1 Axes>"
            ]
          },
          "metadata": {
            "tags": []
          }
        }
      ]
    },
    {
      "cell_type": "code",
      "metadata": {
        "id": "9zO75ZnxC8b0"
      },
      "source": [
        "X_train, X_valid, y_train, y_valid = train_test_split(\n",
        "    df_titanic.drop(\"Survived\", axis=1), \n",
        "    df_titanic['Survived'],\n",
        "    random_state=42,\n",
        "    stratify=df_titanic['Survived']\n",
        ") "
      ],
      "execution_count": null,
      "outputs": []
    },
    {
      "cell_type": "code",
      "metadata": {
        "colab": {
          "base_uri": "https://localhost:8080/",
          "height": 404
        },
        "id": "D7x2OOL7DFlg",
        "outputId": "3119a4e2-145b-4130-9a4f-eeeffcb053d7"
      },
      "source": [
        "sns.countplot(y_train)\n",
        "plt.show()"
      ],
      "execution_count": null,
      "outputs": [
        {
          "output_type": "display_data",
          "data": {
            "image/png": "[encoded data removed]",
            "text/plain": [
              "<Figure size 576x396 with 1 Axes>"
            ]
          },
          "metadata": {
            "tags": []
          }
        }
      ]
    },
    {
      "cell_type": "code",
      "metadata": {
        "id": "GFjxdRG7DWlc"
      },
      "source": [
        "from sklearn.model_selection import StratifiedShuffleSplit\n",
        "\n",
        "strat_shuff_split = StratifiedShuffleSplit(\n",
        "    n_splits=1, \n",
        "    test_size=0.2,\n",
        "    random_state=42\n",
        ")\n",
        "\n",
        "# strat_shuff_split을 income_cat의 데이터를 기준으로  쪼개게 되면(split) train / test 데이터의 인덱스가 등장\n",
        "for train_index, test_index in strat_shuff_split.split(df_titanic, df_titanic[\"Survived\"]):\n",
        "    strat_train_set = df_titanic.loc[train_index]\n",
        "    strat_test_set = df_titanic.loc[test_index]"
      ],
      "execution_count": null,
      "outputs": []
    },
    {
      "cell_type": "code",
      "metadata": {
        "colab": {
          "base_uri": "https://localhost:8080/"
        },
        "id": "gLhanyUjDj8h",
        "outputId": "a6ce8854-4591-4fef-ee72-46204ce09693"
      },
      "source": [
        "strat_test_set['Survived'].value_counts() / len(strat_test_set)"
      ],
      "execution_count": null,
      "outputs": [
        {
          "output_type": "execute_result",
          "data": {
            "text/plain": [
              "0    0.614525\n",
              "1    0.385475\n",
              "Name: Survived, dtype: float64"
            ]
          },
          "metadata": {
            "tags": []
          },
          "execution_count": 27
        }
      ]
    },
    {
      "cell_type": "code",
      "metadata": {
        "colab": {
          "base_uri": "https://localhost:8080/",
          "height": 725
        },
        "id": "gBiY54ySDsGC",
        "outputId": "c2155acc-a998-47d9-e8fc-d3d0f1c6229f"
      },
      "source": [
        "strat_test_set['Survived'].hist()\n",
        "plt.figure()  # 계층적 샘플링 진행 후 히스토그램으로 시각화해서 확인\n",
        "df_titanic['Survived'].hist()\n",
        "plt.show()"
      ],
      "execution_count": null,
      "outputs": [
        {
          "output_type": "display_data",
          "data": {
            "image/png": "[encoded data removed]",
            "text/plain": [
              "<Figure size 576x396 with 1 Axes>"
            ]
          },
          "metadata": {
            "tags": []
          }
        },
        {
          "output_type": "display_data",
          "data": {
            "image/png": "[encoded data removed]",
            "text/plain": [
              "<Figure size 576x396 with 1 Axes>"
            ]
          },
          "metadata": {
            "tags": []
          }
        }
      ]
    },
    {
      "cell_type": "markdown",
      "metadata": {
        "id": "YjYaqu7UD5UU"
      },
      "source": [
        "두 번의 샘플링 편향 과정을 진행했으나 결과값 변화 없음  \n",
        "이대로 머신러닝 진행"
      ]
    },
    {
      "cell_type": "markdown",
      "metadata": {
        "id": "GO7eSZJ4Fc7_"
      },
      "source": [
        "## 머신러닝을 위한 데이터 준비\n",
        "\n"
      ]
    },
    {
      "cell_type": "markdown",
      "metadata": {
        "id": "PIpXJQShWhBr"
      },
      "source": [
        "### 1. feature 정제"
      ]
    },
    {
      "cell_type": "code",
      "metadata": {
        "id": "DDQWhnM2-4oT"
      },
      "source": [
        "from sklearn.impute import SimpleImputer\n",
        "\n",
        "Imputer = SimpleImputer(strategy=\"median\")"
      ],
      "execution_count": null,
      "outputs": []
    },
    {
      "cell_type": "code",
      "metadata": {
        "colab": {
          "base_uri": "https://localhost:8080/"
        },
        "id": "g8BSwAiBF6wm",
        "outputId": "440a14f5-d849-42bf-8b05-896a8c2d1ca4"
      },
      "source": [
        "titanic = X_train\n",
        "\n",
        "titanic.info()"
      ],
      "execution_count": null,
      "outputs": [
        {
          "output_type": "stream",
          "text": [
            "<class 'pandas.core.frame.DataFrame'>\n",
            "Int64Index: 668 entries, 486 to 821\n",
            "Data columns (total 10 columns):\n",
            " #   Column       Non-Null Count  Dtype  \n",
            "---  ------       --------------  -----  \n",
            " 0   PassengerId  668 non-null    int64  \n",
            " 1   Pclass       668 non-null    int64  \n",
            " 2   Name         668 non-null    object \n",
            " 3   Sex          668 non-null    object \n",
            " 4   Age          537 non-null    float64\n",
            " 5   SibSp        668 non-null    int64  \n",
            " 6   Parch        668 non-null    int64  \n",
            " 7   Ticket       668 non-null    object \n",
            " 8   Fare         668 non-null    float64\n",
            " 9   Embarked     666 non-null    object \n",
            "dtypes: float64(2), int64(4), object(4)\n",
            "memory usage: 57.4+ KB\n"
          ],
          "name": "stdout"
        }
      ]
    },
    {
      "cell_type": "code",
      "metadata": {
        "colab": {
          "base_uri": "https://localhost:8080/"
        },
        "id": "ropOJH8MF9ga",
        "outputId": "de075e75-3684-4324-e677-bdd0ba4f3b33"
      },
      "source": [
        "# 문자열을 제외하고 숫자로만 구성된 변수 생성\n",
        "titanic_num = titanic.drop([\"Name\", \"Sex\", \"Ticket\", \"Embarked\"], axis=1)\n",
        "titanic_num.info()"
      ],
      "execution_count": null,
      "outputs": [
        {
          "output_type": "stream",
          "text": [
            "<class 'pandas.core.frame.DataFrame'>\n",
            "Int64Index: 668 entries, 486 to 821\n",
            "Data columns (total 6 columns):\n",
            " #   Column       Non-Null Count  Dtype  \n",
            "---  ------       --------------  -----  \n",
            " 0   PassengerId  668 non-null    int64  \n",
            " 1   Pclass       668 non-null    int64  \n",
            " 2   Age          537 non-null    float64\n",
            " 3   SibSp        668 non-null    int64  \n",
            " 4   Parch        668 non-null    int64  \n",
            " 5   Fare         668 non-null    float64\n",
            "dtypes: float64(2), int64(4)\n",
            "memory usage: 36.5 KB\n"
          ],
          "name": "stdout"
        }
      ]
    },
    {
      "cell_type": "code",
      "metadata": {
        "colab": {
          "base_uri": "https://localhost:8080/"
        },
        "id": "9leN9AWmGSn0",
        "outputId": "5c99f10f-7adb-4ba6-c30d-e0b566358975"
      },
      "source": [
        "Imputer.fit(titanic_num)"
      ],
      "execution_count": null,
      "outputs": [
        {
          "output_type": "execute_result",
          "data": {
            "text/plain": [
              "SimpleImputer(add_indicator=False, copy=True, fill_value=None,\n",
              "              missing_values=nan, strategy='median', verbose=0)"
            ]
          },
          "metadata": {
            "tags": []
          },
          "execution_count": 32
        }
      ]
    },
    {
      "cell_type": "code",
      "metadata": {
        "colab": {
          "base_uri": "https://localhost:8080/"
        },
        "id": "BzwOOnbwG7RT",
        "outputId": "2e358121-50f4-44d8-dd34-67e9e861c555"
      },
      "source": [
        "Imputer.statistics_"
      ],
      "execution_count": null,
      "outputs": [
        {
          "output_type": "execute_result",
          "data": {
            "text/plain": [
              "array([440.5   ,   3.    ,  29.    ,   0.    ,   0.    ,  13.8604])"
            ]
          },
          "metadata": {
            "tags": []
          },
          "execution_count": 33
        }
      ]
    },
    {
      "cell_type": "code",
      "metadata": {
        "colab": {
          "base_uri": "https://localhost:8080/"
        },
        "id": "-njD3u0RG_GY",
        "outputId": "a7508145-6886-4bed-ee1b-5aff3df46333"
      },
      "source": [
        "titanic_num.median().values"
      ],
      "execution_count": null,
      "outputs": [
        {
          "output_type": "execute_result",
          "data": {
            "text/plain": [
              "array([440.5   ,   3.    ,  29.    ,   0.    ,   0.    ,  13.8604])"
            ]
          },
          "metadata": {
            "tags": []
          },
          "execution_count": 34
        }
      ]
    },
    {
      "cell_type": "code",
      "metadata": {
        "id": "Zztg5luvHDN6"
      },
      "source": [
        "X = Imputer.transform(titanic_num)"
      ],
      "execution_count": null,
      "outputs": []
    },
    {
      "cell_type": "code",
      "metadata": {
        "colab": {
          "base_uri": "https://localhost:8080/"
        },
        "id": "w8aaMqAPH13G",
        "outputId": "15d3ac38-c35a-43ee-f209-a760baa6ded4"
      },
      "source": [
        "X"
      ],
      "execution_count": null,
      "outputs": [
        {
          "output_type": "execute_result",
          "data": {
            "text/plain": [
              "array([[487.    ,   1.    ,  35.    ,   1.    ,   0.    ,  90.    ],\n",
              "       [239.    ,   2.    ,  19.    ,   0.    ,   0.    ,  10.5   ],\n",
              "       [723.    ,   2.    ,  34.    ,   0.    ,   0.    ,  13.    ],\n",
              "       ...,\n",
              "       [737.    ,   3.    ,  48.    ,   1.    ,   3.    ,  34.375 ],\n",
              "       [463.    ,   1.    ,  47.    ,   0.    ,   0.    ,  38.5   ],\n",
              "       [822.    ,   3.    ,  27.    ,   0.    ,   0.    ,   8.6625]])"
            ]
          },
          "metadata": {
            "tags": []
          },
          "execution_count": 36
        }
      ]
    },
    {
      "cell_type": "code",
      "metadata": {
        "colab": {
          "base_uri": "https://localhost:8080/"
        },
        "id": "rw4ojygTH2PQ",
        "outputId": "f68e7a51-437c-4a82-f3ed-3dddf5040e17"
      },
      "source": [
        "titanic_tr = pd.DataFrame(\n",
        "    X,\n",
        "    columns=titanic_num.columns,\n",
        "    index=titanic_num.index\n",
        ")\n",
        "\n",
        "titanic_tr.info()"
      ],
      "execution_count": null,
      "outputs": [
        {
          "output_type": "stream",
          "text": [
            "<class 'pandas.core.frame.DataFrame'>\n",
            "Int64Index: 668 entries, 486 to 821\n",
            "Data columns (total 6 columns):\n",
            " #   Column       Non-Null Count  Dtype  \n",
            "---  ------       --------------  -----  \n",
            " 0   PassengerId  668 non-null    float64\n",
            " 1   Pclass       668 non-null    float64\n",
            " 2   Age          668 non-null    float64\n",
            " 3   SibSp        668 non-null    float64\n",
            " 4   Parch        668 non-null    float64\n",
            " 5   Fare         668 non-null    float64\n",
            "dtypes: float64(6)\n",
            "memory usage: 36.5 KB\n"
          ],
          "name": "stdout"
        }
      ]
    },
    {
      "cell_type": "markdown",
      "metadata": {
        "id": "94kohbt5ILM0"
      },
      "source": [
        "Age의 null 값이 모두 채워진 것 확인"
      ]
    },
    {
      "cell_type": "markdown",
      "metadata": {
        "id": "jrYMmxgHIQnX"
      },
      "source": [
        "### 2. 텍스트 데이터 Encoding하기"
      ]
    },
    {
      "cell_type": "markdown",
      "metadata": {
        "id": "bEnDj4vEIn42"
      },
      "source": [
        "Object 데이터 중 'Name'과 'Sex'만 사용할 것이니 두 개만 바꿔주기"
      ]
    },
    {
      "cell_type": "markdown",
      "metadata": {
        "id": "evY7GSSUJDSf"
      },
      "source": [
        "1. Sex 인코딩"
      ]
    },
    {
      "cell_type": "code",
      "metadata": {
        "colab": {
          "base_uri": "https://localhost:8080/",
          "height": 203
        },
        "id": "-oraw2GwIGXT",
        "outputId": "b44a5a71-2d14-459e-ef16-ed78748322f9"
      },
      "source": [
        "titanic_cat_sex = titanic[[\"Sex\"]]\n",
        "titanic_cat_sex.head()"
      ],
      "execution_count": null,
      "outputs": [
        {
          "output_type": "execute_result",
          "data": {
            "text/html": [
              "<div>\n",
              "<style scoped>\n",
              "    .dataframe tbody tr th:only-of-type {\n",
              "        vertical-align: middle;\n",
              "    }\n",
              "\n",
              "    .dataframe tbody tr th {\n",
              "        vertical-align: top;\n",
              "    }\n",
              "\n",
              "    .dataframe thead th {\n",
              "        text-align: right;\n",
              "    }\n",
              "</style>\n",
              "<table border=\"1\" class=\"dataframe\">\n",
              "  <thead>\n",
              "    <tr style=\"text-align: right;\">\n",
              "      <th></th>\n",
              "      <th>Sex</th>\n",
              "    </tr>\n",
              "  </thead>\n",
              "  <tbody>\n",
              "    <tr>\n",
              "      <th>486</th>\n",
              "      <td>female</td>\n",
              "    </tr>\n",
              "    <tr>\n",
              "      <th>238</th>\n",
              "      <td>male</td>\n",
              "    </tr>\n",
              "    <tr>\n",
              "      <th>722</th>\n",
              "      <td>male</td>\n",
              "    </tr>\n",
              "    <tr>\n",
              "      <th>184</th>\n",
              "      <td>female</td>\n",
              "    </tr>\n",
              "    <tr>\n",
              "      <th>56</th>\n",
              "      <td>female</td>\n",
              "    </tr>\n",
              "  </tbody>\n",
              "</table>\n",
              "</div>"
            ],
            "text/plain": [
              "        Sex\n",
              "486  female\n",
              "238    male\n",
              "722    male\n",
              "184  female\n",
              "56   female"
            ]
          },
          "metadata": {
            "tags": []
          },
          "execution_count": 38
        }
      ]
    },
    {
      "cell_type": "code",
      "metadata": {
        "colab": {
          "base_uri": "https://localhost:8080/"
        },
        "id": "QpuaNSwGJKm_",
        "outputId": "1da83f52-3d8a-4525-b16d-2984bacd1736"
      },
      "source": [
        "titanic_cat_sex[\"Sex\"].unique()"
      ],
      "execution_count": null,
      "outputs": [
        {
          "output_type": "execute_result",
          "data": {
            "text/plain": [
              "array(['female', 'male'], dtype=object)"
            ]
          },
          "metadata": {
            "tags": []
          },
          "execution_count": 39
        }
      ]
    },
    {
      "cell_type": "code",
      "metadata": {
        "colab": {
          "base_uri": "https://localhost:8080/"
        },
        "id": "bhrMwv8bJdJp",
        "outputId": "a0b61432-0448-4fa7-8905-0a3d3a64bd3e"
      },
      "source": [
        "from sklearn.preprocessing import OrdinalEncoder\n",
        "ordinal_encoder = OrdinalEncoder()\n",
        "\n",
        "titanic_cat_sex_encoded = ordinal_encoder.fit_transform(titanic_cat_sex.values)\n",
        "\n",
        "titanic_cat_sex_encoded[:10]"
      ],
      "execution_count": null,
      "outputs": [
        {
          "output_type": "execute_result",
          "data": {
            "text/plain": [
              "array([[0.],\n",
              "       [1.],\n",
              "       [1.],\n",
              "       [0.],\n",
              "       [0.],\n",
              "       [1.],\n",
              "       [0.],\n",
              "       [1.],\n",
              "       [0.],\n",
              "       [1.]])"
            ]
          },
          "metadata": {
            "tags": []
          },
          "execution_count": 40
        }
      ]
    },
    {
      "cell_type": "code",
      "metadata": {
        "colab": {
          "base_uri": "https://localhost:8080/"
        },
        "id": "lCcNX5xqJt9S",
        "outputId": "8f485580-92e1-4c4f-d3cb-1c30d414e3f6"
      },
      "source": [
        "ordinal_encoder.categories_"
      ],
      "execution_count": null,
      "outputs": [
        {
          "output_type": "execute_result",
          "data": {
            "text/plain": [
              "[array(['female', 'male'], dtype=object)]"
            ]
          },
          "metadata": {
            "tags": []
          },
          "execution_count": 41
        }
      ]
    },
    {
      "cell_type": "code",
      "metadata": {
        "colab": {
          "base_uri": "https://localhost:8080/"
        },
        "id": "VGJQOheJJxjP",
        "outputId": "b797e0e3-47f4-41ec-9a81-63b07b0497d2"
      },
      "source": [
        "from sklearn.preprocessing import OneHotEncoder\n",
        "cat_encoder = OneHotEncoder()\n",
        "\n",
        "titanic_cat_sex_onehot = cat_encoder.fit_transform(titanic_cat_sex)\n",
        "titanic_cat_sex_onehot"
      ],
      "execution_count": null,
      "outputs": [
        {
          "output_type": "execute_result",
          "data": {
            "text/plain": [
              "<668x2 sparse matrix of type '<class 'numpy.float64'>'\n",
              "\twith 668 stored elements in Compressed Sparse Row format>"
            ]
          },
          "metadata": {
            "tags": []
          },
          "execution_count": 42
        }
      ]
    },
    {
      "cell_type": "code",
      "metadata": {
        "colab": {
          "base_uri": "https://localhost:8080/",
          "height": 203
        },
        "id": "6ZKDLXC0KDVB",
        "outputId": "e9f3f6e7-2860-42dc-ab6b-ada1fc17a6b0"
      },
      "source": [
        "titanic_cat_sex_onehot_df = pd.DataFrame(\n",
        "    titanic_cat_sex_onehot.toarray(),\n",
        "    columns=cat_encoder.categories_,\n",
        "    index=titanic_cat_sex.index\n",
        ")\n",
        "\n",
        "titanic_cat_sex_onehot_df.head()"
      ],
      "execution_count": null,
      "outputs": [
        {
          "output_type": "execute_result",
          "data": {
            "text/html": [
              "<div>\n",
              "<style scoped>\n",
              "    .dataframe tbody tr th:only-of-type {\n",
              "        vertical-align: middle;\n",
              "    }\n",
              "\n",
              "    .dataframe tbody tr th {\n",
              "        vertical-align: top;\n",
              "    }\n",
              "\n",
              "    .dataframe thead tr th {\n",
              "        text-align: left;\n",
              "    }\n",
              "</style>\n",
              "<table border=\"1\" class=\"dataframe\">\n",
              "  <thead>\n",
              "    <tr>\n",
              "      <th></th>\n",
              "      <th>female</th>\n",
              "      <th>male</th>\n",
              "    </tr>\n",
              "  </thead>\n",
              "  <tbody>\n",
              "    <tr>\n",
              "      <th>486</th>\n",
              "      <td>1.0</td>\n",
              "      <td>0.0</td>\n",
              "    </tr>\n",
              "    <tr>\n",
              "      <th>238</th>\n",
              "      <td>0.0</td>\n",
              "      <td>1.0</td>\n",
              "    </tr>\n",
              "    <tr>\n",
              "      <th>722</th>\n",
              "      <td>0.0</td>\n",
              "      <td>1.0</td>\n",
              "    </tr>\n",
              "    <tr>\n",
              "      <th>184</th>\n",
              "      <td>1.0</td>\n",
              "      <td>0.0</td>\n",
              "    </tr>\n",
              "    <tr>\n",
              "      <th>56</th>\n",
              "      <td>1.0</td>\n",
              "      <td>0.0</td>\n",
              "    </tr>\n",
              "  </tbody>\n",
              "</table>\n",
              "</div>"
            ],
            "text/plain": [
              "    female male\n",
              "486    1.0  0.0\n",
              "238    0.0  1.0\n",
              "722    0.0  1.0\n",
              "184    1.0  0.0\n",
              "56     1.0  0.0"
            ]
          },
          "metadata": {
            "tags": []
          },
          "execution_count": 43
        }
      ]
    },
    {
      "cell_type": "markdown",
      "metadata": {
        "id": "t8rOmlO9Kcoz"
      },
      "source": [
        "2. 'Name' Encoding"
      ]
    },
    {
      "cell_type": "code",
      "metadata": {
        "id": "5mCMVSaXLP4T"
      },
      "source": [
        "titanic['Initial'] = titanic.Name.str.extract('([A-Za-z]+)\\.')\n",
        "# y_train['Initial'] = y_train.Name.str.extract('([A-Za-z]+)\\.')\n",
        "X_valid['Initial'] = X_valid.Name.str.extract('([A-Za-z]+)\\.')\n",
        "# y_test['Initial'] = y_test.Name.str.extract('([A-Za-z]+)\\.')\n",
        "strat_test_set['Initial'] = titanic.Name.str.extract('([A-Za-z]+)\\.')"
      ],
      "execution_count": null,
      "outputs": []
    },
    {
      "cell_type": "code",
      "metadata": {
        "colab": {
          "base_uri": "https://localhost:8080/",
          "height": 100
        },
        "id": "H4HsN2XeKYYc",
        "outputId": "1ccdd927-a6bb-434b-9f8a-a3ad0a1dae6f"
      },
      "source": [
        "pd.crosstab(titanic['Initial'], titanic['Sex']).T.style.background_gradient(cmap='summer_r')"
      ],
      "execution_count": null,
      "outputs": [
        {
          "output_type": "execute_result",
          "data": {
            "text/html": [
              "<style  type=\"text/css\" >\n",
              "#T_afa78910_cc69_11eb_84ce_0242ac1c0002row0_col0,#T_afa78910_cc69_11eb_84ce_0242ac1c0002row0_col1,#T_afa78910_cc69_11eb_84ce_0242ac1c0002row0_col2,#T_afa78910_cc69_11eb_84ce_0242ac1c0002row0_col3,#T_afa78910_cc69_11eb_84ce_0242ac1c0002row0_col5,#T_afa78910_cc69_11eb_84ce_0242ac1c0002row0_col6,#T_afa78910_cc69_11eb_84ce_0242ac1c0002row0_col9,#T_afa78910_cc69_11eb_84ce_0242ac1c0002row0_col11,#T_afa78910_cc69_11eb_84ce_0242ac1c0002row0_col12,#T_afa78910_cc69_11eb_84ce_0242ac1c0002row1_col4,#T_afa78910_cc69_11eb_84ce_0242ac1c0002row1_col7,#T_afa78910_cc69_11eb_84ce_0242ac1c0002row1_col8,#T_afa78910_cc69_11eb_84ce_0242ac1c0002row1_col10{\n",
              "            background-color:  #ffff66;\n",
              "            color:  #000000;\n",
              "        }#T_afa78910_cc69_11eb_84ce_0242ac1c0002row0_col4,#T_afa78910_cc69_11eb_84ce_0242ac1c0002row0_col7,#T_afa78910_cc69_11eb_84ce_0242ac1c0002row0_col8,#T_afa78910_cc69_11eb_84ce_0242ac1c0002row0_col10,#T_afa78910_cc69_11eb_84ce_0242ac1c0002row1_col0,#T_afa78910_cc69_11eb_84ce_0242ac1c0002row1_col1,#T_afa78910_cc69_11eb_84ce_0242ac1c0002row1_col2,#T_afa78910_cc69_11eb_84ce_0242ac1c0002row1_col3,#T_afa78910_cc69_11eb_84ce_0242ac1c0002row1_col5,#T_afa78910_cc69_11eb_84ce_0242ac1c0002row1_col6,#T_afa78910_cc69_11eb_84ce_0242ac1c0002row1_col9,#T_afa78910_cc69_11eb_84ce_0242ac1c0002row1_col11,#T_afa78910_cc69_11eb_84ce_0242ac1c0002row1_col12{\n",
              "            background-color:  #008066;\n",
              "            color:  #f1f1f1;\n",
              "        }</style><table id=\"T_afa78910_cc69_11eb_84ce_0242ac1c0002\" ><thead>    <tr>        <th class=\"index_name level0\" >Initial</th>        <th class=\"col_heading level0 col0\" >Col</th>        <th class=\"col_heading level0 col1\" >Don</th>        <th class=\"col_heading level0 col2\" >Dr</th>        <th class=\"col_heading level0 col3\" >Jonkheer</th>        <th class=\"col_heading level0 col4\" >Lady</th>        <th class=\"col_heading level0 col5\" >Major</th>        <th class=\"col_heading level0 col6\" >Master</th>        <th class=\"col_heading level0 col7\" >Miss</th>        <th class=\"col_heading level0 col8\" >Mlle</th>        <th class=\"col_heading level0 col9\" >Mr</th>        <th class=\"col_heading level0 col10\" >Mrs</th>        <th class=\"col_heading level0 col11\" >Rev</th>        <th class=\"col_heading level0 col12\" >Sir</th>    </tr>    <tr>        <th class=\"index_name level0\" >Sex</th>        <th class=\"blank\" ></th>        <th class=\"blank\" ></th>        <th class=\"blank\" ></th>        <th class=\"blank\" ></th>        <th class=\"blank\" ></th>        <th class=\"blank\" ></th>        <th class=\"blank\" ></th>        <th class=\"blank\" ></th>        <th class=\"blank\" ></th>        <th class=\"blank\" ></th>        <th class=\"blank\" ></th>        <th class=\"blank\" ></th>        <th class=\"blank\" ></th>    </tr></thead><tbody>\n",
              "                <tr>\n",
              "                        <th id=\"T_afa78910_cc69_11eb_84ce_0242ac1c0002level0_row0\" class=\"row_heading level0 row0\" >female</th>\n",
              "                        <td id=\"T_afa78910_cc69_11eb_84ce_0242ac1c0002row0_col0\" class=\"data row0 col0\" >0</td>\n",
              "                        <td id=\"T_afa78910_cc69_11eb_84ce_0242ac1c0002row0_col1\" class=\"data row0 col1\" >0</td>\n",
              "                        <td id=\"T_afa78910_cc69_11eb_84ce_0242ac1c0002row0_col2\" class=\"data row0 col2\" >1</td>\n",
              "                        <td id=\"T_afa78910_cc69_11eb_84ce_0242ac1c0002row0_col3\" class=\"data row0 col3\" >0</td>\n",
              "                        <td id=\"T_afa78910_cc69_11eb_84ce_0242ac1c0002row0_col4\" class=\"data row0 col4\" >1</td>\n",
              "                        <td id=\"T_afa78910_cc69_11eb_84ce_0242ac1c0002row0_col5\" class=\"data row0 col5\" >0</td>\n",
              "                        <td id=\"T_afa78910_cc69_11eb_84ce_0242ac1c0002row0_col6\" class=\"data row0 col6\" >0</td>\n",
              "                        <td id=\"T_afa78910_cc69_11eb_84ce_0242ac1c0002row0_col7\" class=\"data row0 col7\" >133</td>\n",
              "                        <td id=\"T_afa78910_cc69_11eb_84ce_0242ac1c0002row0_col8\" class=\"data row0 col8\" >2</td>\n",
              "                        <td id=\"T_afa78910_cc69_11eb_84ce_0242ac1c0002row0_col9\" class=\"data row0 col9\" >0</td>\n",
              "                        <td id=\"T_afa78910_cc69_11eb_84ce_0242ac1c0002row0_col10\" class=\"data row0 col10\" >97</td>\n",
              "                        <td id=\"T_afa78910_cc69_11eb_84ce_0242ac1c0002row0_col11\" class=\"data row0 col11\" >0</td>\n",
              "                        <td id=\"T_afa78910_cc69_11eb_84ce_0242ac1c0002row0_col12\" class=\"data row0 col12\" >0</td>\n",
              "            </tr>\n",
              "            <tr>\n",
              "                        <th id=\"T_afa78910_cc69_11eb_84ce_0242ac1c0002level0_row1\" class=\"row_heading level0 row1\" >male</th>\n",
              "                        <td id=\"T_afa78910_cc69_11eb_84ce_0242ac1c0002row1_col0\" class=\"data row1 col0\" >2</td>\n",
              "                        <td id=\"T_afa78910_cc69_11eb_84ce_0242ac1c0002row1_col1\" class=\"data row1 col1\" >1</td>\n",
              "                        <td id=\"T_afa78910_cc69_11eb_84ce_0242ac1c0002row1_col2\" class=\"data row1 col2\" >5</td>\n",
              "                        <td id=\"T_afa78910_cc69_11eb_84ce_0242ac1c0002row1_col3\" class=\"data row1 col3\" >1</td>\n",
              "                        <td id=\"T_afa78910_cc69_11eb_84ce_0242ac1c0002row1_col4\" class=\"data row1 col4\" >0</td>\n",
              "                        <td id=\"T_afa78910_cc69_11eb_84ce_0242ac1c0002row1_col5\" class=\"data row1 col5\" >1</td>\n",
              "                        <td id=\"T_afa78910_cc69_11eb_84ce_0242ac1c0002row1_col6\" class=\"data row1 col6\" >28</td>\n",
              "                        <td id=\"T_afa78910_cc69_11eb_84ce_0242ac1c0002row1_col7\" class=\"data row1 col7\" >0</td>\n",
              "                        <td id=\"T_afa78910_cc69_11eb_84ce_0242ac1c0002row1_col8\" class=\"data row1 col8\" >0</td>\n",
              "                        <td id=\"T_afa78910_cc69_11eb_84ce_0242ac1c0002row1_col9\" class=\"data row1 col9\" >390</td>\n",
              "                        <td id=\"T_afa78910_cc69_11eb_84ce_0242ac1c0002row1_col10\" class=\"data row1 col10\" >0</td>\n",
              "                        <td id=\"T_afa78910_cc69_11eb_84ce_0242ac1c0002row1_col11\" class=\"data row1 col11\" >5</td>\n",
              "                        <td id=\"T_afa78910_cc69_11eb_84ce_0242ac1c0002row1_col12\" class=\"data row1 col12\" >1</td>\n",
              "            </tr>\n",
              "    </tbody></table>"
            ],
            "text/plain": [
              "<pandas.io.formats.style.Styler at 0x7f1e6825ea50>"
            ]
          },
          "metadata": {
            "tags": []
          },
          "execution_count": 45
        }
      ]
    },
    {
      "cell_type": "code",
      "metadata": {
        "colab": {
          "base_uri": "https://localhost:8080/",
          "height": 100
        },
        "id": "soKbnwiPR_eI",
        "outputId": "a5753ed2-15f4-455d-cb8b-98029d754b88"
      },
      "source": [
        "pd.crosstab(X_valid['Initial'], X_valid['Sex']).T.style.background_gradient(cmap='summer_r')"
      ],
      "execution_count": null,
      "outputs": [
        {
          "output_type": "execute_result",
          "data": {
            "text/html": [
              "<style  type=\"text/css\" >\n",
              "#T_afb097a8_cc69_11eb_84ce_0242ac1c0002row0_col0,#T_afb097a8_cc69_11eb_84ce_0242ac1c0002row0_col2,#T_afb097a8_cc69_11eb_84ce_0242ac1c0002row0_col3,#T_afb097a8_cc69_11eb_84ce_0242ac1c0002row0_col4,#T_afb097a8_cc69_11eb_84ce_0242ac1c0002row0_col7,#T_afb097a8_cc69_11eb_84ce_0242ac1c0002row0_col10,#T_afb097a8_cc69_11eb_84ce_0242ac1c0002row1_col1,#T_afb097a8_cc69_11eb_84ce_0242ac1c0002row1_col5,#T_afb097a8_cc69_11eb_84ce_0242ac1c0002row1_col6,#T_afb097a8_cc69_11eb_84ce_0242ac1c0002row1_col8,#T_afb097a8_cc69_11eb_84ce_0242ac1c0002row1_col9{\n",
              "            background-color:  #ffff66;\n",
              "            color:  #000000;\n",
              "        }#T_afb097a8_cc69_11eb_84ce_0242ac1c0002row0_col1,#T_afb097a8_cc69_11eb_84ce_0242ac1c0002row0_col5,#T_afb097a8_cc69_11eb_84ce_0242ac1c0002row0_col6,#T_afb097a8_cc69_11eb_84ce_0242ac1c0002row0_col8,#T_afb097a8_cc69_11eb_84ce_0242ac1c0002row0_col9,#T_afb097a8_cc69_11eb_84ce_0242ac1c0002row1_col0,#T_afb097a8_cc69_11eb_84ce_0242ac1c0002row1_col2,#T_afb097a8_cc69_11eb_84ce_0242ac1c0002row1_col3,#T_afb097a8_cc69_11eb_84ce_0242ac1c0002row1_col4,#T_afb097a8_cc69_11eb_84ce_0242ac1c0002row1_col7,#T_afb097a8_cc69_11eb_84ce_0242ac1c0002row1_col10{\n",
              "            background-color:  #008066;\n",
              "            color:  #f1f1f1;\n",
              "        }</style><table id=\"T_afb097a8_cc69_11eb_84ce_0242ac1c0002\" ><thead>    <tr>        <th class=\"index_name level0\" >Initial</th>        <th class=\"col_heading level0 col0\" >Capt</th>        <th class=\"col_heading level0 col1\" >Countess</th>        <th class=\"col_heading level0 col2\" >Dr</th>        <th class=\"col_heading level0 col3\" >Major</th>        <th class=\"col_heading level0 col4\" >Master</th>        <th class=\"col_heading level0 col5\" >Miss</th>        <th class=\"col_heading level0 col6\" >Mme</th>        <th class=\"col_heading level0 col7\" >Mr</th>        <th class=\"col_heading level0 col8\" >Mrs</th>        <th class=\"col_heading level0 col9\" >Ms</th>        <th class=\"col_heading level0 col10\" >Rev</th>    </tr>    <tr>        <th class=\"index_name level0\" >Sex</th>        <th class=\"blank\" ></th>        <th class=\"blank\" ></th>        <th class=\"blank\" ></th>        <th class=\"blank\" ></th>        <th class=\"blank\" ></th>        <th class=\"blank\" ></th>        <th class=\"blank\" ></th>        <th class=\"blank\" ></th>        <th class=\"blank\" ></th>        <th class=\"blank\" ></th>        <th class=\"blank\" ></th>    </tr></thead><tbody>\n",
              "                <tr>\n",
              "                        <th id=\"T_afb097a8_cc69_11eb_84ce_0242ac1c0002level0_row0\" class=\"row_heading level0 row0\" >female</th>\n",
              "                        <td id=\"T_afb097a8_cc69_11eb_84ce_0242ac1c0002row0_col0\" class=\"data row0 col0\" >0</td>\n",
              "                        <td id=\"T_afb097a8_cc69_11eb_84ce_0242ac1c0002row0_col1\" class=\"data row0 col1\" >1</td>\n",
              "                        <td id=\"T_afb097a8_cc69_11eb_84ce_0242ac1c0002row0_col2\" class=\"data row0 col2\" >0</td>\n",
              "                        <td id=\"T_afb097a8_cc69_11eb_84ce_0242ac1c0002row0_col3\" class=\"data row0 col3\" >0</td>\n",
              "                        <td id=\"T_afb097a8_cc69_11eb_84ce_0242ac1c0002row0_col4\" class=\"data row0 col4\" >0</td>\n",
              "                        <td id=\"T_afb097a8_cc69_11eb_84ce_0242ac1c0002row0_col5\" class=\"data row0 col5\" >49</td>\n",
              "                        <td id=\"T_afb097a8_cc69_11eb_84ce_0242ac1c0002row0_col6\" class=\"data row0 col6\" >1</td>\n",
              "                        <td id=\"T_afb097a8_cc69_11eb_84ce_0242ac1c0002row0_col7\" class=\"data row0 col7\" >0</td>\n",
              "                        <td id=\"T_afb097a8_cc69_11eb_84ce_0242ac1c0002row0_col8\" class=\"data row0 col8\" >28</td>\n",
              "                        <td id=\"T_afb097a8_cc69_11eb_84ce_0242ac1c0002row0_col9\" class=\"data row0 col9\" >1</td>\n",
              "                        <td id=\"T_afb097a8_cc69_11eb_84ce_0242ac1c0002row0_col10\" class=\"data row0 col10\" >0</td>\n",
              "            </tr>\n",
              "            <tr>\n",
              "                        <th id=\"T_afb097a8_cc69_11eb_84ce_0242ac1c0002level0_row1\" class=\"row_heading level0 row1\" >male</th>\n",
              "                        <td id=\"T_afb097a8_cc69_11eb_84ce_0242ac1c0002row1_col0\" class=\"data row1 col0\" >1</td>\n",
              "                        <td id=\"T_afb097a8_cc69_11eb_84ce_0242ac1c0002row1_col1\" class=\"data row1 col1\" >0</td>\n",
              "                        <td id=\"T_afb097a8_cc69_11eb_84ce_0242ac1c0002row1_col2\" class=\"data row1 col2\" >1</td>\n",
              "                        <td id=\"T_afb097a8_cc69_11eb_84ce_0242ac1c0002row1_col3\" class=\"data row1 col3\" >1</td>\n",
              "                        <td id=\"T_afb097a8_cc69_11eb_84ce_0242ac1c0002row1_col4\" class=\"data row1 col4\" >12</td>\n",
              "                        <td id=\"T_afb097a8_cc69_11eb_84ce_0242ac1c0002row1_col5\" class=\"data row1 col5\" >0</td>\n",
              "                        <td id=\"T_afb097a8_cc69_11eb_84ce_0242ac1c0002row1_col6\" class=\"data row1 col6\" >0</td>\n",
              "                        <td id=\"T_afb097a8_cc69_11eb_84ce_0242ac1c0002row1_col7\" class=\"data row1 col7\" >127</td>\n",
              "                        <td id=\"T_afb097a8_cc69_11eb_84ce_0242ac1c0002row1_col8\" class=\"data row1 col8\" >0</td>\n",
              "                        <td id=\"T_afb097a8_cc69_11eb_84ce_0242ac1c0002row1_col9\" class=\"data row1 col9\" >0</td>\n",
              "                        <td id=\"T_afb097a8_cc69_11eb_84ce_0242ac1c0002row1_col10\" class=\"data row1 col10\" >1</td>\n",
              "            </tr>\n",
              "    </tbody></table>"
            ],
            "text/plain": [
              "<pandas.io.formats.style.Styler at 0x7f1e6824ed50>"
            ]
          },
          "metadata": {
            "tags": []
          },
          "execution_count": 46
        }
      ]
    },
    {
      "cell_type": "code",
      "metadata": {
        "colab": {
          "base_uri": "https://localhost:8080/",
          "height": 234
        },
        "id": "xonWLLMfLJyi",
        "outputId": "937f0be5-bc79-4a54-bf98-a9827dde8364"
      },
      "source": [
        "titanic['Initial'].replace(['Mlle','Mme','Ms','Dr','Major','Lady','Countess','Jonkheer','Col','Rev','Capt','Sir','Don', 'Dona'],\n",
        "                        ['Miss','Miss','Miss','Mr','Mr','Mrs','Mrs','Other','Other','Other','Mr','Mr','Mr', 'Mr'],inplace=True)\n",
        "\n",
        "X_valid['Initial'].replace(['Mlle','Mme','Ms','Dr','Major','Lady','Countess','Jonkheer','Col','Rev','Capt','Sir','Don', 'Dona'],\n",
        "                        ['Miss','Miss','Miss','Mr','Mr','Mrs','Mrs','Other','Other','Other','Mr','Mr','Mr', 'Mr'],inplace=True)\n",
        "\n",
        "strat_test_set['Initial'].replace(['Mlle','Mme','Ms','Dr','Major','Lady','Countess','Jonkheer','Col','Rev','Capt','Sir','Don', 'Dona'],\n",
        "                        ['Miss','Miss','Miss','Mr','Mr','Mrs','Mrs','Other','Other','Other','Mr','Mr','Mr', 'Mr'],inplace=True)\n",
        "\n",
        "titanic.groupby('Initial').mean()"
      ],
      "execution_count": null,
      "outputs": [
        {
          "output_type": "execute_result",
          "data": {
            "text/html": [
              "<div>\n",
              "<style scoped>\n",
              "    .dataframe tbody tr th:only-of-type {\n",
              "        vertical-align: middle;\n",
              "    }\n",
              "\n",
              "    .dataframe tbody tr th {\n",
              "        vertical-align: top;\n",
              "    }\n",
              "\n",
              "    .dataframe thead th {\n",
              "        text-align: right;\n",
              "    }\n",
              "</style>\n",
              "<table border=\"1\" class=\"dataframe\">\n",
              "  <thead>\n",
              "    <tr style=\"text-align: right;\">\n",
              "      <th></th>\n",
              "      <th>PassengerId</th>\n",
              "      <th>Pclass</th>\n",
              "      <th>Age</th>\n",
              "      <th>SibSp</th>\n",
              "      <th>Parch</th>\n",
              "      <th>Fare</th>\n",
              "    </tr>\n",
              "    <tr>\n",
              "      <th>Initial</th>\n",
              "      <th></th>\n",
              "      <th></th>\n",
              "      <th></th>\n",
              "      <th></th>\n",
              "      <th></th>\n",
              "      <th></th>\n",
              "    </tr>\n",
              "  </thead>\n",
              "  <tbody>\n",
              "    <tr>\n",
              "      <th>Master</th>\n",
              "      <td>412.250000</td>\n",
              "      <td>2.607143</td>\n",
              "      <td>3.866800</td>\n",
              "      <td>2.250000</td>\n",
              "      <td>1.357143</td>\n",
              "      <td>33.323514</td>\n",
              "    </tr>\n",
              "    <tr>\n",
              "      <th>Miss</th>\n",
              "      <td>416.296296</td>\n",
              "      <td>2.288889</td>\n",
              "      <td>21.533784</td>\n",
              "      <td>0.570370</td>\n",
              "      <td>0.511111</td>\n",
              "      <td>44.739848</td>\n",
              "    </tr>\n",
              "    <tr>\n",
              "      <th>Mr</th>\n",
              "      <td>453.714286</td>\n",
              "      <td>2.411028</td>\n",
              "      <td>32.750000</td>\n",
              "      <td>0.265664</td>\n",
              "      <td>0.127820</td>\n",
              "      <td>22.674758</td>\n",
              "    </tr>\n",
              "    <tr>\n",
              "      <th>Mrs</th>\n",
              "      <td>449.367347</td>\n",
              "      <td>1.918367</td>\n",
              "      <td>36.540230</td>\n",
              "      <td>0.642857</td>\n",
              "      <td>0.938776</td>\n",
              "      <td>47.423044</td>\n",
              "    </tr>\n",
              "    <tr>\n",
              "      <th>Other</th>\n",
              "      <td>524.125000</td>\n",
              "      <td>1.625000</td>\n",
              "      <td>48.250000</td>\n",
              "      <td>0.125000</td>\n",
              "      <td>0.125000</td>\n",
              "      <td>19.865625</td>\n",
              "    </tr>\n",
              "  </tbody>\n",
              "</table>\n",
              "</div>"
            ],
            "text/plain": [
              "         PassengerId    Pclass        Age     SibSp     Parch       Fare\n",
              "Initial                                                                 \n",
              "Master    412.250000  2.607143   3.866800  2.250000  1.357143  33.323514\n",
              "Miss      416.296296  2.288889  21.533784  0.570370  0.511111  44.739848\n",
              "Mr        453.714286  2.411028  32.750000  0.265664  0.127820  22.674758\n",
              "Mrs       449.367347  1.918367  36.540230  0.642857  0.938776  47.423044\n",
              "Other     524.125000  1.625000  48.250000  0.125000  0.125000  19.865625"
            ]
          },
          "metadata": {
            "tags": []
          },
          "execution_count": 47
        }
      ]
    },
    {
      "cell_type": "code",
      "metadata": {
        "colab": {
          "base_uri": "https://localhost:8080/",
          "height": 203
        },
        "id": "X4dTj1lbSbs0",
        "outputId": "0b3454a9-33d7-446b-bb4b-8aacafdb0e5d"
      },
      "source": [
        "titanic_cat_ini = titanic[[\"Initial\"]]\n",
        "titanic_cat_ini.head()"
      ],
      "execution_count": null,
      "outputs": [
        {
          "output_type": "execute_result",
          "data": {
            "text/html": [
              "<div>\n",
              "<style scoped>\n",
              "    .dataframe tbody tr th:only-of-type {\n",
              "        vertical-align: middle;\n",
              "    }\n",
              "\n",
              "    .dataframe tbody tr th {\n",
              "        vertical-align: top;\n",
              "    }\n",
              "\n",
              "    .dataframe thead th {\n",
              "        text-align: right;\n",
              "    }\n",
              "</style>\n",
              "<table border=\"1\" class=\"dataframe\">\n",
              "  <thead>\n",
              "    <tr style=\"text-align: right;\">\n",
              "      <th></th>\n",
              "      <th>Initial</th>\n",
              "    </tr>\n",
              "  </thead>\n",
              "  <tbody>\n",
              "    <tr>\n",
              "      <th>486</th>\n",
              "      <td>Mrs</td>\n",
              "    </tr>\n",
              "    <tr>\n",
              "      <th>238</th>\n",
              "      <td>Mr</td>\n",
              "    </tr>\n",
              "    <tr>\n",
              "      <th>722</th>\n",
              "      <td>Mr</td>\n",
              "    </tr>\n",
              "    <tr>\n",
              "      <th>184</th>\n",
              "      <td>Miss</td>\n",
              "    </tr>\n",
              "    <tr>\n",
              "      <th>56</th>\n",
              "      <td>Miss</td>\n",
              "    </tr>\n",
              "  </tbody>\n",
              "</table>\n",
              "</div>"
            ],
            "text/plain": [
              "    Initial\n",
              "486     Mrs\n",
              "238      Mr\n",
              "722      Mr\n",
              "184    Miss\n",
              "56     Miss"
            ]
          },
          "metadata": {
            "tags": []
          },
          "execution_count": 48
        }
      ]
    },
    {
      "cell_type": "code",
      "metadata": {
        "colab": {
          "base_uri": "https://localhost:8080/"
        },
        "id": "cllyHo50SovW",
        "outputId": "f1081508-bea7-4518-a992-bc5365b46fbb"
      },
      "source": [
        "titanic_cat_ini_encoded = ordinal_encoder.fit_transform(titanic_cat_ini.values)\n",
        "\n",
        "titanic_cat_ini_encoded[:10]"
      ],
      "execution_count": null,
      "outputs": [
        {
          "output_type": "execute_result",
          "data": {
            "text/plain": [
              "array([[3.],\n",
              "       [2.],\n",
              "       [2.],\n",
              "       [1.],\n",
              "       [1.],\n",
              "       [2.],\n",
              "       [3.],\n",
              "       [2.],\n",
              "       [3.],\n",
              "       [4.]])"
            ]
          },
          "metadata": {
            "tags": []
          },
          "execution_count": 49
        }
      ]
    },
    {
      "cell_type": "code",
      "metadata": {
        "colab": {
          "base_uri": "https://localhost:8080/"
        },
        "id": "n8wNBMUaTZTm",
        "outputId": "0a1f91e3-6917-4d1a-8e8a-208832fca532"
      },
      "source": [
        "ordinal_encoder.categories_"
      ],
      "execution_count": null,
      "outputs": [
        {
          "output_type": "execute_result",
          "data": {
            "text/plain": [
              "[array(['Master', 'Miss', 'Mr', 'Mrs', 'Other'], dtype=object)]"
            ]
          },
          "metadata": {
            "tags": []
          },
          "execution_count": 50
        }
      ]
    },
    {
      "cell_type": "code",
      "metadata": {
        "colab": {
          "base_uri": "https://localhost:8080/"
        },
        "id": "SatIICs0TcHm",
        "outputId": "ab40c058-95de-43be-b31f-9525da5394e0"
      },
      "source": [
        "titanic_cat_ini_onehot = cat_encoder.fit_transform(titanic_cat_ini)\n",
        "titanic_cat_ini_onehot"
      ],
      "execution_count": null,
      "outputs": [
        {
          "output_type": "execute_result",
          "data": {
            "text/plain": [
              "<668x5 sparse matrix of type '<class 'numpy.float64'>'\n",
              "\twith 668 stored elements in Compressed Sparse Row format>"
            ]
          },
          "metadata": {
            "tags": []
          },
          "execution_count": 51
        }
      ]
    },
    {
      "cell_type": "code",
      "metadata": {
        "colab": {
          "base_uri": "https://localhost:8080/",
          "height": 203
        },
        "id": "aAC63mqMTnPj",
        "outputId": "054ae9a2-1acd-4abc-b433-87d4c845d965"
      },
      "source": [
        "titanic_cat_ini_onehot_df = pd.DataFrame(\n",
        "    titanic_cat_ini_onehot.toarray(),\n",
        "    columns=cat_encoder.categories_,\n",
        "    index=titanic_cat_ini.index\n",
        ")\n",
        "\n",
        "titanic_cat_ini_onehot_df.head()"
      ],
      "execution_count": null,
      "outputs": [
        {
          "output_type": "execute_result",
          "data": {
            "text/html": [
              "<div>\n",
              "<style scoped>\n",
              "    .dataframe tbody tr th:only-of-type {\n",
              "        vertical-align: middle;\n",
              "    }\n",
              "\n",
              "    .dataframe tbody tr th {\n",
              "        vertical-align: top;\n",
              "    }\n",
              "\n",
              "    .dataframe thead tr th {\n",
              "        text-align: left;\n",
              "    }\n",
              "</style>\n",
              "<table border=\"1\" class=\"dataframe\">\n",
              "  <thead>\n",
              "    <tr>\n",
              "      <th></th>\n",
              "      <th>Master</th>\n",
              "      <th>Miss</th>\n",
              "      <th>Mr</th>\n",
              "      <th>Mrs</th>\n",
              "      <th>Other</th>\n",
              "    </tr>\n",
              "  </thead>\n",
              "  <tbody>\n",
              "    <tr>\n",
              "      <th>486</th>\n",
              "      <td>0.0</td>\n",
              "      <td>0.0</td>\n",
              "      <td>0.0</td>\n",
              "      <td>1.0</td>\n",
              "      <td>0.0</td>\n",
              "    </tr>\n",
              "    <tr>\n",
              "      <th>238</th>\n",
              "      <td>0.0</td>\n",
              "      <td>0.0</td>\n",
              "      <td>1.0</td>\n",
              "      <td>0.0</td>\n",
              "      <td>0.0</td>\n",
              "    </tr>\n",
              "    <tr>\n",
              "      <th>722</th>\n",
              "      <td>0.0</td>\n",
              "      <td>0.0</td>\n",
              "      <td>1.0</td>\n",
              "      <td>0.0</td>\n",
              "      <td>0.0</td>\n",
              "    </tr>\n",
              "    <tr>\n",
              "      <th>184</th>\n",
              "      <td>0.0</td>\n",
              "      <td>1.0</td>\n",
              "      <td>0.0</td>\n",
              "      <td>0.0</td>\n",
              "      <td>0.0</td>\n",
              "    </tr>\n",
              "    <tr>\n",
              "      <th>56</th>\n",
              "      <td>0.0</td>\n",
              "      <td>1.0</td>\n",
              "      <td>0.0</td>\n",
              "      <td>0.0</td>\n",
              "      <td>0.0</td>\n",
              "    </tr>\n",
              "  </tbody>\n",
              "</table>\n",
              "</div>"
            ],
            "text/plain": [
              "    Master Miss   Mr  Mrs Other\n",
              "486    0.0  0.0  0.0  1.0   0.0\n",
              "238    0.0  0.0  1.0  0.0   0.0\n",
              "722    0.0  0.0  1.0  0.0   0.0\n",
              "184    0.0  1.0  0.0  0.0   0.0\n",
              "56     0.0  1.0  0.0  0.0   0.0"
            ]
          },
          "metadata": {
            "tags": []
          },
          "execution_count": 52
        }
      ]
    },
    {
      "cell_type": "markdown",
      "metadata": {
        "id": "opLEHnb4T_AE"
      },
      "source": [
        "이름과 성별은 원 핫 인코딩을 통해 숫자로 바꿔주었음"
      ]
    },
    {
      "cell_type": "code",
      "metadata": {
        "colab": {
          "base_uri": "https://localhost:8080/"
        },
        "id": "RkaUWLFQT7cq",
        "outputId": "5bf9aadb-551a-4378-d91d-5c4cd6cfd547"
      },
      "source": [
        "titanic_num.info()"
      ],
      "execution_count": null,
      "outputs": [
        {
          "output_type": "stream",
          "text": [
            "<class 'pandas.core.frame.DataFrame'>\n",
            "Int64Index: 668 entries, 486 to 821\n",
            "Data columns (total 6 columns):\n",
            " #   Column       Non-Null Count  Dtype  \n",
            "---  ------       --------------  -----  \n",
            " 0   PassengerId  668 non-null    int64  \n",
            " 1   Pclass       668 non-null    int64  \n",
            " 2   Age          537 non-null    float64\n",
            " 3   SibSp        668 non-null    int64  \n",
            " 4   Parch        668 non-null    int64  \n",
            " 5   Fare         668 non-null    float64\n",
            "dtypes: float64(2), int64(4)\n",
            "memory usage: 56.5 KB\n"
          ],
          "name": "stdout"
        }
      ]
    },
    {
      "cell_type": "markdown",
      "metadata": {
        "id": "-SgJHYZIWpVS"
      },
      "source": [
        "### 3. 파이프라인 구축하기"
      ]
    },
    {
      "cell_type": "code",
      "metadata": {
        "colab": {
          "base_uri": "https://localhost:8080/",
          "height": 203
        },
        "id": "pfumkqq9YOfn",
        "outputId": "62e28724-c8ec-47d5-d6fe-4071343caefe"
      },
      "source": [
        "from sklearn.pipeline import Pipeline\n",
        "from sklearn.preprocessing import StandardScaler\n",
        "\n",
        "num_pipeline = Pipeline([\n",
        "                         (\"imputer\", SimpleImputer(strategy=\"median\")),\n",
        "                         (\"std_scaler\", StandardScaler())\n",
        "])\n",
        "\n",
        "titanic_num.head()"
      ],
      "execution_count": null,
      "outputs": [
        {
          "output_type": "execute_result",
          "data": {
            "text/html": [
              "<div>\n",
              "<style scoped>\n",
              "    .dataframe tbody tr th:only-of-type {\n",
              "        vertical-align: middle;\n",
              "    }\n",
              "\n",
              "    .dataframe tbody tr th {\n",
              "        vertical-align: top;\n",
              "    }\n",
              "\n",
              "    .dataframe thead th {\n",
              "        text-align: right;\n",
              "    }\n",
              "</style>\n",
              "<table border=\"1\" class=\"dataframe\">\n",
              "  <thead>\n",
              "    <tr style=\"text-align: right;\">\n",
              "      <th></th>\n",
              "      <th>PassengerId</th>\n",
              "      <th>Pclass</th>\n",
              "      <th>Age</th>\n",
              "      <th>SibSp</th>\n",
              "      <th>Parch</th>\n",
              "      <th>Fare</th>\n",
              "    </tr>\n",
              "  </thead>\n",
              "  <tbody>\n",
              "    <tr>\n",
              "      <th>486</th>\n",
              "      <td>487</td>\n",
              "      <td>1</td>\n",
              "      <td>35.0</td>\n",
              "      <td>1</td>\n",
              "      <td>0</td>\n",
              "      <td>90.000</td>\n",
              "    </tr>\n",
              "    <tr>\n",
              "      <th>238</th>\n",
              "      <td>239</td>\n",
              "      <td>2</td>\n",
              "      <td>19.0</td>\n",
              "      <td>0</td>\n",
              "      <td>0</td>\n",
              "      <td>10.500</td>\n",
              "    </tr>\n",
              "    <tr>\n",
              "      <th>722</th>\n",
              "      <td>723</td>\n",
              "      <td>2</td>\n",
              "      <td>34.0</td>\n",
              "      <td>0</td>\n",
              "      <td>0</td>\n",
              "      <td>13.000</td>\n",
              "    </tr>\n",
              "    <tr>\n",
              "      <th>184</th>\n",
              "      <td>185</td>\n",
              "      <td>3</td>\n",
              "      <td>4.0</td>\n",
              "      <td>0</td>\n",
              "      <td>2</td>\n",
              "      <td>22.025</td>\n",
              "    </tr>\n",
              "    <tr>\n",
              "      <th>56</th>\n",
              "      <td>57</td>\n",
              "      <td>2</td>\n",
              "      <td>21.0</td>\n",
              "      <td>0</td>\n",
              "      <td>0</td>\n",
              "      <td>10.500</td>\n",
              "    </tr>\n",
              "  </tbody>\n",
              "</table>\n",
              "</div>"
            ],
            "text/plain": [
              "     PassengerId  Pclass   Age  SibSp  Parch    Fare\n",
              "486          487       1  35.0      1      0  90.000\n",
              "238          239       2  19.0      0      0  10.500\n",
              "722          723       2  34.0      0      0  13.000\n",
              "184          185       3   4.0      0      2  22.025\n",
              "56            57       2  21.0      0      0  10.500"
            ]
          },
          "metadata": {
            "tags": []
          },
          "execution_count": 54
        }
      ]
    },
    {
      "cell_type": "code",
      "metadata": {
        "colab": {
          "base_uri": "https://localhost:8080/"
        },
        "id": "8sZj5QkJhqRi",
        "outputId": "6e08e946-5693-4d49-fc87-0eeb2fb14dd5"
      },
      "source": [
        "titanic_num_tr = num_pipeline.fit_transform(titanic_num)\n",
        "titanic_num_tr[:5]"
      ],
      "execution_count": null,
      "outputs": [
        {
          "output_type": "execute_result",
          "data": {
            "text/plain": [
              "array([[ 0.16359761, -1.5793344 ,  0.40533335,  0.53667675, -0.4514834 ,\n",
              "         1.24039702],\n",
              "       [-0.79374025, -0.37637502, -0.82976403, -0.46472009, -0.4514834 ,\n",
              "        -0.43602802],\n",
              "       [ 1.07461267, -0.37637502,  0.32813977, -0.46472009, -0.4514834 ,\n",
              "        -0.38331025],\n",
              "       [-1.00219284,  0.82658437, -1.98766783, -0.46472009,  1.95163141,\n",
              "        -0.19299911],\n",
              "       [-1.49630271, -0.37637502, -0.67537686, -0.46472009, -0.4514834 ,\n",
              "        -0.43602802]])"
            ]
          },
          "metadata": {
            "tags": []
          },
          "execution_count": 55
        }
      ]
    },
    {
      "cell_type": "code",
      "metadata": {
        "colab": {
          "base_uri": "https://localhost:8080/",
          "height": 526
        },
        "id": "BCRbrtjLiMI0",
        "outputId": "25ebc294-d467-457b-9f53-673a7a16be58"
      },
      "source": [
        "from sklearn.compose import ColumnTransformer\n",
        "\n",
        "num_feature_name = list(titanic_num.columns)\n",
        "name_feature_name = ['Initial']\n",
        "sex_feature_name = ['Sex']\n",
        "\n",
        "full_pipeline = ColumnTransformer([\n",
        "                                   (\"num\", num_pipeline, num_feature_name),\n",
        "                                   (\"name\", OneHotEncoder(), name_feature_name),\n",
        "                                   (\"sex\", OneHotEncoder(), sex_feature_name)\n",
        "])\n",
        "\n",
        "titanic.head()"
      ],
      "execution_count": null,
      "outputs": [
        {
          "output_type": "execute_result",
          "data": {
            "text/html": [
              "<div>\n",
              "<style scoped>\n",
              "    .dataframe tbody tr th:only-of-type {\n",
              "        vertical-align: middle;\n",
              "    }\n",
              "\n",
              "    .dataframe tbody tr th {\n",
              "        vertical-align: top;\n",
              "    }\n",
              "\n",
              "    .dataframe thead th {\n",
              "        text-align: right;\n",
              "    }\n",
              "</style>\n",
              "<table border=\"1\" class=\"dataframe\">\n",
              "  <thead>\n",
              "    <tr style=\"text-align: right;\">\n",
              "      <th></th>\n",
              "      <th>PassengerId</th>\n",
              "      <th>Pclass</th>\n",
              "      <th>Name</th>\n",
              "      <th>Sex</th>\n",
              "      <th>Age</th>\n",
              "      <th>SibSp</th>\n",
              "      <th>Parch</th>\n",
              "      <th>Ticket</th>\n",
              "      <th>Fare</th>\n",
              "      <th>Embarked</th>\n",
              "      <th>Initial</th>\n",
              "    </tr>\n",
              "  </thead>\n",
              "  <tbody>\n",
              "    <tr>\n",
              "      <th>486</th>\n",
              "      <td>487</td>\n",
              "      <td>1</td>\n",
              "      <td>Hoyt, Mrs. Frederick Maxfield (Jane Anne Forby)</td>\n",
              "      <td>female</td>\n",
              "      <td>35.0</td>\n",
              "      <td>1</td>\n",
              "      <td>0</td>\n",
              "      <td>19943</td>\n",
              "      <td>90.000</td>\n",
              "      <td>S</td>\n",
              "      <td>Mrs</td>\n",
              "    </tr>\n",
              "    <tr>\n",
              "      <th>238</th>\n",
              "      <td>239</td>\n",
              "      <td>2</td>\n",
              "      <td>Pengelly, Mr. Frederick William</td>\n",
              "      <td>male</td>\n",
              "      <td>19.0</td>\n",
              "      <td>0</td>\n",
              "      <td>0</td>\n",
              "      <td>28665</td>\n",
              "      <td>10.500</td>\n",
              "      <td>S</td>\n",
              "      <td>Mr</td>\n",
              "    </tr>\n",
              "    <tr>\n",
              "      <th>722</th>\n",
              "      <td>723</td>\n",
              "      <td>2</td>\n",
              "      <td>Gillespie, Mr. William Henry</td>\n",
              "      <td>male</td>\n",
              "      <td>34.0</td>\n",
              "      <td>0</td>\n",
              "      <td>0</td>\n",
              "      <td>12233</td>\n",
              "      <td>13.000</td>\n",
              "      <td>S</td>\n",
              "      <td>Mr</td>\n",
              "    </tr>\n",
              "    <tr>\n",
              "      <th>184</th>\n",
              "      <td>185</td>\n",
              "      <td>3</td>\n",
              "      <td>Kink-Heilmann, Miss. Luise Gretchen</td>\n",
              "      <td>female</td>\n",
              "      <td>4.0</td>\n",
              "      <td>0</td>\n",
              "      <td>2</td>\n",
              "      <td>315153</td>\n",
              "      <td>22.025</td>\n",
              "      <td>S</td>\n",
              "      <td>Miss</td>\n",
              "    </tr>\n",
              "    <tr>\n",
              "      <th>56</th>\n",
              "      <td>57</td>\n",
              "      <td>2</td>\n",
              "      <td>Rugg, Miss. Emily</td>\n",
              "      <td>female</td>\n",
              "      <td>21.0</td>\n",
              "      <td>0</td>\n",
              "      <td>0</td>\n",
              "      <td>C.A. 31026</td>\n",
              "      <td>10.500</td>\n",
              "      <td>S</td>\n",
              "      <td>Miss</td>\n",
              "    </tr>\n",
              "  </tbody>\n",
              "</table>\n",
              "</div>"
            ],
            "text/plain": [
              "     PassengerId  Pclass  ... Embarked Initial\n",
              "486          487       1  ...        S     Mrs\n",
              "238          239       2  ...        S      Mr\n",
              "722          723       2  ...        S      Mr\n",
              "184          185       3  ...        S    Miss\n",
              "56            57       2  ...        S    Miss\n",
              "\n",
              "[5 rows x 11 columns]"
            ]
          },
          "metadata": {
            "tags": []
          },
          "execution_count": 56
        }
      ]
    },
    {
      "cell_type": "code",
      "metadata": {
        "colab": {
          "base_uri": "https://localhost:8080/"
        },
        "id": "_HmnZiuXjDws",
        "outputId": "1ee7c52a-553e-4ef0-c018-9384d5b59ca4"
      },
      "source": [
        "titanic_final = full_pipeline.fit_transform(titanic)\n",
        "titanic_final[:5]"
      ],
      "execution_count": null,
      "outputs": [
        {
          "output_type": "execute_result",
          "data": {
            "text/plain": [
              "array([[ 0.16359761, -1.5793344 ,  0.40533335,  0.53667675, -0.4514834 ,\n",
              "         1.24039702,  0.        ,  0.        ,  0.        ,  1.        ,\n",
              "         0.        ,  1.        ,  0.        ],\n",
              "       [-0.79374025, -0.37637502, -0.82976403, -0.46472009, -0.4514834 ,\n",
              "        -0.43602802,  0.        ,  0.        ,  1.        ,  0.        ,\n",
              "         0.        ,  0.        ,  1.        ],\n",
              "       [ 1.07461267, -0.37637502,  0.32813977, -0.46472009, -0.4514834 ,\n",
              "        -0.38331025,  0.        ,  0.        ,  1.        ,  0.        ,\n",
              "         0.        ,  0.        ,  1.        ],\n",
              "       [-1.00219284,  0.82658437, -1.98766783, -0.46472009,  1.95163141,\n",
              "        -0.19299911,  0.        ,  1.        ,  0.        ,  0.        ,\n",
              "         0.        ,  1.        ,  0.        ],\n",
              "       [-1.49630271, -0.37637502, -0.67537686, -0.46472009, -0.4514834 ,\n",
              "        -0.43602802,  0.        ,  1.        ,  0.        ,  0.        ,\n",
              "         0.        ,  1.        ,  0.        ]])"
            ]
          },
          "metadata": {
            "tags": []
          },
          "execution_count": 57
        }
      ]
    },
    {
      "cell_type": "markdown",
      "metadata": {
        "id": "J-t9xeRSjN2R"
      },
      "source": [
        "파이프라인 다 만들었음  \n",
        "이후에는 별도의 데이터 변환 없이 파이프라인을 사용하면 됨"
      ]
    },
    {
      "cell_type": "markdown",
      "metadata": {
        "id": "eSoILWPOjUh8"
      },
      "source": [
        "# 머신러닝 알고리즘 모델 선택 및 훈련\n",
        "\n"
      ]
    },
    {
      "cell_type": "markdown",
      "metadata": {
        "id": "H4WP2vPzJNDC"
      },
      "source": [
        "## 1) 선형회귀 알고리즘 LinearRegression"
      ]
    },
    {
      "cell_type": "code",
      "metadata": {
        "colab": {
          "base_uri": "https://localhost:8080/"
        },
        "id": "fwwZu9xejLlG",
        "outputId": "2b5a26ce-5953-47d6-9d6c-85b0030ea43e"
      },
      "source": [
        "from sklearn.linear_model import LinearRegression\n",
        "\n",
        "lin_reg = LinearRegression()\n",
        "lin_reg.fit(titanic_final, y_train)"
      ],
      "execution_count": null,
      "outputs": [
        {
          "output_type": "execute_result",
          "data": {
            "text/plain": [
              "LinearRegression(copy_X=True, fit_intercept=True, n_jobs=None, normalize=False)"
            ]
          },
          "metadata": {
            "tags": []
          },
          "execution_count": 58
        }
      ]
    },
    {
      "cell_type": "code",
      "metadata": {
        "id": "5bk8JI4kj5jT"
      },
      "source": [
        "example_train_data = titanic.iloc[:5]\n",
        "example_labels = y_train[:5]"
      ],
      "execution_count": null,
      "outputs": []
    },
    {
      "cell_type": "code",
      "metadata": {
        "colab": {
          "base_uri": "https://localhost:8080/"
        },
        "id": "mmfFbFG5kJ5T",
        "outputId": "a1f0b399-7a8d-4c40-80c5-cafcad34a564"
      },
      "source": [
        "example_train_prepared = full_pipeline.transform(example_train_data)\n",
        "example_train_prepared"
      ],
      "execution_count": null,
      "outputs": [
        {
          "output_type": "execute_result",
          "data": {
            "text/plain": [
              "array([[ 0.16359761, -1.5793344 ,  0.40533335,  0.53667675, -0.4514834 ,\n",
              "         1.24039702,  0.        ,  0.        ,  0.        ,  1.        ,\n",
              "         0.        ,  1.        ,  0.        ],\n",
              "       [-0.79374025, -0.37637502, -0.82976403, -0.46472009, -0.4514834 ,\n",
              "        -0.43602802,  0.        ,  0.        ,  1.        ,  0.        ,\n",
              "         0.        ,  0.        ,  1.        ],\n",
              "       [ 1.07461267, -0.37637502,  0.32813977, -0.46472009, -0.4514834 ,\n",
              "        -0.38331025,  0.        ,  0.        ,  1.        ,  0.        ,\n",
              "         0.        ,  0.        ,  1.        ],\n",
              "       [-1.00219284,  0.82658437, -1.98766783, -0.46472009,  1.95163141,\n",
              "        -0.19299911,  0.        ,  1.        ,  0.        ,  0.        ,\n",
              "         0.        ,  1.        ,  0.        ],\n",
              "       [-1.49630271, -0.37637502, -0.67537686, -0.46472009, -0.4514834 ,\n",
              "        -0.43602802,  0.        ,  1.        ,  0.        ,  0.        ,\n",
              "         0.        ,  1.        ,  0.        ]])"
            ]
          },
          "metadata": {
            "tags": []
          },
          "execution_count": 60
        }
      ]
    },
    {
      "cell_type": "code",
      "metadata": {
        "colab": {
          "base_uri": "https://localhost:8080/"
        },
        "id": "33ap-3hKkMhB",
        "outputId": "e8d0ed10-65f4-41b4-9c08-8d5aaeccca9a"
      },
      "source": [
        "pred = lin_reg.predict(example_train_prepared)\n",
        "label = list(example_labels)\n",
        "\n",
        "print(\"예측 : {}\".format(pred))\n",
        "print(\"타깃 : {}\".format(label))"
      ],
      "execution_count": null,
      "outputs": [
        {
          "output_type": "stream",
          "text": [
            "예측 : [0.96948953 0.28245549 0.23595297 0.64600312 0.81013158]\n",
            "타깃 : [1, 0, 0, 1, 1]\n"
          ],
          "name": "stdout"
        }
      ]
    },
    {
      "cell_type": "markdown",
      "metadata": {
        "id": "4V2nyrU6kokS"
      },
      "source": [
        "오차가 꽤 크고 예측이 잘 안 되어있음"
      ]
    },
    {
      "cell_type": "code",
      "metadata": {
        "colab": {
          "base_uri": "https://localhost:8080/"
        },
        "id": "HFH_8GCIkjm4",
        "outputId": "afde8236-a37b-46a0-fcf5-2341793ccd15"
      },
      "source": [
        "import numpy as np\n",
        "from sklearn.metrics import mean_squared_error\n",
        "\n",
        "titanic_pred = lin_reg.predict(titanic_final)\n",
        "\n",
        "lin_mse = mean_squared_error(titanic_pred, y_train)\n",
        "\n",
        "lin_rmse = np.sqrt(lin_mse)\n",
        "\n",
        "print(\"MSE : {:.3f} / RMSE : {:.3f}\".format(lin_mse, lin_rmse))"
      ],
      "execution_count": null,
      "outputs": [
        {
          "output_type": "stream",
          "text": [
            "MSE : 0.132 / RMSE : 0.363\n"
          ],
          "name": "stdout"
        }
      ]
    },
    {
      "cell_type": "markdown",
      "metadata": {
        "id": "Hn-JTXfYlqaV"
      },
      "source": [
        "## 2) 의사결정트리 모델"
      ]
    },
    {
      "cell_type": "code",
      "metadata": {
        "colab": {
          "base_uri": "https://localhost:8080/"
        },
        "id": "lus4pVGHlaSe",
        "outputId": "da78c588-44a1-4b1c-8883-0e6640ba0f7b"
      },
      "source": [
        "from sklearn.tree import DecisionTreeRegressor\n",
        "\n",
        "tree_reg = DecisionTreeRegressor()\n",
        "tree_reg.fit(titanic_final, y_train)"
      ],
      "execution_count": null,
      "outputs": [
        {
          "output_type": "execute_result",
          "data": {
            "text/plain": [
              "DecisionTreeRegressor(ccp_alpha=0.0, criterion='mse', max_depth=None,\n",
              "                      max_features=None, max_leaf_nodes=None,\n",
              "                      min_impurity_decrease=0.0, min_impurity_split=None,\n",
              "                      min_samples_leaf=1, min_samples_split=2,\n",
              "                      min_weight_fraction_leaf=0.0, presort='deprecated',\n",
              "                      random_state=None, splitter='best')"
            ]
          },
          "metadata": {
            "tags": []
          },
          "execution_count": 63
        }
      ]
    },
    {
      "cell_type": "code",
      "metadata": {
        "id": "PQxOANOLl7j1"
      },
      "source": [
        "example_train_data = titanic.iloc[:5]\n",
        "example_labels = y_train[:5]\n",
        "example_train_prepared = full_pipeline.transform(example_train_data)"
      ],
      "execution_count": null,
      "outputs": []
    },
    {
      "cell_type": "code",
      "metadata": {
        "colab": {
          "base_uri": "https://localhost:8080/"
        },
        "id": "ZJcEVM_umIvl",
        "outputId": "4cb5e8fc-9eb9-43b0-f922-54f2d00514fc"
      },
      "source": [
        "pred = tree_reg.predict(example_train_prepared)\n",
        "label = list(example_labels)\n",
        "\n",
        "print(\"예측 : {}\".format(pred))\n",
        "print(\"타깃 : {}\".format(label))"
      ],
      "execution_count": null,
      "outputs": [
        {
          "output_type": "stream",
          "text": [
            "예측 : [1. 0. 0. 1. 1.]\n",
            "타깃 : [1, 0, 0, 1, 1]\n"
          ],
          "name": "stdout"
        }
      ]
    },
    {
      "cell_type": "code",
      "metadata": {
        "colab": {
          "base_uri": "https://localhost:8080/"
        },
        "id": "6OzFHqZsmRCl",
        "outputId": "bf80d7fb-5380-4959-ef23-b19a94380e5e"
      },
      "source": [
        "titanic_pred = tree_reg.predict(titanic_final)\n",
        "\n",
        "tree_mse = mean_squared_error(titanic_pred, y_train)\n",
        "\n",
        "tree_rmse = np.sqrt(tree_mse)\n",
        "\n",
        "print(\"MSE : {:.3f} / RMSE : {:.3f}\".format(tree_mse, tree_rmse))"
      ],
      "execution_count": null,
      "outputs": [
        {
          "output_type": "stream",
          "text": [
            "MSE : 0.000 / RMSE : 0.000\n"
          ],
          "name": "stdout"
        }
      ]
    },
    {
      "cell_type": "markdown",
      "metadata": {
        "id": "cxO4fxBpmeOj"
      },
      "source": [
        "## 3) 로지스틱 회귀 LogisticRegression"
      ]
    },
    {
      "cell_type": "code",
      "metadata": {
        "id": "p0V2azzOGndb"
      },
      "source": [
        "titanic = full_pipeline.transform(titanic)\n",
        "X_valid = full_pipeline.transform(X_valid)"
      ],
      "execution_count": null,
      "outputs": []
    },
    {
      "cell_type": "code",
      "metadata": {
        "id": "4h0uE-HCmcC0"
      },
      "source": [
        "from sklearn.linear_model import LogisticRegression\n",
        "\n",
        "model = LogisticRegression()"
      ],
      "execution_count": null,
      "outputs": []
    },
    {
      "cell_type": "code",
      "metadata": {
        "colab": {
          "base_uri": "https://localhost:8080/"
        },
        "id": "oLTD46gim62-",
        "outputId": "cceb96cd-badc-40d1-cd76-8733e3d5d757"
      },
      "source": [
        "model.fit(titanic, y_train)"
      ],
      "execution_count": null,
      "outputs": [
        {
          "output_type": "execute_result",
          "data": {
            "text/plain": [
              "LogisticRegression(C=1.0, class_weight=None, dual=False, fit_intercept=True,\n",
              "                   intercept_scaling=1, l1_ratio=None, max_iter=100,\n",
              "                   multi_class='auto', n_jobs=None, penalty='l2',\n",
              "                   random_state=None, solver='lbfgs', tol=0.0001, verbose=0,\n",
              "                   warm_start=False)"
            ]
          },
          "metadata": {
            "tags": []
          },
          "execution_count": 69
        }
      ]
    },
    {
      "cell_type": "code",
      "metadata": {
        "colab": {
          "base_uri": "https://localhost:8080/"
        },
        "id": "mgtNFT6Gn_xb",
        "outputId": "d9e7091c-9b43-4c0a-c04d-915673b0f286"
      },
      "source": [
        "prediction = model.predict(X_valid)\n",
        "prediction"
      ],
      "execution_count": null,
      "outputs": [
        {
          "output_type": "execute_result",
          "data": {
            "text/plain": [
              "array([0, 1, 0, 1, 0, 1, 1, 0, 0, 0, 1, 1, 0, 0, 0, 0, 0, 0, 1, 0, 1, 0,\n",
              "       0, 1, 0, 0, 1, 0, 1, 0, 1, 0, 0, 0, 0, 0, 0, 1, 0, 0, 0, 1, 0, 1,\n",
              "       1, 0, 0, 0, 0, 0, 0, 1, 0, 1, 0, 0, 0, 0, 0, 1, 0, 0, 0, 0, 1, 0,\n",
              "       1, 1, 1, 1, 1, 0, 0, 0, 0, 0, 0, 1, 0, 0, 0, 0, 0, 0, 0, 0, 0, 0,\n",
              "       0, 0, 0, 1, 1, 1, 1, 1, 1, 0, 0, 0, 0, 1, 1, 1, 0, 0, 1, 1, 0, 1,\n",
              "       0, 0, 0, 0, 1, 0, 1, 0, 0, 1, 1, 0, 0, 1, 0, 1, 1, 0, 1, 0, 0, 0,\n",
              "       0, 0, 1, 1, 0, 1, 0, 1, 0, 1, 1, 0, 1, 0, 0, 0, 0, 0, 1, 0, 1, 0,\n",
              "       0, 0, 1, 1, 1, 0, 0, 1, 0, 1, 1, 1, 1, 1, 1, 1, 0, 0, 1, 1, 1, 0,\n",
              "       1, 1, 0, 0, 0, 0, 1, 0, 0, 1, 0, 1, 0, 0, 0, 0, 0, 0, 0, 0, 0, 1,\n",
              "       0, 0, 0, 0, 1, 0, 0, 0, 0, 0, 0, 0, 1, 1, 0, 1, 0, 0, 0, 0, 1, 0,\n",
              "       1, 0, 0])"
            ]
          },
          "metadata": {
            "tags": []
          },
          "execution_count": 70
        }
      ]
    },
    {
      "cell_type": "code",
      "metadata": {
        "colab": {
          "base_uri": "https://localhost:8080/"
        },
        "id": "JTi6NZY5oHu0",
        "outputId": "0875d6c3-c0f0-4c0c-ab05-0815e753c4d2"
      },
      "source": [
        "(prediction == y_valid).mean()"
      ],
      "execution_count": null,
      "outputs": [
        {
          "output_type": "execute_result",
          "data": {
            "text/plain": [
              "0.8251121076233184"
            ]
          },
          "metadata": {
            "tags": []
          },
          "execution_count": 71
        }
      ]
    },
    {
      "cell_type": "markdown",
      "metadata": {
        "id": "prDRvvSJoq7J"
      },
      "source": [
        "## 4) SGDClassifier"
      ]
    },
    {
      "cell_type": "code",
      "metadata": {
        "id": "t8CgjP4ZoS2i"
      },
      "source": [
        "from sklearn.linear_model import SGDClassifier"
      ],
      "execution_count": null,
      "outputs": []
    },
    {
      "cell_type": "code",
      "metadata": {
        "id": "A5D32tQ0oaU5"
      },
      "source": [
        "sgd = SGDClassifier(random_state=0)"
      ],
      "execution_count": null,
      "outputs": []
    },
    {
      "cell_type": "code",
      "metadata": {
        "colab": {
          "base_uri": "https://localhost:8080/"
        },
        "id": "tWQlMcQ0ocuc",
        "outputId": "9ee182bc-b282-4de4-bbb6-e9c798869c2f"
      },
      "source": [
        "sgd.fit(titanic, y_train)"
      ],
      "execution_count": null,
      "outputs": [
        {
          "output_type": "execute_result",
          "data": {
            "text/plain": [
              "SGDClassifier(alpha=0.0001, average=False, class_weight=None,\n",
              "              early_stopping=False, epsilon=0.1, eta0=0.0, fit_intercept=True,\n",
              "              l1_ratio=0.15, learning_rate='optimal', loss='hinge',\n",
              "              max_iter=1000, n_iter_no_change=5, n_jobs=None, penalty='l2',\n",
              "              power_t=0.5, random_state=0, shuffle=True, tol=0.001,\n",
              "              validation_fraction=0.1, verbose=0, warm_start=False)"
            ]
          },
          "metadata": {
            "tags": []
          },
          "execution_count": 74
        }
      ]
    },
    {
      "cell_type": "code",
      "metadata": {
        "colab": {
          "base_uri": "https://localhost:8080/"
        },
        "id": "9QF14TCFofyS",
        "outputId": "b9bba9bf-38d0-44ec-a789-c4f624e81940"
      },
      "source": [
        "prediction = sgd.predict(X_valid)\n",
        "\n",
        "(prediction == y_valid).mean()"
      ],
      "execution_count": null,
      "outputs": [
        {
          "output_type": "execute_result",
          "data": {
            "text/plain": [
              "0.7085201793721974"
            ]
          },
          "metadata": {
            "tags": []
          },
          "execution_count": 75
        }
      ]
    },
    {
      "cell_type": "markdown",
      "metadata": {
        "id": "bPE2tQ24ouN2"
      },
      "source": [
        "## 5) KNeighborsClassifier"
      ]
    },
    {
      "cell_type": "code",
      "metadata": {
        "colab": {
          "base_uri": "https://localhost:8080/"
        },
        "id": "tTTCP2R2om9A",
        "outputId": "31b43ba5-9928-4403-b2e4-afbe475fd1ea"
      },
      "source": [
        "from sklearn.neighbors import KNeighborsClassifier\n",
        "knn = KNeighborsClassifier()\n",
        "knn.fit(titanic, y_train)"
      ],
      "execution_count": null,
      "outputs": [
        {
          "output_type": "execute_result",
          "data": {
            "text/plain": [
              "KNeighborsClassifier(algorithm='auto', leaf_size=30, metric='minkowski',\n",
              "                     metric_params=None, n_jobs=None, n_neighbors=5, p=2,\n",
              "                     weights='uniform')"
            ]
          },
          "metadata": {
            "tags": []
          },
          "execution_count": 76
        }
      ]
    },
    {
      "cell_type": "code",
      "metadata": {
        "colab": {
          "base_uri": "https://localhost:8080/"
        },
        "id": "C89Q4Yz_GEd1",
        "outputId": "612c2a65-45d5-4f31-c8a9-ed48e6bfa462"
      },
      "source": [
        "knn.score(X_valid, y_valid)"
      ],
      "execution_count": null,
      "outputs": [
        {
          "output_type": "execute_result",
          "data": {
            "text/plain": [
              "0.7982062780269058"
            ]
          },
          "metadata": {
            "tags": []
          },
          "execution_count": 77
        }
      ]
    },
    {
      "cell_type": "markdown",
      "metadata": {
        "id": "Q6v_ZW3WHGFh"
      },
      "source": [
        "## 6) SupportVectorClassifier"
      ]
    },
    {
      "cell_type": "code",
      "metadata": {
        "id": "WJkMxqjvG3XJ"
      },
      "source": [
        "from sklearn.svm import SVC"
      ],
      "execution_count": null,
      "outputs": []
    },
    {
      "cell_type": "code",
      "metadata": {
        "colab": {
          "base_uri": "https://localhost:8080/"
        },
        "id": "Go1QG3ZwHOFV",
        "outputId": "1eb6832b-d114-438a-ac82-9c95aa919d98"
      },
      "source": [
        "svc = SVC(random_state=0)\n",
        "svc.fit(titanic, y_train)"
      ],
      "execution_count": null,
      "outputs": [
        {
          "output_type": "execute_result",
          "data": {
            "text/plain": [
              "SVC(C=1.0, break_ties=False, cache_size=200, class_weight=None, coef0=0.0,\n",
              "    decision_function_shape='ovr', degree=3, gamma='scale', kernel='rbf',\n",
              "    max_iter=-1, probability=False, random_state=0, shrinking=True, tol=0.001,\n",
              "    verbose=False)"
            ]
          },
          "metadata": {
            "tags": []
          },
          "execution_count": 79
        }
      ]
    },
    {
      "cell_type": "code",
      "metadata": {
        "colab": {
          "base_uri": "https://localhost:8080/"
        },
        "id": "qGMNo8keHZtm",
        "outputId": "805c1ebc-4bfc-4b1e-ae75-59b98c717b62"
      },
      "source": [
        "svc.score(titanic, y_train)"
      ],
      "execution_count": null,
      "outputs": [
        {
          "output_type": "execute_result",
          "data": {
            "text/plain": [
              "0.8413173652694611"
            ]
          },
          "metadata": {
            "tags": []
          },
          "execution_count": 80
        }
      ]
    },
    {
      "cell_type": "code",
      "metadata": {
        "colab": {
          "base_uri": "https://localhost:8080/"
        },
        "id": "FZwaiRhJHcin",
        "outputId": "2f5fc355-bdb9-44ab-dff2-7d4d46a62eb1"
      },
      "source": [
        "svc.score(X_valid, y_valid)"
      ],
      "execution_count": null,
      "outputs": [
        {
          "output_type": "execute_result",
          "data": {
            "text/plain": [
              "0.820627802690583"
            ]
          },
          "metadata": {
            "tags": []
          },
          "execution_count": 81
        }
      ]
    },
    {
      "cell_type": "markdown",
      "metadata": {
        "id": "Mrr2r9pYHh3F"
      },
      "source": [
        "## 7) Decision Tree"
      ]
    },
    {
      "cell_type": "code",
      "metadata": {
        "id": "o4_k-pg1Hez8"
      },
      "source": [
        "from sklearn.tree import DecisionTreeClassifier"
      ],
      "execution_count": null,
      "outputs": []
    },
    {
      "cell_type": "code",
      "metadata": {
        "colab": {
          "base_uri": "https://localhost:8080/"
        },
        "id": "ydK5J3xuHpmu",
        "outputId": "341d3512-70e1-4c3b-d2f4-c1e89880cba9"
      },
      "source": [
        "dt = DecisionTreeClassifier(random_state=0)\n",
        "dt.fit(titanic, y_train)"
      ],
      "execution_count": null,
      "outputs": [
        {
          "output_type": "execute_result",
          "data": {
            "text/plain": [
              "DecisionTreeClassifier(ccp_alpha=0.0, class_weight=None, criterion='gini',\n",
              "                       max_depth=None, max_features=None, max_leaf_nodes=None,\n",
              "                       min_impurity_decrease=0.0, min_impurity_split=None,\n",
              "                       min_samples_leaf=1, min_samples_split=2,\n",
              "                       min_weight_fraction_leaf=0.0, presort='deprecated',\n",
              "                       random_state=0, splitter='best')"
            ]
          },
          "metadata": {
            "tags": []
          },
          "execution_count": 83
        }
      ]
    },
    {
      "cell_type": "code",
      "metadata": {
        "colab": {
          "base_uri": "https://localhost:8080/"
        },
        "id": "JoDmlwELHuaS",
        "outputId": "401ada99-2ba6-463a-e28f-b83a1a0e08d2"
      },
      "source": [
        "dt.score(X_valid, y_valid)"
      ],
      "execution_count": null,
      "outputs": [
        {
          "output_type": "execute_result",
          "data": {
            "text/plain": [
              "0.7219730941704036"
            ]
          },
          "metadata": {
            "tags": []
          },
          "execution_count": 84
        }
      ]
    },
    {
      "cell_type": "code",
      "metadata": {
        "colab": {
          "base_uri": "https://localhost:8080/"
        },
        "id": "NfkwTxSiHyNV",
        "outputId": "a96b8baa-bcdd-4b94-9bd5-b725f1da89a7"
      },
      "source": [
        "dt.score(titanic, y_train)"
      ],
      "execution_count": null,
      "outputs": [
        {
          "output_type": "execute_result",
          "data": {
            "text/plain": [
              "1.0"
            ]
          },
          "metadata": {
            "tags": []
          },
          "execution_count": 85
        }
      ]
    },
    {
      "cell_type": "markdown",
      "metadata": {
        "id": "yzgyE_VSH4bL"
      },
      "source": [
        "지금까지의 모델 중 가장 오차가 큼  \n",
        "(기본적으로 최대한 과대적합 되어있기 때문에?)"
      ]
    },
    {
      "cell_type": "code",
      "metadata": {
        "colab": {
          "base_uri": "https://localhost:8080/"
        },
        "id": "Kb28PT_sH2eM",
        "outputId": "36461cb6-a039-428c-87b6-c7e7f76ed14e"
      },
      "source": [
        "# depth 조절해보기\n",
        "dt = DecisionTreeClassifier(max_depth=3)\n",
        "dt.fit(titanic, y_train)\n",
        "dt.score(titanic, y_train)"
      ],
      "execution_count": null,
      "outputs": [
        {
          "output_type": "execute_result",
          "data": {
            "text/plain": [
              "0.8323353293413174"
            ]
          },
          "metadata": {
            "tags": []
          },
          "execution_count": 86
        }
      ]
    },
    {
      "cell_type": "code",
      "metadata": {
        "colab": {
          "base_uri": "https://localhost:8080/"
        },
        "id": "VRCvH_YEIQ8e",
        "outputId": "f0b0101e-8c40-41dc-ef37-c5e23d4c870e"
      },
      "source": [
        "dt.score(X_valid, y_valid)"
      ],
      "execution_count": null,
      "outputs": [
        {
          "output_type": "execute_result",
          "data": {
            "text/plain": [
              "0.8340807174887892"
            ]
          },
          "metadata": {
            "tags": []
          },
          "execution_count": 87
        }
      ]
    },
    {
      "cell_type": "markdown",
      "metadata": {
        "id": "d_MMiCBnL5-2"
      },
      "source": [
        "## 8) 랜던포레스트 RandomForest"
      ]
    },
    {
      "cell_type": "code",
      "metadata": {
        "colab": {
          "base_uri": "https://localhost:8080/"
        },
        "id": "dtxgSm0sL9oh",
        "outputId": "84023cb6-e40c-4fe4-ed35-6990f2fcbbfd"
      },
      "source": [
        "from sklearn.ensemble import RandomForestRegressor\n",
        "\n",
        "forest_reg = RandomForestRegressor()\n",
        "forest_reg.fit(titanic_final, y_train)"
      ],
      "execution_count": null,
      "outputs": [
        {
          "output_type": "execute_result",
          "data": {
            "text/plain": [
              "RandomForestRegressor(bootstrap=True, ccp_alpha=0.0, criterion='mse',\n",
              "                      max_depth=None, max_features='auto', max_leaf_nodes=None,\n",
              "                      max_samples=None, min_impurity_decrease=0.0,\n",
              "                      min_impurity_split=None, min_samples_leaf=1,\n",
              "                      min_samples_split=2, min_weight_fraction_leaf=0.0,\n",
              "                      n_estimators=100, n_jobs=None, oob_score=False,\n",
              "                      random_state=None, verbose=0, warm_start=False)"
            ]
          },
          "metadata": {
            "tags": []
          },
          "execution_count": 88
        }
      ]
    },
    {
      "cell_type": "code",
      "metadata": {
        "colab": {
          "base_uri": "https://localhost:8080/"
        },
        "id": "lmrnO928MMLE",
        "outputId": "5df7efaa-80f8-48e8-d1c4-2988b5532abf"
      },
      "source": [
        "titanic_pred = forest_reg.predict(titanic_final)\n",
        "forest_mse = mean_squared_error(y_train, titanic_pred)\n",
        "forest_rmse = np.sqrt(forest_mse)\n",
        "\n",
        "print(\"MSE : {:.3f} / RMSE : {:.3f}\".format(forest_mse, forest_rmse))"
      ],
      "execution_count": null,
      "outputs": [
        {
          "output_type": "stream",
          "text": [
            "MSE : 0.019 / RMSE : 0.139\n"
          ],
          "name": "stdout"
        }
      ]
    },
    {
      "cell_type": "markdown",
      "metadata": {
        "id": "GPbgdJYFIuG4"
      },
      "source": [
        "## 교차 검증 ( Cross Validation )"
      ]
    },
    {
      "cell_type": "markdown",
      "metadata": {
        "id": "o3WtWQVvJDcc"
      },
      "source": [
        ""
      ]
    },
    {
      "cell_type": "code",
      "metadata": {
        "colab": {
          "base_uri": "https://localhost:8080/"
        },
        "id": "MMt70rxzIU1t",
        "outputId": "ae8bb33e-f4d9-4b68-d85b-67a1f80e7dd9"
      },
      "source": [
        "from sklearn.model_selection import cross_val_score\n",
        "\n",
        "scores = cross_val_score(\n",
        "    tree_reg,  # 의사결정트리 모델로 교차 검증 시도\n",
        "    titanic_final,\n",
        "    y_train,\n",
        "    cv=10,\n",
        "    scoring='neg_mean_squared_error'\n",
        ")\n",
        "\n",
        "tree_rmse_scores = np.sqrt(-scores)\n",
        "print(tree_rmse_scores.mean())"
      ],
      "execution_count": null,
      "outputs": [
        {
          "output_type": "stream",
          "text": [
            "0.48796869375715585\n"
          ],
          "name": "stdout"
        }
      ]
    },
    {
      "cell_type": "code",
      "metadata": {
        "colab": {
          "base_uri": "https://localhost:8080/"
        },
        "id": "aQV87L0RJh7Y",
        "outputId": "678eadc1-4629-4b30-8000-071c9c341059"
      },
      "source": [
        "# '정확도' 도 확인\n",
        "scores = cross_val_score(\n",
        "    tree_reg,  \n",
        "    titanic_final,\n",
        "    y_train,\n",
        "    cv=10\n",
        ")\n",
        "\n",
        "print(scores.mean())"
      ],
      "execution_count": null,
      "outputs": [
        {
          "output_type": "stream",
          "text": [
            "-0.0026904139239162794\n"
          ],
          "name": "stdout"
        }
      ]
    },
    {
      "cell_type": "code",
      "metadata": {
        "colab": {
          "base_uri": "https://localhost:8080/"
        },
        "id": "Xxh3IlI0Jy9w",
        "outputId": "0adad222-0a51-4b9a-8106-bfd389c70fd9"
      },
      "source": [
        "# LinearRegression에 대한 CV점수 확인\n",
        "\n",
        "lin_scores = cross_val_score(\n",
        "    lin_reg, \n",
        "    titanic_final,\n",
        "    y_train,\n",
        "    cv=10,\n",
        "    scoring='neg_mean_squared_error'\n",
        ")\n",
        "\n",
        "lin_rmse_scores = np.sqrt(-lin_scores)\n",
        "print(lin_rmse_scores.mean())"
      ],
      "execution_count": null,
      "outputs": [
        {
          "output_type": "stream",
          "text": [
            "0.3674277516203971\n"
          ],
          "name": "stdout"
        }
      ]
    },
    {
      "cell_type": "code",
      "metadata": {
        "colab": {
          "base_uri": "https://localhost:8080/"
        },
        "id": "_RGTMekZKKGi",
        "outputId": "686b22e9-f49a-4fba-f4ba-c21d7a10090e"
      },
      "source": [
        "# LogisticRegression에 대한 CV 점수 확인\n",
        "\n",
        "log_scores = cross_val_score(\n",
        "    model, \n",
        "    titanic_final,\n",
        "    y_train,\n",
        "    cv=10,\n",
        "    scoring='neg_mean_squared_error'\n",
        ")\n",
        "\n",
        "log_rmse_scores = np.sqrt(-log_scores)\n",
        "print(log_rmse_scores.mean())"
      ],
      "execution_count": null,
      "outputs": [
        {
          "output_type": "stream",
          "text": [
            "0.4136589315124361\n"
          ],
          "name": "stdout"
        }
      ]
    },
    {
      "cell_type": "code",
      "metadata": {
        "colab": {
          "base_uri": "https://localhost:8080/"
        },
        "id": "OpmVWT9WKg7r",
        "outputId": "91bbc964-2200-447b-e506-979a4d3054c1"
      },
      "source": [
        "# SGDClassifier에 대한 CV 점수 확인\n",
        "\n",
        "sgd_scores = cross_val_score(\n",
        "    sgd, \n",
        "    titanic_final,\n",
        "    y_train,\n",
        "    cv=10,\n",
        "    scoring='neg_mean_squared_error'\n",
        ")\n",
        "\n",
        "sgd_rmse_scores = np.sqrt(-sgd_scores)\n",
        "print(sgd_rmse_scores.mean())"
      ],
      "execution_count": null,
      "outputs": [
        {
          "output_type": "stream",
          "text": [
            "0.48088345993386605\n"
          ],
          "name": "stdout"
        }
      ]
    },
    {
      "cell_type": "code",
      "metadata": {
        "colab": {
          "base_uri": "https://localhost:8080/"
        },
        "id": "BMM_qskdKofq",
        "outputId": "8b6f58a2-5dc6-4721-a1a1-7d475edb602a"
      },
      "source": [
        "# KNeighborsClassifier에 대한 CV 점수 확인\n",
        "\n",
        "knn_scores = cross_val_score(\n",
        "    knn, \n",
        "    titanic_final,\n",
        "    y_train,\n",
        "    cv=10,\n",
        "    scoring='neg_mean_squared_error'\n",
        ")\n",
        "\n",
        "knn_rmse_scores = np.sqrt(-knn_scores)\n",
        "print(knn_rmse_scores.mean())"
      ],
      "execution_count": null,
      "outputs": [
        {
          "output_type": "stream",
          "text": [
            "0.4199866554090878\n"
          ],
          "name": "stdout"
        }
      ]
    },
    {
      "cell_type": "code",
      "metadata": {
        "colab": {
          "base_uri": "https://localhost:8080/"
        },
        "id": "bMma36i1K-7b",
        "outputId": "385756c9-9ebd-4dfb-c45d-892bcc45dadd"
      },
      "source": [
        "# SupportVectorClassifier에 대한 CV 점수 확인\n",
        "\n",
        "svc_scores = cross_val_score(\n",
        "    svc, \n",
        "    titanic_final,\n",
        "    y_train,\n",
        "    cv=10,\n",
        "    scoring='neg_mean_squared_error'\n",
        ")\n",
        "\n",
        "svc_rmse_scores = np.sqrt(-svc_scores)\n",
        "print(svc_rmse_scores.mean())"
      ],
      "execution_count": null,
      "outputs": [
        {
          "output_type": "stream",
          "text": [
            "0.4061176577097238\n"
          ],
          "name": "stdout"
        }
      ]
    },
    {
      "cell_type": "code",
      "metadata": {
        "colab": {
          "base_uri": "https://localhost:8080/"
        },
        "id": "kpUVD9r2K_d3",
        "outputId": "c87edf8f-ef21-449e-f8a3-af4b32beddb5"
      },
      "source": [
        "# DecisionTreeClassifier에 대한 CV 점수 확인\n",
        "\n",
        "dt_scores = cross_val_score(\n",
        "    dt, \n",
        "    titanic_final,\n",
        "    y_train,\n",
        "    cv=10,\n",
        "    scoring='neg_mean_squared_error'\n",
        ")\n",
        "\n",
        "dt_rmse_scores = np.sqrt(-dt_scores)\n",
        "print(dt_rmse_scores.mean())"
      ],
      "execution_count": null,
      "outputs": [
        {
          "output_type": "stream",
          "text": [
            "0.4307767985494267\n"
          ],
          "name": "stdout"
        }
      ]
    },
    {
      "cell_type": "code",
      "metadata": {
        "colab": {
          "base_uri": "https://localhost:8080/"
        },
        "id": "jYTSdVxKMukn",
        "outputId": "bf9fbbfd-ec1e-4629-92cd-45b8a6c41cfd"
      },
      "source": [
        "# RandomForestRegressor에 대한 CV 점수 확인\n",
        "\n",
        "forest_reg_scores = cross_val_score(\n",
        "    forest_reg, \n",
        "    titanic_final,\n",
        "    y_train,\n",
        "    cv=10,\n",
        "    scoring='neg_mean_squared_error'\n",
        ")\n",
        "\n",
        "forest_reg_rmse_scores = np.sqrt(-forest_reg_scores)\n",
        "print(forest_reg_rmse_scores.mean())"
      ],
      "execution_count": null,
      "outputs": [
        {
          "output_type": "stream",
          "text": [
            "0.3696512181924204\n"
          ],
          "name": "stdout"
        }
      ]
    },
    {
      "cell_type": "markdown",
      "metadata": {
        "id": "9EdfrXT_Lmgx"
      },
      "source": [
        "총 8개의 모델에 대한 교차 검증 결과, 선형회귀 알고리즘 LinearRegression의 오차가 제일 작다는 것을 알 수 있다"
      ]
    },
    {
      "cell_type": "markdown",
      "metadata": {
        "id": "bM0tvR7BNEJx"
      },
      "source": [
        "### 복잡도 조절 GridSearch"
      ]
    },
    {
      "cell_type": "code",
      "metadata": {
        "id": "yk5wOrS2LV8_"
      },
      "source": [
        "from sklearn.model_selection import GridSearchCV\n",
        "\n",
        "opt1 = {\n",
        "    \"n_estimators\":[3, 10, 30],\n",
        "    \"max_features\":[2, 4, 6, 8]\n",
        "}\n",
        "\n",
        "opt2 = {\n",
        "    \"bootstrap\":[False],\n",
        "    \"n_estimators\":[3, 10],\n",
        "    \"max_features\":[2, 3, 4]\n",
        "}\n",
        "\n",
        "params = [ opt1, opt2 ]"
      ],
      "execution_count": null,
      "outputs": []
    },
    {
      "cell_type": "code",
      "metadata": {
        "colab": {
          "base_uri": "https://localhost:8080/"
        },
        "id": "Lu3utHMUQIDN",
        "outputId": "d5be277e-eff5-46bf-bd03-e64e2e1d10a8"
      },
      "source": [
        "grid_search = GridSearchCV(\n",
        "    RandomForestRegressor(),\n",
        "    params,\n",
        "    cv=5,\n",
        "    scoring=\"neg_mean_squared_error\",\n",
        "    return_train_score=True\n",
        ")\n",
        "\n",
        "grid_search.fit(titanic_final, y_train)"
      ],
      "execution_count": null,
      "outputs": [
        {
          "output_type": "execute_result",
          "data": {
            "text/plain": [
              "GridSearchCV(cv=5, error_score=nan,\n",
              "             estimator=RandomForestRegressor(bootstrap=True, ccp_alpha=0.0,\n",
              "                                             criterion='mse', max_depth=None,\n",
              "                                             max_features='auto',\n",
              "                                             max_leaf_nodes=None,\n",
              "                                             max_samples=None,\n",
              "                                             min_impurity_decrease=0.0,\n",
              "                                             min_impurity_split=None,\n",
              "                                             min_samples_leaf=1,\n",
              "                                             min_samples_split=2,\n",
              "                                             min_weight_fraction_leaf=0.0,\n",
              "                                             n_estimators=100, n_jobs=None,\n",
              "                                             oob_score=False, random_state=None,\n",
              "                                             verbose=0, warm_start=False),\n",
              "             iid='deprecated', n_jobs=None,\n",
              "             param_grid=[{'max_features': [2, 4, 6, 8],\n",
              "                          'n_estimators': [3, 10, 30]},\n",
              "                         {'bootstrap': [False], 'max_features': [2, 3, 4],\n",
              "                          'n_estimators': [3, 10]}],\n",
              "             pre_dispatch='2*n_jobs', refit=True, return_train_score=True,\n",
              "             scoring='neg_mean_squared_error', verbose=0)"
            ]
          },
          "metadata": {
            "tags": []
          },
          "execution_count": 100
        }
      ]
    },
    {
      "cell_type": "code",
      "metadata": {
        "id": "40D7A_M5ODJV"
      },
      "source": [
        "# grid_search = GridSearchCV(\n",
        "#     LinearRegression(),\n",
        "#     params,\n",
        "#     cv=5,\n",
        "#     scoring=\"neg_mean_squared_error\",\n",
        "#     return_train_score=True\n",
        "# )"
      ],
      "execution_count": null,
      "outputs": []
    },
    {
      "cell_type": "code",
      "metadata": {
        "id": "typn4OFXPqQQ"
      },
      "source": [
        "# 오류 발생! 왜??\n",
        "\n",
        "# grid_search.fit(titanic_final, y_train)\n",
        "# grid_search.score(titanic_final, y_valid)"
      ],
      "execution_count": null,
      "outputs": []
    },
    {
      "cell_type": "code",
      "metadata": {
        "colab": {
          "base_uri": "https://localhost:8080/"
        },
        "id": "Lz1grQSpPsb5",
        "outputId": "dabc1c15-2ed7-4744-e61f-ca980c91c6c0"
      },
      "source": [
        "grid_search.best_params_"
      ],
      "execution_count": null,
      "outputs": [
        {
          "output_type": "execute_result",
          "data": {
            "text/plain": [
              "{'max_features': 2, 'n_estimators': 30}"
            ]
          },
          "metadata": {
            "tags": []
          },
          "execution_count": 103
        }
      ]
    },
    {
      "cell_type": "code",
      "metadata": {
        "colab": {
          "base_uri": "https://localhost:8080/"
        },
        "id": "fV6cW0QWQeIy",
        "outputId": "40630bf3-b531-40f2-c6aa-d01ffec2d53e"
      },
      "source": [
        "grid_search.best_estimator_"
      ],
      "execution_count": null,
      "outputs": [
        {
          "output_type": "execute_result",
          "data": {
            "text/plain": [
              "RandomForestRegressor(bootstrap=True, ccp_alpha=0.0, criterion='mse',\n",
              "                      max_depth=None, max_features=2, max_leaf_nodes=None,\n",
              "                      max_samples=None, min_impurity_decrease=0.0,\n",
              "                      min_impurity_split=None, min_samples_leaf=1,\n",
              "                      min_samples_split=2, min_weight_fraction_leaf=0.0,\n",
              "                      n_estimators=30, n_jobs=None, oob_score=False,\n",
              "                      random_state=None, verbose=0, warm_start=False)"
            ]
          },
          "metadata": {
            "tags": []
          },
          "execution_count": 104
        }
      ]
    },
    {
      "cell_type": "code",
      "metadata": {
        "colab": {
          "base_uri": "https://localhost:8080/"
        },
        "id": "CVSX3AjZQg41",
        "outputId": "1a0007b0-8436-48ad-f223-12cdcc2375e1"
      },
      "source": [
        "res = grid_search.cv_results_\n",
        "\n",
        "for mean_score, params in zip(res['mean_test_score'], res['params']):\n",
        "    print(np.sqrt(-mean_score), params)"
      ],
      "execution_count": null,
      "outputs": [
        {
          "output_type": "stream",
          "text": [
            "0.4189342776637029 {'max_features': 2, 'n_estimators': 3}\n",
            "0.3769557164505404 {'max_features': 2, 'n_estimators': 10}\n",
            "0.3633242714724349 {'max_features': 2, 'n_estimators': 30}\n",
            "0.4068163834214062 {'max_features': 4, 'n_estimators': 3}\n",
            "0.3709323965072184 {'max_features': 4, 'n_estimators': 10}\n",
            "0.3669110056687777 {'max_features': 4, 'n_estimators': 30}\n",
            "0.425859573116143 {'max_features': 6, 'n_estimators': 3}\n",
            "0.37743055138656184 {'max_features': 6, 'n_estimators': 10}\n",
            "0.3740810175461663 {'max_features': 6, 'n_estimators': 30}\n",
            "0.41449683777327717 {'max_features': 8, 'n_estimators': 3}\n",
            "0.3825315388098956 {'max_features': 8, 'n_estimators': 10}\n",
            "0.36689763285000226 {'max_features': 8, 'n_estimators': 30}\n",
            "0.410749705587123 {'bootstrap': False, 'max_features': 2, 'n_estimators': 3}\n",
            "0.3859934068233532 {'bootstrap': False, 'max_features': 2, 'n_estimators': 10}\n",
            "0.416582305453763 {'bootstrap': False, 'max_features': 3, 'n_estimators': 3}\n",
            "0.3896656255584935 {'bootstrap': False, 'max_features': 3, 'n_estimators': 10}\n",
            "0.4312307093509694 {'bootstrap': False, 'max_features': 4, 'n_estimators': 3}\n",
            "0.39114841461762756 {'bootstrap': False, 'max_features': 4, 'n_estimators': 10}\n"
          ],
          "name": "stdout"
        }
      ]
    },
    {
      "cell_type": "markdown",
      "metadata": {
        "id": "AhoXfxLqQ1nK"
      },
      "source": [
        "### <<오류 발생>> 결과가 제일 좋았던 best_estimator로 최종 Evaluate"
      ]
    },
    {
      "cell_type": "code",
      "metadata": {
        "id": "McEoB40YQuSN"
      },
      "source": [
        "final_model = grid_search.best_estimator_"
      ],
      "execution_count": null,
      "outputs": []
    },
    {
      "cell_type": "code",
      "metadata": {
        "colab": {
          "base_uri": "https://localhost:8080/"
        },
        "id": "BblGjXNBS8x0",
        "outputId": "64715052-4cc7-409d-b0fd-0b65e9ae245a"
      },
      "source": [
        "X_valid.shape"
      ],
      "execution_count": null,
      "outputs": [
        {
          "output_type": "execute_result",
          "data": {
            "text/plain": [
              "(223, 13)"
            ]
          },
          "metadata": {
            "tags": []
          },
          "execution_count": 107
        }
      ]
    },
    {
      "cell_type": "code",
      "metadata": {
        "id": "ieEMiQZFQ4vN"
      },
      "source": [
        "X_valid = X_valid.reshape(-1, 1)"
      ],
      "execution_count": null,
      "outputs": []
    },
    {
      "cell_type": "code",
      "metadata": {
        "colab": {
          "base_uri": "https://localhost:8080/"
        },
        "id": "nwYWzqbLTOPy",
        "outputId": "344c6eb0-dd32-49c6-e3ba-996e1dc842f4"
      },
      "source": [
        "X_valid"
      ],
      "execution_count": null,
      "outputs": [
        {
          "output_type": "execute_result",
          "data": {
            "text/plain": [
              "array([[-1.10641914],\n",
              "       [ 0.82658437],\n",
              "       [ 0.01936542],\n",
              "       ...,\n",
              "       [ 0.        ],\n",
              "       [ 0.        ],\n",
              "       [ 1.        ]])"
            ]
          },
          "metadata": {
            "tags": []
          },
          "execution_count": 109
        }
      ]
    },
    {
      "cell_type": "code",
      "metadata": {
        "colab": {
          "base_uri": "https://localhost:8080/"
        },
        "id": "MAWo_aVaUW2d",
        "outputId": "a945c72e-f6d7-4fff-f3b3-0c447a2f8a3e"
      },
      "source": [
        "titanic"
      ],
      "execution_count": null,
      "outputs": [
        {
          "output_type": "execute_result",
          "data": {
            "text/plain": [
              "array([[ 0.16359761, -1.5793344 ,  0.40533335, ...,  0.        ,\n",
              "         1.        ,  0.        ],\n",
              "       [-0.79374025, -0.37637502, -0.82976403, ...,  0.        ,\n",
              "         0.        ,  1.        ],\n",
              "       [ 1.07461267, -0.37637502,  0.32813977, ...,  0.        ,\n",
              "         0.        ,  1.        ],\n",
              "       ...,\n",
              "       [ 1.12865594,  0.82658437,  1.40884998, ...,  0.        ,\n",
              "         1.        ,  0.        ],\n",
              "       [ 0.07095201, -1.5793344 ,  1.33165639, ...,  0.        ,\n",
              "         0.        ,  1.        ],\n",
              "       [ 1.45677577,  0.82658437, -0.21221534, ...,  0.        ,\n",
              "         0.        ,  1.        ]])"
            ]
          },
          "metadata": {
            "tags": []
          },
          "execution_count": 110
        }
      ]
    },
    {
      "cell_type": "code",
      "metadata": {
        "colab": {
          "base_uri": "https://localhost:8080/",
          "height": 840
        },
        "id": "IOCgmHAAV412",
        "outputId": "b3e6d81e-2d1c-42b7-960a-fcaee82bebd9"
      },
      "source": [
        "strat_test_set"
      ],
      "execution_count": null,
      "outputs": [
        {
          "output_type": "execute_result",
          "data": {
            "text/html": [
              "<div>\n",
              "<style scoped>\n",
              "    .dataframe tbody tr th:only-of-type {\n",
              "        vertical-align: middle;\n",
              "    }\n",
              "\n",
              "    .dataframe tbody tr th {\n",
              "        vertical-align: top;\n",
              "    }\n",
              "\n",
              "    .dataframe thead th {\n",
              "        text-align: right;\n",
              "    }\n",
              "</style>\n",
              "<table border=\"1\" class=\"dataframe\">\n",
              "  <thead>\n",
              "    <tr style=\"text-align: right;\">\n",
              "      <th></th>\n",
              "      <th>PassengerId</th>\n",
              "      <th>Survived</th>\n",
              "      <th>Pclass</th>\n",
              "      <th>Name</th>\n",
              "      <th>Sex</th>\n",
              "      <th>Age</th>\n",
              "      <th>SibSp</th>\n",
              "      <th>Parch</th>\n",
              "      <th>Ticket</th>\n",
              "      <th>Fare</th>\n",
              "      <th>Embarked</th>\n",
              "      <th>Initial</th>\n",
              "    </tr>\n",
              "  </thead>\n",
              "  <tbody>\n",
              "    <tr>\n",
              "      <th>565</th>\n",
              "      <td>566</td>\n",
              "      <td>0</td>\n",
              "      <td>3</td>\n",
              "      <td>Davies, Mr. Alfred J</td>\n",
              "      <td>male</td>\n",
              "      <td>24.0</td>\n",
              "      <td>2</td>\n",
              "      <td>0</td>\n",
              "      <td>A/4 48871</td>\n",
              "      <td>24.1500</td>\n",
              "      <td>S</td>\n",
              "      <td>NaN</td>\n",
              "    </tr>\n",
              "    <tr>\n",
              "      <th>160</th>\n",
              "      <td>161</td>\n",
              "      <td>0</td>\n",
              "      <td>3</td>\n",
              "      <td>Cribb, Mr. John Hatfield</td>\n",
              "      <td>male</td>\n",
              "      <td>44.0</td>\n",
              "      <td>0</td>\n",
              "      <td>1</td>\n",
              "      <td>371362</td>\n",
              "      <td>16.1000</td>\n",
              "      <td>S</td>\n",
              "      <td>NaN</td>\n",
              "    </tr>\n",
              "    <tr>\n",
              "      <th>553</th>\n",
              "      <td>554</td>\n",
              "      <td>1</td>\n",
              "      <td>3</td>\n",
              "      <td>Leeni, Mr. Fahim (\"Philip Zenni\")</td>\n",
              "      <td>male</td>\n",
              "      <td>22.0</td>\n",
              "      <td>0</td>\n",
              "      <td>0</td>\n",
              "      <td>2620</td>\n",
              "      <td>7.2250</td>\n",
              "      <td>C</td>\n",
              "      <td>NaN</td>\n",
              "    </tr>\n",
              "    <tr>\n",
              "      <th>860</th>\n",
              "      <td>861</td>\n",
              "      <td>0</td>\n",
              "      <td>3</td>\n",
              "      <td>Hansen, Mr. Claus Peter</td>\n",
              "      <td>male</td>\n",
              "      <td>41.0</td>\n",
              "      <td>2</td>\n",
              "      <td>0</td>\n",
              "      <td>350026</td>\n",
              "      <td>14.1083</td>\n",
              "      <td>S</td>\n",
              "      <td>NaN</td>\n",
              "    </tr>\n",
              "    <tr>\n",
              "      <th>241</th>\n",
              "      <td>242</td>\n",
              "      <td>1</td>\n",
              "      <td>3</td>\n",
              "      <td>Murphy, Miss. Katherine \"Kate\"</td>\n",
              "      <td>female</td>\n",
              "      <td>NaN</td>\n",
              "      <td>1</td>\n",
              "      <td>0</td>\n",
              "      <td>367230</td>\n",
              "      <td>15.5000</td>\n",
              "      <td>Q</td>\n",
              "      <td>NaN</td>\n",
              "    </tr>\n",
              "    <tr>\n",
              "      <th>...</th>\n",
              "      <td>...</td>\n",
              "      <td>...</td>\n",
              "      <td>...</td>\n",
              "      <td>...</td>\n",
              "      <td>...</td>\n",
              "      <td>...</td>\n",
              "      <td>...</td>\n",
              "      <td>...</td>\n",
              "      <td>...</td>\n",
              "      <td>...</td>\n",
              "      <td>...</td>\n",
              "      <td>...</td>\n",
              "    </tr>\n",
              "    <tr>\n",
              "      <th>880</th>\n",
              "      <td>881</td>\n",
              "      <td>1</td>\n",
              "      <td>2</td>\n",
              "      <td>Shelley, Mrs. William (Imanita Parrish Hall)</td>\n",
              "      <td>female</td>\n",
              "      <td>25.0</td>\n",
              "      <td>0</td>\n",
              "      <td>1</td>\n",
              "      <td>230433</td>\n",
              "      <td>26.0000</td>\n",
              "      <td>S</td>\n",
              "      <td>NaN</td>\n",
              "    </tr>\n",
              "    <tr>\n",
              "      <th>91</th>\n",
              "      <td>92</td>\n",
              "      <td>0</td>\n",
              "      <td>3</td>\n",
              "      <td>Andreasson, Mr. Paul Edvin</td>\n",
              "      <td>male</td>\n",
              "      <td>20.0</td>\n",
              "      <td>0</td>\n",
              "      <td>0</td>\n",
              "      <td>347466</td>\n",
              "      <td>7.8542</td>\n",
              "      <td>S</td>\n",
              "      <td>NaN</td>\n",
              "    </tr>\n",
              "    <tr>\n",
              "      <th>883</th>\n",
              "      <td>884</td>\n",
              "      <td>0</td>\n",
              "      <td>2</td>\n",
              "      <td>Banfield, Mr. Frederick James</td>\n",
              "      <td>male</td>\n",
              "      <td>28.0</td>\n",
              "      <td>0</td>\n",
              "      <td>0</td>\n",
              "      <td>C.A./SOTON 34068</td>\n",
              "      <td>10.5000</td>\n",
              "      <td>S</td>\n",
              "      <td>NaN</td>\n",
              "    </tr>\n",
              "    <tr>\n",
              "      <th>473</th>\n",
              "      <td>474</td>\n",
              "      <td>1</td>\n",
              "      <td>2</td>\n",
              "      <td>Jerwan, Mrs. Amin S (Marie Marthe Thuillard)</td>\n",
              "      <td>female</td>\n",
              "      <td>23.0</td>\n",
              "      <td>0</td>\n",
              "      <td>0</td>\n",
              "      <td>SC/AH Basle 541</td>\n",
              "      <td>13.7917</td>\n",
              "      <td>C</td>\n",
              "      <td>NaN</td>\n",
              "    </tr>\n",
              "    <tr>\n",
              "      <th>637</th>\n",
              "      <td>638</td>\n",
              "      <td>0</td>\n",
              "      <td>2</td>\n",
              "      <td>Collyer, Mr. Harvey</td>\n",
              "      <td>male</td>\n",
              "      <td>31.0</td>\n",
              "      <td>1</td>\n",
              "      <td>1</td>\n",
              "      <td>C.A. 31921</td>\n",
              "      <td>26.2500</td>\n",
              "      <td>S</td>\n",
              "      <td>NaN</td>\n",
              "    </tr>\n",
              "  </tbody>\n",
              "</table>\n",
              "<p>179 rows × 12 columns</p>\n",
              "</div>"
            ],
            "text/plain": [
              "     PassengerId  Survived  Pclass  ...     Fare Embarked  Initial\n",
              "565          566         0       3  ...  24.1500        S      NaN\n",
              "160          161         0       3  ...  16.1000        S      NaN\n",
              "553          554         1       3  ...   7.2250        C      NaN\n",
              "860          861         0       3  ...  14.1083        S      NaN\n",
              "241          242         1       3  ...  15.5000        Q      NaN\n",
              "..           ...       ...     ...  ...      ...      ...      ...\n",
              "880          881         1       2  ...  26.0000        S      NaN\n",
              "91            92         0       3  ...   7.8542        S      NaN\n",
              "883          884         0       2  ...  10.5000        S      NaN\n",
              "473          474         1       2  ...  13.7917        C      NaN\n",
              "637          638         0       2  ...  26.2500        S      NaN\n",
              "\n",
              "[179 rows x 12 columns]"
            ]
          },
          "metadata": {
            "tags": []
          },
          "execution_count": 116
        }
      ]
    },
    {
      "cell_type": "code",
      "metadata": {
        "colab": {
          "base_uri": "https://localhost:8080/",
          "height": 316
        },
        "id": "EsyyJWWYT5MM",
        "outputId": "616e4a7b-636b-4007-c8fa-ced4936f84df"
      },
      "source": [
        "strat_test_set.drop(\"Cabin\", axis=1, inplace=True)"
      ],
      "execution_count": null,
      "outputs": [
        {
          "output_type": "error",
          "ename": "KeyError",
          "evalue": "ignored",
          "traceback": [
            "\u001b[0;31m---------------------------------------------------------------------------\u001b[0m",
            "\u001b[0;31mKeyError\u001b[0m                                  Traceback (most recent call last)",
            "\u001b[0;32m<ipython-input-114-8db45c8dbac8>\u001b[0m in \u001b[0;36m<module>\u001b[0;34m()\u001b[0m\n\u001b[0;32m----> 1\u001b[0;31m \u001b[0mstrat_test_set\u001b[0m\u001b[0;34m.\u001b[0m\u001b[0mdrop\u001b[0m\u001b[0;34m(\u001b[0m\u001b[0;34m\"Cabin\"\u001b[0m\u001b[0;34m,\u001b[0m \u001b[0maxis\u001b[0m\u001b[0;34m=\u001b[0m\u001b[0;36m1\u001b[0m\u001b[0;34m,\u001b[0m \u001b[0minplace\u001b[0m\u001b[0;34m=\u001b[0m\u001b[0;32mTrue\u001b[0m\u001b[0;34m)\u001b[0m\u001b[0;34m\u001b[0m\u001b[0;34m\u001b[0m\u001b[0m\n\u001b[0m",
            "\u001b[0;32m/usr/local/lib/python3.7/dist-packages/pandas/core/frame.py\u001b[0m in \u001b[0;36mdrop\u001b[0;34m(self, labels, axis, index, columns, level, inplace, errors)\u001b[0m\n\u001b[1;32m   4172\u001b[0m             \u001b[0mlevel\u001b[0m\u001b[0;34m=\u001b[0m\u001b[0mlevel\u001b[0m\u001b[0;34m,\u001b[0m\u001b[0;34m\u001b[0m\u001b[0;34m\u001b[0m\u001b[0m\n\u001b[1;32m   4173\u001b[0m             \u001b[0minplace\u001b[0m\u001b[0;34m=\u001b[0m\u001b[0minplace\u001b[0m\u001b[0;34m,\u001b[0m\u001b[0;34m\u001b[0m\u001b[0;34m\u001b[0m\u001b[0m\n\u001b[0;32m-> 4174\u001b[0;31m             \u001b[0merrors\u001b[0m\u001b[0;34m=\u001b[0m\u001b[0merrors\u001b[0m\u001b[0;34m,\u001b[0m\u001b[0;34m\u001b[0m\u001b[0;34m\u001b[0m\u001b[0m\n\u001b[0m\u001b[1;32m   4175\u001b[0m         )\n\u001b[1;32m   4176\u001b[0m \u001b[0;34m\u001b[0m\u001b[0m\n",
            "\u001b[0;32m/usr/local/lib/python3.7/dist-packages/pandas/core/generic.py\u001b[0m in \u001b[0;36mdrop\u001b[0;34m(self, labels, axis, index, columns, level, inplace, errors)\u001b[0m\n\u001b[1;32m   3887\u001b[0m         \u001b[0;32mfor\u001b[0m \u001b[0maxis\u001b[0m\u001b[0;34m,\u001b[0m \u001b[0mlabels\u001b[0m \u001b[0;32min\u001b[0m \u001b[0maxes\u001b[0m\u001b[0;34m.\u001b[0m\u001b[0mitems\u001b[0m\u001b[0;34m(\u001b[0m\u001b[0;34m)\u001b[0m\u001b[0;34m:\u001b[0m\u001b[0;34m\u001b[0m\u001b[0;34m\u001b[0m\u001b[0m\n\u001b[1;32m   3888\u001b[0m             \u001b[0;32mif\u001b[0m \u001b[0mlabels\u001b[0m \u001b[0;32mis\u001b[0m \u001b[0;32mnot\u001b[0m \u001b[0;32mNone\u001b[0m\u001b[0;34m:\u001b[0m\u001b[0;34m\u001b[0m\u001b[0;34m\u001b[0m\u001b[0m\n\u001b[0;32m-> 3889\u001b[0;31m                 \u001b[0mobj\u001b[0m \u001b[0;34m=\u001b[0m \u001b[0mobj\u001b[0m\u001b[0;34m.\u001b[0m\u001b[0m_drop_axis\u001b[0m\u001b[0;34m(\u001b[0m\u001b[0mlabels\u001b[0m\u001b[0;34m,\u001b[0m \u001b[0maxis\u001b[0m\u001b[0;34m,\u001b[0m \u001b[0mlevel\u001b[0m\u001b[0;34m=\u001b[0m\u001b[0mlevel\u001b[0m\u001b[0;34m,\u001b[0m \u001b[0merrors\u001b[0m\u001b[0;34m=\u001b[0m\u001b[0merrors\u001b[0m\u001b[0;34m)\u001b[0m\u001b[0;34m\u001b[0m\u001b[0;34m\u001b[0m\u001b[0m\n\u001b[0m\u001b[1;32m   3890\u001b[0m \u001b[0;34m\u001b[0m\u001b[0m\n\u001b[1;32m   3891\u001b[0m         \u001b[0;32mif\u001b[0m \u001b[0minplace\u001b[0m\u001b[0;34m:\u001b[0m\u001b[0;34m\u001b[0m\u001b[0;34m\u001b[0m\u001b[0m\n",
            "\u001b[0;32m/usr/local/lib/python3.7/dist-packages/pandas/core/generic.py\u001b[0m in \u001b[0;36m_drop_axis\u001b[0;34m(self, labels, axis, level, errors)\u001b[0m\n\u001b[1;32m   3921\u001b[0m                 \u001b[0mnew_axis\u001b[0m \u001b[0;34m=\u001b[0m \u001b[0maxis\u001b[0m\u001b[0;34m.\u001b[0m\u001b[0mdrop\u001b[0m\u001b[0;34m(\u001b[0m\u001b[0mlabels\u001b[0m\u001b[0;34m,\u001b[0m \u001b[0mlevel\u001b[0m\u001b[0;34m=\u001b[0m\u001b[0mlevel\u001b[0m\u001b[0;34m,\u001b[0m \u001b[0merrors\u001b[0m\u001b[0;34m=\u001b[0m\u001b[0merrors\u001b[0m\u001b[0;34m)\u001b[0m\u001b[0;34m\u001b[0m\u001b[0;34m\u001b[0m\u001b[0m\n\u001b[1;32m   3922\u001b[0m             \u001b[0;32melse\u001b[0m\u001b[0;34m:\u001b[0m\u001b[0;34m\u001b[0m\u001b[0;34m\u001b[0m\u001b[0m\n\u001b[0;32m-> 3923\u001b[0;31m                 \u001b[0mnew_axis\u001b[0m \u001b[0;34m=\u001b[0m \u001b[0maxis\u001b[0m\u001b[0;34m.\u001b[0m\u001b[0mdrop\u001b[0m\u001b[0;34m(\u001b[0m\u001b[0mlabels\u001b[0m\u001b[0;34m,\u001b[0m \u001b[0merrors\u001b[0m\u001b[0;34m=\u001b[0m\u001b[0merrors\u001b[0m\u001b[0;34m)\u001b[0m\u001b[0;34m\u001b[0m\u001b[0;34m\u001b[0m\u001b[0m\n\u001b[0m\u001b[1;32m   3924\u001b[0m             \u001b[0mresult\u001b[0m \u001b[0;34m=\u001b[0m \u001b[0mself\u001b[0m\u001b[0;34m.\u001b[0m\u001b[0mreindex\u001b[0m\u001b[0;34m(\u001b[0m\u001b[0;34m**\u001b[0m\u001b[0;34m{\u001b[0m\u001b[0maxis_name\u001b[0m\u001b[0;34m:\u001b[0m \u001b[0mnew_axis\u001b[0m\u001b[0;34m}\u001b[0m\u001b[0;34m)\u001b[0m\u001b[0;34m\u001b[0m\u001b[0;34m\u001b[0m\u001b[0m\n\u001b[1;32m   3925\u001b[0m \u001b[0;34m\u001b[0m\u001b[0m\n",
            "\u001b[0;32m/usr/local/lib/python3.7/dist-packages/pandas/core/indexes/base.py\u001b[0m in \u001b[0;36mdrop\u001b[0;34m(self, labels, errors)\u001b[0m\n\u001b[1;32m   5285\u001b[0m         \u001b[0;32mif\u001b[0m \u001b[0mmask\u001b[0m\u001b[0;34m.\u001b[0m\u001b[0many\u001b[0m\u001b[0;34m(\u001b[0m\u001b[0;34m)\u001b[0m\u001b[0;34m:\u001b[0m\u001b[0;34m\u001b[0m\u001b[0;34m\u001b[0m\u001b[0m\n\u001b[1;32m   5286\u001b[0m             \u001b[0;32mif\u001b[0m \u001b[0merrors\u001b[0m \u001b[0;34m!=\u001b[0m \u001b[0;34m\"ignore\"\u001b[0m\u001b[0;34m:\u001b[0m\u001b[0;34m\u001b[0m\u001b[0;34m\u001b[0m\u001b[0m\n\u001b[0;32m-> 5287\u001b[0;31m                 \u001b[0;32mraise\u001b[0m \u001b[0mKeyError\u001b[0m\u001b[0;34m(\u001b[0m\u001b[0;34mf\"{labels[mask]} not found in axis\"\u001b[0m\u001b[0;34m)\u001b[0m\u001b[0;34m\u001b[0m\u001b[0;34m\u001b[0m\u001b[0m\n\u001b[0m\u001b[1;32m   5288\u001b[0m             \u001b[0mindexer\u001b[0m \u001b[0;34m=\u001b[0m \u001b[0mindexer\u001b[0m\u001b[0;34m[\u001b[0m\u001b[0;34m~\u001b[0m\u001b[0mmask\u001b[0m\u001b[0;34m]\u001b[0m\u001b[0;34m\u001b[0m\u001b[0;34m\u001b[0m\u001b[0m\n\u001b[1;32m   5289\u001b[0m         \u001b[0;32mreturn\u001b[0m \u001b[0mself\u001b[0m\u001b[0;34m.\u001b[0m\u001b[0mdelete\u001b[0m\u001b[0;34m(\u001b[0m\u001b[0mindexer\u001b[0m\u001b[0;34m)\u001b[0m\u001b[0;34m\u001b[0m\u001b[0;34m\u001b[0m\u001b[0m\n",
            "\u001b[0;31mKeyError\u001b[0m: \"['Cabin'] not found in axis\""
          ]
        }
      ]
    },
    {
      "cell_type": "code",
      "metadata": {
        "colab": {
          "base_uri": "https://localhost:8080/",
          "height": 292
        },
        "id": "uHB8ceQATmdx",
        "outputId": "011c076e-c8b5-4bee-aad4-415bc91eb188"
      },
      "source": [
        "strat_test_set_final = full_pipeline.transform(strat_test_set)"
      ],
      "execution_count": null,
      "outputs": [
        {
          "output_type": "error",
          "ename": "ValueError",
          "evalue": "ignored",
          "traceback": [
            "\u001b[0;31m---------------------------------------------------------------------------\u001b[0m",
            "\u001b[0;31mValueError\u001b[0m                                Traceback (most recent call last)",
            "\u001b[0;32m<ipython-input-115-02a661353312>\u001b[0m in \u001b[0;36m<module>\u001b[0;34m()\u001b[0m\n\u001b[0;32m----> 1\u001b[0;31m \u001b[0mstrat_test_set_final\u001b[0m \u001b[0;34m=\u001b[0m \u001b[0mfull_pipeline\u001b[0m\u001b[0;34m.\u001b[0m\u001b[0mtransform\u001b[0m\u001b[0;34m(\u001b[0m\u001b[0mstrat_test_set\u001b[0m\u001b[0;34m)\u001b[0m\u001b[0;34m\u001b[0m\u001b[0;34m\u001b[0m\u001b[0m\n\u001b[0m",
            "\u001b[0;32m/usr/local/lib/python3.7/dist-packages/sklearn/compose/_column_transformer.py\u001b[0m in \u001b[0;36mtransform\u001b[0;34m(self, X)\u001b[0m\n\u001b[1;32m    581\u001b[0m             if (n_cols_transform >= n_cols_fit and\n\u001b[1;32m    582\u001b[0m                     any(X.columns[:n_cols_fit] != self._df_columns)):\n\u001b[0;32m--> 583\u001b[0;31m                 raise ValueError('Column ordering must be equal for fit '\n\u001b[0m\u001b[1;32m    584\u001b[0m                                  \u001b[0;34m'and for transform when using the '\u001b[0m\u001b[0;34m\u001b[0m\u001b[0;34m\u001b[0m\u001b[0m\n\u001b[1;32m    585\u001b[0m                                  'remainder keyword')\n",
            "\u001b[0;31mValueError\u001b[0m: Column ordering must be equal for fit and for transform when using the remainder keyword"
          ]
        }
      ]
    },
    {
      "cell_type": "code",
      "metadata": {
        "id": "HqrcANoHQ8aU"
      },
      "source": [
        "X_test = strat_test_set_final.drop(\"Survived\", axis=1)\n",
        "Y_test = strat_test_set_final[\"Survived\"].copy()\n",
        "\n",
        "X_test_final = full_pipeline.transform(X_test)\n",
        "final_pred = final_model.predict(X_test_final)\n",
        "\n",
        "final_mse = mean_squared_error(Y_test, final_pred)\n",
        "final_rmse = np.sqrt(final_mse)\n",
        "\n",
        "print(final_rmse)"
      ],
      "execution_count": null,
      "outputs": []
    },
    {
      "cell_type": "code",
      "metadata": {
        "id": "EFfILoO5RgzC"
      },
      "source": [
        "final_pred = final_model.predict(X_valid)\n",
        "\n",
        "final_mse = mean_squared_error(X_valid, )"
      ],
      "execution_count": null,
      "outputs": []
    }
  ]
}