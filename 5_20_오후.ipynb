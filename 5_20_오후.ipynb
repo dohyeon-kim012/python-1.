{
  "nbformat": 4,
  "nbformat_minor": 0,
  "metadata": {
    "colab": {
      "name": "5/20 오후.ipynb",
      "provenance": [],
      "collapsed_sections": [],
      "authorship_tag": "ABX9TyNZ0rEfKb8ia8T6Xkm0Eu1x",
      "include_colab_link": true
    },
    "kernelspec": {
      "name": "python3",
      "display_name": "Python 3"
    },
    "language_info": {
      "name": "python"
    }
  },
  "cells": [
    {
      "cell_type": "markdown",
      "metadata": {
        "id": "view-in-github",
        "colab_type": "text"
      },
      "source": [
        "<a href=\"https://colab.research.google.com/github/dohyeon-kim012/python-1./blob/main/5_20_%EC%98%A4%ED%9B%84.ipynb\" target=\"_parent\"><img src=\"https://colab.research.google.com/assets/colab-badge.svg\" alt=\"Open In Colab\"/></a>"
      ]
    },
    {
      "cell_type": "code",
      "metadata": {
        "colab": {
          "base_uri": "https://localhost:8080/"
        },
        "id": "VWCbkLdDMjIl",
        "outputId": "8671e47b-4bdd-45e7-fa4a-bb54ac753d0b"
      },
      "source": [
        "import pandas as pd\n",
        "import numpy as np\n",
        "\n",
        "n1 = np.random.randint(0, 100, 10)\n",
        "n1"
      ],
      "execution_count": null,
      "outputs": [
        {
          "output_type": "execute_result",
          "data": {
            "text/plain": [
              "array([94, 66, 72, 98, 52, 49, 53,  9,  7, 99])"
            ]
          },
          "metadata": {
            "tags": []
          },
          "execution_count": 2
        }
      ]
    },
    {
      "cell_type": "code",
      "metadata": {
        "colab": {
          "base_uri": "https://localhost:8080/"
        },
        "id": "vgCKfWviNdap",
        "outputId": "14b70a03-7bb8-44bb-cc26-a291e73ac6ce"
      },
      "source": [
        "type(n1) , n1.shape , n1.ndim , n1.size , n1.nbytes , n1.itemsize"
      ],
      "execution_count": null,
      "outputs": [
        {
          "output_type": "execute_result",
          "data": {
            "text/plain": [
              "(numpy.ndarray, (10,), 1, 10, 80, 8)"
            ]
          },
          "metadata": {
            "tags": []
          },
          "execution_count": 6
        }
      ]
    },
    {
      "cell_type": "code",
      "metadata": {
        "colab": {
          "base_uri": "https://localhost:8080/"
        },
        "id": "6iPQCyXnNxh7",
        "outputId": "08faadbc-0e5b-410d-a13c-b44afbb0c5f4"
      },
      "source": [
        "n = n1.copy()\n",
        "n[:]    # = n[0:10]"
      ],
      "execution_count": null,
      "outputs": [
        {
          "output_type": "execute_result",
          "data": {
            "text/plain": [
              "array([72, 30,  0, 93, 17, 67, 45, 71, 56, 65])"
            ]
          },
          "metadata": {
            "tags": []
          },
          "execution_count": 7
        }
      ]
    },
    {
      "cell_type": "code",
      "metadata": {
        "colab": {
          "base_uri": "https://localhost:8080/"
        },
        "id": "EC3ge7t7OGXf",
        "outputId": "7630c6be-b731-475c-bafb-75aad2c251fd"
      },
      "source": [
        "n.reshape(2, 5)"
      ],
      "execution_count": null,
      "outputs": [
        {
          "output_type": "execute_result",
          "data": {
            "text/plain": [
              "array([[72, 30,  0, 93, 17],\n",
              "       [67, 45, 71, 56, 65]])"
            ]
          },
          "metadata": {
            "tags": []
          },
          "execution_count": 9
        }
      ]
    },
    {
      "cell_type": "code",
      "metadata": {
        "colab": {
          "base_uri": "https://localhost:8080/"
        },
        "id": "j83-ydDlOIXa",
        "outputId": "0a0fa7b7-7493-4336-b6ff-1320891324cc"
      },
      "source": [
        "n.sort()\n",
        "n"
      ],
      "execution_count": null,
      "outputs": [
        {
          "output_type": "execute_result",
          "data": {
            "text/plain": [
              "array([ 0, 17, 30, 45, 56, 65, 67, 71, 72, 93])"
            ]
          },
          "metadata": {
            "tags": []
          },
          "execution_count": 11
        }
      ]
    },
    {
      "cell_type": "code",
      "metadata": {
        "id": "vV60yZCbOtB5"
      },
      "source": [
        "n.sort(axis=1)    # 1차원이라 axis=1 값은 없음. 에러 남(axis=0만 가능)\n",
        "n"
      ],
      "execution_count": null,
      "outputs": []
    },
    {
      "cell_type": "code",
      "metadata": {
        "id": "h9Cm6cf5O4hB"
      },
      "source": [
        "n.sort?    # 도움말 보기"
      ],
      "execution_count": null,
      "outputs": []
    },
    {
      "cell_type": "code",
      "metadata": {
        "colab": {
          "base_uri": "https://localhost:8080/"
        },
        "id": "ldq8DtyoPLj9",
        "outputId": "cbb17ac1-238a-4911-94e3-33d226cf3870"
      },
      "source": [
        "n2 = np.random.randint(1, 100, 12)\n",
        "n2"
      ],
      "execution_count": null,
      "outputs": [
        {
          "output_type": "execute_result",
          "data": {
            "text/plain": [
              "array([40, 63, 94, 17, 30, 89, 19, 61, 97, 54, 47, 42])"
            ]
          },
          "metadata": {
            "tags": []
          },
          "execution_count": 17
        }
      ]
    },
    {
      "cell_type": "code",
      "metadata": {
        "colab": {
          "base_uri": "https://localhost:8080/"
        },
        "id": "WJrN-bIdP4So",
        "outputId": "a35e4ced-8deb-4433-93c5-1d7240fa3a95"
      },
      "source": [
        "n2.reshape(4, 3)"
      ],
      "execution_count": null,
      "outputs": [
        {
          "output_type": "execute_result",
          "data": {
            "text/plain": [
              "array([[40, 63, 94],\n",
              "       [17, 30, 89],\n",
              "       [19, 61, 97],\n",
              "       [54, 47, 42]])"
            ]
          },
          "metadata": {
            "tags": []
          },
          "execution_count": 20
        }
      ]
    },
    {
      "cell_type": "code",
      "metadata": {
        "colab": {
          "base_uri": "https://localhost:8080/"
        },
        "id": "Cfp_ilbkP7h2",
        "outputId": "62ad70e1-d7fd-4ae0-bde6-9906f0ce0a37"
      },
      "source": [
        "n21 = np.arange(1, 17, dtype=np.int16)\n",
        "n21"
      ],
      "execution_count": null,
      "outputs": [
        {
          "output_type": "execute_result",
          "data": {
            "text/plain": [
              "array([ 1,  2,  3,  4,  5,  6,  7,  8,  9, 10, 11, 12, 13, 14, 15, 16],\n",
              "      dtype=int16)"
            ]
          },
          "metadata": {
            "tags": []
          },
          "execution_count": 23
        }
      ]
    },
    {
      "cell_type": "code",
      "metadata": {
        "colab": {
          "base_uri": "https://localhost:8080/"
        },
        "id": "wZTPeIlJQLqE",
        "outputId": "4bc5d15a-8236-45d0-c455-66a31f5ed65d"
      },
      "source": [
        "n = n21.reshape(4, 4)\n",
        "n"
      ],
      "execution_count": null,
      "outputs": [
        {
          "output_type": "execute_result",
          "data": {
            "text/plain": [
              "array([[ 1,  2,  3,  4],\n",
              "       [ 5,  6,  7,  8],\n",
              "       [ 9, 10, 11, 12],\n",
              "       [13, 14, 15, 16]], dtype=int16)"
            ]
          },
          "metadata": {
            "tags": []
          },
          "execution_count": 24
        }
      ]
    },
    {
      "cell_type": "code",
      "metadata": {
        "colab": {
          "base_uri": "https://localhost:8080/"
        },
        "id": "omSWygOOQrP6",
        "outputId": "6c14ed9a-50e1-4954-8efc-252374f3159a"
      },
      "source": [
        "n[0, 3] , n[0:2, 1:3] , n[1:, 2:] , n[2:, :2] , n[:1, 1:3], n[2:, 1:3]"
      ],
      "execution_count": null,
      "outputs": [
        {
          "output_type": "execute_result",
          "data": {
            "text/plain": [
              "(4, array([[2, 3],\n",
              "        [6, 7]], dtype=int16), array([[ 7,  8],\n",
              "        [11, 12],\n",
              "        [15, 16]], dtype=int16), array([[ 9, 10],\n",
              "        [13, 14]], dtype=int16), array([[2, 3]], dtype=int16), array([[10, 11],\n",
              "        [14, 15]], dtype=int16))"
            ]
          },
          "metadata": {
            "tags": []
          },
          "execution_count": 33
        }
      ]
    },
    {
      "cell_type": "code",
      "metadata": {
        "colab": {
          "base_uri": "https://localhost:8080/"
        },
        "id": "t8TFseJ3Q73y",
        "outputId": "849f5db0-9520-42d4-80f8-dc4db4e1b410"
      },
      "source": [
        "n[2:4, 1:3] * 3  ,   n[2:4, 1:3] == 0"
      ],
      "execution_count": null,
      "outputs": [
        {
          "output_type": "execute_result",
          "data": {
            "text/plain": [
              "(array([[30, 33],\n",
              "        [42, 45]], dtype=int16), array([[False, False],\n",
              "        [False, False]]))"
            ]
          },
          "metadata": {
            "tags": []
          },
          "execution_count": 35
        }
      ]
    },
    {
      "cell_type": "code",
      "metadata": {
        "colab": {
          "base_uri": "https://localhost:8080/"
        },
        "id": "e-_YYtHuRf2P",
        "outputId": "edaa224a-e1d5-4705-fcaf-eb94fb944d9b"
      },
      "source": [
        "n[0] , n[0] < 3"
      ],
      "execution_count": null,
      "outputs": [
        {
          "output_type": "execute_result",
          "data": {
            "text/plain": [
              "(array([1, 2, 3, 4], dtype=int16), array([ True,  True, False, False]))"
            ]
          },
          "metadata": {
            "tags": []
          },
          "execution_count": 38
        }
      ]
    },
    {
      "cell_type": "code",
      "metadata": {
        "colab": {
          "base_uri": "https://localhost:8080/"
        },
        "id": "sBRqnwi5SuwM",
        "outputId": "b38647cd-8583-4931-80b0-6adf5cc4e5d9"
      },
      "source": [
        "n[0][3] = 44\n",
        "n"
      ],
      "execution_count": null,
      "outputs": [
        {
          "output_type": "execute_result",
          "data": {
            "text/plain": [
              "array([[ 1,  2,  3, 44],\n",
              "       [ 5,  6,  7,  8],\n",
              "       [ 9, 10, 11, 12],\n",
              "       [13, 14, 15, 16]], dtype=int16)"
            ]
          },
          "metadata": {
            "tags": []
          },
          "execution_count": 40
        }
      ]
    },
    {
      "cell_type": "code",
      "metadata": {
        "colab": {
          "base_uri": "https://localhost:8080/"
        },
        "id": "yuGF5uDgTvv0",
        "outputId": "1c10e6e0-0044-4d6b-c234-f19bf4983038"
      },
      "source": [
        "n[:, -1] = 100\n",
        "n"
      ],
      "execution_count": null,
      "outputs": [
        {
          "output_type": "execute_result",
          "data": {
            "text/plain": [
              "array([[  1,   2,   3, 100],\n",
              "       [  5,   6,   7, 100],\n",
              "       [  9,  10,  11, 100],\n",
              "       [ 13,  14,  15, 100]], dtype=int16)"
            ]
          },
          "metadata": {
            "tags": []
          },
          "execution_count": 43
        }
      ]
    },
    {
      "cell_type": "code",
      "metadata": {
        "colab": {
          "base_uri": "https://localhost:8080/"
        },
        "id": "9xAQOvqJT-kp",
        "outputId": "7e44c248-0169-4f4c-bbf5-02d03a4c63a5"
      },
      "source": [
        "n.sum() , n[0].sum() , n.max()"
      ],
      "execution_count": null,
      "outputs": [
        {
          "output_type": "execute_result",
          "data": {
            "text/plain": [
              "(496, 106, 100)"
            ]
          },
          "metadata": {
            "tags": []
          },
          "execution_count": 45
        }
      ]
    },
    {
      "cell_type": "code",
      "metadata": {
        "colab": {
          "base_uri": "https://localhost:8080/"
        },
        "id": "1ujqdobhUSYa",
        "outputId": "d8239bca-d454-4c1b-aa55-0d9f10a7ebfc"
      },
      "source": [
        "n.max(axis=0) , n.max(axis=1)"
      ],
      "execution_count": null,
      "outputs": [
        {
          "output_type": "execute_result",
          "data": {
            "text/plain": [
              "(array([ 13,  14,  15, 100], dtype=int16),\n",
              " array([100, 100, 100, 100], dtype=int16))"
            ]
          },
          "metadata": {
            "tags": []
          },
          "execution_count": 48
        }
      ]
    },
    {
      "cell_type": "code",
      "metadata": {
        "colab": {
          "base_uri": "https://localhost:8080/"
        },
        "id": "eMvJhgARUkFa",
        "outputId": "cd91d107-acb6-4816-c420-24616f3c5ec8"
      },
      "source": [
        "n.mean(axis=1)"
      ],
      "execution_count": null,
      "outputs": [
        {
          "output_type": "execute_result",
          "data": {
            "text/plain": [
              "array([26.5, 29.5, 32.5, 35.5])"
            ]
          },
          "metadata": {
            "tags": []
          },
          "execution_count": 49
        }
      ]
    },
    {
      "cell_type": "code",
      "metadata": {
        "colab": {
          "base_uri": "https://localhost:8080/"
        },
        "id": "TzFfA_aPUwex",
        "outputId": "839fe5d6-f294-4f13-b964-464c5eb88bff"
      },
      "source": [
        "n.std()    # 표준편차 "
      ],
      "execution_count": null,
      "outputs": [
        {
          "output_type": "execute_result",
          "data": {
            "text/plain": [
              "40.03123780249619"
            ]
          },
          "metadata": {
            "tags": []
          },
          "execution_count": 51
        }
      ]
    },
    {
      "cell_type": "code",
      "metadata": {
        "colab": {
          "base_uri": "https://localhost:8080/"
        },
        "id": "4UH9jwvoUypb",
        "outputId": "0d9d4431-5f30-4c79-ff49-d1f22de18cbc"
      },
      "source": [
        "np.median(n)    # 중앙값"
      ],
      "execution_count": null,
      "outputs": [
        {
          "output_type": "execute_result",
          "data": {
            "text/plain": [
              "10.5"
            ]
          },
          "metadata": {
            "tags": []
          },
          "execution_count": 52
        }
      ]
    },
    {
      "cell_type": "code",
      "metadata": {
        "colab": {
          "base_uri": "https://localhost:8080/"
        },
        "id": "r9YN3yd9VEuP",
        "outputId": "d394e20b-91dc-492d-e6d5-5fe0cd3e4765"
      },
      "source": [
        "np.median(n[:,1])"
      ],
      "execution_count": null,
      "outputs": [
        {
          "output_type": "execute_result",
          "data": {
            "text/plain": [
              "8.0"
            ]
          },
          "metadata": {
            "tags": []
          },
          "execution_count": 54
        }
      ]
    },
    {
      "cell_type": "code",
      "metadata": {
        "colab": {
          "base_uri": "https://localhost:8080/"
        },
        "id": "qHjU69JxVKoX",
        "outputId": "73f98526-a77d-4fd9-e4b1-481ca0981ef8"
      },
      "source": [
        "np.zeros(5)  ,  np.ones(5)"
      ],
      "execution_count": null,
      "outputs": [
        {
          "output_type": "execute_result",
          "data": {
            "text/plain": [
              "(array([0., 0., 0., 0., 0.]), array([1., 1., 1., 1., 1.]))"
            ]
          },
          "metadata": {
            "tags": []
          },
          "execution_count": 56
        }
      ]
    },
    {
      "cell_type": "code",
      "metadata": {
        "colab": {
          "base_uri": "https://localhost:8080/"
        },
        "id": "PDYaG3QxWkzp",
        "outputId": "46865656-b6c6-44f8-c082-fbde4830693e"
      },
      "source": [
        "np.tri(10)"
      ],
      "execution_count": null,
      "outputs": [
        {
          "output_type": "execute_result",
          "data": {
            "text/plain": [
              "array([[1., 0., 0., 0., 0., 0., 0., 0., 0., 0.],\n",
              "       [1., 1., 0., 0., 0., 0., 0., 0., 0., 0.],\n",
              "       [1., 1., 1., 0., 0., 0., 0., 0., 0., 0.],\n",
              "       [1., 1., 1., 1., 0., 0., 0., 0., 0., 0.],\n",
              "       [1., 1., 1., 1., 1., 0., 0., 0., 0., 0.],\n",
              "       [1., 1., 1., 1., 1., 1., 0., 0., 0., 0.],\n",
              "       [1., 1., 1., 1., 1., 1., 1., 0., 0., 0.],\n",
              "       [1., 1., 1., 1., 1., 1., 1., 1., 0., 0.],\n",
              "       [1., 1., 1., 1., 1., 1., 1., 1., 1., 0.],\n",
              "       [1., 1., 1., 1., 1., 1., 1., 1., 1., 1.]])"
            ]
          },
          "metadata": {
            "tags": []
          },
          "execution_count": 57
        }
      ]
    },
    {
      "cell_type": "code",
      "metadata": {
        "colab": {
          "base_uri": "https://localhost:8080/"
        },
        "id": "bI4DBsLPW0QG",
        "outputId": "e4855a19-edbe-4767-ab1f-0e6e54a44c4c"
      },
      "source": [
        "np.empty(6)"
      ],
      "execution_count": null,
      "outputs": [
        {
          "output_type": "execute_result",
          "data": {
            "text/plain": [
              "array([4.68949657e-310, 0.00000000e+000, 0.00000000e+000, 0.00000000e+000,\n",
              "       0.00000000e+000, 0.00000000e+000])"
            ]
          },
          "metadata": {
            "tags": []
          },
          "execution_count": 59
        }
      ]
    },
    {
      "cell_type": "code",
      "metadata": {
        "colab": {
          "base_uri": "https://localhost:8080/"
        },
        "id": "_au9SXX-W7Jt",
        "outputId": "7399aa66-8ec9-44eb-f0fd-82fdba434265"
      },
      "source": [
        "np.zeros((2, 6)) , np.zeros((3, 4))"
      ],
      "execution_count": null,
      "outputs": [
        {
          "output_type": "execute_result",
          "data": {
            "text/plain": [
              "(array([[0., 0., 0., 0., 0., 0.],\n",
              "        [0., 0., 0., 0., 0., 0.]]), array([[0., 0., 0., 0.],\n",
              "        [0., 0., 0., 0.],\n",
              "        [0., 0., 0., 0.]]))"
            ]
          },
          "metadata": {
            "tags": []
          },
          "execution_count": 62
        }
      ]
    },
    {
      "cell_type": "code",
      "metadata": {
        "colab": {
          "base_uri": "https://localhost:8080/"
        },
        "id": "AT-kL1vQXNDe",
        "outputId": "ecf2924e-2c8a-460b-cf30-f6a0c3571727"
      },
      "source": [
        "n2 = np.array([4, 5, 6, 7], np.int32)\n",
        "n2, n2.nbytes"
      ],
      "execution_count": null,
      "outputs": [
        {
          "output_type": "execute_result",
          "data": {
            "text/plain": [
              "(array([4, 5, 6, 7], dtype=int32), 16)"
            ]
          },
          "metadata": {
            "tags": []
          },
          "execution_count": 66
        }
      ]
    },
    {
      "cell_type": "code",
      "metadata": {
        "colab": {
          "base_uri": "https://localhost:8080/"
        },
        "id": "PywV0Ja4XY45",
        "outputId": "208a21c3-90c0-4592-daba-17b525d08069"
      },
      "source": [
        "k = [i for i in range(5, 51, 5)]\n",
        "k , type(k)"
      ],
      "execution_count": null,
      "outputs": [
        {
          "output_type": "execute_result",
          "data": {
            "text/plain": [
              "([5, 10, 15, 20, 25, 30, 35, 40, 45, 50], list)"
            ]
          },
          "metadata": {
            "tags": []
          },
          "execution_count": 68
        }
      ]
    },
    {
      "cell_type": "code",
      "metadata": {
        "colab": {
          "base_uri": "https://localhost:8080/"
        },
        "id": "0365llTLX4ey",
        "outputId": "9c712d57-443e-47e8-812d-b5bc073c457d"
      },
      "source": [
        "t = (i for i in range(10, 101, 10))\n",
        "t, type(t)"
      ],
      "execution_count": null,
      "outputs": [
        {
          "output_type": "execute_result",
          "data": {
            "text/plain": [
              "(<generator object <genexpr> at 0x7f19d9314e50>, generator)"
            ]
          },
          "metadata": {
            "tags": []
          },
          "execution_count": 73
        }
      ]
    },
    {
      "cell_type": "code",
      "metadata": {
        "colab": {
          "base_uri": "https://localhost:8080/"
        },
        "id": "2OR8k3-YYKMI",
        "outputId": "73704db9-3415-4c80-d8c9-112bdd06df70"
      },
      "source": [
        "n10 = np.array(k)    # list는 array 됨\n",
        "n10"
      ],
      "execution_count": null,
      "outputs": [
        {
          "output_type": "execute_result",
          "data": {
            "text/plain": [
              "array([ 5, 10, 15, 20, 25, 30, 35, 40, 45, 50])"
            ]
          },
          "metadata": {
            "tags": []
          },
          "execution_count": 71
        }
      ]
    },
    {
      "cell_type": "code",
      "metadata": {
        "colab": {
          "base_uri": "https://localhost:8080/"
        },
        "id": "51ftYrnLYNq5",
        "outputId": "57a29285-1798-411b-a99f-70d34cdd1eb0"
      },
      "source": [
        "n11 = np.array(t)    # generator는 array 안 됨\n",
        "n11"
      ],
      "execution_count": null,
      "outputs": [
        {
          "output_type": "execute_result",
          "data": {
            "text/plain": [
              "array(<generator object <genexpr> at 0x7f19d9314e50>, dtype=object)"
            ]
          },
          "metadata": {
            "tags": []
          },
          "execution_count": 75
        }
      ]
    },
    {
      "cell_type": "code",
      "metadata": {
        "colab": {
          "base_uri": "https://localhost:8080/"
        },
        "id": "HzNkXIOpYcTn",
        "outputId": "a181dd00-51c2-4c4b-ffa3-709fac8dbee1"
      },
      "source": [
        "n12 = np.array(k)\n",
        "n13 = n12.reshape(2, 5)\n",
        "n13"
      ],
      "execution_count": null,
      "outputs": [
        {
          "output_type": "execute_result",
          "data": {
            "text/plain": [
              "array([[ 5, 10, 15, 20, 25],\n",
              "       [30, 35, 40, 45, 50]])"
            ]
          },
          "metadata": {
            "tags": []
          },
          "execution_count": 82
        }
      ]
    },
    {
      "cell_type": "code",
      "metadata": {
        "colab": {
          "base_uri": "https://localhost:8080/"
        },
        "id": "J57Fgdb7ZAnE",
        "outputId": "7b7dc982-9794-4c58-a615-fe1c544856c6"
      },
      "source": [
        "s1 = pd.Series([2, 4, 6, 8])\n",
        "type(s1) , s1.shape , s1.ndim , s1.nbytes , s1.items , s1.index   # 0,1,2,3은 인덱스, 2,4,6,8이 값임"
      ],
      "execution_count": null,
      "outputs": [
        {
          "output_type": "execute_result",
          "data": {
            "text/plain": [
              "(pandas.core.series.Series, (4,), 1, 32, <bound method Series.items of 0    2\n",
              " 1    4\n",
              " 2    6\n",
              " 3    8\n",
              " dtype: int64>, RangeIndex(start=0, stop=4, step=1))"
            ]
          },
          "metadata": {
            "tags": []
          },
          "execution_count": 87
        }
      ]
    },
    {
      "cell_type": "code",
      "metadata": {
        "colab": {
          "base_uri": "https://localhost:8080/"
        },
        "id": "HYp52diBZ0T9",
        "outputId": "cde7ddb0-1e2d-4763-f86e-84864e4a7680"
      },
      "source": [
        "s1.index = [['a)', 'b)', 'c)', 'd)']]\n",
        "s1"
      ],
      "execution_count": null,
      "outputs": [
        {
          "output_type": "execute_result",
          "data": {
            "text/plain": [
              "a)    2\n",
              "b)    4\n",
              "c)    6\n",
              "d)    8\n",
              "dtype: int64"
            ]
          },
          "metadata": {
            "tags": []
          },
          "execution_count": 89
        }
      ]
    },
    {
      "cell_type": "code",
      "metadata": {
        "colab": {
          "base_uri": "https://localhost:8080/"
        },
        "id": "wz9e-FNFamYO",
        "outputId": "40ae1831-688c-4305-89eb-e782a2f7dce9"
      },
      "source": [
        "s1['a)']    #index -> key, 우측 값-> value, key와 value 두 가지 통해서 다 접근 가능"
      ],
      "execution_count": null,
      "outputs": [
        {
          "output_type": "execute_result",
          "data": {
            "text/plain": [
              "a)    2\n",
              "dtype: int64"
            ]
          },
          "metadata": {
            "tags": []
          },
          "execution_count": 90
        }
      ]
    },
    {
      "cell_type": "code",
      "metadata": {
        "colab": {
          "base_uri": "https://localhost:8080/"
        },
        "id": "YLz20ZaCbmoW",
        "outputId": "0cd7cac2-4548-4786-af5e-567bd04668b5"
      },
      "source": [
        "s1.iloc[1]"
      ],
      "execution_count": null,
      "outputs": [
        {
          "output_type": "execute_result",
          "data": {
            "text/plain": [
              "4"
            ]
          },
          "metadata": {
            "tags": []
          },
          "execution_count": 91
        }
      ]
    },
    {
      "cell_type": "code",
      "metadata": {
        "colab": {
          "base_uri": "https://localhost:8080/"
        },
        "id": "1Am9ytNMcJhh",
        "outputId": "b53a832e-ab72-4545-d165-8c59404e9a2c"
      },
      "source": [
        "s1.loc['b)']"
      ],
      "execution_count": null,
      "outputs": [
        {
          "output_type": "execute_result",
          "data": {
            "text/plain": [
              "b)    4\n",
              "dtype: int64"
            ]
          },
          "metadata": {
            "tags": []
          },
          "execution_count": 95
        }
      ]
    },
    {
      "cell_type": "code",
      "metadata": {
        "colab": {
          "base_uri": "https://localhost:8080/"
        },
        "id": "8mckoUG0cLye",
        "outputId": "f8120d43-f4ac-49a3-b346-492ede3a017d"
      },
      "source": [
        "s1.iloc[1:4]"
      ],
      "execution_count": null,
      "outputs": [
        {
          "output_type": "execute_result",
          "data": {
            "text/plain": [
              "b)    4\n",
              "c)    6\n",
              "d)    8\n",
              "dtype: int64"
            ]
          },
          "metadata": {
            "tags": []
          },
          "execution_count": 97
        }
      ]
    },
    {
      "cell_type": "code",
      "metadata": {
        "colab": {
          "base_uri": "https://localhost:8080/"
        },
        "id": "tgnUfHbed7Ia",
        "outputId": "86f84d1f-80ba-4cd1-c686-734d74e04921"
      },
      "source": [
        "pd1 = pd.read_csv('/content/sample_data/california_housing_test.csv')\n",
        "type(pd1), pd1.shape"
      ],
      "execution_count": null,
      "outputs": [
        {
          "output_type": "execute_result",
          "data": {
            "text/plain": [
              "(pandas.core.frame.DataFrame, (3000, 9))"
            ]
          },
          "metadata": {
            "tags": []
          },
          "execution_count": 100
        }
      ]
    },
    {
      "cell_type": "code",
      "metadata": {
        "colab": {
          "base_uri": "https://localhost:8080/",
          "height": 408
        },
        "id": "YtRM3iTIi1Ny",
        "outputId": "bd5a4057-e9ad-498c-8779-8e02d374c1b7"
      },
      "source": [
        "p = pd1.copy()\n",
        "p"
      ],
      "execution_count": null,
      "outputs": [
        {
          "output_type": "execute_result",
          "data": {
            "text/html": [
              "<div>\n",
              "<style scoped>\n",
              "    .dataframe tbody tr th:only-of-type {\n",
              "        vertical-align: middle;\n",
              "    }\n",
              "\n",
              "    .dataframe tbody tr th {\n",
              "        vertical-align: top;\n",
              "    }\n",
              "\n",
              "    .dataframe thead th {\n",
              "        text-align: right;\n",
              "    }\n",
              "</style>\n",
              "<table border=\"1\" class=\"dataframe\">\n",
              "  <thead>\n",
              "    <tr style=\"text-align: right;\">\n",
              "      <th></th>\n",
              "      <th>longitude</th>\n",
              "      <th>latitude</th>\n",
              "      <th>housing_median_age</th>\n",
              "      <th>total_rooms</th>\n",
              "      <th>total_bedrooms</th>\n",
              "      <th>population</th>\n",
              "      <th>households</th>\n",
              "      <th>median_income</th>\n",
              "      <th>median_house_value</th>\n",
              "    </tr>\n",
              "  </thead>\n",
              "  <tbody>\n",
              "    <tr>\n",
              "      <th>0</th>\n",
              "      <td>-122.05</td>\n",
              "      <td>37.37</td>\n",
              "      <td>27.0</td>\n",
              "      <td>3885.0</td>\n",
              "      <td>661.0</td>\n",
              "      <td>1537.0</td>\n",
              "      <td>606.0</td>\n",
              "      <td>6.6085</td>\n",
              "      <td>344700.0</td>\n",
              "    </tr>\n",
              "    <tr>\n",
              "      <th>1</th>\n",
              "      <td>-118.30</td>\n",
              "      <td>34.26</td>\n",
              "      <td>43.0</td>\n",
              "      <td>1510.0</td>\n",
              "      <td>310.0</td>\n",
              "      <td>809.0</td>\n",
              "      <td>277.0</td>\n",
              "      <td>3.5990</td>\n",
              "      <td>176500.0</td>\n",
              "    </tr>\n",
              "    <tr>\n",
              "      <th>2</th>\n",
              "      <td>-117.81</td>\n",
              "      <td>33.78</td>\n",
              "      <td>27.0</td>\n",
              "      <td>3589.0</td>\n",
              "      <td>507.0</td>\n",
              "      <td>1484.0</td>\n",
              "      <td>495.0</td>\n",
              "      <td>5.7934</td>\n",
              "      <td>270500.0</td>\n",
              "    </tr>\n",
              "    <tr>\n",
              "      <th>3</th>\n",
              "      <td>-118.36</td>\n",
              "      <td>33.82</td>\n",
              "      <td>28.0</td>\n",
              "      <td>67.0</td>\n",
              "      <td>15.0</td>\n",
              "      <td>49.0</td>\n",
              "      <td>11.0</td>\n",
              "      <td>6.1359</td>\n",
              "      <td>330000.0</td>\n",
              "    </tr>\n",
              "    <tr>\n",
              "      <th>4</th>\n",
              "      <td>-119.67</td>\n",
              "      <td>36.33</td>\n",
              "      <td>19.0</td>\n",
              "      <td>1241.0</td>\n",
              "      <td>244.0</td>\n",
              "      <td>850.0</td>\n",
              "      <td>237.0</td>\n",
              "      <td>2.9375</td>\n",
              "      <td>81700.0</td>\n",
              "    </tr>\n",
              "    <tr>\n",
              "      <th>...</th>\n",
              "      <td>...</td>\n",
              "      <td>...</td>\n",
              "      <td>...</td>\n",
              "      <td>...</td>\n",
              "      <td>...</td>\n",
              "      <td>...</td>\n",
              "      <td>...</td>\n",
              "      <td>...</td>\n",
              "      <td>...</td>\n",
              "    </tr>\n",
              "    <tr>\n",
              "      <th>2995</th>\n",
              "      <td>-119.86</td>\n",
              "      <td>34.42</td>\n",
              "      <td>23.0</td>\n",
              "      <td>1450.0</td>\n",
              "      <td>642.0</td>\n",
              "      <td>1258.0</td>\n",
              "      <td>607.0</td>\n",
              "      <td>1.1790</td>\n",
              "      <td>225000.0</td>\n",
              "    </tr>\n",
              "    <tr>\n",
              "      <th>2996</th>\n",
              "      <td>-118.14</td>\n",
              "      <td>34.06</td>\n",
              "      <td>27.0</td>\n",
              "      <td>5257.0</td>\n",
              "      <td>1082.0</td>\n",
              "      <td>3496.0</td>\n",
              "      <td>1036.0</td>\n",
              "      <td>3.3906</td>\n",
              "      <td>237200.0</td>\n",
              "    </tr>\n",
              "    <tr>\n",
              "      <th>2997</th>\n",
              "      <td>-119.70</td>\n",
              "      <td>36.30</td>\n",
              "      <td>10.0</td>\n",
              "      <td>956.0</td>\n",
              "      <td>201.0</td>\n",
              "      <td>693.0</td>\n",
              "      <td>220.0</td>\n",
              "      <td>2.2895</td>\n",
              "      <td>62000.0</td>\n",
              "    </tr>\n",
              "    <tr>\n",
              "      <th>2998</th>\n",
              "      <td>-117.12</td>\n",
              "      <td>34.10</td>\n",
              "      <td>40.0</td>\n",
              "      <td>96.0</td>\n",
              "      <td>14.0</td>\n",
              "      <td>46.0</td>\n",
              "      <td>14.0</td>\n",
              "      <td>3.2708</td>\n",
              "      <td>162500.0</td>\n",
              "    </tr>\n",
              "    <tr>\n",
              "      <th>2999</th>\n",
              "      <td>-119.63</td>\n",
              "      <td>34.42</td>\n",
              "      <td>42.0</td>\n",
              "      <td>1765.0</td>\n",
              "      <td>263.0</td>\n",
              "      <td>753.0</td>\n",
              "      <td>260.0</td>\n",
              "      <td>8.5608</td>\n",
              "      <td>500001.0</td>\n",
              "    </tr>\n",
              "  </tbody>\n",
              "</table>\n",
              "<p>3000 rows × 9 columns</p>\n",
              "</div>"
            ],
            "text/plain": [
              "      longitude  latitude  ...  median_income  median_house_value\n",
              "0       -122.05     37.37  ...         6.6085            344700.0\n",
              "1       -118.30     34.26  ...         3.5990            176500.0\n",
              "2       -117.81     33.78  ...         5.7934            270500.0\n",
              "3       -118.36     33.82  ...         6.1359            330000.0\n",
              "4       -119.67     36.33  ...         2.9375             81700.0\n",
              "...         ...       ...  ...            ...                 ...\n",
              "2995    -119.86     34.42  ...         1.1790            225000.0\n",
              "2996    -118.14     34.06  ...         3.3906            237200.0\n",
              "2997    -119.70     36.30  ...         2.2895             62000.0\n",
              "2998    -117.12     34.10  ...         3.2708            162500.0\n",
              "2999    -119.63     34.42  ...         8.5608            500001.0\n",
              "\n",
              "[3000 rows x 9 columns]"
            ]
          },
          "metadata": {
            "tags": []
          },
          "execution_count": 104
        }
      ]
    },
    {
      "cell_type": "code",
      "metadata": {
        "colab": {
          "base_uri": "https://localhost:8080/",
          "height": 138
        },
        "id": "-2P7BBFHjEpn",
        "outputId": "54e6d3c6-a4bb-4c81-ca18-37b54b6f4c64"
      },
      "source": [
        "p.head(3)"
      ],
      "execution_count": null,
      "outputs": [
        {
          "output_type": "execute_result",
          "data": {
            "text/html": [
              "<div>\n",
              "<style scoped>\n",
              "    .dataframe tbody tr th:only-of-type {\n",
              "        vertical-align: middle;\n",
              "    }\n",
              "\n",
              "    .dataframe tbody tr th {\n",
              "        vertical-align: top;\n",
              "    }\n",
              "\n",
              "    .dataframe thead th {\n",
              "        text-align: right;\n",
              "    }\n",
              "</style>\n",
              "<table border=\"1\" class=\"dataframe\">\n",
              "  <thead>\n",
              "    <tr style=\"text-align: right;\">\n",
              "      <th></th>\n",
              "      <th>longitude</th>\n",
              "      <th>latitude</th>\n",
              "      <th>housing_median_age</th>\n",
              "      <th>total_rooms</th>\n",
              "      <th>total_bedrooms</th>\n",
              "      <th>population</th>\n",
              "      <th>households</th>\n",
              "      <th>median_income</th>\n",
              "      <th>median_house_value</th>\n",
              "    </tr>\n",
              "  </thead>\n",
              "  <tbody>\n",
              "    <tr>\n",
              "      <th>0</th>\n",
              "      <td>-122.05</td>\n",
              "      <td>37.37</td>\n",
              "      <td>27.0</td>\n",
              "      <td>3885.0</td>\n",
              "      <td>661.0</td>\n",
              "      <td>1537.0</td>\n",
              "      <td>606.0</td>\n",
              "      <td>6.6085</td>\n",
              "      <td>344700.0</td>\n",
              "    </tr>\n",
              "    <tr>\n",
              "      <th>1</th>\n",
              "      <td>-118.30</td>\n",
              "      <td>34.26</td>\n",
              "      <td>43.0</td>\n",
              "      <td>1510.0</td>\n",
              "      <td>310.0</td>\n",
              "      <td>809.0</td>\n",
              "      <td>277.0</td>\n",
              "      <td>3.5990</td>\n",
              "      <td>176500.0</td>\n",
              "    </tr>\n",
              "    <tr>\n",
              "      <th>2</th>\n",
              "      <td>-117.81</td>\n",
              "      <td>33.78</td>\n",
              "      <td>27.0</td>\n",
              "      <td>3589.0</td>\n",
              "      <td>507.0</td>\n",
              "      <td>1484.0</td>\n",
              "      <td>495.0</td>\n",
              "      <td>5.7934</td>\n",
              "      <td>270500.0</td>\n",
              "    </tr>\n",
              "  </tbody>\n",
              "</table>\n",
              "</div>"
            ],
            "text/plain": [
              "   longitude  latitude  ...  median_income  median_house_value\n",
              "0    -122.05     37.37  ...         6.6085            344700.0\n",
              "1    -118.30     34.26  ...         3.5990            176500.0\n",
              "2    -117.81     33.78  ...         5.7934            270500.0\n",
              "\n",
              "[3 rows x 9 columns]"
            ]
          },
          "metadata": {
            "tags": []
          },
          "execution_count": 105
        }
      ]
    },
    {
      "cell_type": "code",
      "metadata": {
        "colab": {
          "base_uri": "https://localhost:8080/",
          "height": 349
        },
        "id": "Xy9QWNHdjbVR",
        "outputId": "878a038a-13ca-48e5-c1c2-8c68f9bd2a16"
      },
      "source": [
        "pd2 = pd.read_csv('/content/sample_data/sc.csv' , header=None)\n",
        "p = pd2.copy()\n",
        "p"
      ],
      "execution_count": null,
      "outputs": [
        {
          "output_type": "execute_result",
          "data": {
            "text/html": [
              "<div>\n",
              "<style scoped>\n",
              "    .dataframe tbody tr th:only-of-type {\n",
              "        vertical-align: middle;\n",
              "    }\n",
              "\n",
              "    .dataframe tbody tr th {\n",
              "        vertical-align: top;\n",
              "    }\n",
              "\n",
              "    .dataframe thead th {\n",
              "        text-align: right;\n",
              "    }\n",
              "</style>\n",
              "<table border=\"1\" class=\"dataframe\">\n",
              "  <thead>\n",
              "    <tr style=\"text-align: right;\">\n",
              "      <th></th>\n",
              "      <th>0</th>\n",
              "      <th>1</th>\n",
              "      <th>2</th>\n",
              "      <th>3</th>\n",
              "    </tr>\n",
              "  </thead>\n",
              "  <tbody>\n",
              "    <tr>\n",
              "      <th>0</th>\n",
              "      <td>이순신</td>\n",
              "      <td>85</td>\n",
              "      <td>87</td>\n",
              "      <td>90</td>\n",
              "    </tr>\n",
              "    <tr>\n",
              "      <th>1</th>\n",
              "      <td>강감찬</td>\n",
              "      <td>75</td>\n",
              "      <td>80</td>\n",
              "      <td>95</td>\n",
              "    </tr>\n",
              "    <tr>\n",
              "      <th>2</th>\n",
              "      <td>한석봉</td>\n",
              "      <td>99</td>\n",
              "      <td>98</td>\n",
              "      <td>99</td>\n",
              "    </tr>\n",
              "    <tr>\n",
              "      <th>3</th>\n",
              "      <td>황진이</td>\n",
              "      <td>99</td>\n",
              "      <td>99</td>\n",
              "      <td>99</td>\n",
              "    </tr>\n",
              "    <tr>\n",
              "      <th>4</th>\n",
              "      <td>안중근</td>\n",
              "      <td>90</td>\n",
              "      <td>85</td>\n",
              "      <td>90</td>\n",
              "    </tr>\n",
              "    <tr>\n",
              "      <th>5</th>\n",
              "      <td>박문수</td>\n",
              "      <td>95</td>\n",
              "      <td>98</td>\n",
              "      <td>96</td>\n",
              "    </tr>\n",
              "    <tr>\n",
              "      <th>6</th>\n",
              "      <td>임꺽정</td>\n",
              "      <td>15</td>\n",
              "      <td>35</td>\n",
              "      <td>45</td>\n",
              "    </tr>\n",
              "    <tr>\n",
              "      <th>7</th>\n",
              "      <td>김정호</td>\n",
              "      <td>90</td>\n",
              "      <td>95</td>\n",
              "      <td>80</td>\n",
              "    </tr>\n",
              "    <tr>\n",
              "      <th>8</th>\n",
              "      <td>정몽주</td>\n",
              "      <td>90</td>\n",
              "      <td>90</td>\n",
              "      <td>95</td>\n",
              "    </tr>\n",
              "    <tr>\n",
              "      <th>9</th>\n",
              "      <td>김도도</td>\n",
              "      <td>50</td>\n",
              "      <td>45</td>\n",
              "      <td>60</td>\n",
              "    </tr>\n",
              "  </tbody>\n",
              "</table>\n",
              "</div>"
            ],
            "text/plain": [
              "     0   1   2   3\n",
              "0  이순신  85  87  90\n",
              "1  강감찬  75  80  95\n",
              "2  한석봉  99  98  99\n",
              "3  황진이  99  99  99\n",
              "4  안중근  90  85  90\n",
              "5  박문수  95  98  96\n",
              "6  임꺽정  15  35  45\n",
              "7  김정호  90  95  80\n",
              "8  정몽주  90  90  95\n",
              "9  김도도  50  45  60"
            ]
          },
          "metadata": {
            "tags": []
          },
          "execution_count": 111
        }
      ]
    },
    {
      "cell_type": "code",
      "metadata": {
        "colab": {
          "base_uri": "https://localhost:8080/",
          "height": 349
        },
        "id": "MdyF0D4jj50a",
        "outputId": "400e815c-c012-45cf-baa6-0d14c327940e"
      },
      "source": [
        "p.columns = ['이름', '국어', '영어', '수학']\n",
        "p"
      ],
      "execution_count": null,
      "outputs": [
        {
          "output_type": "execute_result",
          "data": {
            "text/html": [
              "<div>\n",
              "<style scoped>\n",
              "    .dataframe tbody tr th:only-of-type {\n",
              "        vertical-align: middle;\n",
              "    }\n",
              "\n",
              "    .dataframe tbody tr th {\n",
              "        vertical-align: top;\n",
              "    }\n",
              "\n",
              "    .dataframe thead th {\n",
              "        text-align: right;\n",
              "    }\n",
              "</style>\n",
              "<table border=\"1\" class=\"dataframe\">\n",
              "  <thead>\n",
              "    <tr style=\"text-align: right;\">\n",
              "      <th></th>\n",
              "      <th>이름</th>\n",
              "      <th>국어</th>\n",
              "      <th>영어</th>\n",
              "      <th>수학</th>\n",
              "    </tr>\n",
              "  </thead>\n",
              "  <tbody>\n",
              "    <tr>\n",
              "      <th>0</th>\n",
              "      <td>이순신</td>\n",
              "      <td>85</td>\n",
              "      <td>87</td>\n",
              "      <td>90</td>\n",
              "    </tr>\n",
              "    <tr>\n",
              "      <th>1</th>\n",
              "      <td>강감찬</td>\n",
              "      <td>75</td>\n",
              "      <td>80</td>\n",
              "      <td>95</td>\n",
              "    </tr>\n",
              "    <tr>\n",
              "      <th>2</th>\n",
              "      <td>한석봉</td>\n",
              "      <td>99</td>\n",
              "      <td>98</td>\n",
              "      <td>99</td>\n",
              "    </tr>\n",
              "    <tr>\n",
              "      <th>3</th>\n",
              "      <td>황진이</td>\n",
              "      <td>99</td>\n",
              "      <td>99</td>\n",
              "      <td>99</td>\n",
              "    </tr>\n",
              "    <tr>\n",
              "      <th>4</th>\n",
              "      <td>안중근</td>\n",
              "      <td>90</td>\n",
              "      <td>85</td>\n",
              "      <td>90</td>\n",
              "    </tr>\n",
              "    <tr>\n",
              "      <th>5</th>\n",
              "      <td>박문수</td>\n",
              "      <td>95</td>\n",
              "      <td>98</td>\n",
              "      <td>96</td>\n",
              "    </tr>\n",
              "    <tr>\n",
              "      <th>6</th>\n",
              "      <td>임꺽정</td>\n",
              "      <td>15</td>\n",
              "      <td>35</td>\n",
              "      <td>45</td>\n",
              "    </tr>\n",
              "    <tr>\n",
              "      <th>7</th>\n",
              "      <td>김정호</td>\n",
              "      <td>90</td>\n",
              "      <td>95</td>\n",
              "      <td>80</td>\n",
              "    </tr>\n",
              "    <tr>\n",
              "      <th>8</th>\n",
              "      <td>정몽주</td>\n",
              "      <td>90</td>\n",
              "      <td>90</td>\n",
              "      <td>95</td>\n",
              "    </tr>\n",
              "    <tr>\n",
              "      <th>9</th>\n",
              "      <td>김도도</td>\n",
              "      <td>50</td>\n",
              "      <td>45</td>\n",
              "      <td>60</td>\n",
              "    </tr>\n",
              "  </tbody>\n",
              "</table>\n",
              "</div>"
            ],
            "text/plain": [
              "    이름  국어  영어  수학\n",
              "0  이순신  85  87  90\n",
              "1  강감찬  75  80  95\n",
              "2  한석봉  99  98  99\n",
              "3  황진이  99  99  99\n",
              "4  안중근  90  85  90\n",
              "5  박문수  95  98  96\n",
              "6  임꺽정  15  35  45\n",
              "7  김정호  90  95  80\n",
              "8  정몽주  90  90  95\n",
              "9  김도도  50  45  60"
            ]
          },
          "metadata": {
            "tags": []
          },
          "execution_count": 114
        }
      ]
    },
    {
      "cell_type": "code",
      "metadata": {
        "id": "bUEQMEBykRRr",
        "colab": {
          "base_uri": "https://localhost:8080/"
        },
        "outputId": "9623a6b5-2a92-4bc7-ea13-cc7ca97486c5"
      },
      "source": [
        "p.shape, type(p) , p.ndim , p.size , p.info()"
      ],
      "execution_count": null,
      "outputs": [
        {
          "output_type": "stream",
          "text": [
            "<class 'pandas.core.frame.DataFrame'>\n",
            "RangeIndex: 10 entries, 0 to 9\n",
            "Data columns (total 4 columns):\n",
            " #   Column  Non-Null Count  Dtype \n",
            "---  ------  --------------  ----- \n",
            " 0   이름      10 non-null     object\n",
            " 1   국어      10 non-null     int64 \n",
            " 2   영어      10 non-null     int64 \n",
            " 3   수학      10 non-null     int64 \n",
            "dtypes: int64(3), object(1)\n",
            "memory usage: 448.0+ bytes\n"
          ],
          "name": "stdout"
        },
        {
          "output_type": "execute_result",
          "data": {
            "text/plain": [
              "((10, 4), pandas.core.frame.DataFrame, 2, 40, None)"
            ]
          },
          "metadata": {
            "tags": []
          },
          "execution_count": 117
        }
      ]
    },
    {
      "cell_type": "code",
      "metadata": {
        "colab": {
          "base_uri": "https://localhost:8080/"
        },
        "id": "JhxnJYwCmgU-",
        "outputId": "4a454e02-8ba8-4cbe-f142-356c6ffd0a2f"
      },
      "source": [
        "p.describe() , p.index , p.columns"
      ],
      "execution_count": null,
      "outputs": [
        {
          "output_type": "execute_result",
          "data": {
            "text/plain": [
              "(              국어         영어        수학\n",
              " count  10.000000  10.000000  10.00000\n",
              " mean   78.800000  81.200000  84.90000\n",
              " std    26.682495  22.714655  18.29663\n",
              " min    15.000000  35.000000  45.00000\n",
              " 25%    77.500000  81.250000  82.50000\n",
              " 50%    90.000000  88.500000  92.50000\n",
              " 75%    93.750000  97.250000  95.75000\n",
              " max    99.000000  99.000000  99.00000,\n",
              " RangeIndex(start=0, stop=10, step=1),\n",
              " Index(['이름', '국어', '영어', '수학'], dtype='object'))"
            ]
          },
          "metadata": {
            "tags": []
          },
          "execution_count": 118
        }
      ]
    },
    {
      "cell_type": "code",
      "metadata": {
        "colab": {
          "base_uri": "https://localhost:8080/",
          "height": 349
        },
        "id": "LjA30i6ynARO",
        "outputId": "35d9a3b6-fdae-463d-c4b8-a099d1294183"
      },
      "source": [
        "p['총점'] = p['국어'] + p['영어'] + p['수학']\n",
        "p.loc[:, ['이름','총점']]   "
      ],
      "execution_count": null,
      "outputs": [
        {
          "output_type": "execute_result",
          "data": {
            "text/html": [
              "<div>\n",
              "<style scoped>\n",
              "    .dataframe tbody tr th:only-of-type {\n",
              "        vertical-align: middle;\n",
              "    }\n",
              "\n",
              "    .dataframe tbody tr th {\n",
              "        vertical-align: top;\n",
              "    }\n",
              "\n",
              "    .dataframe thead th {\n",
              "        text-align: right;\n",
              "    }\n",
              "</style>\n",
              "<table border=\"1\" class=\"dataframe\">\n",
              "  <thead>\n",
              "    <tr style=\"text-align: right;\">\n",
              "      <th></th>\n",
              "      <th>이름</th>\n",
              "      <th>총점</th>\n",
              "    </tr>\n",
              "  </thead>\n",
              "  <tbody>\n",
              "    <tr>\n",
              "      <th>0</th>\n",
              "      <td>이순신</td>\n",
              "      <td>262</td>\n",
              "    </tr>\n",
              "    <tr>\n",
              "      <th>1</th>\n",
              "      <td>강감찬</td>\n",
              "      <td>250</td>\n",
              "    </tr>\n",
              "    <tr>\n",
              "      <th>2</th>\n",
              "      <td>한석봉</td>\n",
              "      <td>296</td>\n",
              "    </tr>\n",
              "    <tr>\n",
              "      <th>3</th>\n",
              "      <td>황진이</td>\n",
              "      <td>297</td>\n",
              "    </tr>\n",
              "    <tr>\n",
              "      <th>4</th>\n",
              "      <td>안중근</td>\n",
              "      <td>265</td>\n",
              "    </tr>\n",
              "    <tr>\n",
              "      <th>5</th>\n",
              "      <td>박문수</td>\n",
              "      <td>289</td>\n",
              "    </tr>\n",
              "    <tr>\n",
              "      <th>6</th>\n",
              "      <td>임꺽정</td>\n",
              "      <td>95</td>\n",
              "    </tr>\n",
              "    <tr>\n",
              "      <th>7</th>\n",
              "      <td>김정호</td>\n",
              "      <td>265</td>\n",
              "    </tr>\n",
              "    <tr>\n",
              "      <th>8</th>\n",
              "      <td>정몽주</td>\n",
              "      <td>275</td>\n",
              "    </tr>\n",
              "    <tr>\n",
              "      <th>9</th>\n",
              "      <td>김도도</td>\n",
              "      <td>155</td>\n",
              "    </tr>\n",
              "  </tbody>\n",
              "</table>\n",
              "</div>"
            ],
            "text/plain": [
              "    이름   총점\n",
              "0  이순신  262\n",
              "1  강감찬  250\n",
              "2  한석봉  296\n",
              "3  황진이  297\n",
              "4  안중근  265\n",
              "5  박문수  289\n",
              "6  임꺽정   95\n",
              "7  김정호  265\n",
              "8  정몽주  275\n",
              "9  김도도  155"
            ]
          },
          "metadata": {
            "tags": []
          },
          "execution_count": 126
        }
      ]
    },
    {
      "cell_type": "code",
      "metadata": {
        "colab": {
          "base_uri": "https://localhost:8080/",
          "height": 349
        },
        "id": "s8cvZOKnnLVV",
        "outputId": "d01d431a-50e0-436b-92ec-b217ef705e43"
      },
      "source": [
        "p['평균'] = p['총점'] / 3\n",
        "p.loc[:,['이름', '총점', '평균']]"
      ],
      "execution_count": null,
      "outputs": [
        {
          "output_type": "execute_result",
          "data": {
            "text/html": [
              "<div>\n",
              "<style scoped>\n",
              "    .dataframe tbody tr th:only-of-type {\n",
              "        vertical-align: middle;\n",
              "    }\n",
              "\n",
              "    .dataframe tbody tr th {\n",
              "        vertical-align: top;\n",
              "    }\n",
              "\n",
              "    .dataframe thead th {\n",
              "        text-align: right;\n",
              "    }\n",
              "</style>\n",
              "<table border=\"1\" class=\"dataframe\">\n",
              "  <thead>\n",
              "    <tr style=\"text-align: right;\">\n",
              "      <th></th>\n",
              "      <th>이름</th>\n",
              "      <th>총점</th>\n",
              "      <th>평균</th>\n",
              "    </tr>\n",
              "  </thead>\n",
              "  <tbody>\n",
              "    <tr>\n",
              "      <th>0</th>\n",
              "      <td>이순신</td>\n",
              "      <td>262</td>\n",
              "      <td>87.333333</td>\n",
              "    </tr>\n",
              "    <tr>\n",
              "      <th>1</th>\n",
              "      <td>강감찬</td>\n",
              "      <td>250</td>\n",
              "      <td>83.333333</td>\n",
              "    </tr>\n",
              "    <tr>\n",
              "      <th>2</th>\n",
              "      <td>한석봉</td>\n",
              "      <td>296</td>\n",
              "      <td>98.666667</td>\n",
              "    </tr>\n",
              "    <tr>\n",
              "      <th>3</th>\n",
              "      <td>황진이</td>\n",
              "      <td>297</td>\n",
              "      <td>99.000000</td>\n",
              "    </tr>\n",
              "    <tr>\n",
              "      <th>4</th>\n",
              "      <td>안중근</td>\n",
              "      <td>265</td>\n",
              "      <td>88.333333</td>\n",
              "    </tr>\n",
              "    <tr>\n",
              "      <th>5</th>\n",
              "      <td>박문수</td>\n",
              "      <td>289</td>\n",
              "      <td>96.333333</td>\n",
              "    </tr>\n",
              "    <tr>\n",
              "      <th>6</th>\n",
              "      <td>임꺽정</td>\n",
              "      <td>95</td>\n",
              "      <td>31.666667</td>\n",
              "    </tr>\n",
              "    <tr>\n",
              "      <th>7</th>\n",
              "      <td>김정호</td>\n",
              "      <td>265</td>\n",
              "      <td>88.333333</td>\n",
              "    </tr>\n",
              "    <tr>\n",
              "      <th>8</th>\n",
              "      <td>정몽주</td>\n",
              "      <td>275</td>\n",
              "      <td>91.666667</td>\n",
              "    </tr>\n",
              "    <tr>\n",
              "      <th>9</th>\n",
              "      <td>김도도</td>\n",
              "      <td>155</td>\n",
              "      <td>51.666667</td>\n",
              "    </tr>\n",
              "  </tbody>\n",
              "</table>\n",
              "</div>"
            ],
            "text/plain": [
              "    이름   총점         평균\n",
              "0  이순신  262  87.333333\n",
              "1  강감찬  250  83.333333\n",
              "2  한석봉  296  98.666667\n",
              "3  황진이  297  99.000000\n",
              "4  안중근  265  88.333333\n",
              "5  박문수  289  96.333333\n",
              "6  임꺽정   95  31.666667\n",
              "7  김정호  265  88.333333\n",
              "8  정몽주  275  91.666667\n",
              "9  김도도  155  51.666667"
            ]
          },
          "metadata": {
            "tags": []
          },
          "execution_count": 128
        }
      ]
    },
    {
      "cell_type": "code",
      "metadata": {
        "colab": {
          "base_uri": "https://localhost:8080/",
          "height": 349
        },
        "id": "7_zZ0QG5q5GS",
        "outputId": "bab58c13-e518-4669-bf25-a1c38845e49f"
      },
      "source": [
        "p.loc[:, ['수학']] >= 70    # iloc와 loc 모두 True / False 로 결과 나타남  ( = p.iloc[:, 3] >= 70)"
      ],
      "execution_count": null,
      "outputs": [
        {
          "output_type": "execute_result",
          "data": {
            "text/html": [
              "<div>\n",
              "<style scoped>\n",
              "    .dataframe tbody tr th:only-of-type {\n",
              "        vertical-align: middle;\n",
              "    }\n",
              "\n",
              "    .dataframe tbody tr th {\n",
              "        vertical-align: top;\n",
              "    }\n",
              "\n",
              "    .dataframe thead th {\n",
              "        text-align: right;\n",
              "    }\n",
              "</style>\n",
              "<table border=\"1\" class=\"dataframe\">\n",
              "  <thead>\n",
              "    <tr style=\"text-align: right;\">\n",
              "      <th></th>\n",
              "      <th>수학</th>\n",
              "    </tr>\n",
              "  </thead>\n",
              "  <tbody>\n",
              "    <tr>\n",
              "      <th>0</th>\n",
              "      <td>True</td>\n",
              "    </tr>\n",
              "    <tr>\n",
              "      <th>1</th>\n",
              "      <td>True</td>\n",
              "    </tr>\n",
              "    <tr>\n",
              "      <th>2</th>\n",
              "      <td>True</td>\n",
              "    </tr>\n",
              "    <tr>\n",
              "      <th>3</th>\n",
              "      <td>True</td>\n",
              "    </tr>\n",
              "    <tr>\n",
              "      <th>4</th>\n",
              "      <td>True</td>\n",
              "    </tr>\n",
              "    <tr>\n",
              "      <th>5</th>\n",
              "      <td>True</td>\n",
              "    </tr>\n",
              "    <tr>\n",
              "      <th>6</th>\n",
              "      <td>False</td>\n",
              "    </tr>\n",
              "    <tr>\n",
              "      <th>7</th>\n",
              "      <td>True</td>\n",
              "    </tr>\n",
              "    <tr>\n",
              "      <th>8</th>\n",
              "      <td>True</td>\n",
              "    </tr>\n",
              "    <tr>\n",
              "      <th>9</th>\n",
              "      <td>False</td>\n",
              "    </tr>\n",
              "  </tbody>\n",
              "</table>\n",
              "</div>"
            ],
            "text/plain": [
              "      수학\n",
              "0   True\n",
              "1   True\n",
              "2   True\n",
              "3   True\n",
              "4   True\n",
              "5   True\n",
              "6  False\n",
              "7   True\n",
              "8   True\n",
              "9  False"
            ]
          },
          "metadata": {
            "tags": []
          },
          "execution_count": 141
        }
      ]
    },
    {
      "cell_type": "code",
      "metadata": {
        "colab": {
          "base_uri": "https://localhost:8080/",
          "height": 138
        },
        "id": "SIeiXNhzrq62",
        "outputId": "d92fe929-7c1b-467a-e5d8-a144202c54b9"
      },
      "source": [
        "p.loc[4:6,['국어','영어']]"
      ],
      "execution_count": null,
      "outputs": [
        {
          "output_type": "execute_result",
          "data": {
            "text/html": [
              "<div>\n",
              "<style scoped>\n",
              "    .dataframe tbody tr th:only-of-type {\n",
              "        vertical-align: middle;\n",
              "    }\n",
              "\n",
              "    .dataframe tbody tr th {\n",
              "        vertical-align: top;\n",
              "    }\n",
              "\n",
              "    .dataframe thead th {\n",
              "        text-align: right;\n",
              "    }\n",
              "</style>\n",
              "<table border=\"1\" class=\"dataframe\">\n",
              "  <thead>\n",
              "    <tr style=\"text-align: right;\">\n",
              "      <th></th>\n",
              "      <th>국어</th>\n",
              "      <th>영어</th>\n",
              "    </tr>\n",
              "  </thead>\n",
              "  <tbody>\n",
              "    <tr>\n",
              "      <th>4</th>\n",
              "      <td>90</td>\n",
              "      <td>85</td>\n",
              "    </tr>\n",
              "    <tr>\n",
              "      <th>5</th>\n",
              "      <td>95</td>\n",
              "      <td>98</td>\n",
              "    </tr>\n",
              "    <tr>\n",
              "      <th>6</th>\n",
              "      <td>15</td>\n",
              "      <td>35</td>\n",
              "    </tr>\n",
              "  </tbody>\n",
              "</table>\n",
              "</div>"
            ],
            "text/plain": [
              "   국어  영어\n",
              "4  90  85\n",
              "5  95  98\n",
              "6  15  35"
            ]
          },
          "metadata": {
            "tags": []
          },
          "execution_count": 144
        }
      ]
    },
    {
      "cell_type": "code",
      "metadata": {
        "colab": {
          "base_uri": "https://localhost:8080/"
        },
        "id": "gCRBkIsasKrP",
        "outputId": "d2438039-eb58-4378-ecdb-025723ee7d7b"
      },
      "source": [
        "p['수학'] >= 70    #masking (True / False로 값 나타남)"
      ],
      "execution_count": null,
      "outputs": [
        {
          "output_type": "execute_result",
          "data": {
            "text/plain": [
              "0     True\n",
              "1     True\n",
              "2     True\n",
              "3     True\n",
              "4     True\n",
              "5     True\n",
              "6    False\n",
              "7     True\n",
              "8     True\n",
              "9    False\n",
              "Name: 수학, dtype: bool"
            ]
          },
          "metadata": {
            "tags": []
          },
          "execution_count": 145
        }
      ]
    },
    {
      "cell_type": "code",
      "metadata": {
        "colab": {
          "base_uri": "https://localhost:8080/",
          "height": 349
        },
        "id": "4TMWIlZbsj3C",
        "outputId": "fb50a784-eed4-4d62-bd05-28f472aa95df"
      },
      "source": [
        "p.iloc[:, 1:] >= 70    # 합격, 불합격 등 이분법적인 요소 간단하게 나눌 수 있음"
      ],
      "execution_count": null,
      "outputs": [
        {
          "output_type": "execute_result",
          "data": {
            "text/html": [
              "<div>\n",
              "<style scoped>\n",
              "    .dataframe tbody tr th:only-of-type {\n",
              "        vertical-align: middle;\n",
              "    }\n",
              "\n",
              "    .dataframe tbody tr th {\n",
              "        vertical-align: top;\n",
              "    }\n",
              "\n",
              "    .dataframe thead th {\n",
              "        text-align: right;\n",
              "    }\n",
              "</style>\n",
              "<table border=\"1\" class=\"dataframe\">\n",
              "  <thead>\n",
              "    <tr style=\"text-align: right;\">\n",
              "      <th></th>\n",
              "      <th>국어</th>\n",
              "      <th>영어</th>\n",
              "      <th>수학</th>\n",
              "      <th>총점</th>\n",
              "      <th>평균</th>\n",
              "    </tr>\n",
              "  </thead>\n",
              "  <tbody>\n",
              "    <tr>\n",
              "      <th>0</th>\n",
              "      <td>True</td>\n",
              "      <td>True</td>\n",
              "      <td>True</td>\n",
              "      <td>True</td>\n",
              "      <td>True</td>\n",
              "    </tr>\n",
              "    <tr>\n",
              "      <th>1</th>\n",
              "      <td>True</td>\n",
              "      <td>True</td>\n",
              "      <td>True</td>\n",
              "      <td>True</td>\n",
              "      <td>True</td>\n",
              "    </tr>\n",
              "    <tr>\n",
              "      <th>2</th>\n",
              "      <td>True</td>\n",
              "      <td>True</td>\n",
              "      <td>True</td>\n",
              "      <td>True</td>\n",
              "      <td>True</td>\n",
              "    </tr>\n",
              "    <tr>\n",
              "      <th>3</th>\n",
              "      <td>True</td>\n",
              "      <td>True</td>\n",
              "      <td>True</td>\n",
              "      <td>True</td>\n",
              "      <td>True</td>\n",
              "    </tr>\n",
              "    <tr>\n",
              "      <th>4</th>\n",
              "      <td>True</td>\n",
              "      <td>True</td>\n",
              "      <td>True</td>\n",
              "      <td>True</td>\n",
              "      <td>True</td>\n",
              "    </tr>\n",
              "    <tr>\n",
              "      <th>5</th>\n",
              "      <td>True</td>\n",
              "      <td>True</td>\n",
              "      <td>True</td>\n",
              "      <td>True</td>\n",
              "      <td>True</td>\n",
              "    </tr>\n",
              "    <tr>\n",
              "      <th>6</th>\n",
              "      <td>False</td>\n",
              "      <td>False</td>\n",
              "      <td>False</td>\n",
              "      <td>True</td>\n",
              "      <td>False</td>\n",
              "    </tr>\n",
              "    <tr>\n",
              "      <th>7</th>\n",
              "      <td>True</td>\n",
              "      <td>True</td>\n",
              "      <td>True</td>\n",
              "      <td>True</td>\n",
              "      <td>True</td>\n",
              "    </tr>\n",
              "    <tr>\n",
              "      <th>8</th>\n",
              "      <td>True</td>\n",
              "      <td>True</td>\n",
              "      <td>True</td>\n",
              "      <td>True</td>\n",
              "      <td>True</td>\n",
              "    </tr>\n",
              "    <tr>\n",
              "      <th>9</th>\n",
              "      <td>False</td>\n",
              "      <td>False</td>\n",
              "      <td>False</td>\n",
              "      <td>True</td>\n",
              "      <td>False</td>\n",
              "    </tr>\n",
              "  </tbody>\n",
              "</table>\n",
              "</div>"
            ],
            "text/plain": [
              "      국어     영어     수학    총점     평균\n",
              "0   True   True   True  True   True\n",
              "1   True   True   True  True   True\n",
              "2   True   True   True  True   True\n",
              "3   True   True   True  True   True\n",
              "4   True   True   True  True   True\n",
              "5   True   True   True  True   True\n",
              "6  False  False  False  True  False\n",
              "7   True   True   True  True   True\n",
              "8   True   True   True  True   True\n",
              "9  False  False  False  True  False"
            ]
          },
          "metadata": {
            "tags": []
          },
          "execution_count": 147
        }
      ]
    },
    {
      "cell_type": "code",
      "metadata": {
        "colab": {
          "base_uri": "https://localhost:8080/",
          "height": 349
        },
        "id": "kfHjbGVWs_PE",
        "outputId": "d87b0bf1-ff01-45ea-a407-4edde303f92a"
      },
      "source": [
        "p.iloc[:, 2:4] <= 60"
      ],
      "execution_count": null,
      "outputs": [
        {
          "output_type": "execute_result",
          "data": {
            "text/html": [
              "<div>\n",
              "<style scoped>\n",
              "    .dataframe tbody tr th:only-of-type {\n",
              "        vertical-align: middle;\n",
              "    }\n",
              "\n",
              "    .dataframe tbody tr th {\n",
              "        vertical-align: top;\n",
              "    }\n",
              "\n",
              "    .dataframe thead th {\n",
              "        text-align: right;\n",
              "    }\n",
              "</style>\n",
              "<table border=\"1\" class=\"dataframe\">\n",
              "  <thead>\n",
              "    <tr style=\"text-align: right;\">\n",
              "      <th></th>\n",
              "      <th>영어</th>\n",
              "      <th>수학</th>\n",
              "    </tr>\n",
              "  </thead>\n",
              "  <tbody>\n",
              "    <tr>\n",
              "      <th>0</th>\n",
              "      <td>False</td>\n",
              "      <td>False</td>\n",
              "    </tr>\n",
              "    <tr>\n",
              "      <th>1</th>\n",
              "      <td>False</td>\n",
              "      <td>False</td>\n",
              "    </tr>\n",
              "    <tr>\n",
              "      <th>2</th>\n",
              "      <td>False</td>\n",
              "      <td>False</td>\n",
              "    </tr>\n",
              "    <tr>\n",
              "      <th>3</th>\n",
              "      <td>False</td>\n",
              "      <td>False</td>\n",
              "    </tr>\n",
              "    <tr>\n",
              "      <th>4</th>\n",
              "      <td>False</td>\n",
              "      <td>False</td>\n",
              "    </tr>\n",
              "    <tr>\n",
              "      <th>5</th>\n",
              "      <td>False</td>\n",
              "      <td>False</td>\n",
              "    </tr>\n",
              "    <tr>\n",
              "      <th>6</th>\n",
              "      <td>True</td>\n",
              "      <td>True</td>\n",
              "    </tr>\n",
              "    <tr>\n",
              "      <th>7</th>\n",
              "      <td>False</td>\n",
              "      <td>False</td>\n",
              "    </tr>\n",
              "    <tr>\n",
              "      <th>8</th>\n",
              "      <td>False</td>\n",
              "      <td>False</td>\n",
              "    </tr>\n",
              "    <tr>\n",
              "      <th>9</th>\n",
              "      <td>True</td>\n",
              "      <td>True</td>\n",
              "    </tr>\n",
              "  </tbody>\n",
              "</table>\n",
              "</div>"
            ],
            "text/plain": [
              "      영어     수학\n",
              "0  False  False\n",
              "1  False  False\n",
              "2  False  False\n",
              "3  False  False\n",
              "4  False  False\n",
              "5  False  False\n",
              "6   True   True\n",
              "7  False  False\n",
              "8  False  False\n",
              "9   True   True"
            ]
          },
          "metadata": {
            "tags": []
          },
          "execution_count": 150
        }
      ]
    },
    {
      "cell_type": "code",
      "metadata": {
        "colab": {
          "base_uri": "https://localhost:8080/",
          "height": 138
        },
        "id": "QAREO6jatR0P",
        "outputId": "e0509d23-1dff-4520-ca16-0f14f81f694c"
      },
      "source": [
        "p5 = p[(p['수학'] >= 70) & (p['수학'] <= 90)]    # 조건에 해당되는 값만 구하기\n",
        "p5"
      ],
      "execution_count": null,
      "outputs": [
        {
          "output_type": "execute_result",
          "data": {
            "text/html": [
              "<div>\n",
              "<style scoped>\n",
              "    .dataframe tbody tr th:only-of-type {\n",
              "        vertical-align: middle;\n",
              "    }\n",
              "\n",
              "    .dataframe tbody tr th {\n",
              "        vertical-align: top;\n",
              "    }\n",
              "\n",
              "    .dataframe thead th {\n",
              "        text-align: right;\n",
              "    }\n",
              "</style>\n",
              "<table border=\"1\" class=\"dataframe\">\n",
              "  <thead>\n",
              "    <tr style=\"text-align: right;\">\n",
              "      <th></th>\n",
              "      <th>이름</th>\n",
              "      <th>국어</th>\n",
              "      <th>영어</th>\n",
              "      <th>수학</th>\n",
              "      <th>총점</th>\n",
              "      <th>평균</th>\n",
              "    </tr>\n",
              "  </thead>\n",
              "  <tbody>\n",
              "    <tr>\n",
              "      <th>0</th>\n",
              "      <td>이순신</td>\n",
              "      <td>85</td>\n",
              "      <td>87</td>\n",
              "      <td>90</td>\n",
              "      <td>262</td>\n",
              "      <td>87.333333</td>\n",
              "    </tr>\n",
              "    <tr>\n",
              "      <th>4</th>\n",
              "      <td>안중근</td>\n",
              "      <td>90</td>\n",
              "      <td>85</td>\n",
              "      <td>90</td>\n",
              "      <td>265</td>\n",
              "      <td>88.333333</td>\n",
              "    </tr>\n",
              "    <tr>\n",
              "      <th>7</th>\n",
              "      <td>김정호</td>\n",
              "      <td>90</td>\n",
              "      <td>95</td>\n",
              "      <td>80</td>\n",
              "      <td>265</td>\n",
              "      <td>88.333333</td>\n",
              "    </tr>\n",
              "  </tbody>\n",
              "</table>\n",
              "</div>"
            ],
            "text/plain": [
              "    이름  국어  영어  수학   총점         평균\n",
              "0  이순신  85  87  90  262  87.333333\n",
              "4  안중근  90  85  90  265  88.333333\n",
              "7  김정호  90  95  80  265  88.333333"
            ]
          },
          "metadata": {
            "tags": []
          },
          "execution_count": 152
        }
      ]
    },
    {
      "cell_type": "code",
      "metadata": {
        "colab": {
          "base_uri": "https://localhost:8080/"
        },
        "id": "AAdO2HwauejQ",
        "outputId": "4f0aa3ac-d0bb-4e13-82d8-2ce7723177d4"
      },
      "source": [
        "p.sum() , p.mean() , p.sum(axis=1)"
      ],
      "execution_count": null,
      "outputs": [
        {
          "output_type": "execute_result",
          "data": {
            "text/plain": [
              "(이름    이순신강감찬한석봉황진이안중근박문수임꺽정김정호정몽주김도도\n",
              " 국어                               788\n",
              " 영어                               812\n",
              " 수학                               849\n",
              " 총점                              2449\n",
              " 평균                           816.333\n",
              " dtype: object, 국어     78.800000\n",
              " 영어     81.200000\n",
              " 수학     84.900000\n",
              " 총점    244.900000\n",
              " 평균     81.633333\n",
              " dtype: float64, 0    611.333333\n",
              " 1    583.333333\n",
              " 2    690.666667\n",
              " 3    693.000000\n",
              " 4    618.333333\n",
              " 5    674.333333\n",
              " 6    221.666667\n",
              " 7    618.333333\n",
              " 8    641.666667\n",
              " 9    361.666667\n",
              " dtype: float64)"
            ]
          },
          "metadata": {
            "tags": []
          },
          "execution_count": 154
        }
      ]
    },
    {
      "cell_type": "code",
      "metadata": {
        "colab": {
          "base_uri": "https://localhost:8080/"
        },
        "id": "YzfMMs5-uoEi",
        "outputId": "b35e165e-4bc9-4e47-f64c-2c5f0181f0d8"
      },
      "source": [
        "p['국어'].value_counts()    # 점수분포도 등 확인에 유용"
      ],
      "execution_count": null,
      "outputs": [
        {
          "output_type": "execute_result",
          "data": {
            "text/plain": [
              "90    3\n",
              "99    2\n",
              "95    1\n",
              "75    1\n",
              "15    1\n",
              "85    1\n",
              "50    1\n",
              "Name: 국어, dtype: int64"
            ]
          },
          "metadata": {
            "tags": []
          },
          "execution_count": 155
        }
      ]
    },
    {
      "cell_type": "code",
      "metadata": {
        "colab": {
          "base_uri": "https://localhost:8080/"
        },
        "id": "xBr6zRNpvO9X",
        "outputId": "f600df20-4f56-4c30-e2fc-0ad497a5d763"
      },
      "source": [
        "p['국어'].value_counts(ascending = False)"
      ],
      "execution_count": null,
      "outputs": [
        {
          "output_type": "execute_result",
          "data": {
            "text/plain": [
              "90    3\n",
              "99    2\n",
              "95    1\n",
              "75    1\n",
              "15    1\n",
              "85    1\n",
              "50    1\n",
              "Name: 국어, dtype: int64"
            ]
          },
          "metadata": {
            "tags": []
          },
          "execution_count": 158
        }
      ]
    },
    {
      "cell_type": "code",
      "metadata": {
        "colab": {
          "base_uri": "https://localhost:8080/"
        },
        "id": "jGZo1Es2vbLk",
        "outputId": "a4bf781a-0d9d-4b5a-dab2-41d75c9e32b9"
      },
      "source": [
        "p['국어'].sort_values()"
      ],
      "execution_count": null,
      "outputs": [
        {
          "output_type": "execute_result",
          "data": {
            "text/plain": [
              "6    15\n",
              "9    50\n",
              "1    75\n",
              "0    85\n",
              "4    90\n",
              "7    90\n",
              "8    90\n",
              "5    95\n",
              "2    99\n",
              "3    99\n",
              "Name: 국어, dtype: int64"
            ]
          },
          "metadata": {
            "tags": []
          },
          "execution_count": 159
        }
      ]
    },
    {
      "cell_type": "code",
      "metadata": {
        "colab": {
          "base_uri": "https://localhost:8080/"
        },
        "id": "_aon2KdDvl6J",
        "outputId": "39b1bdf0-d250-4ac8-ae09-fb3d33a20870"
      },
      "source": [
        "p['국어'].sort_values(ascending=False)"
      ],
      "execution_count": null,
      "outputs": [
        {
          "output_type": "execute_result",
          "data": {
            "text/plain": [
              "3    99\n",
              "2    99\n",
              "5    95\n",
              "8    90\n",
              "7    90\n",
              "4    90\n",
              "0    85\n",
              "1    75\n",
              "9    50\n",
              "6    15\n",
              "Name: 국어, dtype: int64"
            ]
          },
          "metadata": {
            "tags": []
          },
          "execution_count": 160
        }
      ]
    },
    {
      "cell_type": "code",
      "metadata": {
        "colab": {
          "base_uri": "https://localhost:8080/",
          "height": 349
        },
        "id": "nhtbOgdSvojN",
        "outputId": "1b0b0ba7-b6da-46d0-88ad-b58f169919c9"
      },
      "source": [
        "p.sort_values(by='영어')"
      ],
      "execution_count": null,
      "outputs": [
        {
          "output_type": "execute_result",
          "data": {
            "text/html": [
              "<div>\n",
              "<style scoped>\n",
              "    .dataframe tbody tr th:only-of-type {\n",
              "        vertical-align: middle;\n",
              "    }\n",
              "\n",
              "    .dataframe tbody tr th {\n",
              "        vertical-align: top;\n",
              "    }\n",
              "\n",
              "    .dataframe thead th {\n",
              "        text-align: right;\n",
              "    }\n",
              "</style>\n",
              "<table border=\"1\" class=\"dataframe\">\n",
              "  <thead>\n",
              "    <tr style=\"text-align: right;\">\n",
              "      <th></th>\n",
              "      <th>이름</th>\n",
              "      <th>국어</th>\n",
              "      <th>영어</th>\n",
              "      <th>수학</th>\n",
              "      <th>총점</th>\n",
              "      <th>평균</th>\n",
              "    </tr>\n",
              "  </thead>\n",
              "  <tbody>\n",
              "    <tr>\n",
              "      <th>6</th>\n",
              "      <td>임꺽정</td>\n",
              "      <td>15</td>\n",
              "      <td>35</td>\n",
              "      <td>45</td>\n",
              "      <td>95</td>\n",
              "      <td>31.666667</td>\n",
              "    </tr>\n",
              "    <tr>\n",
              "      <th>9</th>\n",
              "      <td>김도도</td>\n",
              "      <td>50</td>\n",
              "      <td>45</td>\n",
              "      <td>60</td>\n",
              "      <td>155</td>\n",
              "      <td>51.666667</td>\n",
              "    </tr>\n",
              "    <tr>\n",
              "      <th>1</th>\n",
              "      <td>강감찬</td>\n",
              "      <td>75</td>\n",
              "      <td>80</td>\n",
              "      <td>95</td>\n",
              "      <td>250</td>\n",
              "      <td>83.333333</td>\n",
              "    </tr>\n",
              "    <tr>\n",
              "      <th>4</th>\n",
              "      <td>안중근</td>\n",
              "      <td>90</td>\n",
              "      <td>85</td>\n",
              "      <td>90</td>\n",
              "      <td>265</td>\n",
              "      <td>88.333333</td>\n",
              "    </tr>\n",
              "    <tr>\n",
              "      <th>0</th>\n",
              "      <td>이순신</td>\n",
              "      <td>85</td>\n",
              "      <td>87</td>\n",
              "      <td>90</td>\n",
              "      <td>262</td>\n",
              "      <td>87.333333</td>\n",
              "    </tr>\n",
              "    <tr>\n",
              "      <th>8</th>\n",
              "      <td>정몽주</td>\n",
              "      <td>90</td>\n",
              "      <td>90</td>\n",
              "      <td>95</td>\n",
              "      <td>275</td>\n",
              "      <td>91.666667</td>\n",
              "    </tr>\n",
              "    <tr>\n",
              "      <th>7</th>\n",
              "      <td>김정호</td>\n",
              "      <td>90</td>\n",
              "      <td>95</td>\n",
              "      <td>80</td>\n",
              "      <td>265</td>\n",
              "      <td>88.333333</td>\n",
              "    </tr>\n",
              "    <tr>\n",
              "      <th>2</th>\n",
              "      <td>한석봉</td>\n",
              "      <td>99</td>\n",
              "      <td>98</td>\n",
              "      <td>99</td>\n",
              "      <td>296</td>\n",
              "      <td>98.666667</td>\n",
              "    </tr>\n",
              "    <tr>\n",
              "      <th>5</th>\n",
              "      <td>박문수</td>\n",
              "      <td>95</td>\n",
              "      <td>98</td>\n",
              "      <td>96</td>\n",
              "      <td>289</td>\n",
              "      <td>96.333333</td>\n",
              "    </tr>\n",
              "    <tr>\n",
              "      <th>3</th>\n",
              "      <td>황진이</td>\n",
              "      <td>99</td>\n",
              "      <td>99</td>\n",
              "      <td>99</td>\n",
              "      <td>297</td>\n",
              "      <td>99.000000</td>\n",
              "    </tr>\n",
              "  </tbody>\n",
              "</table>\n",
              "</div>"
            ],
            "text/plain": [
              "    이름  국어  영어  수학   총점         평균\n",
              "6  임꺽정  15  35  45   95  31.666667\n",
              "9  김도도  50  45  60  155  51.666667\n",
              "1  강감찬  75  80  95  250  83.333333\n",
              "4  안중근  90  85  90  265  88.333333\n",
              "0  이순신  85  87  90  262  87.333333\n",
              "8  정몽주  90  90  95  275  91.666667\n",
              "7  김정호  90  95  80  265  88.333333\n",
              "2  한석봉  99  98  99  296  98.666667\n",
              "5  박문수  95  98  96  289  96.333333\n",
              "3  황진이  99  99  99  297  99.000000"
            ]
          },
          "metadata": {
            "tags": []
          },
          "execution_count": 161
        }
      ]
    },
    {
      "cell_type": "code",
      "metadata": {
        "colab": {
          "base_uri": "https://localhost:8080/",
          "height": 349
        },
        "id": "UMCuIeSQvzzB",
        "outputId": "23c71649-e88c-459c-f902-112800841aff"
      },
      "source": [
        "p.sort_values(by=['영어', '수학'], inplace=True)    # inplace=True : 원본 값 자체를 바꿈\n",
        "p"
      ],
      "execution_count": null,
      "outputs": [
        {
          "output_type": "execute_result",
          "data": {
            "text/html": [
              "<div>\n",
              "<style scoped>\n",
              "    .dataframe tbody tr th:only-of-type {\n",
              "        vertical-align: middle;\n",
              "    }\n",
              "\n",
              "    .dataframe tbody tr th {\n",
              "        vertical-align: top;\n",
              "    }\n",
              "\n",
              "    .dataframe thead th {\n",
              "        text-align: right;\n",
              "    }\n",
              "</style>\n",
              "<table border=\"1\" class=\"dataframe\">\n",
              "  <thead>\n",
              "    <tr style=\"text-align: right;\">\n",
              "      <th></th>\n",
              "      <th>이름</th>\n",
              "      <th>국어</th>\n",
              "      <th>영어</th>\n",
              "      <th>수학</th>\n",
              "      <th>총점</th>\n",
              "      <th>평균</th>\n",
              "    </tr>\n",
              "  </thead>\n",
              "  <tbody>\n",
              "    <tr>\n",
              "      <th>6</th>\n",
              "      <td>임꺽정</td>\n",
              "      <td>15</td>\n",
              "      <td>35</td>\n",
              "      <td>45</td>\n",
              "      <td>95</td>\n",
              "      <td>31.666667</td>\n",
              "    </tr>\n",
              "    <tr>\n",
              "      <th>9</th>\n",
              "      <td>김도도</td>\n",
              "      <td>50</td>\n",
              "      <td>45</td>\n",
              "      <td>60</td>\n",
              "      <td>155</td>\n",
              "      <td>51.666667</td>\n",
              "    </tr>\n",
              "    <tr>\n",
              "      <th>1</th>\n",
              "      <td>강감찬</td>\n",
              "      <td>75</td>\n",
              "      <td>80</td>\n",
              "      <td>95</td>\n",
              "      <td>250</td>\n",
              "      <td>83.333333</td>\n",
              "    </tr>\n",
              "    <tr>\n",
              "      <th>4</th>\n",
              "      <td>안중근</td>\n",
              "      <td>90</td>\n",
              "      <td>85</td>\n",
              "      <td>90</td>\n",
              "      <td>265</td>\n",
              "      <td>88.333333</td>\n",
              "    </tr>\n",
              "    <tr>\n",
              "      <th>0</th>\n",
              "      <td>이순신</td>\n",
              "      <td>85</td>\n",
              "      <td>87</td>\n",
              "      <td>90</td>\n",
              "      <td>262</td>\n",
              "      <td>87.333333</td>\n",
              "    </tr>\n",
              "    <tr>\n",
              "      <th>8</th>\n",
              "      <td>정몽주</td>\n",
              "      <td>90</td>\n",
              "      <td>90</td>\n",
              "      <td>95</td>\n",
              "      <td>275</td>\n",
              "      <td>91.666667</td>\n",
              "    </tr>\n",
              "    <tr>\n",
              "      <th>7</th>\n",
              "      <td>김정호</td>\n",
              "      <td>90</td>\n",
              "      <td>95</td>\n",
              "      <td>80</td>\n",
              "      <td>265</td>\n",
              "      <td>88.333333</td>\n",
              "    </tr>\n",
              "    <tr>\n",
              "      <th>5</th>\n",
              "      <td>박문수</td>\n",
              "      <td>95</td>\n",
              "      <td>98</td>\n",
              "      <td>96</td>\n",
              "      <td>289</td>\n",
              "      <td>96.333333</td>\n",
              "    </tr>\n",
              "    <tr>\n",
              "      <th>2</th>\n",
              "      <td>한석봉</td>\n",
              "      <td>99</td>\n",
              "      <td>98</td>\n",
              "      <td>99</td>\n",
              "      <td>296</td>\n",
              "      <td>98.666667</td>\n",
              "    </tr>\n",
              "    <tr>\n",
              "      <th>3</th>\n",
              "      <td>황진이</td>\n",
              "      <td>99</td>\n",
              "      <td>99</td>\n",
              "      <td>99</td>\n",
              "      <td>297</td>\n",
              "      <td>99.000000</td>\n",
              "    </tr>\n",
              "  </tbody>\n",
              "</table>\n",
              "</div>"
            ],
            "text/plain": [
              "    이름  국어  영어  수학   총점         평균\n",
              "6  임꺽정  15  35  45   95  31.666667\n",
              "9  김도도  50  45  60  155  51.666667\n",
              "1  강감찬  75  80  95  250  83.333333\n",
              "4  안중근  90  85  90  265  88.333333\n",
              "0  이순신  85  87  90  262  87.333333\n",
              "8  정몽주  90  90  95  275  91.666667\n",
              "7  김정호  90  95  80  265  88.333333\n",
              "5  박문수  95  98  96  289  96.333333\n",
              "2  한석봉  99  98  99  296  98.666667\n",
              "3  황진이  99  99  99  297  99.000000"
            ]
          },
          "metadata": {
            "tags": []
          },
          "execution_count": 167
        }
      ]
    },
    {
      "cell_type": "code",
      "metadata": {
        "colab": {
          "base_uri": "https://localhost:8080/"
        },
        "id": "01N-Gtl3wBq4",
        "outputId": "a194c4fd-13d3-4092-b165-3877189a0e6b"
      },
      "source": [
        "p['영어'] + 5"
      ],
      "execution_count": null,
      "outputs": [
        {
          "output_type": "execute_result",
          "data": {
            "text/plain": [
              "6     40\n",
              "9     50\n",
              "1     85\n",
              "4     90\n",
              "0     92\n",
              "8     95\n",
              "7    100\n",
              "5    103\n",
              "2    103\n",
              "3    104\n",
              "Name: 영어, dtype: int64"
            ]
          },
          "metadata": {
            "tags": []
          },
          "execution_count": 173
        }
      ]
    },
    {
      "cell_type": "code",
      "metadata": {
        "id": "DaJD4D9Mwve1"
      },
      "source": [
        "def get_grade(x):\n",
        "    grade = ''\n",
        "    if x >= 90: grade = '수'\n",
        "    elif x >= 80: grade = '우'\n",
        "    elif x >= 70: grade = '미'\n",
        "    elif x >= 60: grade = '양'\n",
        "    else: grade = '가'\n",
        "    return grade\n",
        "p['평가'] = p['평균'].apply(lambda x: get_grade(x))"
      ],
      "execution_count": null,
      "outputs": []
    },
    {
      "cell_type": "code",
      "metadata": {
        "colab": {
          "base_uri": "https://localhost:8080/",
          "height": 349
        },
        "id": "-fnfCwP1xBZ4",
        "outputId": "7c73d672-cdef-4f08-a26b-65e8705b673a"
      },
      "source": [
        "p"
      ],
      "execution_count": null,
      "outputs": [
        {
          "output_type": "execute_result",
          "data": {
            "text/html": [
              "<div>\n",
              "<style scoped>\n",
              "    .dataframe tbody tr th:only-of-type {\n",
              "        vertical-align: middle;\n",
              "    }\n",
              "\n",
              "    .dataframe tbody tr th {\n",
              "        vertical-align: top;\n",
              "    }\n",
              "\n",
              "    .dataframe thead th {\n",
              "        text-align: right;\n",
              "    }\n",
              "</style>\n",
              "<table border=\"1\" class=\"dataframe\">\n",
              "  <thead>\n",
              "    <tr style=\"text-align: right;\">\n",
              "      <th></th>\n",
              "      <th>이름</th>\n",
              "      <th>국어</th>\n",
              "      <th>영어</th>\n",
              "      <th>수학</th>\n",
              "      <th>총점</th>\n",
              "      <th>평균</th>\n",
              "      <th>평가</th>\n",
              "    </tr>\n",
              "  </thead>\n",
              "  <tbody>\n",
              "    <tr>\n",
              "      <th>6</th>\n",
              "      <td>임꺽정</td>\n",
              "      <td>15</td>\n",
              "      <td>35</td>\n",
              "      <td>45</td>\n",
              "      <td>95</td>\n",
              "      <td>31.666667</td>\n",
              "      <td>가</td>\n",
              "    </tr>\n",
              "    <tr>\n",
              "      <th>9</th>\n",
              "      <td>김도도</td>\n",
              "      <td>50</td>\n",
              "      <td>45</td>\n",
              "      <td>60</td>\n",
              "      <td>155</td>\n",
              "      <td>51.666667</td>\n",
              "      <td>가</td>\n",
              "    </tr>\n",
              "    <tr>\n",
              "      <th>1</th>\n",
              "      <td>강감찬</td>\n",
              "      <td>75</td>\n",
              "      <td>80</td>\n",
              "      <td>95</td>\n",
              "      <td>250</td>\n",
              "      <td>83.333333</td>\n",
              "      <td>우</td>\n",
              "    </tr>\n",
              "    <tr>\n",
              "      <th>4</th>\n",
              "      <td>안중근</td>\n",
              "      <td>90</td>\n",
              "      <td>85</td>\n",
              "      <td>90</td>\n",
              "      <td>265</td>\n",
              "      <td>88.333333</td>\n",
              "      <td>우</td>\n",
              "    </tr>\n",
              "    <tr>\n",
              "      <th>0</th>\n",
              "      <td>이순신</td>\n",
              "      <td>85</td>\n",
              "      <td>87</td>\n",
              "      <td>90</td>\n",
              "      <td>262</td>\n",
              "      <td>87.333333</td>\n",
              "      <td>우</td>\n",
              "    </tr>\n",
              "    <tr>\n",
              "      <th>8</th>\n",
              "      <td>정몽주</td>\n",
              "      <td>90</td>\n",
              "      <td>90</td>\n",
              "      <td>95</td>\n",
              "      <td>275</td>\n",
              "      <td>91.666667</td>\n",
              "      <td>수</td>\n",
              "    </tr>\n",
              "    <tr>\n",
              "      <th>7</th>\n",
              "      <td>김정호</td>\n",
              "      <td>90</td>\n",
              "      <td>95</td>\n",
              "      <td>80</td>\n",
              "      <td>265</td>\n",
              "      <td>88.333333</td>\n",
              "      <td>우</td>\n",
              "    </tr>\n",
              "    <tr>\n",
              "      <th>5</th>\n",
              "      <td>박문수</td>\n",
              "      <td>95</td>\n",
              "      <td>98</td>\n",
              "      <td>96</td>\n",
              "      <td>289</td>\n",
              "      <td>96.333333</td>\n",
              "      <td>수</td>\n",
              "    </tr>\n",
              "    <tr>\n",
              "      <th>2</th>\n",
              "      <td>한석봉</td>\n",
              "      <td>99</td>\n",
              "      <td>98</td>\n",
              "      <td>99</td>\n",
              "      <td>296</td>\n",
              "      <td>98.666667</td>\n",
              "      <td>수</td>\n",
              "    </tr>\n",
              "    <tr>\n",
              "      <th>3</th>\n",
              "      <td>황진이</td>\n",
              "      <td>99</td>\n",
              "      <td>99</td>\n",
              "      <td>99</td>\n",
              "      <td>297</td>\n",
              "      <td>99.000000</td>\n",
              "      <td>수</td>\n",
              "    </tr>\n",
              "  </tbody>\n",
              "</table>\n",
              "</div>"
            ],
            "text/plain": [
              "    이름  국어  영어  수학   총점         평균 평가\n",
              "6  임꺽정  15  35  45   95  31.666667  가\n",
              "9  김도도  50  45  60  155  51.666667  가\n",
              "1  강감찬  75  80  95  250  83.333333  우\n",
              "4  안중근  90  85  90  265  88.333333  우\n",
              "0  이순신  85  87  90  262  87.333333  우\n",
              "8  정몽주  90  90  95  275  91.666667  수\n",
              "7  김정호  90  95  80  265  88.333333  우\n",
              "5  박문수  95  98  96  289  96.333333  수\n",
              "2  한석봉  99  98  99  296  98.666667  수\n",
              "3  황진이  99  99  99  297  99.000000  수"
            ]
          },
          "metadata": {
            "tags": []
          },
          "execution_count": 181
        }
      ]
    }
  ]
}