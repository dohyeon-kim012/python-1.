{
  "nbformat": 4,
  "nbformat_minor": 0,
  "metadata": {
    "colab": {
      "name": "연습장",
      "provenance": [],
      "collapsed_sections": [],
      "authorship_tag": "ABX9TyPJ2+FYlRvJNbq8LjlCP91Z",
      "include_colab_link": true
    },
    "kernelspec": {
      "name": "python3",
      "display_name": "Python 3"
    },
    "language_info": {
      "name": "python"
    }
  },
  "cells": [
    {
      "cell_type": "markdown",
      "metadata": {
        "id": "view-in-github",
        "colab_type": "text"
      },
      "source": [
        "<a href=\"https://colab.research.google.com/github/dohyeon-kim012/python-1./blob/main/%EC%97%B0%EC%8A%B5%EC%9E%A5_1.ipynb\" target=\"_parent\"><img src=\"https://colab.research.google.com/assets/colab-badge.svg\" alt=\"Open In Colab\"/></a>"
      ]
    },
    {
      "cell_type": "code",
      "metadata": {
        "id": "Q5axIA2EUXd7"
      },
      "source": [
        "a = \"Hello\"\n",
        "b = 10"
      ],
      "execution_count": null,
      "outputs": []
    },
    {
      "cell_type": "code",
      "metadata": {
        "colab": {
          "base_uri": "https://localhost:8080/"
        },
        "id": "J65JB9aqUbsB",
        "outputId": "152c4ee2-e8e4-4819-95d6-305c2b79b632"
      },
      "source": [
        "a, b"
      ],
      "execution_count": null,
      "outputs": [
        {
          "output_type": "execute_result",
          "data": {
            "text/plain": [
              "('Hello', 10)"
            ]
          },
          "metadata": {
            "tags": []
          },
          "execution_count": 2
        }
      ]
    },
    {
      "cell_type": "code",
      "metadata": {
        "colab": {
          "base_uri": "https://localhost:8080/"
        },
        "id": "FC1oA555UcOX",
        "outputId": "7310ef2c-70fe-43ea-9cce-ee7260d4a3cf"
      },
      "source": [
        "print( a, 10, 100, \"hi\", \"bye\", True, 3.14, b, sep=\"\" )"
      ],
      "execution_count": null,
      "outputs": [
        {
          "output_type": "stream",
          "text": [
            "Hello10100hibyeTrue3.1410\n"
          ],
          "name": "stdout"
        }
      ]
    },
    {
      "cell_type": "code",
      "metadata": {
        "id": "4-W2UQZYUmlE"
      },
      "source": [
        "_student = \"minho\""
      ],
      "execution_count": null,
      "outputs": []
    },
    {
      "cell_type": "code",
      "metadata": {
        "colab": {
          "base_uri": "https://localhost:8080/",
          "height": 35
        },
        "id": "6jkYDWMmVFjz",
        "outputId": "029521bd-9238-42c9-d59f-62bd4c23363c"
      },
      "source": [
        "_student"
      ],
      "execution_count": null,
      "outputs": [
        {
          "output_type": "execute_result",
          "data": {
            "application/vnd.google.colaboratory.intrinsic+json": {
              "type": "string"
            },
            "text/plain": [
              "'minho'"
            ]
          },
          "metadata": {
            "tags": []
          },
          "execution_count": 5
        }
      ]
    },
    {
      "cell_type": "code",
      "metadata": {
        "id": "BWlUwghGVGez"
      },
      "source": [
        "_student = \"dodo\""
      ],
      "execution_count": null,
      "outputs": []
    },
    {
      "cell_type": "code",
      "metadata": {
        "colab": {
          "base_uri": "https://localhost:8080/",
          "height": 35
        },
        "id": "EtnxpHxSVHyx",
        "outputId": "6891a827-4678-4f04-eb4e-48499e50e8eb"
      },
      "source": [
        "_student"
      ],
      "execution_count": null,
      "outputs": [
        {
          "output_type": "execute_result",
          "data": {
            "application/vnd.google.colaboratory.intrinsic+json": {
              "type": "string"
            },
            "text/plain": [
              "'dodo'"
            ]
          },
          "metadata": {
            "tags": []
          },
          "execution_count": 7
        }
      ]
    },
    {
      "cell_type": "code",
      "metadata": {
        "colab": {
          "base_uri": "https://localhost:8080/",
          "height": 137
        },
        "id": "JoR9IkxwVJMa",
        "outputId": "5b23dd80-51e8-49e5-ce4d-6c2e82e9b18a"
      },
      "source": [
        "name = \"김도도\"\n",
        "print(f'제 이름은 \"'{}'\"입니다.'.format(name))"
      ],
      "execution_count": null,
      "outputs": [
        {
          "output_type": "error",
          "ename": "SyntaxError",
          "evalue": "ignored",
          "traceback": [
            "\u001b[0;36m  File \u001b[0;32m\"<ipython-input-15-117b95b95958>\"\u001b[0;36m, line \u001b[0;32m2\u001b[0m\n\u001b[0;31m    print(f'제 이름은 \"'{}'\"입니다.'.format(name))\u001b[0m\n\u001b[0m                    ^\u001b[0m\n\u001b[0;31mSyntaxError\u001b[0m\u001b[0;31m:\u001b[0m invalid syntax\n"
          ]
        }
      ]
    },
    {
      "cell_type": "code",
      "metadata": {
        "colab": {
          "base_uri": "https://localhost:8080/"
        },
        "id": "IW2I8BmAWh_H",
        "outputId": "04a26062-e47f-4630-8129-bc5bb09d2138"
      },
      "source": [
        "print('제 이름은 \"'+name+'\" 입니다.')"
      ],
      "execution_count": null,
      "outputs": [
        {
          "output_type": "stream",
          "text": [
            "제 이름은 \"김도도\" 입니다.\n"
          ],
          "name": "stdout"
        }
      ]
    },
    {
      "cell_type": "code",
      "metadata": {
        "colab": {
          "base_uri": "https://localhost:8080/"
        },
        "id": "_zP-U_UvW0wB",
        "outputId": "1b82c1f0-2c2e-4f7c-f00e-b051f6de14fc"
      },
      "source": [
        "print(\"mon\", \"tue\", \"wed\", sep=\"/\")"
      ],
      "execution_count": null,
      "outputs": [
        {
          "output_type": "stream",
          "text": [
            "mon/tue/wed\n"
          ],
          "name": "stdout"
        }
      ]
    },
    {
      "cell_type": "code",
      "metadata": {
        "colab": {
          "base_uri": "https://localhost:8080/",
          "height": 35
        },
        "id": "O11mpWvKXEl4",
        "outputId": "622a45af-2977-426f-b38b-ec48d95ae797"
      },
      "source": [
        "a = 'hello world'\n",
        "a.replace('h', 'j')"
      ],
      "execution_count": null,
      "outputs": [
        {
          "output_type": "execute_result",
          "data": {
            "application/vnd.google.colaboratory.intrinsic+json": {
              "type": "string"
            },
            "text/plain": [
              "'jello world'"
            ]
          },
          "metadata": {
            "tags": []
          },
          "execution_count": 17
        }
      ]
    },
    {
      "cell_type": "code",
      "metadata": {
        "colab": {
          "base_uri": "https://localhost:8080/"
        },
        "id": "MLPgSk_qX9pw",
        "outputId": "e7141ad1-edf7-48fe-99fd-7c87bfc68f8b"
      },
      "source": [
        "name = '김도도'\n",
        "height = 165\n",
        "\n",
        "print(\"제 이름은 {}이구요, 키는 {}cm에요\".format(name, height))"
      ],
      "execution_count": null,
      "outputs": [
        {
          "output_type": "stream",
          "text": [
            "제 이름은 김도도이구요, 키는 165cm에요\n"
          ],
          "name": "stdout"
        }
      ]
    },
    {
      "cell_type": "code",
      "metadata": {
        "colab": {
          "base_uri": "https://localhost:8080/"
        },
        "id": "yjWiZmhjYAi4",
        "outputId": "b1ca0eb6-f864-43fb-e686-88760a71abcb"
      },
      "source": [
        "location = '과천'\n",
        "weather = '비가 온대요'\n",
        "\n",
        "print(\"제가 사는 곳은 {}이구요, 지금 밖에는 {}.\".format(location, weather))"
      ],
      "execution_count": null,
      "outputs": [
        {
          "output_type": "stream",
          "text": [
            "제가 사는 곳은 과천이구요, 지금 밖에는 비가 온대요.\n"
          ],
          "name": "stdout"
        }
      ]
    },
    {
      "cell_type": "code",
      "metadata": {
        "colab": {
          "base_uri": "https://localhost:8080/",
          "height": 192
        },
        "id": "cKpW12ImYZcm",
        "outputId": "67b092ef-7fa7-445b-933b-04def2590a10"
      },
      "source": [
        "sentence = \"오늘/날씨가/참/좋습니다.\"\n",
        "sentence.split('')"
      ],
      "execution_count": null,
      "outputs": [
        {
          "output_type": "error",
          "ename": "ValueError",
          "evalue": "ignored",
          "traceback": [
            "\u001b[0;31m---------------------------------------------------------------------------\u001b[0m",
            "\u001b[0;31mValueError\u001b[0m                                Traceback (most recent call last)",
            "\u001b[0;32m<ipython-input-27-05ebfaab71f7>\u001b[0m in \u001b[0;36m<module>\u001b[0;34m()\u001b[0m\n\u001b[1;32m      1\u001b[0m \u001b[0msentence\u001b[0m \u001b[0;34m=\u001b[0m \u001b[0;34m\"오늘/날씨가/참/좋습니다.\"\u001b[0m\u001b[0;34m\u001b[0m\u001b[0;34m\u001b[0m\u001b[0m\n\u001b[0;32m----> 2\u001b[0;31m \u001b[0msentence\u001b[0m\u001b[0;34m.\u001b[0m\u001b[0msplit\u001b[0m\u001b[0;34m(\u001b[0m\u001b[0;34m''\u001b[0m\u001b[0;34m)\u001b[0m\u001b[0;34m\u001b[0m\u001b[0;34m\u001b[0m\u001b[0m\n\u001b[0m",
            "\u001b[0;31mValueError\u001b[0m: empty separator"
          ]
        }
      ]
    },
    {
      "cell_type": "code",
      "metadata": {
        "colab": {
          "base_uri": "https://localhost:8080/"
        },
        "id": "a4Ipgi59Yih0",
        "outputId": "8e87a41f-8b14-45ec-ae1d-9142e35f365a"
      },
      "source": [
        "sentence.split()"
      ],
      "execution_count": null,
      "outputs": [
        {
          "output_type": "execute_result",
          "data": {
            "text/plain": [
              "['오늘', '날씨가', '참', '좋습니다.']"
            ]
          },
          "metadata": {
            "tags": []
          },
          "execution_count": 23
        }
      ]
    },
    {
      "cell_type": "code",
      "metadata": {
        "colab": {
          "base_uri": "https://localhost:8080/"
        },
        "id": "dlxr5zQ8YnTF",
        "outputId": "70419596-c781-4a05-a89e-d39be565a8c2"
      },
      "source": [
        "temp1 = \"20.3\"\n",
        "float(temp1) + 3"
      ],
      "execution_count": null,
      "outputs": [
        {
          "output_type": "execute_result",
          "data": {
            "text/plain": [
              "23.3"
            ]
          },
          "metadata": {
            "tags": []
          },
          "execution_count": 28
        }
      ]
    },
    {
      "cell_type": "code",
      "metadata": {
        "colab": {
          "base_uri": "https://localhost:8080/"
        },
        "id": "MSBzs9CBZDjR",
        "outputId": "ffac52f9-75b8-4ab9-fa3a-3b1a29a30d9a"
      },
      "source": [
        "temp2 = \"True\"\n",
        "bool(temp2) + True"
      ],
      "execution_count": null,
      "outputs": [
        {
          "output_type": "execute_result",
          "data": {
            "text/plain": [
              "2"
            ]
          },
          "metadata": {
            "tags": []
          },
          "execution_count": 29
        }
      ]
    },
    {
      "cell_type": "code",
      "metadata": {
        "colab": {
          "base_uri": "https://localhost:8080/"
        },
        "id": "KcMnOt46ZLyC",
        "outputId": "933cdb65-962f-45e4-d3e4-6502ac23212b"
      },
      "source": [
        "bool(temp2)"
      ],
      "execution_count": null,
      "outputs": [
        {
          "output_type": "execute_result",
          "data": {
            "text/plain": [
              "True"
            ]
          },
          "metadata": {
            "tags": []
          },
          "execution_count": 31
        }
      ]
    },
    {
      "cell_type": "code",
      "metadata": {
        "colab": {
          "base_uri": "https://localhost:8080/",
          "height": 192
        },
        "id": "HbRbJBeXZNC5",
        "outputId": "c068327d-3560-4493-f0bf-82338c1d0176"
      },
      "source": [
        "temp3 = \"abc\"\n",
        "float(temp3)"
      ],
      "execution_count": null,
      "outputs": [
        {
          "output_type": "error",
          "ename": "ValueError",
          "evalue": "ignored",
          "traceback": [
            "\u001b[0;31m---------------------------------------------------------------------------\u001b[0m",
            "\u001b[0;31mValueError\u001b[0m                                Traceback (most recent call last)",
            "\u001b[0;32m<ipython-input-32-4b2febb6e779>\u001b[0m in \u001b[0;36m<module>\u001b[0;34m()\u001b[0m\n\u001b[1;32m      1\u001b[0m \u001b[0mtemp3\u001b[0m \u001b[0;34m=\u001b[0m \u001b[0;34m\"abc\"\u001b[0m\u001b[0;34m\u001b[0m\u001b[0;34m\u001b[0m\u001b[0m\n\u001b[0;32m----> 2\u001b[0;31m \u001b[0mfloat\u001b[0m\u001b[0;34m(\u001b[0m\u001b[0mtemp3\u001b[0m\u001b[0;34m)\u001b[0m\u001b[0;34m\u001b[0m\u001b[0;34m\u001b[0m\u001b[0m\n\u001b[0m",
            "\u001b[0;31mValueError\u001b[0m: could not convert string to float: 'abc'"
          ]
        }
      ]
    },
    {
      "cell_type": "code",
      "metadata": {
        "colab": {
          "base_uri": "https://localhost:8080/"
        },
        "id": "sctSJ7X6ZSuw",
        "outputId": "3083796f-dd1b-409e-a02e-1a6c255ede36"
      },
      "source": [
        "list1 = []\n",
        "print(list1)"
      ],
      "execution_count": null,
      "outputs": [
        {
          "output_type": "stream",
          "text": [
            "[]\n"
          ],
          "name": "stdout"
        }
      ]
    },
    {
      "cell_type": "code",
      "metadata": {
        "colab": {
          "base_uri": "https://localhost:8080/"
        },
        "id": "4WUCUI5OZeAC",
        "outputId": "07c95ff1-68f6-4da9-d8b8-0d89e41ad2e7"
      },
      "source": [
        "list2 = [3, 1, 2, 5, 7]\n",
        "print(list2)"
      ],
      "execution_count": null,
      "outputs": [
        {
          "output_type": "stream",
          "text": [
            "[3, 1, 2, 5, 7]\n"
          ],
          "name": "stdout"
        }
      ]
    },
    {
      "cell_type": "code",
      "metadata": {
        "colab": {
          "base_uri": "https://localhost:8080/"
        },
        "id": "z0fo0gZNZhGE",
        "outputId": "3097d964-180e-435b-a2d9-b9054b5e70b3"
      },
      "source": [
        "list2[-1] = \"hello\"\n",
        "print(list2)"
      ],
      "execution_count": null,
      "outputs": [
        {
          "output_type": "stream",
          "text": [
            "[3, 1, 2, 5, 'hello']\n"
          ],
          "name": "stdout"
        }
      ]
    },
    {
      "cell_type": "code",
      "metadata": {
        "colab": {
          "base_uri": "https://localhost:8080/"
        },
        "id": "XSpzTOL_Z-of",
        "outputId": "faa12056-18c5-4b3c-a160-177df5e1f4cc"
      },
      "source": [
        "print(\"list2의 길이 : {}\".format(len(list2)))"
      ],
      "execution_count": null,
      "outputs": [
        {
          "output_type": "stream",
          "text": [
            "list2의 길이 : 5\n"
          ],
          "name": "stdout"
        }
      ]
    },
    {
      "cell_type": "code",
      "metadata": {
        "colab": {
          "base_uri": "https://localhost:8080/"
        },
        "id": "6ak-Sp0paHPd",
        "outputId": "1fa0635a-4cbe-4fb7-9b67-addc85aa9d07"
      },
      "source": [
        "list3 = [1, 1, 2, 3, 4, 5, 5]\n",
        "print(list3)"
      ],
      "execution_count": null,
      "outputs": [
        {
          "output_type": "stream",
          "text": [
            "[1, 1, 2, 3, 4, 5, 5]\n"
          ],
          "name": "stdout"
        }
      ]
    },
    {
      "cell_type": "code",
      "metadata": {
        "colab": {
          "base_uri": "https://localhost:8080/"
        },
        "id": "TDBGQF2iaLvW",
        "outputId": "e719735b-50e2-42e6-c62e-1196818e67b2"
      },
      "source": [
        "text1 = \"sentence\"\n",
        "print(list(text1))"
      ],
      "execution_count": null,
      "outputs": [
        {
          "output_type": "stream",
          "text": [
            "['s', 'e', 'n', 't', 'e', 'n', 'c', 'e']\n"
          ],
          "name": "stdout"
        }
      ]
    },
    {
      "cell_type": "code",
      "metadata": {
        "colab": {
          "base_uri": "https://localhost:8080/"
        },
        "id": "UZ7sGWvdahlY",
        "outputId": "095995c1-8b48-454c-a72a-45199b08220b"
      },
      "source": [
        "print(text1)"
      ],
      "execution_count": null,
      "outputs": [
        {
          "output_type": "stream",
          "text": [
            "sentence\n"
          ],
          "name": "stdout"
        }
      ]
    },
    {
      "cell_type": "code",
      "metadata": {
        "colab": {
          "base_uri": "https://localhost:8080/"
        },
        "id": "TBi4pHDraiVO",
        "outputId": "779b3aae-af87-4988-9731-a4e2cfe2e326"
      },
      "source": [
        "a = [1, 2, 3, 4, 5]\n",
        "a.insert(1, 4)\n",
        "\n",
        "a"
      ],
      "execution_count": null,
      "outputs": [
        {
          "output_type": "execute_result",
          "data": {
            "text/plain": [
              "[1, 4, 2, 3, 4, 5]"
            ]
          },
          "metadata": {
            "tags": []
          },
          "execution_count": 40
        }
      ]
    },
    {
      "cell_type": "code",
      "metadata": {
        "colab": {
          "base_uri": "https://localhost:8080/"
        },
        "id": "9Y5H52nsa41E",
        "outputId": "f372da0a-3325-406e-8d93-b0a61a2ce760"
      },
      "source": [
        "a[2] = 1\n",
        "a"
      ],
      "execution_count": null,
      "outputs": [
        {
          "output_type": "execute_result",
          "data": {
            "text/plain": [
              "[1, 4, 1, 3, 4, 5]"
            ]
          },
          "metadata": {
            "tags": []
          },
          "execution_count": 41
        }
      ]
    },
    {
      "cell_type": "code",
      "metadata": {
        "colab": {
          "base_uri": "https://localhost:8080/"
        },
        "id": "C2jVJVM8a-hg",
        "outputId": "357757c1-072f-4e41-e08f-8d60117a6702"
      },
      "source": [
        "a.remove(1)\n",
        "a"
      ],
      "execution_count": null,
      "outputs": [
        {
          "output_type": "execute_result",
          "data": {
            "text/plain": [
              "[4, 1, 3, 4, 5]"
            ]
          },
          "metadata": {
            "tags": []
          },
          "execution_count": 42
        }
      ]
    },
    {
      "cell_type": "code",
      "metadata": {
        "colab": {
          "base_uri": "https://localhost:8080/"
        },
        "id": "j1kmK8ONbEFY",
        "outputId": "cca0d534-3a31-4069-d8e8-4db026a5456c"
      },
      "source": [
        "del a[1]\n",
        "a"
      ],
      "execution_count": null,
      "outputs": [
        {
          "output_type": "execute_result",
          "data": {
            "text/plain": [
              "[4, 3, 4, 5]"
            ]
          },
          "metadata": {
            "tags": []
          },
          "execution_count": 43
        }
      ]
    },
    {
      "cell_type": "code",
      "metadata": {
        "colab": {
          "base_uri": "https://localhost:8080/"
        },
        "id": "yJXec2LKbKLN",
        "outputId": "b7706a9c-857e-44fb-b994-0d4911c1384d"
      },
      "source": [
        "b = a.pop(0)\n",
        "b, a"
      ],
      "execution_count": null,
      "outputs": [
        {
          "output_type": "execute_result",
          "data": {
            "text/plain": [
              "(3, [4, 5])"
            ]
          },
          "metadata": {
            "tags": []
          },
          "execution_count": 45
        }
      ]
    },
    {
      "cell_type": "code",
      "metadata": {
        "colab": {
          "base_uri": "https://localhost:8080/"
        },
        "id": "F-vE-UlIbcfe",
        "outputId": "6b0e02ed-6c5f-47b0-b921-b7109e3c3e45"
      },
      "source": [
        "a.index(5)"
      ],
      "execution_count": null,
      "outputs": [
        {
          "output_type": "execute_result",
          "data": {
            "text/plain": [
              "1"
            ]
          },
          "metadata": {
            "tags": []
          },
          "execution_count": 47
        }
      ]
    },
    {
      "cell_type": "code",
      "metadata": {
        "colab": {
          "base_uri": "https://localhost:8080/"
        },
        "id": "FcbmD6aVblFE",
        "outputId": "371ea34f-b84e-46d5-895d-8d85ab00260a"
      },
      "source": [
        "print( 3 in a )"
      ],
      "execution_count": null,
      "outputs": [
        {
          "output_type": "stream",
          "text": [
            "False\n"
          ],
          "name": "stdout"
        }
      ]
    },
    {
      "cell_type": "code",
      "metadata": {
        "colab": {
          "base_uri": "https://localhost:8080/"
        },
        "id": "YNTQESeDbpr_",
        "outputId": "61690c4b-36eb-45c8-aad7-54cf22cfb66c"
      },
      "source": [
        "a = [5, 2, 3, 1, 7, 6, 9]\n",
        "a.sort()\n",
        "a"
      ],
      "execution_count": null,
      "outputs": [
        {
          "output_type": "execute_result",
          "data": {
            "text/plain": [
              "[1, 2, 3, 5, 6, 7, 9]"
            ]
          },
          "metadata": {
            "tags": []
          },
          "execution_count": 49
        }
      ]
    },
    {
      "cell_type": "code",
      "metadata": {
        "id": "pGMa21WLcMlZ"
      },
      "source": [
        "a = [5, 2, 3, 1, 7, 6, 9]\n",
        "b = sorted(a)"
      ],
      "execution_count": null,
      "outputs": []
    },
    {
      "cell_type": "code",
      "metadata": {
        "colab": {
          "base_uri": "https://localhost:8080/"
        },
        "id": "xTh0w52fcPjm",
        "outputId": "5faf3dcd-9a25-4d4d-9abf-50aa703d0f65"
      },
      "source": [
        "a"
      ],
      "execution_count": null,
      "outputs": [
        {
          "output_type": "execute_result",
          "data": {
            "text/plain": [
              "[5, 2, 3, 1, 7, 6, 9]"
            ]
          },
          "metadata": {
            "tags": []
          },
          "execution_count": 51
        }
      ]
    },
    {
      "cell_type": "code",
      "metadata": {
        "colab": {
          "base_uri": "https://localhost:8080/"
        },
        "id": "tSDeLX7EcP6E",
        "outputId": "383606b3-fd42-4d21-f6ba-5d98926d8445"
      },
      "source": [
        "b"
      ],
      "execution_count": null,
      "outputs": [
        {
          "output_type": "execute_result",
          "data": {
            "text/plain": [
              "[1, 2, 3, 5, 6, 7, 9]"
            ]
          },
          "metadata": {
            "tags": []
          },
          "execution_count": 53
        }
      ]
    },
    {
      "cell_type": "code",
      "metadata": {
        "colab": {
          "base_uri": "https://localhost:8080/"
        },
        "id": "lg6icD72cS7E",
        "outputId": "b7920778-c3eb-4f9e-ddc6-a29177058e7b"
      },
      "source": [
        "a.sort(reverse=True)\n",
        "a"
      ],
      "execution_count": null,
      "outputs": [
        {
          "output_type": "execute_result",
          "data": {
            "text/plain": [
              "[9, 7, 6, 5, 3, 2, 1]"
            ]
          },
          "metadata": {
            "tags": []
          },
          "execution_count": 54
        }
      ]
    },
    {
      "cell_type": "code",
      "metadata": {
        "colab": {
          "base_uri": "https://localhost:8080/"
        },
        "id": "IGXGhuX5cZg5",
        "outputId": "c01811a4-7ce8-4dbf-b78b-11545213b12a"
      },
      "source": [
        "a = 1, 2, 3\n",
        "a"
      ],
      "execution_count": null,
      "outputs": [
        {
          "output_type": "execute_result",
          "data": {
            "text/plain": [
              "(1, 2, 3)"
            ]
          },
          "metadata": {
            "tags": []
          },
          "execution_count": 55
        }
      ]
    },
    {
      "cell_type": "code",
      "metadata": {
        "colab": {
          "base_uri": "https://localhost:8080/"
        },
        "id": "lAzqYWPXctvO",
        "outputId": "b55acb92-dac5-49e3-9731-e537a171779f"
      },
      "source": [
        "a1, a2, a3 = a\n",
        "a1, a2, a3"
      ],
      "execution_count": null,
      "outputs": [
        {
          "output_type": "execute_result",
          "data": {
            "text/plain": [
              "(1, 2, 3)"
            ]
          },
          "metadata": {
            "tags": []
          },
          "execution_count": 56
        }
      ]
    },
    {
      "cell_type": "code",
      "metadata": {
        "id": "xX6md5XRcz8S"
      },
      "source": [
        "_, a1, _ = a"
      ],
      "execution_count": null,
      "outputs": []
    },
    {
      "cell_type": "code",
      "metadata": {
        "colab": {
          "base_uri": "https://localhost:8080/"
        },
        "id": "K3EFTiJLdGp7",
        "outputId": "55c36804-e817-4435-b6ff-f3410d1883b7"
      },
      "source": [
        "a1"
      ],
      "execution_count": null,
      "outputs": [
        {
          "output_type": "execute_result",
          "data": {
            "text/plain": [
              "2"
            ]
          },
          "metadata": {
            "tags": []
          },
          "execution_count": 60
        }
      ]
    },
    {
      "cell_type": "code",
      "metadata": {
        "colab": {
          "base_uri": "https://localhost:8080/",
          "height": 192
        },
        "id": "2YmsX6FGdHWE",
        "outputId": "faec8f97-7acd-45d4-d4c8-e5b350527818"
      },
      "source": [
        "text = \"sentence\"\n",
        "text[2] = \"1\""
      ],
      "execution_count": null,
      "outputs": [
        {
          "output_type": "error",
          "ename": "TypeError",
          "evalue": "ignored",
          "traceback": [
            "\u001b[0;31m---------------------------------------------------------------------------\u001b[0m",
            "\u001b[0;31mTypeError\u001b[0m                                 Traceback (most recent call last)",
            "\u001b[0;32m<ipython-input-61-a47399a5ce77>\u001b[0m in \u001b[0;36m<module>\u001b[0;34m()\u001b[0m\n\u001b[1;32m      1\u001b[0m \u001b[0mtext\u001b[0m \u001b[0;34m=\u001b[0m \u001b[0;34m\"sentence\"\u001b[0m\u001b[0;34m\u001b[0m\u001b[0;34m\u001b[0m\u001b[0m\n\u001b[0;32m----> 2\u001b[0;31m \u001b[0mtext\u001b[0m\u001b[0;34m[\u001b[0m\u001b[0;36m2\u001b[0m\u001b[0;34m]\u001b[0m \u001b[0;34m=\u001b[0m \u001b[0;34m\"1\"\u001b[0m\u001b[0;34m\u001b[0m\u001b[0;34m\u001b[0m\u001b[0m\n\u001b[0m",
            "\u001b[0;31mTypeError\u001b[0m: 'str' object does not support item assignment"
          ]
        }
      ]
    },
    {
      "cell_type": "code",
      "metadata": {
        "colab": {
          "base_uri": "https://localhost:8080/"
        },
        "id": "R_tQERJUd7_z",
        "outputId": "43dbb7ef-1f19-40ea-eaef-7a5c2dd4db62"
      },
      "source": [
        "text_list = list(text)\n",
        "text_list"
      ],
      "execution_count": null,
      "outputs": [
        {
          "output_type": "execute_result",
          "data": {
            "text/plain": [
              "['s', 'e', 'n', 't', 'e', 'n', 'c', 'e']"
            ]
          },
          "metadata": {
            "tags": []
          },
          "execution_count": 62
        }
      ]
    },
    {
      "cell_type": "code",
      "metadata": {
        "colab": {
          "base_uri": "https://localhost:8080/"
        },
        "id": "44jgDE6ed--N",
        "outputId": "300d085b-09c0-41b4-d036-604ca41c093e"
      },
      "source": [
        "text_list[2] = \"i\"\n",
        "text_list"
      ],
      "execution_count": null,
      "outputs": [
        {
          "output_type": "execute_result",
          "data": {
            "text/plain": [
              "['s', 'e', 'i', 't', 'e', 'n', 'c', 'e']"
            ]
          },
          "metadata": {
            "tags": []
          },
          "execution_count": 63
        }
      ]
    },
    {
      "cell_type": "code",
      "metadata": {
        "colab": {
          "base_uri": "https://localhost:8080/",
          "height": 35
        },
        "id": "9WHvb-qUeDya",
        "outputId": "5766a552-7327-4340-ef20-410df9c6eee2"
      },
      "source": [
        "b = str(text_list)\n",
        "b"
      ],
      "execution_count": null,
      "outputs": [
        {
          "output_type": "execute_result",
          "data": {
            "application/vnd.google.colaboratory.intrinsic+json": {
              "type": "string"
            },
            "text/plain": [
              "\"['s', 'e', 'i', 't', 'e', 'n', 'c', 'e']\""
            ]
          },
          "metadata": {
            "tags": []
          },
          "execution_count": 64
        }
      ]
    },
    {
      "cell_type": "code",
      "metadata": {
        "colab": {
          "base_uri": "https://localhost:8080/"
        },
        "id": "jEUA7Fq2eIX9",
        "outputId": "804dc6ce-3474-468e-d211-e0834fcd06fe"
      },
      "source": [
        "text_list"
      ],
      "execution_count": null,
      "outputs": [
        {
          "output_type": "execute_result",
          "data": {
            "text/plain": [
              "['s', 'e', 'i', 't', 'e', 'n', 'c', 'e']"
            ]
          },
          "metadata": {
            "tags": []
          },
          "execution_count": 66
        }
      ]
    },
    {
      "cell_type": "code",
      "metadata": {
        "colab": {
          "base_uri": "https://localhost:8080/",
          "height": 35
        },
        "id": "NTS4t6lReKLY",
        "outputId": "6f690d83-3991-484d-c8ba-085580034ed4"
      },
      "source": [
        "''.join(text_list)"
      ],
      "execution_count": null,
      "outputs": [
        {
          "output_type": "execute_result",
          "data": {
            "application/vnd.google.colaboratory.intrinsic+json": {
              "type": "string"
            },
            "text/plain": [
              "'seitence'"
            ]
          },
          "metadata": {
            "tags": []
          },
          "execution_count": 68
        }
      ]
    },
    {
      "cell_type": "code",
      "metadata": {
        "colab": {
          "base_uri": "https://localhost:8080/",
          "height": 35
        },
        "id": "9z8F0_yEeRDm",
        "outputId": "956fa1db-a89c-4376-81e6-ab226f9e0a1c"
      },
      "source": [
        "'*'.join(text_list)"
      ],
      "execution_count": null,
      "outputs": [
        {
          "output_type": "execute_result",
          "data": {
            "application/vnd.google.colaboratory.intrinsic+json": {
              "type": "string"
            },
            "text/plain": [
              "'s*e*i*t*e*n*c*e'"
            ]
          },
          "metadata": {
            "tags": []
          },
          "execution_count": 69
        }
      ]
    },
    {
      "cell_type": "code",
      "metadata": {
        "colab": {
          "base_uri": "https://localhost:8080/",
          "height": 35
        },
        "id": "DrO9F8rvf0QM",
        "outputId": "0cb2ce62-8819-4181-d6b7-7ef09fba3248"
      },
      "source": [
        "'r'+'#'.join(text_list)"
      ],
      "execution_count": null,
      "outputs": [
        {
          "output_type": "execute_result",
          "data": {
            "application/vnd.google.colaboratory.intrinsic+json": {
              "type": "string"
            },
            "text/plain": [
              "'rs#e#i#t#e#n#c#e'"
            ]
          },
          "metadata": {
            "tags": []
          },
          "execution_count": 72
        }
      ]
    },
    {
      "cell_type": "code",
      "metadata": {
        "colab": {
          "base_uri": "https://localhost:8080/",
          "height": 35
        },
        "id": "TKObgaXzf3rh",
        "outputId": "fdfc5bf4-3415-4121-fc7f-a8becd54bf7b"
      },
      "source": [
        "single_list = [\"트와이스\", \"블랙핑크\", \"방탄\"]\n",
        "single_list[0][1:3]"
      ],
      "execution_count": null,
      "outputs": [
        {
          "output_type": "execute_result",
          "data": {
            "application/vnd.google.colaboratory.intrinsic+json": {
              "type": "string"
            },
            "text/plain": [
              "'와이'"
            ]
          },
          "metadata": {
            "tags": []
          },
          "execution_count": 73
        }
      ]
    },
    {
      "cell_type": "code",
      "metadata": {
        "id": "zcg37K0AgRQN"
      },
      "source": [
        "tup_tup = ( (1, (2, 3)), 4, (5, 6), 7, 8, 9)\n",
        "((n1, (n2, n3)), n4, (n5, n6), n7, n8, n9) = tup_tup"
      ],
      "execution_count": null,
      "outputs": []
    },
    {
      "cell_type": "code",
      "metadata": {
        "id": "yI_SfoNXhBcJ"
      },
      "source": [
        "list_ = [n1,n2,n3 , n4 , n5 , n6, n7, n8, n9]"
      ],
      "execution_count": null,
      "outputs": []
    },
    {
      "cell_type": "code",
      "metadata": {
        "colab": {
          "base_uri": "https://localhost:8080/",
          "height": 174
        },
        "id": "sV3uEzXthMas",
        "outputId": "25487b90-6ec8-4657-b34f-51b30a4da996"
      },
      "source": [
        "list(list_)"
      ],
      "execution_count": null,
      "outputs": [
        {
          "output_type": "error",
          "ename": "TypeError",
          "evalue": "ignored",
          "traceback": [
            "\u001b[0;31m---------------------------------------------------------------------------\u001b[0m",
            "\u001b[0;31mTypeError\u001b[0m                                 Traceback (most recent call last)",
            "\u001b[0;32m<ipython-input-84-c7ef4ce2eedc>\u001b[0m in \u001b[0;36m<module>\u001b[0;34m()\u001b[0m\n\u001b[0;32m----> 1\u001b[0;31m \u001b[0mlist\u001b[0m\u001b[0;34m(\u001b[0m\u001b[0mlist_\u001b[0m\u001b[0;34m)\u001b[0m\u001b[0;34m\u001b[0m\u001b[0;34m\u001b[0m\u001b[0m\n\u001b[0m",
            "\u001b[0;31mTypeError\u001b[0m: 'tuple' object is not callable"
          ]
        }
      ]
    },
    {
      "cell_type": "code",
      "metadata": {
        "colab": {
          "base_uri": "https://localhost:8080/",
          "height": 174
        },
        "id": "dAfqktAbhd08",
        "outputId": "2eec7ed5-f0ff-4cf0-9c20-40718c28a74b"
      },
      "source": [
        "''.join(list_)"
      ],
      "execution_count": null,
      "outputs": [
        {
          "output_type": "error",
          "ename": "TypeError",
          "evalue": "ignored",
          "traceback": [
            "\u001b[0;31m---------------------------------------------------------------------------\u001b[0m",
            "\u001b[0;31mTypeError\u001b[0m                                 Traceback (most recent call last)",
            "\u001b[0;32m<ipython-input-90-672398bca6e6>\u001b[0m in \u001b[0;36m<module>\u001b[0;34m()\u001b[0m\n\u001b[0;32m----> 1\u001b[0;31m \u001b[0;34m''\u001b[0m\u001b[0;34m.\u001b[0m\u001b[0mjoin\u001b[0m\u001b[0;34m(\u001b[0m\u001b[0mlist_\u001b[0m\u001b[0;34m)\u001b[0m\u001b[0;34m\u001b[0m\u001b[0;34m\u001b[0m\u001b[0m\n\u001b[0m",
            "\u001b[0;31mTypeError\u001b[0m: sequence item 0: expected str instance, int found"
          ]
        }
      ]
    },
    {
      "cell_type": "code",
      "metadata": {
        "colab": {
          "base_uri": "https://localhost:8080/",
          "height": 174
        },
        "id": "taUpTbyfhfAg",
        "outputId": "a8471771-2aba-4bc7-e391-1de6e8c31031"
      },
      "source": [
        "print(list_.split(\"\"))"
      ],
      "execution_count": null,
      "outputs": [
        {
          "output_type": "error",
          "ename": "AttributeError",
          "evalue": "ignored",
          "traceback": [
            "\u001b[0;31m---------------------------------------------------------------------------\u001b[0m",
            "\u001b[0;31mAttributeError\u001b[0m                            Traceback (most recent call last)",
            "\u001b[0;32m<ipython-input-89-79ca57ec742e>\u001b[0m in \u001b[0;36m<module>\u001b[0;34m()\u001b[0m\n\u001b[0;32m----> 1\u001b[0;31m \u001b[0mprint\u001b[0m\u001b[0;34m(\u001b[0m\u001b[0mlist_\u001b[0m\u001b[0;34m.\u001b[0m\u001b[0msplit\u001b[0m\u001b[0;34m(\u001b[0m\u001b[0;34m\"\"\u001b[0m\u001b[0;34m)\u001b[0m\u001b[0;34m)\u001b[0m\u001b[0;34m\u001b[0m\u001b[0;34m\u001b[0m\u001b[0m\n\u001b[0m",
            "\u001b[0;31mAttributeError\u001b[0m: 'list' object has no attribute 'split'"
          ]
        }
      ]
    },
    {
      "cell_type": "code",
      "metadata": {
        "colab": {
          "base_uri": "https://localhost:8080/"
        },
        "id": "CByLPc5WiLVe",
        "outputId": "4919eb1f-7340-4c7f-c071-799d306ccb17"
      },
      "source": [
        "a = {1, 2, 3}\n",
        "b = {2, 3, 4}\n",
        "\n",
        "print(\"a와 b의 교집합 : {}\".format(a.intersection(b)))"
      ],
      "execution_count": null,
      "outputs": [
        {
          "output_type": "stream",
          "text": [
            "a와 b의 교집합 : {2, 3}\n"
          ],
          "name": "stdout"
        }
      ]
    },
    {
      "cell_type": "code",
      "metadata": {
        "colab": {
          "base_uri": "https://localhost:8080/"
        },
        "id": "AWRf0p6GkGyv",
        "outputId": "2b1d5b77-90ab-4342-fd8d-5aa9badb552d"
      },
      "source": [
        "print(\"a와 b의 합집합 : {}\".format(a.union(b)))"
      ],
      "execution_count": null,
      "outputs": [
        {
          "output_type": "stream",
          "text": [
            "a와 b의 합집합 : {1, 2, 3, 4}\n"
          ],
          "name": "stdout"
        }
      ]
    },
    {
      "cell_type": "code",
      "metadata": {
        "colab": {
          "base_uri": "https://localhost:8080/"
        },
        "id": "DnR6ZYPMkWP9",
        "outputId": "b019a215-bac4-4840-f9db-d134a38e18f7"
      },
      "source": [
        "print(\"a와 b의 차집합 : {}\".format(a.difference(b)))"
      ],
      "execution_count": null,
      "outputs": [
        {
          "output_type": "stream",
          "text": [
            "a와 b의 차집합 : {1}\n"
          ],
          "name": "stdout"
        }
      ]
    },
    {
      "cell_type": "code",
      "metadata": {
        "colab": {
          "base_uri": "https://localhost:8080/"
        },
        "id": "SpYozWdVka26",
        "outputId": "cdd0b3af-30a6-4afd-9c5a-dcc0cc9916fb"
      },
      "source": [
        "c = {2, 3}\n",
        "print(\"b는 a의 부분 집합인가? : {}\".format(b.issubset(a)))\n",
        "print(\"c는 a의 부분 집합인가? : {}\".format(c.issubset(a)))"
      ],
      "execution_count": null,
      "outputs": [
        {
          "output_type": "stream",
          "text": [
            "b는 a의 부분 집합인가? : False\n",
            "c는 a의 부분 집합인가? : True\n"
          ],
          "name": "stdout"
        }
      ]
    },
    {
      "cell_type": "code",
      "metadata": {
        "colab": {
          "base_uri": "https://localhost:8080/"
        },
        "id": "fdqsEd4IkpX9",
        "outputId": "7e6b1d53-4543-40ea-91c8-3a0273ba0fa8"
      },
      "source": [
        "print(\"c는 c의 부분 집합인가? : {}\".format(c.issubset(c)))"
      ],
      "execution_count": null,
      "outputs": [
        {
          "output_type": "stream",
          "text": [
            "c는 c의 부분 집합인가? : True\n"
          ],
          "name": "stdout"
        }
      ]
    },
    {
      "cell_type": "code",
      "metadata": {
        "colab": {
          "base_uri": "https://localhost:8080/"
        },
        "id": "zF3W-n29kxTk",
        "outputId": "8abadd73-a21c-48e4-e162-24b0bcb068d8"
      },
      "source": [
        "fruit = {\"banana\", \"apple\", \"grape\"}\n",
        "print(fruit)"
      ],
      "execution_count": null,
      "outputs": [
        {
          "output_type": "stream",
          "text": [
            "{'banana', 'apple', 'grape'}\n"
          ],
          "name": "stdout"
        }
      ]
    },
    {
      "cell_type": "code",
      "metadata": {
        "id": "vS9sqVAxk1wh"
      },
      "source": [
        "a = {\n",
        "    \"Korea\" : \"Seoul\",\n",
        "     \"Canada\" : \"Ottawa\",\n",
        "     \"Japan\" : \"Tokyo\"\n",
        "}"
      ],
      "execution_count": null,
      "outputs": []
    },
    {
      "cell_type": "code",
      "metadata": {
        "colab": {
          "base_uri": "https://localhost:8080/",
          "height": 35
        },
        "id": "ZYeeCxvDlJez",
        "outputId": "acc11934-d09d-4ff9-cd40-94249f78e9a4"
      },
      "source": [
        "a[\"Japan\"]"
      ],
      "execution_count": null,
      "outputs": [
        {
          "output_type": "execute_result",
          "data": {
            "application/vnd.google.colaboratory.intrinsic+json": {
              "type": "string"
            },
            "text/plain": [
              "'Tokyo'"
            ]
          },
          "metadata": {
            "tags": []
          },
          "execution_count": 99
        }
      ]
    },
    {
      "cell_type": "code",
      "metadata": {
        "colab": {
          "base_uri": "https://localhost:8080/",
          "height": 35
        },
        "id": "Ecs6-UQWlKeq",
        "outputId": "faba6eab-94a1-4ee7-d3f0-66e994c2e357"
      },
      "source": [
        "a[\"Canada\"]"
      ],
      "execution_count": null,
      "outputs": [
        {
          "output_type": "execute_result",
          "data": {
            "application/vnd.google.colaboratory.intrinsic+json": {
              "type": "string"
            },
            "text/plain": [
              "'Ottawa'"
            ]
          },
          "metadata": {
            "tags": []
          },
          "execution_count": 100
        }
      ]
    },
    {
      "cell_type": "code",
      "metadata": {
        "colab": {
          "base_uri": "https://localhost:8080/"
        },
        "id": "5qhx557glMNN",
        "outputId": "76d214bd-edb8-4362-d5cc-e75b77e9731d"
      },
      "source": [
        "a[\"China\"] = \"Beijing\"\n",
        "print(a)"
      ],
      "execution_count": null,
      "outputs": [
        {
          "output_type": "stream",
          "text": [
            "{'Korea': 'Seoul', 'Canada': 'Ottawa', 'Japan': 'Tokyo', 'China': 'Beijing'}\n"
          ],
          "name": "stdout"
        }
      ]
    },
    {
      "cell_type": "code",
      "metadata": {
        "colab": {
          "base_uri": "https://localhost:8080/"
        },
        "id": "Wy5o_KDclUbY",
        "outputId": "f7dde338-da97-4dcd-b0ff-912b95186f48"
      },
      "source": [
        "a[\"Japan\"] = \"Kyoto\"\n",
        "print(a)"
      ],
      "execution_count": null,
      "outputs": [
        {
          "output_type": "stream",
          "text": [
            "{'Korea': 'Seoul', 'Canada': 'Ottawa', 'Japan': 'Kyoto', 'China': 'Beijing'}\n"
          ],
          "name": "stdout"
        }
      ]
    },
    {
      "cell_type": "code",
      "metadata": {
        "id": "mF6ddd9plYeW"
      },
      "source": [
        "a = {\"a\" : 1, \"b\" : 2, \"c\" : 3}\n",
        "b = {\"d\" : 1, \"e\" : 2, \"f\" : 3}"
      ],
      "execution_count": null,
      "outputs": []
    },
    {
      "cell_type": "code",
      "metadata": {
        "id": "KYrHdWRnlxcx"
      },
      "source": [
        "a.update(b)"
      ],
      "execution_count": null,
      "outputs": []
    },
    {
      "cell_type": "code",
      "metadata": {
        "colab": {
          "base_uri": "https://localhost:8080/"
        },
        "id": "2Ay65OiDl_22",
        "outputId": "97c8c61c-fa63-406c-b85a-3f1f0c5131b6"
      },
      "source": [
        "print(a)"
      ],
      "execution_count": null,
      "outputs": [
        {
          "output_type": "stream",
          "text": [
            "{'a': 1, 'b': 2, 'c': 3, 'd': 1, 'e': 2, 'f': 3}\n"
          ],
          "name": "stdout"
        }
      ]
    },
    {
      "cell_type": "code",
      "metadata": {
        "colab": {
          "base_uri": "https://localhost:8080/"
        },
        "id": "hC5enn-8mB2k",
        "outputId": "5fc44d0f-9a10-4710-bb16-705918d448f4"
      },
      "source": [
        "a = {\"a\" : 1, \"b\" : 2, \"c\" : 3}\n",
        "b = {\"a\" : 4, \"e\" : 5, \"c\" : 6}\n",
        "a.update(b)\n",
        "print(a)"
      ],
      "execution_count": null,
      "outputs": [
        {
          "output_type": "stream",
          "text": [
            "{'a': 4, 'b': 2, 'c': 6, 'e': 5}\n"
          ],
          "name": "stdout"
        }
      ]
    },
    {
      "cell_type": "code",
      "metadata": {
        "colab": {
          "base_uri": "https://localhost:8080/"
        },
        "id": "VEyZYXWrmUGt",
        "outputId": "8d2d6587-14af-4d09-8843-d6592ca08710"
      },
      "source": [
        "a = {\n",
        "    'a':1,\n",
        "    'b':2,\n",
        "    'c':3\n",
        "}\n",
        "\n",
        "print(a)"
      ],
      "execution_count": null,
      "outputs": [
        {
          "output_type": "stream",
          "text": [
            "{'a': 1, 'b': 2, 'c': 3}\n"
          ],
          "name": "stdout"
        }
      ]
    },
    {
      "cell_type": "code",
      "metadata": {
        "colab": {
          "base_uri": "https://localhost:8080/"
        },
        "id": "kB-hna_0mwlv",
        "outputId": "6de27114-9497-4568-e18d-2b3aace4a37e"
      },
      "source": [
        "a.pop('b')"
      ],
      "execution_count": null,
      "outputs": [
        {
          "output_type": "execute_result",
          "data": {
            "text/plain": [
              "2"
            ]
          },
          "metadata": {
            "tags": []
          },
          "execution_count": 110
        }
      ]
    },
    {
      "cell_type": "code",
      "metadata": {
        "colab": {
          "base_uri": "https://localhost:8080/"
        },
        "id": "GII0CIECmy4n",
        "outputId": "ccb6be1f-5564-4592-814a-10fa79e65155"
      },
      "source": [
        "a"
      ],
      "execution_count": null,
      "outputs": [
        {
          "output_type": "execute_result",
          "data": {
            "text/plain": [
              "{'a': 1, 'c': 3}"
            ]
          },
          "metadata": {
            "tags": []
          },
          "execution_count": 111
        }
      ]
    },
    {
      "cell_type": "code",
      "metadata": {
        "colab": {
          "base_uri": "https://localhost:8080/"
        },
        "id": "6_PDoSL4m0U_",
        "outputId": "20367ce9-fe33-4240-c85a-28c8ccd255f7"
      },
      "source": [
        "del a['a']\n",
        "print(a)"
      ],
      "execution_count": null,
      "outputs": [
        {
          "output_type": "stream",
          "text": [
            "{'c': 3}\n"
          ],
          "name": "stdout"
        }
      ]
    },
    {
      "cell_type": "code",
      "metadata": {
        "colab": {
          "base_uri": "https://localhost:8080/"
        },
        "id": "YomeocBDm3-l",
        "outputId": "7e11495c-bc4d-47e4-94a6-a565c7b712de"
      },
      "source": [
        "a = {\n",
        "    'a':1,\n",
        "    'b':2,\n",
        "     'c':3\n",
        "}\n",
        "\n",
        "a.clear()\n",
        "print(a)"
      ],
      "execution_count": null,
      "outputs": [
        {
          "output_type": "stream",
          "text": [
            "{}\n"
          ],
          "name": "stdout"
        }
      ]
    },
    {
      "cell_type": "code",
      "metadata": {
        "colab": {
          "base_uri": "https://localhost:8080/"
        },
        "id": "1aydI7TVm-da",
        "outputId": "c60b3fe5-1a11-4af9-9677-6a535912150e"
      },
      "source": [
        "a = {\n",
        "    'a':1,\n",
        "     'b':2,\n",
        "     'c':3\n",
        "}\n",
        "\n",
        "print('a' in a)\n",
        "print('d' in a)"
      ],
      "execution_count": null,
      "outputs": [
        {
          "output_type": "stream",
          "text": [
            "True\n",
            "False\n"
          ],
          "name": "stdout"
        }
      ]
    },
    {
      "cell_type": "code",
      "metadata": {
        "colab": {
          "base_uri": "https://localhost:8080/"
        },
        "id": "uIiuiZoxnKdj",
        "outputId": "5fb200fd-0752-402f-8eac-d5aa332239fa"
      },
      "source": [
        "'a' in a"
      ],
      "execution_count": null,
      "outputs": [
        {
          "output_type": "execute_result",
          "data": {
            "text/plain": [
              "True"
            ]
          },
          "metadata": {
            "tags": []
          },
          "execution_count": 115
        }
      ]
    },
    {
      "cell_type": "code",
      "metadata": {
        "colab": {
          "base_uri": "https://localhost:8080/"
        },
        "id": "XfNoabhgnNkY",
        "outputId": "86638363-65da-4db7-ad74-0dbf89e3f8ab"
      },
      "source": [
        "print(a.get('d'))"
      ],
      "execution_count": null,
      "outputs": [
        {
          "output_type": "stream",
          "text": [
            "None\n"
          ],
          "name": "stdout"
        }
      ]
    },
    {
      "cell_type": "code",
      "metadata": {
        "colab": {
          "base_uri": "https://localhost:8080/"
        },
        "id": "fuVByumknRps",
        "outputId": "7089fec0-16a0-43cc-ef03-8fc45d31ebf5"
      },
      "source": [
        "print(a)"
      ],
      "execution_count": null,
      "outputs": [
        {
          "output_type": "stream",
          "text": [
            "{'a': 1, 'b': 2, 'c': 3}\n"
          ],
          "name": "stdout"
        }
      ]
    },
    {
      "cell_type": "code",
      "metadata": {
        "colab": {
          "base_uri": "https://localhost:8080/"
        },
        "id": "Q_CIrXg5nTe5",
        "outputId": "e06431f8-9a4e-4a90-895e-3dd4f9ac74c4"
      },
      "source": [
        "print(a.keys())"
      ],
      "execution_count": null,
      "outputs": [
        {
          "output_type": "stream",
          "text": [
            "dict_keys(['a', 'b', 'c'])\n"
          ],
          "name": "stdout"
        }
      ]
    },
    {
      "cell_type": "code",
      "metadata": {
        "colab": {
          "base_uri": "https://localhost:8080/"
        },
        "id": "1k2rQuYjnWTW",
        "outputId": "e2df1955-2d77-4404-da6e-f24048b40ee3"
      },
      "source": [
        "print(a.values())"
      ],
      "execution_count": null,
      "outputs": [
        {
          "output_type": "stream",
          "text": [
            "dict_values([1, 2, 3])\n"
          ],
          "name": "stdout"
        }
      ]
    },
    {
      "cell_type": "code",
      "metadata": {
        "colab": {
          "base_uri": "https://localhost:8080/"
        },
        "id": "kexUDVy3nXb0",
        "outputId": "b9009ab5-d191-4eaa-a91d-f242ea69ab52"
      },
      "source": [
        "print(a.items())"
      ],
      "execution_count": null,
      "outputs": [
        {
          "output_type": "stream",
          "text": [
            "dict_items([('a', 1), ('b', 2), ('c', 3)])\n"
          ],
          "name": "stdout"
        }
      ]
    },
    {
      "cell_type": "code",
      "metadata": {
        "colab": {
          "base_uri": "https://localhost:8080/"
        },
        "id": "xPo442ewnZxZ",
        "outputId": "f987afa5-3ebd-40d3-f3dc-88321545a016"
      },
      "source": [
        "if 6>4 : \n",
        "    print(\"6이 5보다 크다\")\n",
        "    print(\"hello\")\n",
        "    if 6 == 4 + 2 : \n",
        "        print(\"이 시점 부터 코드 시작\")\n",
        "        if 6 % 2 != 0 :\n",
        "            print(\"6은 짝수 입니다\")\n",
        "\n",
        "print(\"bye\")"
      ],
      "execution_count": null,
      "outputs": [
        {
          "output_type": "stream",
          "text": [
            "6이 5보다 크다\n",
            "hello\n",
            "이 시점 부터 코드 시작\n",
            "bye\n"
          ],
          "name": "stdout"
        }
      ]
    },
    {
      "cell_type": "code",
      "metadata": {
        "colab": {
          "base_uri": "https://localhost:8080/"
        },
        "id": "DRIgXrd3ojNp",
        "outputId": "4ccfe7a0-b382-459f-e970-12d04d02e954"
      },
      "source": [
        "a = 3\n",
        "b = 4\n",
        "\n",
        "if a < b : \n",
        "    print(\"a가 b보다 작아요\")\n",
        "\n",
        "    if a + 1 == b:\n",
        "        print(\"a에 1을 더했더니 b와 같아졌어요\")"
      ],
      "execution_count": null,
      "outputs": [
        {
          "output_type": "stream",
          "text": [
            "a가 b보다 작아요\n",
            "a에 1을 더했더니 b와 같아졌어요\n"
          ],
          "name": "stdout"
        }
      ]
    },
    {
      "cell_type": "code",
      "metadata": {
        "colab": {
          "base_uri": "https://localhost:8080/"
        },
        "id": "XgFysfhBo0z8",
        "outputId": "f3218fc7-6f0c-49ee-fb40-f38f6c8c2359"
      },
      "source": [
        "a = 5\n",
        "b = 3\n",
        "\n",
        "if a < b :\n",
        "    print(\"hello\")\n",
        "elif a > b:\n",
        "    print(\"bytes\")\n",
        "elif a > b+1 : \n",
        "    print(\"great!\")\n",
        "else:\n",
        "    print(\"hi\")"
      ],
      "execution_count": null,
      "outputs": [
        {
          "output_type": "stream",
          "text": [
            "bytes\n"
          ],
          "name": "stdout"
        }
      ]
    },
    {
      "cell_type": "code",
      "metadata": {
        "colab": {
          "base_uri": "https://localhost:8080/"
        },
        "id": "-bLZ8bjMouPg",
        "outputId": "8824d6c8-90cd-4d10-9b84-60ea494beff2"
      },
      "source": [
        "a = 5\n",
        "b = 3\n",
        "c = 2\n",
        "d = 4\n",
        "\n",
        "print(a > b or c < d)\n",
        "print(a < b or c\n",
        "      > d)"
      ],
      "execution_count": null,
      "outputs": [
        {
          "output_type": "stream",
          "text": [
            "True\n",
            "False\n"
          ],
          "name": "stdout"
        }
      ]
    },
    {
      "cell_type": "code",
      "metadata": {
        "colab": {
          "base_uri": "https://localhost:8080/"
        },
        "id": "RNfwmogRpr61",
        "outputId": "463b3ad3-95c6-4f25-ea98-139d4059a0e2"
      },
      "source": [
        "score = 50\n",
        "\n",
        "if score >= 90 and score <= 100:\n",
        "    print('A')\n",
        "elif score >= 80 and score < 90:\n",
        "    print('B')\n",
        "elif score >= 70 and score < 80:\n",
        "    print('C')\n",
        "elif score >= 60 and score < 70:\n",
        "    print('D')\n",
        "else:\n",
        "    print('F')"
      ],
      "execution_count": null,
      "outputs": [
        {
          "output_type": "stream",
          "text": [
            "F\n"
          ],
          "name": "stdout"
        }
      ]
    },
    {
      "cell_type": "code",
      "metadata": {
        "colab": {
          "base_uri": "https://localhost:8080/"
        },
        "id": "Pd1GEh3vqSul",
        "outputId": "a45aeea4-ccb6-456b-c9e4-4a496681be79"
      },
      "source": [
        " score = -10\n",
        "\n",
        " if score >= 90 and score <= 100:\n",
        "    print('A')\n",
        "elif score >= 80 and score < 90:\n",
        "    print('B')\n",
        "elif score >= 70 and score < 80:\n",
        "    print('C')\n",
        "elif score >= 60 and score < 70:\n",
        "    print('D')\n",
        "elif score < 0 or score > 100:\n",
        "    print(\"잘못된 점수 입니다.\")\n",
        "else:\n",
        "    print('F')"
      ],
      "execution_count": null,
      "outputs": [
        {
          "output_type": "stream",
          "text": [
            "잘못된 점수 입니다.\n"
          ],
          "name": "stdout"
        }
      ]
    },
    {
      "cell_type": "code",
      "metadata": {
        "colab": {
          "base_uri": "https://localhost:8080/"
        },
        "id": "atT0i3gIqrBm",
        "outputId": "34b4e2c3-dd08-48c7-d055-f8db68d7f5f8"
      },
      "source": [
        "count = 1\n",
        "sum = 0\n",
        "\n",
        "threshold = 10\n",
        "\n",
        "while count <= threshold:\n",
        "    print(\"count : {} / \".format(count), end=\"\")\n",
        "\n",
        "    sum += count\n",
        "    count += 1\n",
        "\n",
        "    print(\"sum : {}\".format(sum))\n",
        "\n",
        "print(\"종료\")"
      ],
      "execution_count": null,
      "outputs": [
        {
          "output_type": "stream",
          "text": [
            "count : 1 / sum : 1\n",
            "count : 2 / sum : 3\n",
            "count : 3 / sum : 6\n",
            "count : 4 / sum : 10\n",
            "count : 5 / sum : 15\n",
            "count : 6 / sum : 21\n",
            "count : 7 / sum : 28\n",
            "count : 8 / sum : 36\n",
            "count : 9 / sum : 45\n",
            "count : 10 / sum : 55\n",
            "종료\n"
          ],
          "name": "stdout"
        }
      ]
    },
    {
      "cell_type": "code",
      "metadata": {
        "colab": {
          "base_uri": "https://localhost:8080/"
        },
        "id": "AdjedHA_r8ys",
        "outputId": "5ecbd48f-46d9-4314-ceb9-0902839b23e5"
      },
      "source": [
        "a = [1, 10, 12, 3, 5, 20, 44]\n",
        "\n",
        "idx = 0\n",
        "\n",
        "while idx < len(a):\n",
        "    print(a[idx])\n",
        "    idx += 1"
      ],
      "execution_count": null,
      "outputs": [
        {
          "output_type": "stream",
          "text": [
            "1\n",
            "10\n",
            "12\n",
            "3\n",
            "5\n",
            "20\n",
            "44\n"
          ],
          "name": "stdout"
        }
      ]
    },
    {
      "cell_type": "code",
      "metadata": {
        "colab": {
          "base_uri": "https://localhost:8080/"
        },
        "id": "kDrRVJO0sp7o",
        "outputId": "26b02c2d-ed6c-405e-f4d1-70f0e8a16147"
      },
      "source": [
        "idx = 0\n",
        "while idx < len(a):\n",
        "    num = a[idx]\n",
        "\n",
        "    if num < 20:\n",
        "        print(num)\n",
        "    \n",
        "    idx += 1"
      ],
      "execution_count": null,
      "outputs": [
        {
          "output_type": "stream",
          "text": [
            "1\n",
            "10\n",
            "12\n",
            "3\n",
            "5\n"
          ],
          "name": "stdout"
        }
      ]
    },
    {
      "cell_type": "code",
      "metadata": {
        "colab": {
          "base_uri": "https://localhost:8080/"
        },
        "id": "FSqHUd13s35K",
        "outputId": "c4a4b4b8-56d0-43ae-faa4-64fd6cc121a0"
      },
      "source": [
        "count = 0\n",
        "\n",
        "while count < 99999:\n",
        "    count += 1\n",
        "    print(count)\n",
        "\n",
        "    if count == 10:\n",
        "        print(\"중지!\")\n",
        "        break"
      ],
      "execution_count": null,
      "outputs": [
        {
          "output_type": "stream",
          "text": [
            "1\n",
            "2\n",
            "3\n",
            "4\n",
            "5\n",
            "6\n",
            "7\n",
            "8\n",
            "9\n",
            "10\n",
            "중지!\n"
          ],
          "name": "stdout"
        }
      ]
    },
    {
      "cell_type": "code",
      "metadata": {
        "colab": {
          "base_uri": "https://localhost:8080/"
        },
        "id": "vZ2XZMUFtvOu",
        "outputId": "b099e2bc-d65d-4b6c-e7ea-21b1dfdb4556"
      },
      "source": [
        "count = 0\n",
        "\n",
        "while count < 20:\n",
        "    count += 1\n",
        "\n",
        "    if count == 3 or count == 5:\n",
        "        continue\n",
        "\n",
        "    if count == 7:\n",
        "        print(\"7 만났어요!\")\n",
        "        continue\n",
        "\n",
        "    print(count)"
      ],
      "execution_count": null,
      "outputs": [
        {
          "output_type": "stream",
          "text": [
            "1\n",
            "2\n",
            "4\n",
            "6\n",
            "7 만났어요!\n",
            "8\n",
            "9\n",
            "10\n",
            "11\n",
            "12\n",
            "13\n",
            "14\n",
            "15\n",
            "16\n",
            "17\n",
            "18\n",
            "19\n",
            "20\n"
          ],
          "name": "stdout"
        }
      ]
    },
    {
      "cell_type": "code",
      "metadata": {
        "colab": {
          "base_uri": "https://localhost:8080/"
        },
        "id": "rLql_PDfuEJ8",
        "outputId": "25c0728d-b6c9-4c94-996e-dc78af7f42ae"
      },
      "source": [
        "a = [1, 7, 3, 4, 8]\n",
        "\n",
        "for item in a:\n",
        "    print(item)"
      ],
      "execution_count": null,
      "outputs": [
        {
          "output_type": "stream",
          "text": [
            "1\n",
            "7\n",
            "3\n",
            "4\n",
            "8\n"
          ],
          "name": "stdout"
        }
      ]
    },
    {
      "cell_type": "code",
      "metadata": {
        "colab": {
          "base_uri": "https://localhost:8080/"
        },
        "id": "OuYsSVcFuiTF",
        "outputId": "27d994d1-bf0a-47a3-cb40-fc0244f76bce"
      },
      "source": [
        "for i in range(10):\n",
        "    print(i)"
      ],
      "execution_count": null,
      "outputs": [
        {
          "output_type": "stream",
          "text": [
            "0\n",
            "1\n",
            "2\n",
            "3\n",
            "4\n",
            "5\n",
            "6\n",
            "7\n",
            "8\n",
            "9\n"
          ],
          "name": "stdout"
        }
      ]
    },
    {
      "cell_type": "code",
      "metadata": {
        "colab": {
          "base_uri": "https://localhost:8080/"
        },
        "id": "moFZGc4NupLq",
        "outputId": "998ef22a-3e03-442c-cbcd-0864342c1274"
      },
      "source": [
        "for ch in \"hello1\":\n",
        "    print(ch)"
      ],
      "execution_count": null,
      "outputs": [
        {
          "output_type": "stream",
          "text": [
            "h\n",
            "e\n",
            "l\n",
            "l\n",
            "o\n",
            "1\n"
          ],
          "name": "stdout"
        }
      ]
    },
    {
      "cell_type": "code",
      "metadata": {
        "colab": {
          "base_uri": "https://localhost:8080/"
        },
        "id": "78n5ha5Yu9Cj",
        "outputId": "c981db07-378d-4ffa-da14-17656e19a8fa"
      },
      "source": [
        "a = (1, 10, 3, 4, 5)\n",
        "for num in a:\n",
        "    if num % 2 == 0:\n",
        "        print(f\"{num}은 짝수입니다.\")\n",
        "    else:\n",
        "        print(f\"{num}은 홀수입니다\")"
      ],
      "execution_count": null,
      "outputs": [
        {
          "output_type": "stream",
          "text": [
            "1은 홀수입니다\n",
            "10은 짝수입니다.\n",
            "3은 홀수입니다\n",
            "4은 짝수입니다.\n",
            "5은 홀수입니다\n"
          ],
          "name": "stdout"
        }
      ]
    },
    {
      "cell_type": "code",
      "metadata": {
        "id": "DgSKku-xvVZ-"
      },
      "source": [
        "meal = {\n",
        "    'breakfast' : '라면',\n",
        "    'lunch' : '피자',\n",
        "    'dinner' : '닭갈비'\n",
        "}"
      ],
      "execution_count": null,
      "outputs": []
    },
    {
      "cell_type": "code",
      "metadata": {
        "colab": {
          "base_uri": "https://localhost:8080/"
        },
        "id": "iG3lbE69wStH",
        "outputId": "8ef9a0b6-6e8d-4a2b-9378-39a6cfa909da"
      },
      "source": [
        "for key in meal : \n",
        "    print(key, \"==>\", meal[key])"
      ],
      "execution_count": null,
      "outputs": [
        {
          "output_type": "stream",
          "text": [
            "breakfast ==> 라면\n",
            "lunch ==> 피자\n",
            "dinner ==> 닭갈비\n"
          ],
          "name": "stdout"
        }
      ]
    },
    {
      "cell_type": "code",
      "metadata": {
        "colab": {
          "base_uri": "https://localhost:8080/"
        },
        "id": "kEVeHbkSwY14",
        "outputId": "03f65c69-8f60-48ee-f739-e8b7cbd90d1c"
      },
      "source": [
        "print(key, \"==>\", meal[key])"
      ],
      "execution_count": null,
      "outputs": [
        {
          "output_type": "stream",
          "text": [
            "dinner ==> 닭갈비\n"
          ],
          "name": "stdout"
        }
      ]
    },
    {
      "cell_type": "code",
      "metadata": {
        "colab": {
          "base_uri": "https://localhost:8080/"
        },
        "id": "3fw1otOnwe2D",
        "outputId": "681cbfb0-e8d5-4c00-b98a-346163c190f3"
      },
      "source": [
        "for key in meal.keys():\n",
        "    print(key)"
      ],
      "execution_count": null,
      "outputs": [
        {
          "output_type": "stream",
          "text": [
            "breakfast\n",
            "lunch\n",
            "dinner\n"
          ],
          "name": "stdout"
        }
      ]
    },
    {
      "cell_type": "code",
      "metadata": {
        "colab": {
          "base_uri": "https://localhost:8080/"
        },
        "id": "Ed4K7zf9wqjd",
        "outputId": "15cac60a-b56e-4e47-f131-f73ece788162"
      },
      "source": [
        "for value in meal.values():\n",
        "    print(value)"
      ],
      "execution_count": null,
      "outputs": [
        {
          "output_type": "stream",
          "text": [
            "라면\n",
            "피자\n",
            "닭갈비\n"
          ],
          "name": "stdout"
        }
      ]
    },
    {
      "cell_type": "code",
      "metadata": {
        "colab": {
          "base_uri": "https://localhost:8080/"
        },
        "id": "LayUk4AKwuVD",
        "outputId": "076491bd-933a-4080-c008-add27c18ec28"
      },
      "source": [
        "for key, value in meal.items():\n",
        "    print(key, value)"
      ],
      "execution_count": null,
      "outputs": [
        {
          "output_type": "stream",
          "text": [
            "breakfast 라면\n",
            "lunch 피자\n",
            "dinner 닭갈비\n"
          ],
          "name": "stdout"
        }
      ]
    },
    {
      "cell_type": "code",
      "metadata": {
        "colab": {
          "base_uri": "https://localhost:8080/"
        },
        "id": "1jy2aim_w0Dd",
        "outputId": "6c56f574-a6b6-4b83-980c-e7f28aecf0da"
      },
      "source": [
        "meal"
      ],
      "execution_count": null,
      "outputs": [
        {
          "output_type": "execute_result",
          "data": {
            "text/plain": [
              "{'breakfast': '라면', 'dinner': '닭갈비', 'lunch': '피자'}"
            ]
          },
          "metadata": {
            "tags": []
          },
          "execution_count": 151
        }
      ]
    },
    {
      "cell_type": "code",
      "metadata": {
        "colab": {
          "base_uri": "https://localhost:8080/"
        },
        "id": "oUZgdt4sw6CE",
        "outputId": "2aec7e67-0adb-4ff9-b786-fa04cc359350"
      },
      "source": [
        "for item in meal.items():\n",
        "    print(item)"
      ],
      "execution_count": null,
      "outputs": [
        {
          "output_type": "stream",
          "text": [
            "('breakfast', '라면')\n",
            "('lunch', '피자')\n",
            "('dinner', '닭갈비')\n"
          ],
          "name": "stdout"
        }
      ]
    },
    {
      "cell_type": "code",
      "metadata": {
        "colab": {
          "base_uri": "https://localhost:8080/"
        },
        "id": "9LlxLuVDw-qW",
        "outputId": "761f9696-fb1a-43ce-a20e-69e92409a6f5"
      },
      "source": [
        "a = [1, 2, 3]\n",
        "b = [4, 5, 6]\n",
        "\n",
        "for i in a:\n",
        "    for j in b:\n",
        "        print(i*j)"
      ],
      "execution_count": null,
      "outputs": [
        {
          "output_type": "stream",
          "text": [
            "4\n",
            "5\n",
            "6\n",
            "8\n",
            "10\n",
            "12\n",
            "12\n",
            "15\n",
            "18\n"
          ],
          "name": "stdout"
        }
      ]
    },
    {
      "cell_type": "code",
      "metadata": {
        "colab": {
          "base_uri": "https://localhost:8080/"
        },
        "id": "mQbzDSctxFYP",
        "outputId": "27f6d6b4-6a2b-4d1c-b91d-9d480c486945"
      },
      "source": [
        "dans = [2, 3, 4, 5, 6, 7, 8, 9]\n",
        "times = [1, 2, 3, 4, 5, 6, 7, 8, 9]\n",
        "\n",
        "for dan in dans:\n",
        "    print(f\"{dan}단 입니다.\")\n",
        "    for time in times:\n",
        "        print(f\"{dan} * {time} = {dan * time}\")\n",
        "    print()"
      ],
      "execution_count": null,
      "outputs": [
        {
          "output_type": "stream",
          "text": [
            "2단 입니다.\n",
            "2 * 1 = 2\n",
            "2 * 2 = 4\n",
            "2 * 3 = 6\n",
            "2 * 4 = 8\n",
            "2 * 5 = 10\n",
            "2 * 6 = 12\n",
            "2 * 7 = 14\n",
            "2 * 8 = 16\n",
            "2 * 9 = 18\n",
            "\n",
            "3단 입니다.\n",
            "3 * 1 = 3\n",
            "3 * 2 = 6\n",
            "3 * 3 = 9\n",
            "3 * 4 = 12\n",
            "3 * 5 = 15\n",
            "3 * 6 = 18\n",
            "3 * 7 = 21\n",
            "3 * 8 = 24\n",
            "3 * 9 = 27\n",
            "\n",
            "4단 입니다.\n",
            "4 * 1 = 4\n",
            "4 * 2 = 8\n",
            "4 * 3 = 12\n",
            "4 * 4 = 16\n",
            "4 * 5 = 20\n",
            "4 * 6 = 24\n",
            "4 * 7 = 28\n",
            "4 * 8 = 32\n",
            "4 * 9 = 36\n",
            "\n",
            "5단 입니다.\n",
            "5 * 1 = 5\n",
            "5 * 2 = 10\n",
            "5 * 3 = 15\n",
            "5 * 4 = 20\n",
            "5 * 5 = 25\n",
            "5 * 6 = 30\n",
            "5 * 7 = 35\n",
            "5 * 8 = 40\n",
            "5 * 9 = 45\n",
            "\n",
            "6단 입니다.\n",
            "6 * 1 = 6\n",
            "6 * 2 = 12\n",
            "6 * 3 = 18\n",
            "6 * 4 = 24\n",
            "6 * 5 = 30\n",
            "6 * 6 = 36\n",
            "6 * 7 = 42\n",
            "6 * 8 = 48\n",
            "6 * 9 = 54\n",
            "\n",
            "7단 입니다.\n",
            "7 * 1 = 7\n",
            "7 * 2 = 14\n",
            "7 * 3 = 21\n",
            "7 * 4 = 28\n",
            "7 * 5 = 35\n",
            "7 * 6 = 42\n",
            "7 * 7 = 49\n",
            "7 * 8 = 56\n",
            "7 * 9 = 63\n",
            "\n",
            "8단 입니다.\n",
            "8 * 1 = 8\n",
            "8 * 2 = 16\n",
            "8 * 3 = 24\n",
            "8 * 4 = 32\n",
            "8 * 5 = 40\n",
            "8 * 6 = 48\n",
            "8 * 7 = 56\n",
            "8 * 8 = 64\n",
            "8 * 9 = 72\n",
            "\n",
            "9단 입니다.\n",
            "9 * 1 = 9\n",
            "9 * 2 = 18\n",
            "9 * 3 = 27\n",
            "9 * 4 = 36\n",
            "9 * 5 = 45\n",
            "9 * 6 = 54\n",
            "9 * 7 = 63\n",
            "9 * 8 = 72\n",
            "9 * 9 = 81\n",
            "\n"
          ],
          "name": "stdout"
        }
      ]
    },
    {
      "cell_type": "code",
      "metadata": {
        "colab": {
          "base_uri": "https://localhost:8080/",
          "height": 192
        },
        "id": "9Bm_TGk_xdTP",
        "outputId": "f9a73438-b88e-439b-f7ee-3b7dc8b4c71f"
      },
      "source": [
        "dans_1 = list(range(2, 10, 2))\n",
        "print(dans_1)"
      ],
      "execution_count": null,
      "outputs": [
        {
          "output_type": "error",
          "ename": "TypeError",
          "evalue": "ignored",
          "traceback": [
            "\u001b[0;31m---------------------------------------------------------------------------\u001b[0m",
            "\u001b[0;31mTypeError\u001b[0m                                 Traceback (most recent call last)",
            "\u001b[0;32m<ipython-input-156-59f89f4ee631>\u001b[0m in \u001b[0;36m<module>\u001b[0;34m()\u001b[0m\n\u001b[0;32m----> 1\u001b[0;31m \u001b[0mdans_1\u001b[0m \u001b[0;34m=\u001b[0m \u001b[0mlist\u001b[0m\u001b[0;34m(\u001b[0m\u001b[0mrange\u001b[0m\u001b[0;34m(\u001b[0m\u001b[0;36m2\u001b[0m\u001b[0;34m,\u001b[0m \u001b[0;36m10\u001b[0m\u001b[0;34m,\u001b[0m \u001b[0;36m2\u001b[0m\u001b[0;34m)\u001b[0m\u001b[0;34m)\u001b[0m\u001b[0;34m\u001b[0m\u001b[0;34m\u001b[0m\u001b[0m\n\u001b[0m\u001b[1;32m      2\u001b[0m \u001b[0mprint\u001b[0m\u001b[0;34m(\u001b[0m\u001b[0mdans_1\u001b[0m\u001b[0;34m)\u001b[0m\u001b[0;34m\u001b[0m\u001b[0;34m\u001b[0m\u001b[0m\n",
            "\u001b[0;31mTypeError\u001b[0m: 'tuple' object is not callable"
          ]
        }
      ]
    },
    {
      "cell_type": "markdown",
      "metadata": {
        "id": "HbUQHhzOHbfZ"
      },
      "source": [
        "# 클래스와 객체"
      ]
    },
    {
      "cell_type": "code",
      "metadata": {
        "colab": {
          "base_uri": "https://localhost:8080/"
        },
        "id": "-ine2mDF7PAl",
        "outputId": "b0a30e65-f8f9-4345-f9d1-ad4c5fbbb743"
      },
      "source": [
        "a = [1, 2, 4, 5]\n",
        "a.append(5)\n",
        "a"
      ],
      "execution_count": null,
      "outputs": [
        {
          "output_type": "execute_result",
          "data": {
            "text/plain": [
              "[1, 2, 4, 5, 5]"
            ]
          },
          "metadata": {
            "tags": []
          },
          "execution_count": 1
        }
      ]
    },
    {
      "cell_type": "code",
      "metadata": {
        "colab": {
          "base_uri": "https://localhost:8080/"
        },
        "id": "0QHXzRvq7lUe",
        "outputId": "57734549-77a3-4037-c7da-cd14ea5d9430"
      },
      "source": [
        "type(a)"
      ],
      "execution_count": null,
      "outputs": [
        {
          "output_type": "execute_result",
          "data": {
            "text/plain": [
              "list"
            ]
          },
          "metadata": {
            "tags": []
          },
          "execution_count": 2
        }
      ]
    },
    {
      "cell_type": "code",
      "metadata": {
        "id": "jgLA2Mn-7mnQ"
      },
      "source": [
        "class Person:\n",
        "    pass"
      ],
      "execution_count": null,
      "outputs": []
    },
    {
      "cell_type": "code",
      "metadata": {
        "id": "O7L_JHf47oII"
      },
      "source": [
        "bob = Person()\n",
        "cathy = Person()"
      ],
      "execution_count": null,
      "outputs": []
    },
    {
      "cell_type": "code",
      "metadata": {
        "id": "Wz3KW96p7sRj"
      },
      "source": [
        "# a = list()\n",
        "# b = list()"
      ],
      "execution_count": null,
      "outputs": []
    },
    {
      "cell_type": "code",
      "metadata": {
        "colab": {
          "base_uri": "https://localhost:8080/"
        },
        "id": "3WIwGG0m7unW",
        "outputId": "50606570-4073-4484-a563-10a447782880"
      },
      "source": [
        "type(bob)"
      ],
      "execution_count": null,
      "outputs": [
        {
          "output_type": "execute_result",
          "data": {
            "text/plain": [
              "__main__.Person"
            ]
          },
          "metadata": {
            "tags": []
          },
          "execution_count": 8
        }
      ]
    },
    {
      "cell_type": "code",
      "metadata": {
        "colab": {
          "base_uri": "https://localhost:8080/"
        },
        "id": "jWCd_Iqd71Oy",
        "outputId": "a48830ba-bc5e-4a5f-e549-30b982b1cdeb"
      },
      "source": [
        "print(Person)"
      ],
      "execution_count": null,
      "outputs": [
        {
          "output_type": "stream",
          "text": [
            "<class '__main__.Person'>\n"
          ],
          "name": "stdout"
        }
      ]
    },
    {
      "cell_type": "code",
      "metadata": {
        "id": "WPn9kqpU74YJ"
      },
      "source": [
        "class Person:\n",
        "    def __init__(self):\n",
        "        print(self, 'is generated')"
      ],
      "execution_count": null,
      "outputs": []
    },
    {
      "cell_type": "code",
      "metadata": {
        "colab": {
          "base_uri": "https://localhost:8080/"
        },
        "id": "Eppx1qJg8JxO",
        "outputId": "c57acbf5-c11b-4d27-fe32-b28b2f9c89bc"
      },
      "source": [
        "p1 = Person()\n",
        "p2 = Person()"
      ],
      "execution_count": null,
      "outputs": [
        {
          "output_type": "stream",
          "text": [
            "<__main__.Person object at 0x7fe8f4686f10> is generated\n",
            "<__main__.Person object at 0x7fe8f4688650> is generated\n"
          ],
          "name": "stdout"
        }
      ]
    },
    {
      "cell_type": "code",
      "metadata": {
        "id": "Asf-ras48Zwd"
      },
      "source": [
        "class Person:\n",
        "    def __init__(self):\n",
        "        print(self, 'is generated')\n",
        "        self.name = \"김도도\"\n",
        "        self.age = 28"
      ],
      "execution_count": null,
      "outputs": []
    },
    {
      "cell_type": "code",
      "metadata": {
        "colab": {
          "base_uri": "https://localhost:8080/"
        },
        "id": "_TVfEsZS8gCy",
        "outputId": "5ebc073a-a052-40bb-82e3-f6ddba8ecfb7"
      },
      "source": [
        "p1 = Person()\n",
        "p2 = Person()\n",
        "\n",
        "p2.name = \"김도현\"\n",
        "p2.age = 29\n",
        "\n",
        "print(p1.name, p1.age)\n",
        "print(p2.name, p2.age)"
      ],
      "execution_count": null,
      "outputs": [
        {
          "output_type": "stream",
          "text": [
            "<__main__.Person object at 0x7fe8f46c1310> is generated\n",
            "<__main__.Person object at 0x7fe8f46c1350> is generated\n",
            "김도도 28\n",
            "김도현 29\n"
          ],
          "name": "stdout"
        }
      ]
    },
    {
      "cell_type": "code",
      "metadata": {
        "colab": {
          "base_uri": "https://localhost:8080/"
        },
        "id": "PT3FSwfU8zAQ",
        "outputId": "2dbf6dc1-ef42-42fc-8b6b-7ffe05f09d1b"
      },
      "source": [
        "p3 = Person()\n",
        "\n",
        "p3.name = \"장정자\"\n",
        "print(p3.name, p3.age)"
      ],
      "execution_count": null,
      "outputs": [
        {
          "output_type": "stream",
          "text": [
            "<__main__.Person object at 0x7fe8f4688090> is generated\n",
            "장정자 28\n"
          ],
          "name": "stdout"
        }
      ]
    },
    {
      "cell_type": "code",
      "metadata": {
        "id": "BVOrJS_a88Z_"
      },
      "source": [
        "class Person:\n",
        "    def __init__(self, name, age):\n",
        "        self.name = name\n",
        "        self.age = age"
      ],
      "execution_count": null,
      "outputs": []
    },
    {
      "cell_type": "code",
      "metadata": {
        "id": "osG-zcFO9R93"
      },
      "source": [
        "p1 = Person('김도도', 28)"
      ],
      "execution_count": null,
      "outputs": []
    },
    {
      "cell_type": "code",
      "metadata": {
        "colab": {
          "base_uri": "https://localhost:8080/"
        },
        "id": "_5PAVo4E9T0a",
        "outputId": "6eb5eee6-3fcf-4f9a-9bab-32764c06ad76"
      },
      "source": [
        "print(p1.name, p1.age, p3.name, p3.age)"
      ],
      "execution_count": null,
      "outputs": [
        {
          "output_type": "stream",
          "text": [
            "김도도 28 장정자 28\n"
          ],
          "name": "stdout"
        }
      ]
    },
    {
      "cell_type": "code",
      "metadata": {
        "id": "Ha-oLumA9Zkx"
      },
      "source": [
        "class Person:\n",
        "    def __init__(self, name, age=10):\n",
        "        print(\"self : \", self)\n",
        "        self.name = name\n",
        "        self.age = age\n",
        "\n",
        "    def sleep(self):\n",
        "        print(\"self : \", self)\n",
        "        print(self.name, \"님은 침대에서 주무신다\")"
      ],
      "execution_count": null,
      "outputs": []
    },
    {
      "cell_type": "code",
      "metadata": {
        "colab": {
          "base_uri": "https://localhost:8080/"
        },
        "id": "-n7r2sHo95dm",
        "outputId": "fe4fdf54-9355-428f-9204-e2a37b3e560b"
      },
      "source": [
        "p1 = Person(\"김도도\")\n",
        "p2 = Person(\"도도\")\n",
        "\n",
        "print()\n",
        "\n",
        "p1.sleep()\n",
        "p2.sleep()"
      ],
      "execution_count": null,
      "outputs": [
        {
          "output_type": "stream",
          "text": [
            "self :  <__main__.Person object at 0x7fe8f4602990>\n",
            "self :  <__main__.Person object at 0x7fe8f4688dd0>\n",
            "\n",
            "self :  <__main__.Person object at 0x7fe8f4602990>\n",
            "김도도 님은 침대에서 주무신다\n",
            "self :  <__main__.Person object at 0x7fe8f4688dd0>\n",
            "도도 님은 침대에서 주무신다\n"
          ],
          "name": "stdout"
        }
      ]
    },
    {
      "cell_type": "code",
      "metadata": {
        "id": "k8-4Bm3q-KdP"
      },
      "source": [
        "class Counter:\n",
        "\n",
        "    def __init__(self):\n",
        "        print(\"class Counter\")\n",
        "        self.num = 0\n",
        "\n",
        "    def increment(self):\n",
        "        self.num += 1\n",
        "\n",
        "    def decrement(self):\n",
        "        self.num -= 1\n",
        "\n",
        "    def reset(self):\n",
        "        self.num = 0\n",
        "\n",
        "    def print(self):\n",
        "        print(\"현재 값은 : \", self.num)"
      ],
      "execution_count": null,
      "outputs": []
    },
    {
      "cell_type": "code",
      "metadata": {
        "colab": {
          "base_uri": "https://localhost:8080/"
        },
        "id": "lY_fSh0q-oOG",
        "outputId": "7c2e440e-aa23-4cad-9e90-f5e5d3e3c15f"
      },
      "source": [
        "c1 = Counter()\n",
        "\n",
        "c1.print()\n",
        "\n",
        "c1.increment()\n",
        "c1.increment()\n",
        "\n",
        "c1.print()\n",
        "\n",
        "c1.decrement()\n",
        "c1.decrement()\n",
        "\n",
        "c1.print()"
      ],
      "execution_count": null,
      "outputs": [
        {
          "output_type": "stream",
          "text": [
            "class Counter\n",
            "현재 값은 :  0\n",
            "\n",
            "현재 값은 :  2\n",
            "현재 값은 :  0\n"
          ],
          "name": "stdout"
        }
      ]
    },
    {
      "cell_type": "code",
      "metadata": {
        "colab": {
          "base_uri": "https://localhost:8080/"
        },
        "id": "7WDkUMPM-0N2",
        "outputId": "a2e4d3a5-30df-4eb2-f0d2-b2f4182e56f0"
      },
      "source": [
        "c2 = Counter()"
      ],
      "execution_count": null,
      "outputs": [
        {
          "output_type": "stream",
          "text": [
            "class Counter\n"
          ],
          "name": "stdout"
        }
      ]
    },
    {
      "cell_type": "code",
      "metadata": {
        "colab": {
          "base_uri": "https://localhost:8080/"
        },
        "id": "gmiEhxca-_rb",
        "outputId": "d3e9a2ed-31de-4cd8-ccaf-6878ee8a4d46"
      },
      "source": [
        "Counter()\n",
        "\n",
        "c2.decrement()\n",
        "c2.decrement()\n",
        "\n",
        "c2.print()\n",
        "\n",
        "c2.reset()\n",
        "c2.print()"
      ],
      "execution_count": null,
      "outputs": [
        {
          "output_type": "stream",
          "text": [
            "class Counter\n",
            "현재 값은 :  -2\n",
            "현재 값은 :  0\n"
          ],
          "name": "stdout"
        }
      ]
    },
    {
      "cell_type": "code",
      "metadata": {
        "id": "fVfNjIGz_O6z"
      },
      "source": [
        "class Math:\n",
        "\n",
        "    def add(a, b):\n",
        "        return a + b\n",
        "\n",
        "    def multiply(a, b):\n",
        "        return a * b\n",
        "\n",
        "    # def print_member_num(self=0):\n",
        "    #     print(self)\n",
        "\n",
        "    def __init__(self):\n",
        "        print(self=1)"
      ],
      "execution_count": null,
      "outputs": []
    },
    {
      "cell_type": "code",
      "metadata": {
        "colab": {
          "base_uri": "https://localhost:8080/"
        },
        "id": "j64OFJvj_j1Q",
        "outputId": "38a25d49-d0ed-4791-d100-8c51f1781537"
      },
      "source": [
        "Math.add(10, 20)"
      ],
      "execution_count": null,
      "outputs": [
        {
          "output_type": "execute_result",
          "data": {
            "text/plain": [
              "30"
            ]
          },
          "metadata": {
            "tags": []
          },
          "execution_count": 36
        }
      ]
    },
    {
      "cell_type": "code",
      "metadata": {
        "colab": {
          "base_uri": "https://localhost:8080/"
        },
        "id": "SUOLhO8q_mVm",
        "outputId": "6ff28c01-f74d-4a4b-a75b-5e81b2f9c1c7"
      },
      "source": [
        "Math.multiply(10, 20)"
      ],
      "execution_count": null,
      "outputs": [
        {
          "output_type": "execute_result",
          "data": {
            "text/plain": [
              "200"
            ]
          },
          "metadata": {
            "tags": []
          },
          "execution_count": 37
        }
      ]
    },
    {
      "cell_type": "code",
      "metadata": {
        "colab": {
          "base_uri": "https://localhost:8080/"
        },
        "id": "6hHVFeus_ot-",
        "outputId": "d24242d6-e6e9-4ab4-86e2-3eabfb670298"
      },
      "source": [
        "Math.print_member_num()"
      ],
      "execution_count": null,
      "outputs": [
        {
          "output_type": "stream",
          "text": [
            "0\n"
          ],
          "name": "stdout"
        }
      ]
    },
    {
      "cell_type": "code",
      "metadata": {
        "colab": {
          "base_uri": "https://localhost:8080/",
          "height": 174
        },
        "id": "SKx3csVv_5S3",
        "outputId": "a4da0294-8087-4a55-84f4-c8521839d84d"
      },
      "source": [
        "Math(1)"
      ],
      "execution_count": null,
      "outputs": [
        {
          "output_type": "error",
          "ename": "TypeError",
          "evalue": "ignored",
          "traceback": [
            "\u001b[0;31m---------------------------------------------------------------------------\u001b[0m",
            "\u001b[0;31mTypeError\u001b[0m                                 Traceback (most recent call last)",
            "\u001b[0;32m<ipython-input-53-7d881120a9dd>\u001b[0m in \u001b[0;36m<module>\u001b[0;34m()\u001b[0m\n\u001b[0;32m----> 1\u001b[0;31m \u001b[0mMath\u001b[0m\u001b[0;34m(\u001b[0m\u001b[0;36m1\u001b[0m\u001b[0;34m)\u001b[0m\u001b[0;34m\u001b[0m\u001b[0;34m\u001b[0m\u001b[0m\n\u001b[0m",
            "\u001b[0;31mTypeError\u001b[0m: __init__() takes 1 positional argument but 2 were given"
          ]
        }
      ]
    },
    {
      "cell_type": "code",
      "metadata": {
        "id": "rs0K9IEUARSN"
      },
      "source": [
        "class Animal:\n",
        "\n",
        "    def __init__(self, name):\n",
        "        print(\"동물\")\n",
        "        self.name = name\n",
        "\n",
        "    def eat(self, food):\n",
        "        print(\"{}가 {}를 먹습니다.\".format(self.name, food))\n",
        "\n",
        "class Dog(Animal):\n",
        "\n",
        "    def __init__(self, name):\n",
        "        print(\"강아지\", name)\n",
        "        self.name = name"
      ],
      "execution_count": null,
      "outputs": []
    },
    {
      "cell_type": "code",
      "metadata": {
        "colab": {
          "base_uri": "https://localhost:8080/"
        },
        "id": "WGQUwG-3C524",
        "outputId": "d8e72bfc-0240-49d3-b3fa-5d5c2bcff463"
      },
      "source": [
        "myDog = Dog(\"배추\")\n",
        "myDog.eat(\"파프리카\")"
      ],
      "execution_count": null,
      "outputs": [
        {
          "output_type": "stream",
          "text": [
            "강아지\n",
            "배추가 파프리카를 먹습니다.\n"
          ],
          "name": "stdout"
        }
      ]
    },
    {
      "cell_type": "code",
      "metadata": {
        "id": "B97tm-GkC_sh"
      },
      "source": [
        "Dog(\"배추\")"
      ],
      "execution_count": null,
      "outputs": []
    },
    {
      "cell_type": "markdown",
      "metadata": {
        "id": "XKzbv2fhHgP2"
      },
      "source": [
        "# 함수"
      ]
    },
    {
      "cell_type": "code",
      "metadata": {
        "colab": {
          "base_uri": "https://localhost:8080/"
        },
        "id": "L274ohcpHhjT",
        "outputId": "17974374-12cb-4ffe-87c6-84babd962977"
      },
      "source": [
        "a = [1, 2, 3, 4]\n",
        "length = len(a)\n",
        "print(length)"
      ],
      "execution_count": null,
      "outputs": [
        {
          "output_type": "stream",
          "text": [
            "4\n"
          ],
          "name": "stdout"
        }
      ]
    },
    {
      "cell_type": "code",
      "metadata": {
        "colab": {
          "base_uri": "https://localhost:8080/"
        },
        "id": "rnNkSr4oImTo",
        "outputId": "0ed40401-542f-4028-ae11-a5b529b7b32f"
      },
      "source": [
        "a.append(5)\n",
        "print(a)"
      ],
      "execution_count": null,
      "outputs": [
        {
          "output_type": "stream",
          "text": [
            "[1, 2, 3, 4, 5]\n"
          ],
          "name": "stdout"
        }
      ]
    },
    {
      "cell_type": "code",
      "metadata": {
        "id": "UyqU2ukEIozA"
      },
      "source": [
        "def add(x, y):\n",
        "    n = x + y\n",
        "    return n"
      ],
      "execution_count": null,
      "outputs": []
    },
    {
      "cell_type": "code",
      "metadata": {
        "colab": {
          "base_uri": "https://localhost:8080/"
        },
        "id": "rv5VpuNKI23y",
        "outputId": "1f813ae3-956e-4448-aed8-bc423d6310ba"
      },
      "source": [
        "result = add(100, 200)\n",
        "print(result)"
      ],
      "execution_count": null,
      "outputs": [
        {
          "output_type": "stream",
          "text": [
            "300\n"
          ],
          "name": "stdout"
        }
      ]
    },
    {
      "cell_type": "code",
      "metadata": {
        "id": "CtbkHbM1I5bc"
      },
      "source": [
        "def mul(x, y):\n",
        "    n = x * y\n",
        "    return n"
      ],
      "execution_count": null,
      "outputs": []
    },
    {
      "cell_type": "code",
      "metadata": {
        "colab": {
          "base_uri": "https://localhost:8080/"
        },
        "id": "7GknCqN0I9Gm",
        "outputId": "670d406a-c23d-4000-f25c-1d8fa18c9bc3"
      },
      "source": [
        "print(add(10, 20))\n",
        "print(mul(10, 20))"
      ],
      "execution_count": null,
      "outputs": [
        {
          "output_type": "stream",
          "text": [
            "30\n",
            "200\n"
          ],
          "name": "stdout"
        }
      ]
    },
    {
      "cell_type": "code",
      "metadata": {
        "colab": {
          "base_uri": "https://localhost:8080/"
        },
        "id": "2dgiHQ5fI_XH",
        "outputId": "31916664-ba02-4990-cb39-0dcc4a631370"
      },
      "source": [
        "def div(x, y):\n",
        "    print(f\"나누기 수행 : {x} / {y}\")\n",
        "    return x / y\n",
        "\n",
        "print(\"Hello\")\n",
        "c = div(10, 3)\n",
        "print(c)"
      ],
      "execution_count": null,
      "outputs": [
        {
          "output_type": "stream",
          "text": [
            "Hello\n",
            "나누기 수행 : 10 / 3\n",
            "3.3333333333333335\n"
          ],
          "name": "stdout"
        }
      ]
    },
    {
      "cell_type": "code",
      "metadata": {
        "id": "he8cd_Y4J8ld"
      },
      "source": [
        "def a():\n",
        "    print(\"haha\")\n",
        "\n",
        "def print_haha():\n",
        "    print(\"haha\")"
      ],
      "execution_count": null,
      "outputs": []
    },
    {
      "cell_type": "code",
      "metadata": {
        "id": "d2n9BZ6iKE-w"
      },
      "source": [
        "def b(x, y):\n",
        "    print(f\"{x} + {y}\")\n",
        "\n",
        "def print_x_y(x, y):\n",
        "    print(f\"{x} + {y}\")"
      ],
      "execution_count": null,
      "outputs": []
    },
    {
      "cell_type": "code",
      "metadata": {
        "colab": {
          "base_uri": "https://localhost:8080/"
        },
        "id": "L-wJuZ1gKNFs",
        "outputId": "27e42e5f-2cc0-4341-9726-dc1ecfe1f1ba"
      },
      "source": [
        "def sub(x, y):\n",
        "    print(f\"빼기\\n{x} - {y}\")\n",
        "    return x - y\n",
        "\n",
        "a = sub(10, 7)\n",
        "print('=', a)"
      ],
      "execution_count": null,
      "outputs": [
        {
          "output_type": "stream",
          "text": [
            "빼기\n",
            "10 - 7\n",
            "= 3\n"
          ],
          "name": "stdout"
        }
      ]
    },
    {
      "cell_type": "code",
      "metadata": {
        "colab": {
          "base_uri": "https://localhost:8080/"
        },
        "id": "gjgXGOPZKq0a",
        "outputId": "ee77f209-3b9b-49a3-d518-57ef190e4e84"
      },
      "source": [
        "b = sub(10, 0.6)\n",
        "print(b)"
      ],
      "execution_count": null,
      "outputs": [
        {
          "output_type": "stream",
          "text": [
            "빼기\n",
            "10 - 0.6\n",
            "9.4\n"
          ],
          "name": "stdout"
        }
      ]
    },
    {
      "cell_type": "code",
      "metadata": {
        "colab": {
          "base_uri": "https://localhost:8080/"
        },
        "id": "P622x5THLDnT",
        "outputId": "60e2aa69-646b-4bed-cb90-8f1fbf3e526b"
      },
      "source": [
        "def print_param(x, y=10, z=5):\n",
        "    print(f\"x : {x} / y : {y} / z : {z}\")\n",
        "\n",
        "print_param(1, 2, 3)\n",
        "print_param(1)\n",
        "print_param(1, 100)"
      ],
      "execution_count": null,
      "outputs": [
        {
          "output_type": "stream",
          "text": [
            "x : 1 / y : 2 / z : 3\n",
            "x : 1 / y : 10 / z : 5\n",
            "x : 1 / y : 100 / z : 5\n"
          ],
          "name": "stdout"
        }
      ]
    },
    {
      "cell_type": "code",
      "metadata": {
        "colab": {
          "base_uri": "https://localhost:8080/"
        },
        "id": "Lvct4vnBMOk7",
        "outputId": "eaacebc6-0175-4139-ec8e-2d9eecb0598e"
      },
      "source": [
        "def test(x, y, z=30):\n",
        "    print(f\"x : {x} / y : {y} / z : {z}\")\n",
        "\n",
        "test(10, 20, 30)\n",
        "test(z=10, x=30, y=1)"
      ],
      "execution_count": null,
      "outputs": [
        {
          "output_type": "stream",
          "text": [
            "x : 10 / y : 20 / z : 30\n",
            "x : 30 / y : 1 / z : 10\n"
          ],
          "name": "stdout"
        }
      ]
    },
    {
      "cell_type": "code",
      "metadata": {
        "colab": {
          "base_uri": "https://localhost:8080/"
        },
        "id": "AhG12-AhMm1P",
        "outputId": "22d303eb-6d4b-417d-f2ef-23a96594b459"
      },
      "source": [
        "test(0, y=1)"
      ],
      "execution_count": null,
      "outputs": [
        {
          "output_type": "stream",
          "text": [
            "x : 0 / y : 1 / z : 30\n"
          ],
          "name": "stdout"
        }
      ]
    },
    {
      "cell_type": "code",
      "metadata": {
        "id": "BxZPE4A-MvIS"
      },
      "source": [
        "def user_info(userid, height, weight='?', is_print_weight=False, national=\"Southkorea\"):\n",
        "    if is_print_weight:\n",
        "        print(userid, height, weight, national)\n",
        "    else:\n",
        "        print(userid, height, national)"
      ],
      "execution_count": null,
      "outputs": []
    },
    {
      "cell_type": "code",
      "metadata": {
        "colab": {
          "base_uri": "https://localhost:8080/"
        },
        "id": "xXmU6CFTNfRt",
        "outputId": "e82a3a7f-fa61-43a5-ceb9-67f4081a3903"
      },
      "source": [
        "user_info(\"dodo\", \"165\", is_print_weight=True)"
      ],
      "execution_count": null,
      "outputs": [
        {
          "output_type": "stream",
          "text": [
            "dodo 165 ? Southkorea\n"
          ],
          "name": "stdout"
        }
      ]
    },
    {
      "cell_type": "code",
      "metadata": {
        "colab": {
          "base_uri": "https://localhost:8080/"
        },
        "id": "3CvtRdaBNlh4",
        "outputId": "d836c016-6ec0-48ae-ef6b-3e3b6e803e1a"
      },
      "source": [
        "def foo():\n",
        "    return \"hello\"\n",
        "\n",
        "print(foo())"
      ],
      "execution_count": null,
      "outputs": [
        {
          "output_type": "stream",
          "text": [
            "hello\n"
          ],
          "name": "stdout"
        }
      ]
    },
    {
      "cell_type": "code",
      "metadata": {
        "colab": {
          "base_uri": "https://localhost:8080/"
        },
        "id": "r2yeJg1MNwVS",
        "outputId": "fa450b3b-5a59-417b-c7f2-965b0900cedf"
      },
      "source": [
        "def goo():\n",
        "    a = 10\n",
        "    b = 20\n",
        "    print(a+b)\n",
        "    print(a*b)\n",
        "    # return\n",
        "\n",
        "goo()"
      ],
      "execution_count": null,
      "outputs": [
        {
          "output_type": "stream",
          "text": [
            "30\n",
            "200\n"
          ],
          "name": "stdout"
        }
      ]
    },
    {
      "cell_type": "code",
      "metadata": {
        "colab": {
          "base_uri": "https://localhost:8080/"
        },
        "id": "deFjZmCGN625",
        "outputId": "b130ebe1-bf1a-4ff2-c323-31b0c491e25b"
      },
      "source": [
        "result = goo()\n",
        "print(result)"
      ],
      "execution_count": null,
      "outputs": [
        {
          "output_type": "stream",
          "text": [
            "30\n",
            "200\n",
            "None\n"
          ],
          "name": "stdout"
        }
      ]
    },
    {
      "cell_type": "code",
      "metadata": {
        "colab": {
          "base_uri": "https://localhost:8080/"
        },
        "id": "mkg3exOQN_WA",
        "outputId": "2fab75a1-7103-4ee3-ef16-a0e1320f770f"
      },
      "source": [
        "def koo():\n",
        "    print(\"koo\")\n",
        "    print(\"hello\")\n",
        "\n",
        "koo()"
      ],
      "execution_count": null,
      "outputs": [
        {
          "output_type": "stream",
          "text": [
            "koo\n",
            "hello\n"
          ],
          "name": "stdout"
        }
      ]
    },
    {
      "cell_type": "code",
      "metadata": {
        "colab": {
          "base_uri": "https://localhost:8080/"
        },
        "id": "8DOCzY_ESKYp",
        "outputId": "6c54ebc5-8765-4d39-d273-4d84f157c4c6"
      },
      "source": [
        "result = koo()\n",
        "print(result)"
      ],
      "execution_count": null,
      "outputs": [
        {
          "output_type": "stream",
          "text": [
            "koo\n",
            "hello\n",
            "None\n"
          ],
          "name": "stdout"
        }
      ]
    },
    {
      "cell_type": "code",
      "metadata": {
        "id": "d_dSiajFSM2o"
      },
      "source": [
        "def mul2(x, y):\n",
        "    if x> 10:\n",
        "        return x * y\n",
        "    \n",
        "    return (x + 2) * y"
      ],
      "execution_count": null,
      "outputs": []
    },
    {
      "cell_type": "code",
      "metadata": {
        "colab": {
          "base_uri": "https://localhost:8080/"
        },
        "id": "pUP7JaJESYRq",
        "outputId": "858e2570-e073-4306-9245-4a6784203d43"
      },
      "source": [
        "mul2(1, 2)"
      ],
      "execution_count": null,
      "outputs": [
        {
          "output_type": "execute_result",
          "data": {
            "text/plain": [
              "6"
            ]
          },
          "metadata": {
            "tags": []
          },
          "execution_count": 39
        }
      ]
    },
    {
      "cell_type": "code",
      "metadata": {
        "id": "nCHqsI8mSZVo"
      },
      "source": [
        "def add_mul(x, y):\n",
        "    print(f\"{x}, {y}\")\n",
        "    add_result = x + y\n",
        "    mul_result = x * y\n",
        "   \n",
        "    return add_result, mul_result"
      ],
      "execution_count": null,
      "outputs": []
    },
    {
      "cell_type": "code",
      "metadata": {
        "colab": {
          "base_uri": "https://localhost:8080/"
        },
        "id": "g4QjHM4xSk-i",
        "outputId": "04c254ba-3c89-4c29-c972-ecb3e2c42ce8"
      },
      "source": [
        "result = add_mul(10, 20)\n",
        "print(result)"
      ],
      "execution_count": null,
      "outputs": [
        {
          "output_type": "stream",
          "text": [
            "10, 20\n",
            "(30, 200)\n"
          ],
          "name": "stdout"
        }
      ]
    },
    {
      "cell_type": "code",
      "metadata": {
        "colab": {
          "base_uri": "https://localhost:8080/"
        },
        "id": "zqmU8Fa0Sojo",
        "outputId": "2992e72f-939b-4351-c190-01fc3f1faad5"
      },
      "source": [
        "r1, r2 = add_mul(10, 20)\n",
        "\n",
        "print(r1)\n",
        "print(r2)"
      ],
      "execution_count": null,
      "outputs": [
        {
          "output_type": "stream",
          "text": [
            "30\n",
            "200\n"
          ],
          "name": "stdout"
        }
      ]
    },
    {
      "cell_type": "code",
      "metadata": {
        "colab": {
          "base_uri": "https://localhost:8080/"
        },
        "id": "vjjXY-DvSs76",
        "outputId": "ea368058-0cb0-41de-b610-39ba31970fa7"
      },
      "source": [
        "def return_many():\n",
        "    return 10, \"hallo\", {\"Morgen\" : \"Nacht\"}\n",
        "\n",
        "return_many()"
      ],
      "execution_count": null,
      "outputs": [
        {
          "output_type": "execute_result",
          "data": {
            "text/plain": [
              "(10, 'hallo', {'Morgen': 'Nacht'})"
            ]
          },
          "metadata": {
            "tags": []
          },
          "execution_count": 54
        }
      ]
    },
    {
      "cell_type": "code",
      "metadata": {
        "colab": {
          "base_uri": "https://localhost:8080/"
        },
        "id": "-pNKRV0qTxoJ",
        "outputId": "b4538294-9ecb-4dc0-9300-8f6df4e9edea"
      },
      "source": [
        "r = return_many()\n",
        "v1, _, __ = r\n",
        "print(v1)"
      ],
      "execution_count": null,
      "outputs": [
        {
          "output_type": "stream",
          "text": [
            "10\n"
          ],
          "name": "stdout"
        }
      ]
    },
    {
      "cell_type": "code",
      "metadata": {
        "colab": {
          "base_uri": "https://localhost:8080/"
        },
        "id": "Jd1m8hBPT8QA",
        "outputId": "42cfce64-7f85-4d74-b848-d746f485e4d6"
      },
      "source": [
        "r"
      ],
      "execution_count": null,
      "outputs": [
        {
          "output_type": "execute_result",
          "data": {
            "text/plain": [
              "(10, 'hallo', {'Morgen': 'Nacht'})"
            ]
          },
          "metadata": {
            "tags": []
          },
          "execution_count": 59
        }
      ]
    },
    {
      "cell_type": "code",
      "metadata": {
        "colab": {
          "base_uri": "https://localhost:8080/"
        },
        "id": "Eq04Db9FT9Cy",
        "outputId": "43fab8d4-b163-4a23-9659-f981094d573e"
      },
      "source": [
        "print(\"a\", \"b\", 10, 20)"
      ],
      "execution_count": null,
      "outputs": [
        {
          "output_type": "stream",
          "text": [
            "a b 10 20\n"
          ],
          "name": "stdout"
        }
      ]
    },
    {
      "cell_type": "code",
      "metadata": {
        "id": "hfaKALksUK4h"
      },
      "source": [
        "def test2(**kwargs):\n",
        "    print(\"들어온 파라미터 : {}\".format(kwargs))\n",
        "\n",
        "    for item in kwargs.items():\n",
        "        print(item)"
      ],
      "execution_count": null,
      "outputs": []
    },
    {
      "cell_type": "code",
      "metadata": {
        "colab": {
          "base_uri": "https://localhost:8080/"
        },
        "id": "zu3Zm06kVm7h",
        "outputId": "0b1d0347-b536-471d-a323-500d459f2b50"
      },
      "source": [
        "test2(\n",
        "    name=\"도도\",\n",
        "    age=28,\n",
        "    email=\"do.hyeon@gmail\"\n",
        ")"
      ],
      "execution_count": null,
      "outputs": [
        {
          "output_type": "stream",
          "text": [
            "들어온 파라미터 : {'name': '도도', 'age': 28, 'email': 'do.hyeon@gmail'}\n",
            "('name', '도도')\n",
            "('age', 28)\n",
            "('email', 'do.hyeon@gmail')\n"
          ],
          "name": "stdout"
        }
      ]
    },
    {
      "cell_type": "code",
      "metadata": {
        "colab": {
          "base_uri": "https://localhost:8080/"
        },
        "id": "kahfXrwnVuVI",
        "outputId": "204d20c4-675a-41df-f9cb-7b3dce10085a"
      },
      "source": [
        "def test3(*args, **kwargs):\n",
        "    print(args)\n",
        "    print(kwargs)\n",
        "\n",
        "test3(10, 20, 30, a=1, b=2, c=3)"
      ],
      "execution_count": null,
      "outputs": [
        {
          "output_type": "stream",
          "text": [
            "(10, 20, 30)\n",
            "{'a': 1, 'b': 2, 'c': 3}\n"
          ],
          "name": "stdout"
        }
      ]
    },
    {
      "cell_type": "code",
      "metadata": {
        "colab": {
          "base_uri": "https://localhost:8080/"
        },
        "id": "SS4qofGGW0US",
        "outputId": "100b8c4a-973a-49e3-8b74-71b665fe32d7"
      },
      "source": [
        "test3(1, 2)"
      ],
      "execution_count": null,
      "outputs": [
        {
          "output_type": "stream",
          "text": [
            "(1, 2)\n",
            "{}\n"
          ],
          "name": "stdout"
        }
      ]
    },
    {
      "cell_type": "code",
      "metadata": {
        "colab": {
          "base_uri": "https://localhost:8080/"
        },
        "id": "pEUsc1OFW9Xs",
        "outputId": "dd38f323-07eb-416b-cf20-9b008ce234b0"
      },
      "source": [
        "def square2(x):\n",
        "    return x**2\n",
        "\n",
        "square2(5)"
      ],
      "execution_count": null,
      "outputs": [
        {
          "output_type": "execute_result",
          "data": {
            "text/plain": [
              "25"
            ]
          },
          "metadata": {
            "tags": []
          },
          "execution_count": 73
        }
      ]
    },
    {
      "cell_type": "code",
      "metadata": {
        "colab": {
          "base_uri": "https://localhost:8080/"
        },
        "id": "DcbIwDfyXQrQ",
        "outputId": "5e53a0aa-96e1-40e6-9ab6-655d10fbeb7a"
      },
      "source": [
        "square = lambda x: x ** 2\n",
        "square(5)"
      ],
      "execution_count": null,
      "outputs": [
        {
          "output_type": "execute_result",
          "data": {
            "text/plain": [
              "25"
            ]
          },
          "metadata": {
            "tags": []
          },
          "execution_count": 74
        }
      ]
    },
    {
      "cell_type": "code",
      "metadata": {
        "colab": {
          "base_uri": "https://localhost:8080/"
        },
        "id": "C3k4hsbrXWQQ",
        "outputId": "a8a1845c-9b36-4a05-cf71-d7fcd4605597"
      },
      "source": [
        "def add(x, y):\n",
        "    return x + y\n",
        "\n",
        "add(10, 20)"
      ],
      "execution_count": null,
      "outputs": [
        {
          "output_type": "execute_result",
          "data": {
            "text/plain": [
              "30"
            ]
          },
          "metadata": {
            "tags": []
          },
          "execution_count": 76
        }
      ]
    },
    {
      "cell_type": "code",
      "metadata": {
        "colab": {
          "base_uri": "https://localhost:8080/"
        },
        "id": "sN1WUGtZXr5Z",
        "outputId": "43be3703-add9-470f-b12d-dd05ecf76aca"
      },
      "source": [
        "add2 = lambda x, y : x + y\n",
        "add2(10, 20)"
      ],
      "execution_count": null,
      "outputs": [
        {
          "output_type": "execute_result",
          "data": {
            "text/plain": [
              "30"
            ]
          },
          "metadata": {
            "tags": []
          },
          "execution_count": 77
        }
      ]
    },
    {
      "cell_type": "code",
      "metadata": {
        "colab": {
          "base_uri": "https://localhost:8080/",
          "height": 137
        },
        "id": "PpsBuYChXzmv",
        "outputId": "6d80f540-9de2-4409-f3fb-59c4e779f651"
      },
      "source": [
        "a = lambda x, y : x _ y\n",
        "a(1, 2)"
      ],
      "execution_count": null,
      "outputs": [
        {
          "output_type": "error",
          "ename": "SyntaxError",
          "evalue": "ignored",
          "traceback": [
            "\u001b[0;36m  File \u001b[0;32m\"<ipython-input-79-f8cf9cf3bae3>\"\u001b[0;36m, line \u001b[0;32m1\u001b[0m\n\u001b[0;31m    a = lambda x, y : x _ y\u001b[0m\n\u001b[0m                        ^\u001b[0m\n\u001b[0;31mSyntaxError\u001b[0m\u001b[0;31m:\u001b[0m invalid syntax\n"
          ]
        }
      ]
    },
    {
      "cell_type": "code",
      "metadata": {
        "id": "oa8F98LyX5Lx"
      },
      "source": [
        "names = [\"alex\", \"bob\", \"teddy\"]\n",
        "\n",
        "def str_len(s):\n",
        "    return len(s)"
      ],
      "execution_count": null,
      "outputs": []
    },
    {
      "cell_type": "code",
      "metadata": {
        "colab": {
          "base_uri": "https://localhost:8080/"
        },
        "id": "pBP9QQJ-YUZv",
        "outputId": "4998fc4f-d276-498d-970d-c09d15bc57c8"
      },
      "source": [
        "str_len(\"bob\")"
      ],
      "execution_count": null,
      "outputs": [
        {
          "output_type": "execute_result",
          "data": {
            "text/plain": [
              "3"
            ]
          },
          "metadata": {
            "tags": []
          },
          "execution_count": 81
        }
      ]
    },
    {
      "cell_type": "code",
      "metadata": {
        "colab": {
          "base_uri": "https://localhost:8080/"
        },
        "id": "6kNxZuSvYWN8",
        "outputId": "fc8727cc-7a84-4732-ba5f-e559a5714806"
      },
      "source": [
        "names.sort(key=str_len)\n",
        "names"
      ],
      "execution_count": null,
      "outputs": [
        {
          "output_type": "execute_result",
          "data": {
            "text/plain": [
              "['bob', 'alex', 'teddy']"
            ]
          },
          "metadata": {
            "tags": []
          },
          "execution_count": 82
        }
      ]
    },
    {
      "cell_type": "code",
      "metadata": {
        "colab": {
          "base_uri": "https://localhost:8080/"
        },
        "id": "WZNBZrlUYc8_",
        "outputId": "4c7a7228-562c-4b13-8e08-4fa40462726c"
      },
      "source": [
        "names.sort(key=lambda s : len(s))\n",
        "names"
      ],
      "execution_count": null,
      "outputs": [
        {
          "output_type": "execute_result",
          "data": {
            "text/plain": [
              "['bob', 'alex', 'teddy']"
            ]
          },
          "metadata": {
            "tags": []
          },
          "execution_count": 85
        }
      ]
    },
    {
      "cell_type": "markdown",
      "metadata": {
        "id": "kmhSBPiOYvci"
      },
      "source": [
        "## 숙제"
      ]
    },
    {
      "cell_type": "code",
      "metadata": {
        "id": "xk38nhRuYgRG"
      },
      "source": [
        "# name = str(input())\n",
        "# age = int(input())\n",
        "\n",
        "def Person(*name, **age):\n",
        "\n",
        "    # if age_mean :\n",
        "    #     age_mean = *age.mean()\n",
        "    #     print(name, age, age_mean)\n",
        "        \n",
        "\n",
        "    # else : \n",
        "    #     print(name, age)\n",
        "\n",
        "        \n",
        "    for item_name in name.items():\n",
        "\n",
        "        for item_age in age.items():\n",
        "            print(item_name, item_age)"
      ],
      "execution_count": null,
      "outputs": []
    },
    {
      "cell_type": "code",
      "metadata": {
        "colab": {
          "base_uri": "https://localhost:8080/",
          "height": 339
        },
        "id": "VlavMynLZMot",
        "outputId": "d8ef4490-b47b-48f3-bd40-6ab7f654b405"
      },
      "source": [
        "p1 = Person(\"김도도\", 28)\n",
        "\n",
        "p1()"
      ],
      "execution_count": null,
      "outputs": [
        {
          "output_type": "error",
          "ename": "AttributeError",
          "evalue": "ignored",
          "traceback": [
            "\u001b[0;31m---------------------------------------------------------------------------\u001b[0m",
            "\u001b[0;31mAttributeError\u001b[0m                            Traceback (most recent call last)",
            "\u001b[0;32m<ipython-input-98-c13428acca1c>\u001b[0m in \u001b[0;36m<module>\u001b[0;34m()\u001b[0m\n\u001b[0;32m----> 1\u001b[0;31m \u001b[0mp1\u001b[0m \u001b[0;34m=\u001b[0m \u001b[0mPerson\u001b[0m\u001b[0;34m(\u001b[0m\u001b[0;34m\"김도도\"\u001b[0m\u001b[0;34m,\u001b[0m \u001b[0;36m28\u001b[0m\u001b[0;34m)\u001b[0m\u001b[0;34m\u001b[0m\u001b[0;34m\u001b[0m\u001b[0m\n\u001b[0m\u001b[1;32m      2\u001b[0m \u001b[0;34m\u001b[0m\u001b[0m\n\u001b[1;32m      3\u001b[0m \u001b[0mp1\u001b[0m\u001b[0;34m(\u001b[0m\u001b[0;34m)\u001b[0m\u001b[0;34m\u001b[0m\u001b[0;34m\u001b[0m\u001b[0m\n",
            "\u001b[0;32m<ipython-input-97-c8debff0e0db>\u001b[0m in \u001b[0;36mPerson\u001b[0;34m(*name, **age)\u001b[0m\n\u001b[1;32m     13\u001b[0m \u001b[0;34m\u001b[0m\u001b[0m\n\u001b[1;32m     14\u001b[0m \u001b[0;34m\u001b[0m\u001b[0m\n\u001b[0;32m---> 15\u001b[0;31m     \u001b[0;32mfor\u001b[0m \u001b[0mitem_name\u001b[0m \u001b[0;32min\u001b[0m \u001b[0mname\u001b[0m\u001b[0;34m.\u001b[0m\u001b[0mitems\u001b[0m\u001b[0;34m(\u001b[0m\u001b[0;34m)\u001b[0m\u001b[0;34m:\u001b[0m\u001b[0;34m\u001b[0m\u001b[0;34m\u001b[0m\u001b[0m\n\u001b[0m\u001b[1;32m     16\u001b[0m \u001b[0;34m\u001b[0m\u001b[0m\n\u001b[1;32m     17\u001b[0m         \u001b[0;32mfor\u001b[0m \u001b[0mitem_age\u001b[0m \u001b[0;32min\u001b[0m \u001b[0mage\u001b[0m\u001b[0;34m.\u001b[0m\u001b[0mitems\u001b[0m\u001b[0;34m(\u001b[0m\u001b[0;34m)\u001b[0m\u001b[0;34m:\u001b[0m\u001b[0;34m\u001b[0m\u001b[0;34m\u001b[0m\u001b[0m\n",
            "\u001b[0;31mAttributeError\u001b[0m: 'tuple' object has no attribute 'items'"
          ]
        }
      ]
    },
    {
      "cell_type": "code",
      "metadata": {
        "id": "TC1rOgg2ZtA8"
      },
      "source": [
        ""
      ],
      "execution_count": null,
      "outputs": []
    }
  ]
}